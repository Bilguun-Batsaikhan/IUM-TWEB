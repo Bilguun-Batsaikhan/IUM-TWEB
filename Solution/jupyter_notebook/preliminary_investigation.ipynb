{
 "cells": [
  {
   "cell_type": "markdown",
   "source": [
    "# <font color='gray'>Large Scale Data Analytics using Jupyter Notebooks</font>\n",
    "\n",
    "###### In this preliminary data analysis, we observed the column names, the shape of each dataset including the data format, and the null values. <br>The data is collected in 9 different CSV files: appearances, club_games, clubs, competitions, game_events, game_lineups, games, player_valuations and players. \n"
   ],
   "metadata": {
    "collapsed": false
   },
   "id": "8254b3b00ac4eed2"
  },
  {
   "cell_type": "code",
   "execution_count": 2,
   "outputs": [],
   "source": [
    "import pandas as pd\n",
    "import numpy as np"
   ],
   "metadata": {
    "collapsed": false,
    "ExecuteTime": {
     "end_time": "2024-01-12T16:25:25.217768300Z",
     "start_time": "2024-01-12T16:25:22.819156700Z"
    }
   },
   "id": "ff0b5acaddecd3d3"
  },
  {
   "cell_type": "markdown",
   "source": [
    "## <font color='green'>competitions</font> table \n",
    "###### This table contains information about competitions, such as the competition name, the competition country, and the competition type."
   ],
   "metadata": {
    "collapsed": false
   },
   "id": "5acb44c394378beb"
  },
  {
   "cell_type": "code",
   "execution_count": 3,
   "outputs": [
    {
     "data": {
      "text/plain": "  competition_id               competition_code  \\\n0            CIT                      italy-cup   \n1           NLSC           johan-cruijff-schaal   \n2            GRP                kypello-elladas   \n3           POSU  supertaca-candido-de-oliveira   \n4           RUSS              russian-super-cup   \n\n                            name            sub_type          type  \\\n0                      italy-cup        domestic_cup  domestic_cup   \n1           johan-cruijff-schaal  domestic_super_cup         other   \n2                kypello-elladas        domestic_cup  domestic_cup   \n3  supertaca-candido-de-oliveira  domestic_super_cup         other   \n4              russian-super-cup  domestic_super_cup         other   \n\n   country_id country_name domestic_league_code confederation  \\\n0          75        Italy                  IT1        europa   \n1         122  Netherlands                  NL1        europa   \n2          56       Greece                  GR1        europa   \n3         136     Portugal                  PO1        europa   \n4         141       Russia                  RU1        europa   \n\n                                                 url  \n0  https://www.transfermarkt.co.uk/italy-cup/star...  \n1  https://www.transfermarkt.co.uk/johan-cruijff-...  \n2  https://www.transfermarkt.co.uk/kypello-ellada...  \n3  https://www.transfermarkt.co.uk/supertaca-cand...  \n4  https://www.transfermarkt.co.uk/russian-super-...  ",
      "text/html": "<div>\n<style scoped>\n    .dataframe tbody tr th:only-of-type {\n        vertical-align: middle;\n    }\n\n    .dataframe tbody tr th {\n        vertical-align: top;\n    }\n\n    .dataframe thead th {\n        text-align: right;\n    }\n</style>\n<table border=\"1\" class=\"dataframe\">\n  <thead>\n    <tr style=\"text-align: right;\">\n      <th></th>\n      <th>competition_id</th>\n      <th>competition_code</th>\n      <th>name</th>\n      <th>sub_type</th>\n      <th>type</th>\n      <th>country_id</th>\n      <th>country_name</th>\n      <th>domestic_league_code</th>\n      <th>confederation</th>\n      <th>url</th>\n    </tr>\n  </thead>\n  <tbody>\n    <tr>\n      <th>0</th>\n      <td>CIT</td>\n      <td>italy-cup</td>\n      <td>italy-cup</td>\n      <td>domestic_cup</td>\n      <td>domestic_cup</td>\n      <td>75</td>\n      <td>Italy</td>\n      <td>IT1</td>\n      <td>europa</td>\n      <td>https://www.transfermarkt.co.uk/italy-cup/star...</td>\n    </tr>\n    <tr>\n      <th>1</th>\n      <td>NLSC</td>\n      <td>johan-cruijff-schaal</td>\n      <td>johan-cruijff-schaal</td>\n      <td>domestic_super_cup</td>\n      <td>other</td>\n      <td>122</td>\n      <td>Netherlands</td>\n      <td>NL1</td>\n      <td>europa</td>\n      <td>https://www.transfermarkt.co.uk/johan-cruijff-...</td>\n    </tr>\n    <tr>\n      <th>2</th>\n      <td>GRP</td>\n      <td>kypello-elladas</td>\n      <td>kypello-elladas</td>\n      <td>domestic_cup</td>\n      <td>domestic_cup</td>\n      <td>56</td>\n      <td>Greece</td>\n      <td>GR1</td>\n      <td>europa</td>\n      <td>https://www.transfermarkt.co.uk/kypello-ellada...</td>\n    </tr>\n    <tr>\n      <th>3</th>\n      <td>POSU</td>\n      <td>supertaca-candido-de-oliveira</td>\n      <td>supertaca-candido-de-oliveira</td>\n      <td>domestic_super_cup</td>\n      <td>other</td>\n      <td>136</td>\n      <td>Portugal</td>\n      <td>PO1</td>\n      <td>europa</td>\n      <td>https://www.transfermarkt.co.uk/supertaca-cand...</td>\n    </tr>\n    <tr>\n      <th>4</th>\n      <td>RUSS</td>\n      <td>russian-super-cup</td>\n      <td>russian-super-cup</td>\n      <td>domestic_super_cup</td>\n      <td>other</td>\n      <td>141</td>\n      <td>Russia</td>\n      <td>RU1</td>\n      <td>europa</td>\n      <td>https://www.transfermarkt.co.uk/russian-super-...</td>\n    </tr>\n  </tbody>\n</table>\n</div>"
     },
     "execution_count": 3,
     "metadata": {},
     "output_type": "execute_result"
    }
   ],
   "source": [
    "cpt = pd.read_csv('../csv/competitions.csv')\n",
    "cpt.head()\n",
    "\n"
   ],
   "metadata": {
    "collapsed": false,
    "ExecuteTime": {
     "end_time": "2024-01-12T16:25:25.248888400Z",
     "start_time": "2024-01-12T16:25:23.539069400Z"
    }
   },
   "id": "b9c8d915688c7ecd"
  },
  {
   "cell_type": "code",
   "execution_count": 4,
   "outputs": [
    {
     "data": {
      "text/plain": "Index(['competition_id', 'competition_code', 'name', 'sub_type', 'type',\n       'country_id', 'country_name', 'domestic_league_code', 'confederation',\n       'url'],\n      dtype='object')"
     },
     "execution_count": 4,
     "metadata": {},
     "output_type": "execute_result"
    }
   ],
   "source": [
    "cpt.columns"
   ],
   "metadata": {
    "collapsed": false,
    "ExecuteTime": {
     "end_time": "2024-01-12T16:25:25.249886700Z",
     "start_time": "2024-01-12T16:25:23.567475300Z"
    }
   },
   "id": "ede23d2fa40d2e56"
  },
  {
   "cell_type": "code",
   "execution_count": 5,
   "outputs": [
    {
     "data": {
      "text/plain": "competition_id          object\ncompetition_code        object\nname                    object\nsub_type                object\ntype                    object\ncountry_id               int64\ncountry_name            object\ndomestic_league_code    object\nconfederation           object\nurl                     object\ndtype: object"
     },
     "execution_count": 5,
     "metadata": {},
     "output_type": "execute_result"
    }
   ],
   "source": [
    "cpt.dtypes"
   ],
   "metadata": {
    "collapsed": false,
    "ExecuteTime": {
     "end_time": "2024-01-12T16:25:25.249886700Z",
     "start_time": "2024-01-12T16:25:23.576237100Z"
    }
   },
   "id": "f61922c6193244cb"
  },
  {
   "cell_type": "code",
   "execution_count": 6,
   "outputs": [
    {
     "data": {
      "text/plain": "(43, 10)"
     },
     "execution_count": 6,
     "metadata": {},
     "output_type": "execute_result"
    }
   ],
   "source": [
    "cpt.shape"
   ],
   "metadata": {
    "collapsed": false,
    "ExecuteTime": {
     "end_time": "2024-01-12T16:25:25.249886700Z",
     "start_time": "2024-01-12T16:25:23.588219100Z"
    }
   },
   "id": "7b58bf147cbe276b"
  },
  {
   "cell_type": "code",
   "execution_count": 7,
   "outputs": [
    {
     "data": {
      "text/plain": "    competition_id  competition_code   name  sub_type   type  country_id  \\\n0            False             False  False     False  False       False   \n1            False             False  False     False  False       False   \n2            False             False  False     False  False       False   \n3            False             False  False     False  False       False   \n4            False             False  False     False  False       False   \n5            False             False  False     False  False       False   \n6            False             False  False     False  False       False   \n7            False             False  False     False  False       False   \n8            False             False  False     False  False       False   \n9            False             False  False     False  False       False   \n10           False             False  False     False  False       False   \n11           False             False  False     False  False       False   \n12           False             False  False     False  False       False   \n13           False             False  False     False  False       False   \n14           False             False  False     False  False       False   \n15           False             False  False     False  False       False   \n16           False             False  False     False  False       False   \n17           False             False  False     False  False       False   \n18           False             False  False     False  False       False   \n19           False             False  False     False  False       False   \n20           False             False  False     False  False       False   \n21           False             False  False     False  False       False   \n22           False             False  False     False  False       False   \n23           False             False  False     False  False       False   \n24           False             False  False     False  False       False   \n25           False             False  False     False  False       False   \n26           False             False  False     False  False       False   \n27           False             False  False     False  False       False   \n28           False             False  False     False  False       False   \n29           False             False  False     False  False       False   \n30           False             False  False     False  False       False   \n31           False             False  False     False  False       False   \n32           False             False  False     False  False       False   \n33           False             False  False     False  False       False   \n34           False             False  False     False  False       False   \n35           False             False  False     False  False       False   \n36           False             False  False     False  False       False   \n37           False             False  False     False  False       False   \n38           False             False  False     False  False       False   \n39           False             False  False     False  False       False   \n40           False             False  False     False  False       False   \n41           False             False  False     False  False       False   \n42           False             False  False     False  False       False   \n\n    country_name  domestic_league_code  confederation    url  \n0          False                 False          False  False  \n1          False                 False          False  False  \n2          False                 False          False  False  \n3          False                 False          False  False  \n4          False                 False          False  False  \n5          False                 False          False  False  \n6           True                  True          False  False  \n7          False                 False          False  False  \n8           True                  True          False  False  \n9          False                 False          False  False  \n10         False                 False          False  False  \n11         False                 False          False  False  \n12         False                 False          False  False  \n13         False                 False          False  False  \n14         False                 False          False  False  \n15         False                 False          False  False  \n16         False                 False          False  False  \n17          True                  True          False  False  \n18         False                 False          False  False  \n19         False                 False          False  False  \n20          True                  True          False  False  \n21         False                 False          False  False  \n22         False                 False          False  False  \n23         False                 False          False  False  \n24         False                 False          False  False  \n25         False                 False          False  False  \n26          True                  True          False  False  \n27         False                 False          False  False  \n28         False                 False          False  False  \n29         False                 False          False  False  \n30         False                 False          False  False  \n31          True                  True          False  False  \n32         False                 False          False  False  \n33         False                 False          False  False  \n34         False                 False          False  False  \n35         False                 False          False  False  \n36         False                 False          False  False  \n37          True                  True          False  False  \n38         False                 False          False  False  \n39         False                 False          False  False  \n40         False                 False          False  False  \n41         False                 False          False  False  \n42         False                 False          False  False  ",
      "text/html": "<div>\n<style scoped>\n    .dataframe tbody tr th:only-of-type {\n        vertical-align: middle;\n    }\n\n    .dataframe tbody tr th {\n        vertical-align: top;\n    }\n\n    .dataframe thead th {\n        text-align: right;\n    }\n</style>\n<table border=\"1\" class=\"dataframe\">\n  <thead>\n    <tr style=\"text-align: right;\">\n      <th></th>\n      <th>competition_id</th>\n      <th>competition_code</th>\n      <th>name</th>\n      <th>sub_type</th>\n      <th>type</th>\n      <th>country_id</th>\n      <th>country_name</th>\n      <th>domestic_league_code</th>\n      <th>confederation</th>\n      <th>url</th>\n    </tr>\n  </thead>\n  <tbody>\n    <tr>\n      <th>0</th>\n      <td>False</td>\n      <td>False</td>\n      <td>False</td>\n      <td>False</td>\n      <td>False</td>\n      <td>False</td>\n      <td>False</td>\n      <td>False</td>\n      <td>False</td>\n      <td>False</td>\n    </tr>\n    <tr>\n      <th>1</th>\n      <td>False</td>\n      <td>False</td>\n      <td>False</td>\n      <td>False</td>\n      <td>False</td>\n      <td>False</td>\n      <td>False</td>\n      <td>False</td>\n      <td>False</td>\n      <td>False</td>\n    </tr>\n    <tr>\n      <th>2</th>\n      <td>False</td>\n      <td>False</td>\n      <td>False</td>\n      <td>False</td>\n      <td>False</td>\n      <td>False</td>\n      <td>False</td>\n      <td>False</td>\n      <td>False</td>\n      <td>False</td>\n    </tr>\n    <tr>\n      <th>3</th>\n      <td>False</td>\n      <td>False</td>\n      <td>False</td>\n      <td>False</td>\n      <td>False</td>\n      <td>False</td>\n      <td>False</td>\n      <td>False</td>\n      <td>False</td>\n      <td>False</td>\n    </tr>\n    <tr>\n      <th>4</th>\n      <td>False</td>\n      <td>False</td>\n      <td>False</td>\n      <td>False</td>\n      <td>False</td>\n      <td>False</td>\n      <td>False</td>\n      <td>False</td>\n      <td>False</td>\n      <td>False</td>\n    </tr>\n    <tr>\n      <th>5</th>\n      <td>False</td>\n      <td>False</td>\n      <td>False</td>\n      <td>False</td>\n      <td>False</td>\n      <td>False</td>\n      <td>False</td>\n      <td>False</td>\n      <td>False</td>\n      <td>False</td>\n    </tr>\n    <tr>\n      <th>6</th>\n      <td>False</td>\n      <td>False</td>\n      <td>False</td>\n      <td>False</td>\n      <td>False</td>\n      <td>False</td>\n      <td>True</td>\n      <td>True</td>\n      <td>False</td>\n      <td>False</td>\n    </tr>\n    <tr>\n      <th>7</th>\n      <td>False</td>\n      <td>False</td>\n      <td>False</td>\n      <td>False</td>\n      <td>False</td>\n      <td>False</td>\n      <td>False</td>\n      <td>False</td>\n      <td>False</td>\n      <td>False</td>\n    </tr>\n    <tr>\n      <th>8</th>\n      <td>False</td>\n      <td>False</td>\n      <td>False</td>\n      <td>False</td>\n      <td>False</td>\n      <td>False</td>\n      <td>True</td>\n      <td>True</td>\n      <td>False</td>\n      <td>False</td>\n    </tr>\n    <tr>\n      <th>9</th>\n      <td>False</td>\n      <td>False</td>\n      <td>False</td>\n      <td>False</td>\n      <td>False</td>\n      <td>False</td>\n      <td>False</td>\n      <td>False</td>\n      <td>False</td>\n      <td>False</td>\n    </tr>\n    <tr>\n      <th>10</th>\n      <td>False</td>\n      <td>False</td>\n      <td>False</td>\n      <td>False</td>\n      <td>False</td>\n      <td>False</td>\n      <td>False</td>\n      <td>False</td>\n      <td>False</td>\n      <td>False</td>\n    </tr>\n    <tr>\n      <th>11</th>\n      <td>False</td>\n      <td>False</td>\n      <td>False</td>\n      <td>False</td>\n      <td>False</td>\n      <td>False</td>\n      <td>False</td>\n      <td>False</td>\n      <td>False</td>\n      <td>False</td>\n    </tr>\n    <tr>\n      <th>12</th>\n      <td>False</td>\n      <td>False</td>\n      <td>False</td>\n      <td>False</td>\n      <td>False</td>\n      <td>False</td>\n      <td>False</td>\n      <td>False</td>\n      <td>False</td>\n      <td>False</td>\n    </tr>\n    <tr>\n      <th>13</th>\n      <td>False</td>\n      <td>False</td>\n      <td>False</td>\n      <td>False</td>\n      <td>False</td>\n      <td>False</td>\n      <td>False</td>\n      <td>False</td>\n      <td>False</td>\n      <td>False</td>\n    </tr>\n    <tr>\n      <th>14</th>\n      <td>False</td>\n      <td>False</td>\n      <td>False</td>\n      <td>False</td>\n      <td>False</td>\n      <td>False</td>\n      <td>False</td>\n      <td>False</td>\n      <td>False</td>\n      <td>False</td>\n    </tr>\n    <tr>\n      <th>15</th>\n      <td>False</td>\n      <td>False</td>\n      <td>False</td>\n      <td>False</td>\n      <td>False</td>\n      <td>False</td>\n      <td>False</td>\n      <td>False</td>\n      <td>False</td>\n      <td>False</td>\n    </tr>\n    <tr>\n      <th>16</th>\n      <td>False</td>\n      <td>False</td>\n      <td>False</td>\n      <td>False</td>\n      <td>False</td>\n      <td>False</td>\n      <td>False</td>\n      <td>False</td>\n      <td>False</td>\n      <td>False</td>\n    </tr>\n    <tr>\n      <th>17</th>\n      <td>False</td>\n      <td>False</td>\n      <td>False</td>\n      <td>False</td>\n      <td>False</td>\n      <td>False</td>\n      <td>True</td>\n      <td>True</td>\n      <td>False</td>\n      <td>False</td>\n    </tr>\n    <tr>\n      <th>18</th>\n      <td>False</td>\n      <td>False</td>\n      <td>False</td>\n      <td>False</td>\n      <td>False</td>\n      <td>False</td>\n      <td>False</td>\n      <td>False</td>\n      <td>False</td>\n      <td>False</td>\n    </tr>\n    <tr>\n      <th>19</th>\n      <td>False</td>\n      <td>False</td>\n      <td>False</td>\n      <td>False</td>\n      <td>False</td>\n      <td>False</td>\n      <td>False</td>\n      <td>False</td>\n      <td>False</td>\n      <td>False</td>\n    </tr>\n    <tr>\n      <th>20</th>\n      <td>False</td>\n      <td>False</td>\n      <td>False</td>\n      <td>False</td>\n      <td>False</td>\n      <td>False</td>\n      <td>True</td>\n      <td>True</td>\n      <td>False</td>\n      <td>False</td>\n    </tr>\n    <tr>\n      <th>21</th>\n      <td>False</td>\n      <td>False</td>\n      <td>False</td>\n      <td>False</td>\n      <td>False</td>\n      <td>False</td>\n      <td>False</td>\n      <td>False</td>\n      <td>False</td>\n      <td>False</td>\n    </tr>\n    <tr>\n      <th>22</th>\n      <td>False</td>\n      <td>False</td>\n      <td>False</td>\n      <td>False</td>\n      <td>False</td>\n      <td>False</td>\n      <td>False</td>\n      <td>False</td>\n      <td>False</td>\n      <td>False</td>\n    </tr>\n    <tr>\n      <th>23</th>\n      <td>False</td>\n      <td>False</td>\n      <td>False</td>\n      <td>False</td>\n      <td>False</td>\n      <td>False</td>\n      <td>False</td>\n      <td>False</td>\n      <td>False</td>\n      <td>False</td>\n    </tr>\n    <tr>\n      <th>24</th>\n      <td>False</td>\n      <td>False</td>\n      <td>False</td>\n      <td>False</td>\n      <td>False</td>\n      <td>False</td>\n      <td>False</td>\n      <td>False</td>\n      <td>False</td>\n      <td>False</td>\n    </tr>\n    <tr>\n      <th>25</th>\n      <td>False</td>\n      <td>False</td>\n      <td>False</td>\n      <td>False</td>\n      <td>False</td>\n      <td>False</td>\n      <td>False</td>\n      <td>False</td>\n      <td>False</td>\n      <td>False</td>\n    </tr>\n    <tr>\n      <th>26</th>\n      <td>False</td>\n      <td>False</td>\n      <td>False</td>\n      <td>False</td>\n      <td>False</td>\n      <td>False</td>\n      <td>True</td>\n      <td>True</td>\n      <td>False</td>\n      <td>False</td>\n    </tr>\n    <tr>\n      <th>27</th>\n      <td>False</td>\n      <td>False</td>\n      <td>False</td>\n      <td>False</td>\n      <td>False</td>\n      <td>False</td>\n      <td>False</td>\n      <td>False</td>\n      <td>False</td>\n      <td>False</td>\n    </tr>\n    <tr>\n      <th>28</th>\n      <td>False</td>\n      <td>False</td>\n      <td>False</td>\n      <td>False</td>\n      <td>False</td>\n      <td>False</td>\n      <td>False</td>\n      <td>False</td>\n      <td>False</td>\n      <td>False</td>\n    </tr>\n    <tr>\n      <th>29</th>\n      <td>False</td>\n      <td>False</td>\n      <td>False</td>\n      <td>False</td>\n      <td>False</td>\n      <td>False</td>\n      <td>False</td>\n      <td>False</td>\n      <td>False</td>\n      <td>False</td>\n    </tr>\n    <tr>\n      <th>30</th>\n      <td>False</td>\n      <td>False</td>\n      <td>False</td>\n      <td>False</td>\n      <td>False</td>\n      <td>False</td>\n      <td>False</td>\n      <td>False</td>\n      <td>False</td>\n      <td>False</td>\n    </tr>\n    <tr>\n      <th>31</th>\n      <td>False</td>\n      <td>False</td>\n      <td>False</td>\n      <td>False</td>\n      <td>False</td>\n      <td>False</td>\n      <td>True</td>\n      <td>True</td>\n      <td>False</td>\n      <td>False</td>\n    </tr>\n    <tr>\n      <th>32</th>\n      <td>False</td>\n      <td>False</td>\n      <td>False</td>\n      <td>False</td>\n      <td>False</td>\n      <td>False</td>\n      <td>False</td>\n      <td>False</td>\n      <td>False</td>\n      <td>False</td>\n    </tr>\n    <tr>\n      <th>33</th>\n      <td>False</td>\n      <td>False</td>\n      <td>False</td>\n      <td>False</td>\n      <td>False</td>\n      <td>False</td>\n      <td>False</td>\n      <td>False</td>\n      <td>False</td>\n      <td>False</td>\n    </tr>\n    <tr>\n      <th>34</th>\n      <td>False</td>\n      <td>False</td>\n      <td>False</td>\n      <td>False</td>\n      <td>False</td>\n      <td>False</td>\n      <td>False</td>\n      <td>False</td>\n      <td>False</td>\n      <td>False</td>\n    </tr>\n    <tr>\n      <th>35</th>\n      <td>False</td>\n      <td>False</td>\n      <td>False</td>\n      <td>False</td>\n      <td>False</td>\n      <td>False</td>\n      <td>False</td>\n      <td>False</td>\n      <td>False</td>\n      <td>False</td>\n    </tr>\n    <tr>\n      <th>36</th>\n      <td>False</td>\n      <td>False</td>\n      <td>False</td>\n      <td>False</td>\n      <td>False</td>\n      <td>False</td>\n      <td>False</td>\n      <td>False</td>\n      <td>False</td>\n      <td>False</td>\n    </tr>\n    <tr>\n      <th>37</th>\n      <td>False</td>\n      <td>False</td>\n      <td>False</td>\n      <td>False</td>\n      <td>False</td>\n      <td>False</td>\n      <td>True</td>\n      <td>True</td>\n      <td>False</td>\n      <td>False</td>\n    </tr>\n    <tr>\n      <th>38</th>\n      <td>False</td>\n      <td>False</td>\n      <td>False</td>\n      <td>False</td>\n      <td>False</td>\n      <td>False</td>\n      <td>False</td>\n      <td>False</td>\n      <td>False</td>\n      <td>False</td>\n    </tr>\n    <tr>\n      <th>39</th>\n      <td>False</td>\n      <td>False</td>\n      <td>False</td>\n      <td>False</td>\n      <td>False</td>\n      <td>False</td>\n      <td>False</td>\n      <td>False</td>\n      <td>False</td>\n      <td>False</td>\n    </tr>\n    <tr>\n      <th>40</th>\n      <td>False</td>\n      <td>False</td>\n      <td>False</td>\n      <td>False</td>\n      <td>False</td>\n      <td>False</td>\n      <td>False</td>\n      <td>False</td>\n      <td>False</td>\n      <td>False</td>\n    </tr>\n    <tr>\n      <th>41</th>\n      <td>False</td>\n      <td>False</td>\n      <td>False</td>\n      <td>False</td>\n      <td>False</td>\n      <td>False</td>\n      <td>False</td>\n      <td>False</td>\n      <td>False</td>\n      <td>False</td>\n    </tr>\n    <tr>\n      <th>42</th>\n      <td>False</td>\n      <td>False</td>\n      <td>False</td>\n      <td>False</td>\n      <td>False</td>\n      <td>False</td>\n      <td>False</td>\n      <td>False</td>\n      <td>False</td>\n      <td>False</td>\n    </tr>\n  </tbody>\n</table>\n</div>"
     },
     "execution_count": 7,
     "metadata": {},
     "output_type": "execute_result"
    }
   ],
   "source": [
    "cpt.isna()"
   ],
   "metadata": {
    "collapsed": false,
    "ExecuteTime": {
     "end_time": "2024-01-12T16:25:25.253445500Z",
     "start_time": "2024-01-12T16:25:23.595264200Z"
    }
   },
   "id": "7a731ff030577197"
  },
  {
   "cell_type": "code",
   "execution_count": 8,
   "outputs": [
    {
     "data": {
      "text/plain": "competition_id          0\ncompetition_code        0\nname                    0\nsub_type                0\ntype                    0\ncountry_id              0\ncountry_name            7\ndomestic_league_code    7\nconfederation           0\nurl                     0\ndtype: int64"
     },
     "execution_count": 8,
     "metadata": {},
     "output_type": "execute_result"
    }
   ],
   "source": [
    "cpt.isna().sum()"
   ],
   "metadata": {
    "collapsed": false,
    "ExecuteTime": {
     "end_time": "2024-01-12T16:25:25.275392800Z",
     "start_time": "2024-01-12T16:25:23.615232700Z"
    }
   },
   "id": "eccac49627b4aaf7"
  },
  {
   "cell_type": "markdown",
   "source": [
    "###### Let's see in which tuples there are null values in the column country_name\n"
   ],
   "metadata": {
    "collapsed": false
   },
   "id": "aa45becaa3261c3a"
  },
  {
   "cell_type": "code",
   "execution_count": 9,
   "outputs": [
    {
     "data": {
      "text/plain": "   competition_id                             competition_code  \\\n6             USC                               uefa-super-cup   \n8              EL                                europa-league   \n17            ELQ                  europa-league-qualifikation   \n20           ECLQ  uefa-europa-conference-league-qualifikation   \n26             CL                        uefa-champions-league   \n31           KLUB                                 fifa-klub-wm   \n37            CLQ          uefa-champions-league-qualifikation   \n\n                                           name  \\\n6                                uefa-super-cup   \n8                                 europa-league   \n17                  europa-league-qualifikation   \n20  uefa-europa-conference-league-qualifikation   \n26                        uefa-champions-league   \n31                                 fifa-klub-wm   \n37          uefa-champions-league-qualifikation   \n\n                                    sub_type               type  country_id  \\\n6                             uefa_super_cup              other          -1   \n8                              europa_league  international_cup          -1   \n17                  europa_league_qualifying  international_cup          -1   \n20  uefa_europa_conference_league_qualifiers  international_cup          -1   \n26                     uefa_champions_league  international_cup          -1   \n31                       fifa_club_world_cup              other          -1   \n37          uefa_champions_league_qualifying  international_cup          -1   \n\n   country_name domestic_league_code confederation  \\\n6           NaN                  NaN        europa   \n8           NaN                  NaN        europa   \n17          NaN                  NaN        europa   \n20          NaN                  NaN        europa   \n26          NaN                  NaN        europa   \n31          NaN                  NaN        europa   \n37          NaN                  NaN        europa   \n\n                                                  url  \n6   https://www.transfermarkt.co.uk/uefa-super-cup...  \n8   https://www.transfermarkt.co.uk/europa-league/...  \n17  https://www.transfermarkt.co.uk/europa-league-...  \n20  https://www.transfermarkt.co.uk/uefa-europa-co...  \n26  https://www.transfermarkt.co.uk/uefa-champions...  \n31  https://www.transfermarkt.co.uk/fifa-klub-wm/s...  \n37  https://www.transfermarkt.co.uk/uefa-champions...  ",
      "text/html": "<div>\n<style scoped>\n    .dataframe tbody tr th:only-of-type {\n        vertical-align: middle;\n    }\n\n    .dataframe tbody tr th {\n        vertical-align: top;\n    }\n\n    .dataframe thead th {\n        text-align: right;\n    }\n</style>\n<table border=\"1\" class=\"dataframe\">\n  <thead>\n    <tr style=\"text-align: right;\">\n      <th></th>\n      <th>competition_id</th>\n      <th>competition_code</th>\n      <th>name</th>\n      <th>sub_type</th>\n      <th>type</th>\n      <th>country_id</th>\n      <th>country_name</th>\n      <th>domestic_league_code</th>\n      <th>confederation</th>\n      <th>url</th>\n    </tr>\n  </thead>\n  <tbody>\n    <tr>\n      <th>6</th>\n      <td>USC</td>\n      <td>uefa-super-cup</td>\n      <td>uefa-super-cup</td>\n      <td>uefa_super_cup</td>\n      <td>other</td>\n      <td>-1</td>\n      <td>NaN</td>\n      <td>NaN</td>\n      <td>europa</td>\n      <td>https://www.transfermarkt.co.uk/uefa-super-cup...</td>\n    </tr>\n    <tr>\n      <th>8</th>\n      <td>EL</td>\n      <td>europa-league</td>\n      <td>europa-league</td>\n      <td>europa_league</td>\n      <td>international_cup</td>\n      <td>-1</td>\n      <td>NaN</td>\n      <td>NaN</td>\n      <td>europa</td>\n      <td>https://www.transfermarkt.co.uk/europa-league/...</td>\n    </tr>\n    <tr>\n      <th>17</th>\n      <td>ELQ</td>\n      <td>europa-league-qualifikation</td>\n      <td>europa-league-qualifikation</td>\n      <td>europa_league_qualifying</td>\n      <td>international_cup</td>\n      <td>-1</td>\n      <td>NaN</td>\n      <td>NaN</td>\n      <td>europa</td>\n      <td>https://www.transfermarkt.co.uk/europa-league-...</td>\n    </tr>\n    <tr>\n      <th>20</th>\n      <td>ECLQ</td>\n      <td>uefa-europa-conference-league-qualifikation</td>\n      <td>uefa-europa-conference-league-qualifikation</td>\n      <td>uefa_europa_conference_league_qualifiers</td>\n      <td>international_cup</td>\n      <td>-1</td>\n      <td>NaN</td>\n      <td>NaN</td>\n      <td>europa</td>\n      <td>https://www.transfermarkt.co.uk/uefa-europa-co...</td>\n    </tr>\n    <tr>\n      <th>26</th>\n      <td>CL</td>\n      <td>uefa-champions-league</td>\n      <td>uefa-champions-league</td>\n      <td>uefa_champions_league</td>\n      <td>international_cup</td>\n      <td>-1</td>\n      <td>NaN</td>\n      <td>NaN</td>\n      <td>europa</td>\n      <td>https://www.transfermarkt.co.uk/uefa-champions...</td>\n    </tr>\n    <tr>\n      <th>31</th>\n      <td>KLUB</td>\n      <td>fifa-klub-wm</td>\n      <td>fifa-klub-wm</td>\n      <td>fifa_club_world_cup</td>\n      <td>other</td>\n      <td>-1</td>\n      <td>NaN</td>\n      <td>NaN</td>\n      <td>europa</td>\n      <td>https://www.transfermarkt.co.uk/fifa-klub-wm/s...</td>\n    </tr>\n    <tr>\n      <th>37</th>\n      <td>CLQ</td>\n      <td>uefa-champions-league-qualifikation</td>\n      <td>uefa-champions-league-qualifikation</td>\n      <td>uefa_champions_league_qualifying</td>\n      <td>international_cup</td>\n      <td>-1</td>\n      <td>NaN</td>\n      <td>NaN</td>\n      <td>europa</td>\n      <td>https://www.transfermarkt.co.uk/uefa-champions...</td>\n    </tr>\n  </tbody>\n</table>\n</div>"
     },
     "execution_count": 9,
     "metadata": {},
     "output_type": "execute_result"
    }
   ],
   "source": [
    "cpt[cpt['country_name'].isnull()]"
   ],
   "metadata": {
    "collapsed": false,
    "ExecuteTime": {
     "end_time": "2024-01-12T16:25:25.276898800Z",
     "start_time": "2024-01-12T16:25:23.625689500Z"
    }
   },
   "id": "6eb1203b002f3c99"
  },
  {
   "cell_type": "markdown",
   "source": [
    "## <font color='green'>games</font> table\n",
    "###### This table contains details about individual matches, such as the home team, the away team, the competition, the season, the date, the stadium and the number of goals."
   ],
   "metadata": {
    "collapsed": false
   },
   "id": "a3e09dd3f4c2c91f"
  },
  {
   "cell_type": "code",
   "execution_count": 10,
   "outputs": [
    {
     "data": {
      "text/plain": "   game_id competition_id  season         round        date  home_club_id  \\\n0  2222597            RU1    2012   6. Matchday  2012-08-25          3725   \n1  2222627            RU1    2012   5. Matchday  2012-08-20          2696   \n2  2222658            RU1    2012  10. Matchday  2012-09-30          2410   \n3  2222664            RU1    2012   8. Matchday  2012-09-15           932   \n4  2222683            RU1    2012  12. Matchday  2012-10-22          2696   \n\n   away_club_id  home_club_goals  away_club_goals  home_club_position  ...  \\\n0           232                2                1                 2.0  ...   \n1          4128                0                2                11.0  ...   \n2           121                0                2                 2.0  ...   \n3          2698                1                0                 5.0  ...   \n4         12438                0                1                11.0  ...   \n\n        stadium attendance               referee  \\\n0  Akhmat-Arena    21700.0  Vladislav Bezborodov   \n1     Metallurg    11400.0         Sergey Ivanov   \n2  Arena Khimki    12000.0        Sergey Karasev   \n3     RZD Arena    11408.0        Sergey Karasev   \n4     Metallurg     7534.0     Timur Arslanbekov   \n\n                                                 url  home_club_formation  \\\n0  https://www.transfermarkt.co.uk/terek-grozny_s...                  NaN   \n1  https://www.transfermarkt.co.uk/krylya-sovetov...                  NaN   \n2  https://www.transfermarkt.co.uk/cska-moscow_di...                  NaN   \n3  https://www.transfermarkt.co.uk/lokomotiv-mosc...                  NaN   \n4  https://www.transfermarkt.co.uk/krylya-sovetov...                  NaN   \n\n  away_club_formation                      home_club_name  \\\n0                 NaN                   RFK Akhmat Grozny   \n1                 NaN           PFK Krylya Sovetov Samara   \n2                 NaN                     PFK CSKA Moskva   \n3                 NaN  Футбольный клуб \"Локомотив\" Москва   \n4                 NaN           PFK Krylya Sovetov Samara   \n\n                    away_club_name aggregate competition_type  \n0                FK Spartak Moskva       2:1  domestic_league  \n1                       Amkar Perm       0:2  domestic_league  \n2                 FK Dinamo Moskva       0:2  domestic_league  \n3                   FC Rubin Kazan       1:0  domestic_league  \n4  Volga Nizhniy Novgorod (- 2016)       0:1  domestic_league  \n\n[5 rows x 23 columns]",
      "text/html": "<div>\n<style scoped>\n    .dataframe tbody tr th:only-of-type {\n        vertical-align: middle;\n    }\n\n    .dataframe tbody tr th {\n        vertical-align: top;\n    }\n\n    .dataframe thead th {\n        text-align: right;\n    }\n</style>\n<table border=\"1\" class=\"dataframe\">\n  <thead>\n    <tr style=\"text-align: right;\">\n      <th></th>\n      <th>game_id</th>\n      <th>competition_id</th>\n      <th>season</th>\n      <th>round</th>\n      <th>date</th>\n      <th>home_club_id</th>\n      <th>away_club_id</th>\n      <th>home_club_goals</th>\n      <th>away_club_goals</th>\n      <th>home_club_position</th>\n      <th>...</th>\n      <th>stadium</th>\n      <th>attendance</th>\n      <th>referee</th>\n      <th>url</th>\n      <th>home_club_formation</th>\n      <th>away_club_formation</th>\n      <th>home_club_name</th>\n      <th>away_club_name</th>\n      <th>aggregate</th>\n      <th>competition_type</th>\n    </tr>\n  </thead>\n  <tbody>\n    <tr>\n      <th>0</th>\n      <td>2222597</td>\n      <td>RU1</td>\n      <td>2012</td>\n      <td>6. Matchday</td>\n      <td>2012-08-25</td>\n      <td>3725</td>\n      <td>232</td>\n      <td>2</td>\n      <td>1</td>\n      <td>2.0</td>\n      <td>...</td>\n      <td>Akhmat-Arena</td>\n      <td>21700.0</td>\n      <td>Vladislav Bezborodov</td>\n      <td>https://www.transfermarkt.co.uk/terek-grozny_s...</td>\n      <td>NaN</td>\n      <td>NaN</td>\n      <td>RFK Akhmat Grozny</td>\n      <td>FK Spartak Moskva</td>\n      <td>2:1</td>\n      <td>domestic_league</td>\n    </tr>\n    <tr>\n      <th>1</th>\n      <td>2222627</td>\n      <td>RU1</td>\n      <td>2012</td>\n      <td>5. Matchday</td>\n      <td>2012-08-20</td>\n      <td>2696</td>\n      <td>4128</td>\n      <td>0</td>\n      <td>2</td>\n      <td>11.0</td>\n      <td>...</td>\n      <td>Metallurg</td>\n      <td>11400.0</td>\n      <td>Sergey Ivanov</td>\n      <td>https://www.transfermarkt.co.uk/krylya-sovetov...</td>\n      <td>NaN</td>\n      <td>NaN</td>\n      <td>PFK Krylya Sovetov Samara</td>\n      <td>Amkar Perm</td>\n      <td>0:2</td>\n      <td>domestic_league</td>\n    </tr>\n    <tr>\n      <th>2</th>\n      <td>2222658</td>\n      <td>RU1</td>\n      <td>2012</td>\n      <td>10. Matchday</td>\n      <td>2012-09-30</td>\n      <td>2410</td>\n      <td>121</td>\n      <td>0</td>\n      <td>2</td>\n      <td>2.0</td>\n      <td>...</td>\n      <td>Arena Khimki</td>\n      <td>12000.0</td>\n      <td>Sergey Karasev</td>\n      <td>https://www.transfermarkt.co.uk/cska-moscow_di...</td>\n      <td>NaN</td>\n      <td>NaN</td>\n      <td>PFK CSKA Moskva</td>\n      <td>FK Dinamo Moskva</td>\n      <td>0:2</td>\n      <td>domestic_league</td>\n    </tr>\n    <tr>\n      <th>3</th>\n      <td>2222664</td>\n      <td>RU1</td>\n      <td>2012</td>\n      <td>8. Matchday</td>\n      <td>2012-09-15</td>\n      <td>932</td>\n      <td>2698</td>\n      <td>1</td>\n      <td>0</td>\n      <td>5.0</td>\n      <td>...</td>\n      <td>RZD Arena</td>\n      <td>11408.0</td>\n      <td>Sergey Karasev</td>\n      <td>https://www.transfermarkt.co.uk/lokomotiv-mosc...</td>\n      <td>NaN</td>\n      <td>NaN</td>\n      <td>Футбольный клуб \"Локомотив\" Москва</td>\n      <td>FC Rubin Kazan</td>\n      <td>1:0</td>\n      <td>domestic_league</td>\n    </tr>\n    <tr>\n      <th>4</th>\n      <td>2222683</td>\n      <td>RU1</td>\n      <td>2012</td>\n      <td>12. Matchday</td>\n      <td>2012-10-22</td>\n      <td>2696</td>\n      <td>12438</td>\n      <td>0</td>\n      <td>1</td>\n      <td>11.0</td>\n      <td>...</td>\n      <td>Metallurg</td>\n      <td>7534.0</td>\n      <td>Timur Arslanbekov</td>\n      <td>https://www.transfermarkt.co.uk/krylya-sovetov...</td>\n      <td>NaN</td>\n      <td>NaN</td>\n      <td>PFK Krylya Sovetov Samara</td>\n      <td>Volga Nizhniy Novgorod (- 2016)</td>\n      <td>0:1</td>\n      <td>domestic_league</td>\n    </tr>\n  </tbody>\n</table>\n<p>5 rows × 23 columns</p>\n</div>"
     },
     "execution_count": 10,
     "metadata": {},
     "output_type": "execute_result"
    }
   ],
   "source": [
    "gms = pd.read_csv('../csv/games.csv')\n",
    "gms.head()"
   ],
   "metadata": {
    "collapsed": false,
    "ExecuteTime": {
     "end_time": "2024-01-12T16:25:25.278235800Z",
     "start_time": "2024-01-12T16:25:23.641971700Z"
    }
   },
   "id": "d768706b5f269790"
  },
  {
   "cell_type": "code",
   "execution_count": 11,
   "outputs": [
    {
     "data": {
      "text/plain": "Index(['game_id', 'competition_id', 'season', 'round', 'date', 'home_club_id',\n       'away_club_id', 'home_club_goals', 'away_club_goals',\n       'home_club_position', 'away_club_position', 'home_club_manager_name',\n       'away_club_manager_name', 'stadium', 'attendance', 'referee', 'url',\n       'home_club_formation', 'away_club_formation', 'home_club_name',\n       'away_club_name', 'aggregate', 'competition_type'],\n      dtype='object')"
     },
     "execution_count": 11,
     "metadata": {},
     "output_type": "execute_result"
    }
   ],
   "source": [
    "gms.columns"
   ],
   "metadata": {
    "collapsed": false,
    "ExecuteTime": {
     "end_time": "2024-01-12T16:25:25.278235800Z",
     "start_time": "2024-01-12T16:25:24.094402200Z"
    }
   },
   "id": "26d159b021a4b8f6"
  },
  {
   "cell_type": "code",
   "execution_count": 12,
   "outputs": [
    {
     "data": {
      "text/plain": "game_id                     int64\ncompetition_id             object\nseason                      int64\nround                      object\ndate                       object\nhome_club_id                int64\naway_club_id                int64\nhome_club_goals             int64\naway_club_goals             int64\nhome_club_position        float64\naway_club_position        float64\nhome_club_manager_name     object\naway_club_manager_name     object\nstadium                    object\nattendance                float64\nreferee                    object\nurl                        object\nhome_club_formation        object\naway_club_formation        object\nhome_club_name             object\naway_club_name             object\naggregate                  object\ncompetition_type           object\ndtype: object"
     },
     "execution_count": 12,
     "metadata": {},
     "output_type": "execute_result"
    }
   ],
   "source": [
    "gms.dtypes"
   ],
   "metadata": {
    "collapsed": false,
    "ExecuteTime": {
     "end_time": "2024-01-12T16:25:25.279240600Z",
     "start_time": "2024-01-12T16:25:24.103520300Z"
    }
   },
   "id": "b886f3a935efc9f9"
  },
  {
   "cell_type": "code",
   "execution_count": 13,
   "outputs": [
    {
     "data": {
      "text/plain": "(65216, 23)"
     },
     "execution_count": 13,
     "metadata": {},
     "output_type": "execute_result"
    }
   ],
   "source": [
    "gms.shape"
   ],
   "metadata": {
    "collapsed": false,
    "ExecuteTime": {
     "end_time": "2024-01-12T16:25:25.279240600Z",
     "start_time": "2024-01-12T16:25:24.110375200Z"
    }
   },
   "id": "d5b582f883037f1a"
  },
  {
   "cell_type": "code",
   "execution_count": 14,
   "outputs": [
    {
     "data": {
      "text/plain": "0        2012-08-25\n1        2012-08-20\n2        2012-09-30\n3        2012-09-15\n4        2012-10-22\n            ...    \n65211    2013-11-07\n65212    2015-10-27\n65213    2018-08-29\n65214    2023-08-29\n65215    2023-01-29\nName: date, Length: 65216, dtype: object"
     },
     "execution_count": 14,
     "metadata": {},
     "output_type": "execute_result"
    }
   ],
   "source": [
    "gms['date']"
   ],
   "metadata": {
    "collapsed": false,
    "ExecuteTime": {
     "end_time": "2024-01-12T16:25:25.280240600Z",
     "start_time": "2024-01-12T16:25:24.120288600Z"
    }
   },
   "id": "ce6d8692d1340622"
  },
  {
   "cell_type": "markdown",
   "source": [
    "###### We have some dates that we can convert to the appropriate format."
   ],
   "metadata": {
    "collapsed": false
   },
   "id": "f6ef177755890030"
  },
  {
   "cell_type": "code",
   "execution_count": 15,
   "outputs": [],
   "source": [
    "gms['date'] = pd.to_datetime(gms['date'])"
   ],
   "metadata": {
    "collapsed": false,
    "ExecuteTime": {
     "end_time": "2024-01-12T16:25:25.280240600Z",
     "start_time": "2024-01-12T16:25:24.134283500Z"
    }
   },
   "id": "c5e0bb9348c2e90a"
  },
  {
   "cell_type": "markdown",
   "source": [],
   "metadata": {
    "collapsed": false
   },
   "id": "71c4cd342f7443cc"
  },
  {
   "cell_type": "markdown",
   "source": [
    "###### In some tuples, there is missing information about the manager, the stadium, the lineup, and the home team. This could be due to matches without a home team, for example, matches played on neutral grounds or in other circumstances. Additionally, in many tuples, the home team's position is not known.\n"
   ],
   "metadata": {
    "collapsed": false
   },
   "id": "ff631403684f7629"
  },
  {
   "cell_type": "code",
   "execution_count": 16,
   "outputs": [
    {
     "data": {
      "text/plain": "game_id                       0\ncompetition_id                0\nseason                        0\nround                         0\ndate                          0\nhome_club_id                  0\naway_club_id                  0\nhome_club_goals               0\naway_club_goals               0\nhome_club_position        19454\naway_club_position        19454\nhome_club_manager_name      742\naway_club_manager_name      742\nstadium                     211\nattendance                 9512\nreferee                     594\nurl                           0\nhome_club_formation       62347\naway_club_formation       62328\nhome_club_name            11252\naway_club_name            10049\naggregate                     0\ncompetition_type              0\ndtype: int64"
     },
     "execution_count": 16,
     "metadata": {},
     "output_type": "execute_result"
    }
   ],
   "source": [
    "gms.isna().sum()"
   ],
   "metadata": {
    "collapsed": false,
    "ExecuteTime": {
     "end_time": "2024-01-12T16:25:25.281241300Z",
     "start_time": "2024-01-12T16:25:24.155419600Z"
    }
   },
   "id": "904e5266ebc7e999"
  },
  {
   "cell_type": "markdown",
   "source": [],
   "metadata": {
    "collapsed": false
   },
   "id": "c1b5a08ae560c345"
  },
  {
   "cell_type": "markdown",
   "source": [
    "###### Here we observe that the number of different competitions is 43."
   ],
   "metadata": {
    "collapsed": false
   },
   "id": "b3f9f08808b68082"
  },
  {
   "cell_type": "code",
   "execution_count": 17,
   "outputs": [
    {
     "data": {
      "text/plain": "array(['RU1', 'UKR1', 'FR1', 'DK1', 'BE1', 'GB1', 'SC1', 'L1', 'PO1',\n       'ES1', 'TR1', 'NL1', 'GR1', 'IT1', 'CL', 'EL', 'CDR', 'NLP',\n       'POCP', 'SFA', 'UKRP', 'CIT', 'FAC', 'GRP', 'GBCS', 'CLQ', 'POSU',\n       'DFB', 'RUP', 'DKP', 'ELQ', 'SUC', 'KLUB', 'CGB', 'ECLQ', 'USC',\n       'SCI', 'DFL', 'FRCH', 'UKRS', 'RUSS', 'NLSC', 'BESC'], dtype=object)"
     },
     "execution_count": 17,
     "metadata": {},
     "output_type": "execute_result"
    }
   ],
   "source": [
    "gms['competition_id'].unique()"
   ],
   "metadata": {
    "collapsed": false,
    "ExecuteTime": {
     "end_time": "2024-01-12T16:25:25.281241300Z",
     "start_time": "2024-01-12T16:25:24.656612Z"
    }
   },
   "id": "f1260b56853c74a4"
  },
  {
   "cell_type": "code",
   "execution_count": 18,
   "outputs": [
    {
     "data": {
      "text/plain": "       game_id competition_id  season                     round       date  \\\n0      2222597            RU1    2012               6. Matchday 2012-08-25   \n1      2222627            RU1    2012               5. Matchday 2012-08-20   \n2      2222658            RU1    2012              10. Matchday 2012-09-30   \n3      2222664            RU1    2012               8. Matchday 2012-09-15   \n4      2222683            RU1    2012              12. Matchday 2012-10-22   \n...        ...            ...     ...                       ...        ...   \n65210  3705086            SFA    2021              Fourth Round 2022-01-22   \n65211  2367292             EL    2013                   Group B 2013-11-07   \n65212  2629035            NLP    2015               Third Round 2015-10-27   \n65213  3092951            CLQ    2018  Qualifying Round 2nd leg 2018-08-29   \n65215  4013659            FAC    2022              Fourth Round 2023-01-29   \n\n       home_club_id  away_club_id  home_club_goals  away_club_goals  \\\n0              3725           232                2                1   \n1              2696          4128                0                2   \n2              2410           121                0                2   \n3               932          2698                1                0   \n4              2696         12438                0                1   \n...             ...           ...              ...              ...   \n65210           987          3026                2                1   \n65211           383           419                2                0   \n65212           383         16866                6                0   \n65213           383           713                3                0   \n65215           512          3684                3                1   \n\n       home_club_position  ...          stadium attendance  \\\n0                     2.0  ...     Akhmat-Arena    21700.0   \n1                    11.0  ...        Metallurg    11400.0   \n2                     2.0  ...     Arena Khimki    12000.0   \n3                     5.0  ...        RZD Arena    11408.0   \n4                    11.0  ...        Metallurg     7534.0   \n...                   ...  ...              ...        ...   \n65210                 NaN  ...         Fir Park     4735.0   \n65211                 NaN  ...  Philips Stadion    10000.0   \n65212                 NaN  ...  Philips Stadion    31000.0   \n65213                 NaN  ...  Philips Stadion    34200.0   \n65215                 NaN  ...   bet365 Stadium    14392.0   \n\n                    referee  \\\n0      Vladislav Bezborodov   \n1             Sergey Ivanov   \n2            Sergey Karasev   \n3            Sergey Karasev   \n4         Timur Arslanbekov   \n...                     ...   \n65210            Nick Walsh   \n65211        Cristian Balaj   \n65212       Allard Lindhout   \n65213        Anthony Taylor   \n65215            David Webb   \n\n                                                     url  home_club_formation  \\\n0      https://www.transfermarkt.co.uk/terek-grozny_s...                  NaN   \n1      https://www.transfermarkt.co.uk/krylya-sovetov...                  NaN   \n2      https://www.transfermarkt.co.uk/cska-moscow_di...                  NaN   \n3      https://www.transfermarkt.co.uk/lokomotiv-mosc...                  NaN   \n4      https://www.transfermarkt.co.uk/krylya-sovetov...                  NaN   \n...                                                  ...                  ...   \n65210  https://www.transfermarkt.co.uk/spielbericht/i...                  NaN   \n65211  https://www.transfermarkt.co.uk/spielbericht/i...                  NaN   \n65212  https://www.transfermarkt.co.uk/spielbericht/i...                  NaN   \n65213  https://www.transfermarkt.co.uk/spielbericht/i...                  NaN   \n65215  https://www.transfermarkt.co.uk/spielbericht/i...                  NaN   \n\n      away_club_formation                                     home_club_name  \\\n0                     NaN                                  RFK Akhmat Grozny   \n1                     NaN                          PFK Krylya Sovetov Samara   \n2                     NaN                                    PFK CSKA Moskva   \n3                     NaN                 Футбольный клуб \"Локомотив\" Москва   \n4                     NaN                          PFK Krylya Sovetov Samara   \n...                   ...                                                ...   \n65210                 NaN                           Motherwell Football Club   \n65211                 NaN  Eindhovense Voetbalvereniging Philips Sport Ve...   \n65212                 NaN  Eindhovense Voetbalvereniging Philips Sport Ve...   \n65213                 NaN  Eindhovense Voetbalvereniging Philips Sport Ve...   \n65215                 NaN                                         Stoke City   \n\n                        away_club_name aggregate   competition_type  \n0                    FK Spartak Moskva       2:1    domestic_league  \n1                           Amkar Perm       0:2    domestic_league  \n2                     FK Dinamo Moskva       0:2    domestic_league  \n3                       FC Rubin Kazan       1:0    domestic_league  \n4      Volga Nizhniy Novgorod (- 2016)       0:1    domestic_league  \n...                                ...       ...                ...  \n65210                              NaN       2:1       domestic_cup  \n65211                              NaN       2:0  international_cup  \n65212                              NaN       6:0       domestic_cup  \n65213                              NaN       3:0  international_cup  \n65215                              NaN       3:1       domestic_cup  \n\n[62347 rows x 23 columns]",
      "text/html": "<div>\n<style scoped>\n    .dataframe tbody tr th:only-of-type {\n        vertical-align: middle;\n    }\n\n    .dataframe tbody tr th {\n        vertical-align: top;\n    }\n\n    .dataframe thead th {\n        text-align: right;\n    }\n</style>\n<table border=\"1\" class=\"dataframe\">\n  <thead>\n    <tr style=\"text-align: right;\">\n      <th></th>\n      <th>game_id</th>\n      <th>competition_id</th>\n      <th>season</th>\n      <th>round</th>\n      <th>date</th>\n      <th>home_club_id</th>\n      <th>away_club_id</th>\n      <th>home_club_goals</th>\n      <th>away_club_goals</th>\n      <th>home_club_position</th>\n      <th>...</th>\n      <th>stadium</th>\n      <th>attendance</th>\n      <th>referee</th>\n      <th>url</th>\n      <th>home_club_formation</th>\n      <th>away_club_formation</th>\n      <th>home_club_name</th>\n      <th>away_club_name</th>\n      <th>aggregate</th>\n      <th>competition_type</th>\n    </tr>\n  </thead>\n  <tbody>\n    <tr>\n      <th>0</th>\n      <td>2222597</td>\n      <td>RU1</td>\n      <td>2012</td>\n      <td>6. Matchday</td>\n      <td>2012-08-25</td>\n      <td>3725</td>\n      <td>232</td>\n      <td>2</td>\n      <td>1</td>\n      <td>2.0</td>\n      <td>...</td>\n      <td>Akhmat-Arena</td>\n      <td>21700.0</td>\n      <td>Vladislav Bezborodov</td>\n      <td>https://www.transfermarkt.co.uk/terek-grozny_s...</td>\n      <td>NaN</td>\n      <td>NaN</td>\n      <td>RFK Akhmat Grozny</td>\n      <td>FK Spartak Moskva</td>\n      <td>2:1</td>\n      <td>domestic_league</td>\n    </tr>\n    <tr>\n      <th>1</th>\n      <td>2222627</td>\n      <td>RU1</td>\n      <td>2012</td>\n      <td>5. Matchday</td>\n      <td>2012-08-20</td>\n      <td>2696</td>\n      <td>4128</td>\n      <td>0</td>\n      <td>2</td>\n      <td>11.0</td>\n      <td>...</td>\n      <td>Metallurg</td>\n      <td>11400.0</td>\n      <td>Sergey Ivanov</td>\n      <td>https://www.transfermarkt.co.uk/krylya-sovetov...</td>\n      <td>NaN</td>\n      <td>NaN</td>\n      <td>PFK Krylya Sovetov Samara</td>\n      <td>Amkar Perm</td>\n      <td>0:2</td>\n      <td>domestic_league</td>\n    </tr>\n    <tr>\n      <th>2</th>\n      <td>2222658</td>\n      <td>RU1</td>\n      <td>2012</td>\n      <td>10. Matchday</td>\n      <td>2012-09-30</td>\n      <td>2410</td>\n      <td>121</td>\n      <td>0</td>\n      <td>2</td>\n      <td>2.0</td>\n      <td>...</td>\n      <td>Arena Khimki</td>\n      <td>12000.0</td>\n      <td>Sergey Karasev</td>\n      <td>https://www.transfermarkt.co.uk/cska-moscow_di...</td>\n      <td>NaN</td>\n      <td>NaN</td>\n      <td>PFK CSKA Moskva</td>\n      <td>FK Dinamo Moskva</td>\n      <td>0:2</td>\n      <td>domestic_league</td>\n    </tr>\n    <tr>\n      <th>3</th>\n      <td>2222664</td>\n      <td>RU1</td>\n      <td>2012</td>\n      <td>8. Matchday</td>\n      <td>2012-09-15</td>\n      <td>932</td>\n      <td>2698</td>\n      <td>1</td>\n      <td>0</td>\n      <td>5.0</td>\n      <td>...</td>\n      <td>RZD Arena</td>\n      <td>11408.0</td>\n      <td>Sergey Karasev</td>\n      <td>https://www.transfermarkt.co.uk/lokomotiv-mosc...</td>\n      <td>NaN</td>\n      <td>NaN</td>\n      <td>Футбольный клуб \"Локомотив\" Москва</td>\n      <td>FC Rubin Kazan</td>\n      <td>1:0</td>\n      <td>domestic_league</td>\n    </tr>\n    <tr>\n      <th>4</th>\n      <td>2222683</td>\n      <td>RU1</td>\n      <td>2012</td>\n      <td>12. Matchday</td>\n      <td>2012-10-22</td>\n      <td>2696</td>\n      <td>12438</td>\n      <td>0</td>\n      <td>1</td>\n      <td>11.0</td>\n      <td>...</td>\n      <td>Metallurg</td>\n      <td>7534.0</td>\n      <td>Timur Arslanbekov</td>\n      <td>https://www.transfermarkt.co.uk/krylya-sovetov...</td>\n      <td>NaN</td>\n      <td>NaN</td>\n      <td>PFK Krylya Sovetov Samara</td>\n      <td>Volga Nizhniy Novgorod (- 2016)</td>\n      <td>0:1</td>\n      <td>domestic_league</td>\n    </tr>\n    <tr>\n      <th>...</th>\n      <td>...</td>\n      <td>...</td>\n      <td>...</td>\n      <td>...</td>\n      <td>...</td>\n      <td>...</td>\n      <td>...</td>\n      <td>...</td>\n      <td>...</td>\n      <td>...</td>\n      <td>...</td>\n      <td>...</td>\n      <td>...</td>\n      <td>...</td>\n      <td>...</td>\n      <td>...</td>\n      <td>...</td>\n      <td>...</td>\n      <td>...</td>\n      <td>...</td>\n      <td>...</td>\n    </tr>\n    <tr>\n      <th>65210</th>\n      <td>3705086</td>\n      <td>SFA</td>\n      <td>2021</td>\n      <td>Fourth Round</td>\n      <td>2022-01-22</td>\n      <td>987</td>\n      <td>3026</td>\n      <td>2</td>\n      <td>1</td>\n      <td>NaN</td>\n      <td>...</td>\n      <td>Fir Park</td>\n      <td>4735.0</td>\n      <td>Nick Walsh</td>\n      <td>https://www.transfermarkt.co.uk/spielbericht/i...</td>\n      <td>NaN</td>\n      <td>NaN</td>\n      <td>Motherwell Football Club</td>\n      <td>NaN</td>\n      <td>2:1</td>\n      <td>domestic_cup</td>\n    </tr>\n    <tr>\n      <th>65211</th>\n      <td>2367292</td>\n      <td>EL</td>\n      <td>2013</td>\n      <td>Group B</td>\n      <td>2013-11-07</td>\n      <td>383</td>\n      <td>419</td>\n      <td>2</td>\n      <td>0</td>\n      <td>NaN</td>\n      <td>...</td>\n      <td>Philips Stadion</td>\n      <td>10000.0</td>\n      <td>Cristian Balaj</td>\n      <td>https://www.transfermarkt.co.uk/spielbericht/i...</td>\n      <td>NaN</td>\n      <td>NaN</td>\n      <td>Eindhovense Voetbalvereniging Philips Sport Ve...</td>\n      <td>NaN</td>\n      <td>2:0</td>\n      <td>international_cup</td>\n    </tr>\n    <tr>\n      <th>65212</th>\n      <td>2629035</td>\n      <td>NLP</td>\n      <td>2015</td>\n      <td>Third Round</td>\n      <td>2015-10-27</td>\n      <td>383</td>\n      <td>16866</td>\n      <td>6</td>\n      <td>0</td>\n      <td>NaN</td>\n      <td>...</td>\n      <td>Philips Stadion</td>\n      <td>31000.0</td>\n      <td>Allard Lindhout</td>\n      <td>https://www.transfermarkt.co.uk/spielbericht/i...</td>\n      <td>NaN</td>\n      <td>NaN</td>\n      <td>Eindhovense Voetbalvereniging Philips Sport Ve...</td>\n      <td>NaN</td>\n      <td>6:0</td>\n      <td>domestic_cup</td>\n    </tr>\n    <tr>\n      <th>65213</th>\n      <td>3092951</td>\n      <td>CLQ</td>\n      <td>2018</td>\n      <td>Qualifying Round 2nd leg</td>\n      <td>2018-08-29</td>\n      <td>383</td>\n      <td>713</td>\n      <td>3</td>\n      <td>0</td>\n      <td>NaN</td>\n      <td>...</td>\n      <td>Philips Stadion</td>\n      <td>34200.0</td>\n      <td>Anthony Taylor</td>\n      <td>https://www.transfermarkt.co.uk/spielbericht/i...</td>\n      <td>NaN</td>\n      <td>NaN</td>\n      <td>Eindhovense Voetbalvereniging Philips Sport Ve...</td>\n      <td>NaN</td>\n      <td>3:0</td>\n      <td>international_cup</td>\n    </tr>\n    <tr>\n      <th>65215</th>\n      <td>4013659</td>\n      <td>FAC</td>\n      <td>2022</td>\n      <td>Fourth Round</td>\n      <td>2023-01-29</td>\n      <td>512</td>\n      <td>3684</td>\n      <td>3</td>\n      <td>1</td>\n      <td>NaN</td>\n      <td>...</td>\n      <td>bet365 Stadium</td>\n      <td>14392.0</td>\n      <td>David Webb</td>\n      <td>https://www.transfermarkt.co.uk/spielbericht/i...</td>\n      <td>NaN</td>\n      <td>NaN</td>\n      <td>Stoke City</td>\n      <td>NaN</td>\n      <td>3:1</td>\n      <td>domestic_cup</td>\n    </tr>\n  </tbody>\n</table>\n<p>62347 rows × 23 columns</p>\n</div>"
     },
     "execution_count": 18,
     "metadata": {},
     "output_type": "execute_result"
    }
   ],
   "source": [
    "gms[gms[\"home_club_formation\"].isnull()]"
   ],
   "metadata": {
    "collapsed": false,
    "ExecuteTime": {
     "end_time": "2024-01-12T16:25:25.283242Z",
     "start_time": "2024-01-12T16:25:24.656612Z"
    }
   },
   "id": "2346094cefad5b50"
  },
  {
   "cell_type": "markdown",
   "source": [
    "## <font color='green'>clubs</font> table\n",
    "###### The clubs table contains statistical information about a particular team, such as the number of players, the market value, the number of foreign players, the home stadium, and the coach."
   ],
   "metadata": {
    "collapsed": false
   },
   "id": "a799385ee1447760"
  },
  {
   "cell_type": "code",
   "execution_count": 19,
   "outputs": [
    {
     "data": {
      "text/plain": "   club_id          club_code                              name  \\\n0      105    sv-darmstadt-98  Sportverein Darmstadt 1898 e. V.   \n1    11127  ural-ekaterinburg             FK Ural Yekaterinburg   \n2      114  besiktas-istanbul         Beşiktaş Jimnastik Kulübü   \n3       12             as-rom        Associazione Sportiva Roma   \n4      148  tottenham-hotspur   Tottenham Hotspur Football Club   \n\n  domestic_competition_id  total_market_value  squad_size  average_age  \\\n0                      L1                 NaN          30         26.4   \n1                     RU1                 NaN          25         28.2   \n2                     TR1                 NaN          32         27.4   \n3                     IT1                 NaN          26         27.4   \n4                     GB1                 NaN          29         26.2   \n\n   foreigners_number  foreigners_percentage  national_team_players  \\\n0                 11                   36.7                      1   \n1                 13                   52.0                      5   \n2                 16                   50.0                     13   \n3                 17                   65.4                     17   \n4                 21                   72.4                     22   \n\n                     stadium_name  stadium_seats net_transfer_record  \\\n0  Merck-Stadion am Böllenfalltor          17810             €-1.60m   \n1             Yekaterinburg Arena          23000              €-770k   \n2                 Tüpraş Stadyumu          42590            €-14.50m   \n3                Olimpico di Roma          73261            +€65.20m   \n4       Tottenham Hotspur Stadium          62062           €-130.40m   \n\n   coach_name  last_season                                                url  \n0         NaN         2023  https://www.transfermarkt.co.uk/sv-darmstadt-9...  \n1         NaN         2023  https://www.transfermarkt.co.uk/ural-ekaterinb...  \n2         NaN         2023  https://www.transfermarkt.co.uk/besiktas-istan...  \n3         NaN         2023  https://www.transfermarkt.co.uk/as-rom/startse...  \n4         NaN         2023  https://www.transfermarkt.co.uk/tottenham-hots...  ",
      "text/html": "<div>\n<style scoped>\n    .dataframe tbody tr th:only-of-type {\n        vertical-align: middle;\n    }\n\n    .dataframe tbody tr th {\n        vertical-align: top;\n    }\n\n    .dataframe thead th {\n        text-align: right;\n    }\n</style>\n<table border=\"1\" class=\"dataframe\">\n  <thead>\n    <tr style=\"text-align: right;\">\n      <th></th>\n      <th>club_id</th>\n      <th>club_code</th>\n      <th>name</th>\n      <th>domestic_competition_id</th>\n      <th>total_market_value</th>\n      <th>squad_size</th>\n      <th>average_age</th>\n      <th>foreigners_number</th>\n      <th>foreigners_percentage</th>\n      <th>national_team_players</th>\n      <th>stadium_name</th>\n      <th>stadium_seats</th>\n      <th>net_transfer_record</th>\n      <th>coach_name</th>\n      <th>last_season</th>\n      <th>url</th>\n    </tr>\n  </thead>\n  <tbody>\n    <tr>\n      <th>0</th>\n      <td>105</td>\n      <td>sv-darmstadt-98</td>\n      <td>Sportverein Darmstadt 1898 e. V.</td>\n      <td>L1</td>\n      <td>NaN</td>\n      <td>30</td>\n      <td>26.4</td>\n      <td>11</td>\n      <td>36.7</td>\n      <td>1</td>\n      <td>Merck-Stadion am Böllenfalltor</td>\n      <td>17810</td>\n      <td>€-1.60m</td>\n      <td>NaN</td>\n      <td>2023</td>\n      <td>https://www.transfermarkt.co.uk/sv-darmstadt-9...</td>\n    </tr>\n    <tr>\n      <th>1</th>\n      <td>11127</td>\n      <td>ural-ekaterinburg</td>\n      <td>FK Ural Yekaterinburg</td>\n      <td>RU1</td>\n      <td>NaN</td>\n      <td>25</td>\n      <td>28.2</td>\n      <td>13</td>\n      <td>52.0</td>\n      <td>5</td>\n      <td>Yekaterinburg Arena</td>\n      <td>23000</td>\n      <td>€-770k</td>\n      <td>NaN</td>\n      <td>2023</td>\n      <td>https://www.transfermarkt.co.uk/ural-ekaterinb...</td>\n    </tr>\n    <tr>\n      <th>2</th>\n      <td>114</td>\n      <td>besiktas-istanbul</td>\n      <td>Beşiktaş Jimnastik Kulübü</td>\n      <td>TR1</td>\n      <td>NaN</td>\n      <td>32</td>\n      <td>27.4</td>\n      <td>16</td>\n      <td>50.0</td>\n      <td>13</td>\n      <td>Tüpraş Stadyumu</td>\n      <td>42590</td>\n      <td>€-14.50m</td>\n      <td>NaN</td>\n      <td>2023</td>\n      <td>https://www.transfermarkt.co.uk/besiktas-istan...</td>\n    </tr>\n    <tr>\n      <th>3</th>\n      <td>12</td>\n      <td>as-rom</td>\n      <td>Associazione Sportiva Roma</td>\n      <td>IT1</td>\n      <td>NaN</td>\n      <td>26</td>\n      <td>27.4</td>\n      <td>17</td>\n      <td>65.4</td>\n      <td>17</td>\n      <td>Olimpico di Roma</td>\n      <td>73261</td>\n      <td>+€65.20m</td>\n      <td>NaN</td>\n      <td>2023</td>\n      <td>https://www.transfermarkt.co.uk/as-rom/startse...</td>\n    </tr>\n    <tr>\n      <th>4</th>\n      <td>148</td>\n      <td>tottenham-hotspur</td>\n      <td>Tottenham Hotspur Football Club</td>\n      <td>GB1</td>\n      <td>NaN</td>\n      <td>29</td>\n      <td>26.2</td>\n      <td>21</td>\n      <td>72.4</td>\n      <td>22</td>\n      <td>Tottenham Hotspur Stadium</td>\n      <td>62062</td>\n      <td>€-130.40m</td>\n      <td>NaN</td>\n      <td>2023</td>\n      <td>https://www.transfermarkt.co.uk/tottenham-hots...</td>\n    </tr>\n  </tbody>\n</table>\n</div>"
     },
     "execution_count": 19,
     "metadata": {},
     "output_type": "execute_result"
    }
   ],
   "source": [
    "clb = pd.read_csv('../csv/clubs.csv')\n",
    "clb.head()\n"
   ],
   "metadata": {
    "collapsed": false,
    "ExecuteTime": {
     "end_time": "2024-01-12T16:25:25.284241300Z",
     "start_time": "2024-01-12T16:25:24.803142800Z"
    }
   },
   "id": "a2a724d85e9af5b8"
  },
  {
   "cell_type": "markdown",
   "source": [
    "###### The missing information is the market value, the average age, and the percentage of foreigners. The latter two pieces of information could be missing due to incomplete information about the team composition, while the market value information seems to be missing altogether because it is also missing for well-known teams (e.g., AS Roma)."
   ],
   "metadata": {
    "collapsed": false
   },
   "id": "dbb8112e6d6cdceb"
  },
  {
   "cell_type": "code",
   "execution_count": 20,
   "outputs": [
    {
     "data": {
      "text/plain": "club_id                      0\nclub_code                    0\nname                         0\ndomestic_competition_id      0\ntotal_market_value         426\nsquad_size                   0\naverage_age                 38\nforeigners_number            0\nforeigners_percentage       47\nnational_team_players        0\nstadium_name                 0\nstadium_seats                0\nnet_transfer_record          0\ncoach_name                 426\nlast_season                  0\nurl                          0\ndtype: int64"
     },
     "execution_count": 20,
     "metadata": {},
     "output_type": "execute_result"
    }
   ],
   "source": [
    "clb.isna().sum()"
   ],
   "metadata": {
    "collapsed": false,
    "ExecuteTime": {
     "end_time": "2024-01-12T16:25:25.285240800Z",
     "start_time": "2024-01-12T16:25:24.840602400Z"
    }
   },
   "id": "69cc7bd6936a230d"
  },
  {
   "cell_type": "code",
   "execution_count": 21,
   "outputs": [
    {
     "data": {
      "text/plain": "(426, 16)"
     },
     "execution_count": 21,
     "metadata": {},
     "output_type": "execute_result"
    }
   ],
   "source": [
    "clb.shape"
   ],
   "metadata": {
    "collapsed": false,
    "ExecuteTime": {
     "end_time": "2024-01-12T16:25:25.285240800Z",
     "start_time": "2024-01-12T16:25:24.852140900Z"
    }
   },
   "id": "36d73575be26a89b"
  },
  {
   "cell_type": "code",
   "execution_count": 22,
   "outputs": [
    {
     "data": {
      "text/plain": "     club_id             club_code                               name  \\\n0        105       sv-darmstadt-98   Sportverein Darmstadt 1898 e. V.   \n1      11127     ural-ekaterinburg              FK Ural Yekaterinburg   \n2        114     besiktas-istanbul          Beşiktaş Jimnastik Kulübü   \n3         12                as-rom         Associazione Sportiva Roma   \n4        148     tottenham-hotspur    Tottenham Hotspur Football Club   \n..       ...                   ...                                ...   \n421    68608      cf-os-belenenses                   CF Os Belenenses   \n422      724           fc-volendam             Football Club Volendam   \n423      800      atalanta-bergamo  Atalanta Bergamasca Calcio S.p.a.   \n424      979         moreirense-fc           Moreirense Futebol Clube   \n425      984  west-bromwich-albion               West Bromwich Albion   \n\n    domestic_competition_id  total_market_value  squad_size  average_age  \\\n0                        L1                 NaN          30         26.4   \n1                       RU1                 NaN          25         28.2   \n2                       TR1                 NaN          32         27.4   \n3                       IT1                 NaN          26         27.4   \n4                       GB1                 NaN          29         26.2   \n..                      ...                 ...         ...          ...   \n421                     PO1                 NaN          30         25.7   \n422                     NL1                 NaN          29         22.8   \n423                     IT1                 NaN          25         27.2   \n424                     PO1                 NaN          26         26.0   \n425                     GB1                 NaN          25         27.8   \n\n     foreigners_number  foreigners_percentage  national_team_players  \\\n0                   11                   36.7                      1   \n1                   13                   52.0                      5   \n2                   16                   50.0                     13   \n3                   17                   65.4                     17   \n4                   21                   72.4                     22   \n..                 ...                    ...                    ...   \n421                  5                   16.7                      0   \n422                 14                   48.3                      3   \n423                 17                   68.0                     15   \n424                 17                   65.4                      2   \n425                  8                   32.0                      4   \n\n                         stadium_name  stadium_seats net_transfer_record  \\\n0      Merck-Stadion am Böllenfalltor          17810             €-1.60m   \n1                 Yekaterinburg Arena          23000              €-770k   \n2                     Tüpraş Stadyumu          42590            €-14.50m   \n3                    Olimpico di Roma          73261            +€65.20m   \n4           Tottenham Hotspur Stadium          62062           €-130.40m   \n..                                ...            ...                 ...   \n421                Estádio do Restelo          19980                 +-0   \n422                      Kras Stadion           7384             +€1.80m   \n423                    Gewiss Stadium          21747            +€87.00m   \n424  Estádio C. J. de Almeida Freitas           6153             €-2.05m   \n425                     The Hawthorns          26850             €-1.35m   \n\n     coach_name  last_season  \\\n0           NaN         2023   \n1           NaN         2023   \n2           NaN         2023   \n3           NaN         2023   \n4           NaN         2023   \n..          ...          ...   \n421         NaN         2017   \n422         NaN         2023   \n423         NaN         2023   \n424         NaN         2023   \n425         NaN         2020   \n\n                                                   url  \n0    https://www.transfermarkt.co.uk/sv-darmstadt-9...  \n1    https://www.transfermarkt.co.uk/ural-ekaterinb...  \n2    https://www.transfermarkt.co.uk/besiktas-istan...  \n3    https://www.transfermarkt.co.uk/as-rom/startse...  \n4    https://www.transfermarkt.co.uk/tottenham-hots...  \n..                                                 ...  \n421  https://www.transfermarkt.co.uk/cf-os-belenens...  \n422  https://www.transfermarkt.co.uk/fc-volendam/st...  \n423  https://www.transfermarkt.co.uk/atalanta-berga...  \n424  https://www.transfermarkt.co.uk/moreirense-fc/...  \n425  https://www.transfermarkt.co.uk/west-bromwich-...  \n\n[426 rows x 16 columns]",
      "text/html": "<div>\n<style scoped>\n    .dataframe tbody tr th:only-of-type {\n        vertical-align: middle;\n    }\n\n    .dataframe tbody tr th {\n        vertical-align: top;\n    }\n\n    .dataframe thead th {\n        text-align: right;\n    }\n</style>\n<table border=\"1\" class=\"dataframe\">\n  <thead>\n    <tr style=\"text-align: right;\">\n      <th></th>\n      <th>club_id</th>\n      <th>club_code</th>\n      <th>name</th>\n      <th>domestic_competition_id</th>\n      <th>total_market_value</th>\n      <th>squad_size</th>\n      <th>average_age</th>\n      <th>foreigners_number</th>\n      <th>foreigners_percentage</th>\n      <th>national_team_players</th>\n      <th>stadium_name</th>\n      <th>stadium_seats</th>\n      <th>net_transfer_record</th>\n      <th>coach_name</th>\n      <th>last_season</th>\n      <th>url</th>\n    </tr>\n  </thead>\n  <tbody>\n    <tr>\n      <th>0</th>\n      <td>105</td>\n      <td>sv-darmstadt-98</td>\n      <td>Sportverein Darmstadt 1898 e. V.</td>\n      <td>L1</td>\n      <td>NaN</td>\n      <td>30</td>\n      <td>26.4</td>\n      <td>11</td>\n      <td>36.7</td>\n      <td>1</td>\n      <td>Merck-Stadion am Böllenfalltor</td>\n      <td>17810</td>\n      <td>€-1.60m</td>\n      <td>NaN</td>\n      <td>2023</td>\n      <td>https://www.transfermarkt.co.uk/sv-darmstadt-9...</td>\n    </tr>\n    <tr>\n      <th>1</th>\n      <td>11127</td>\n      <td>ural-ekaterinburg</td>\n      <td>FK Ural Yekaterinburg</td>\n      <td>RU1</td>\n      <td>NaN</td>\n      <td>25</td>\n      <td>28.2</td>\n      <td>13</td>\n      <td>52.0</td>\n      <td>5</td>\n      <td>Yekaterinburg Arena</td>\n      <td>23000</td>\n      <td>€-770k</td>\n      <td>NaN</td>\n      <td>2023</td>\n      <td>https://www.transfermarkt.co.uk/ural-ekaterinb...</td>\n    </tr>\n    <tr>\n      <th>2</th>\n      <td>114</td>\n      <td>besiktas-istanbul</td>\n      <td>Beşiktaş Jimnastik Kulübü</td>\n      <td>TR1</td>\n      <td>NaN</td>\n      <td>32</td>\n      <td>27.4</td>\n      <td>16</td>\n      <td>50.0</td>\n      <td>13</td>\n      <td>Tüpraş Stadyumu</td>\n      <td>42590</td>\n      <td>€-14.50m</td>\n      <td>NaN</td>\n      <td>2023</td>\n      <td>https://www.transfermarkt.co.uk/besiktas-istan...</td>\n    </tr>\n    <tr>\n      <th>3</th>\n      <td>12</td>\n      <td>as-rom</td>\n      <td>Associazione Sportiva Roma</td>\n      <td>IT1</td>\n      <td>NaN</td>\n      <td>26</td>\n      <td>27.4</td>\n      <td>17</td>\n      <td>65.4</td>\n      <td>17</td>\n      <td>Olimpico di Roma</td>\n      <td>73261</td>\n      <td>+€65.20m</td>\n      <td>NaN</td>\n      <td>2023</td>\n      <td>https://www.transfermarkt.co.uk/as-rom/startse...</td>\n    </tr>\n    <tr>\n      <th>4</th>\n      <td>148</td>\n      <td>tottenham-hotspur</td>\n      <td>Tottenham Hotspur Football Club</td>\n      <td>GB1</td>\n      <td>NaN</td>\n      <td>29</td>\n      <td>26.2</td>\n      <td>21</td>\n      <td>72.4</td>\n      <td>22</td>\n      <td>Tottenham Hotspur Stadium</td>\n      <td>62062</td>\n      <td>€-130.40m</td>\n      <td>NaN</td>\n      <td>2023</td>\n      <td>https://www.transfermarkt.co.uk/tottenham-hots...</td>\n    </tr>\n    <tr>\n      <th>...</th>\n      <td>...</td>\n      <td>...</td>\n      <td>...</td>\n      <td>...</td>\n      <td>...</td>\n      <td>...</td>\n      <td>...</td>\n      <td>...</td>\n      <td>...</td>\n      <td>...</td>\n      <td>...</td>\n      <td>...</td>\n      <td>...</td>\n      <td>...</td>\n      <td>...</td>\n      <td>...</td>\n    </tr>\n    <tr>\n      <th>421</th>\n      <td>68608</td>\n      <td>cf-os-belenenses</td>\n      <td>CF Os Belenenses</td>\n      <td>PO1</td>\n      <td>NaN</td>\n      <td>30</td>\n      <td>25.7</td>\n      <td>5</td>\n      <td>16.7</td>\n      <td>0</td>\n      <td>Estádio do Restelo</td>\n      <td>19980</td>\n      <td>+-0</td>\n      <td>NaN</td>\n      <td>2017</td>\n      <td>https://www.transfermarkt.co.uk/cf-os-belenens...</td>\n    </tr>\n    <tr>\n      <th>422</th>\n      <td>724</td>\n      <td>fc-volendam</td>\n      <td>Football Club Volendam</td>\n      <td>NL1</td>\n      <td>NaN</td>\n      <td>29</td>\n      <td>22.8</td>\n      <td>14</td>\n      <td>48.3</td>\n      <td>3</td>\n      <td>Kras Stadion</td>\n      <td>7384</td>\n      <td>+€1.80m</td>\n      <td>NaN</td>\n      <td>2023</td>\n      <td>https://www.transfermarkt.co.uk/fc-volendam/st...</td>\n    </tr>\n    <tr>\n      <th>423</th>\n      <td>800</td>\n      <td>atalanta-bergamo</td>\n      <td>Atalanta Bergamasca Calcio S.p.a.</td>\n      <td>IT1</td>\n      <td>NaN</td>\n      <td>25</td>\n      <td>27.2</td>\n      <td>17</td>\n      <td>68.0</td>\n      <td>15</td>\n      <td>Gewiss Stadium</td>\n      <td>21747</td>\n      <td>+€87.00m</td>\n      <td>NaN</td>\n      <td>2023</td>\n      <td>https://www.transfermarkt.co.uk/atalanta-berga...</td>\n    </tr>\n    <tr>\n      <th>424</th>\n      <td>979</td>\n      <td>moreirense-fc</td>\n      <td>Moreirense Futebol Clube</td>\n      <td>PO1</td>\n      <td>NaN</td>\n      <td>26</td>\n      <td>26.0</td>\n      <td>17</td>\n      <td>65.4</td>\n      <td>2</td>\n      <td>Estádio C. J. de Almeida Freitas</td>\n      <td>6153</td>\n      <td>€-2.05m</td>\n      <td>NaN</td>\n      <td>2023</td>\n      <td>https://www.transfermarkt.co.uk/moreirense-fc/...</td>\n    </tr>\n    <tr>\n      <th>425</th>\n      <td>984</td>\n      <td>west-bromwich-albion</td>\n      <td>West Bromwich Albion</td>\n      <td>GB1</td>\n      <td>NaN</td>\n      <td>25</td>\n      <td>27.8</td>\n      <td>8</td>\n      <td>32.0</td>\n      <td>4</td>\n      <td>The Hawthorns</td>\n      <td>26850</td>\n      <td>€-1.35m</td>\n      <td>NaN</td>\n      <td>2020</td>\n      <td>https://www.transfermarkt.co.uk/west-bromwich-...</td>\n    </tr>\n  </tbody>\n</table>\n<p>426 rows × 16 columns</p>\n</div>"
     },
     "execution_count": 22,
     "metadata": {},
     "output_type": "execute_result"
    }
   ],
   "source": [
    "clb[clb[\"total_market_value\"].isnull()]"
   ],
   "metadata": {
    "collapsed": false,
    "ExecuteTime": {
     "end_time": "2024-01-12T16:25:25.287242200Z",
     "start_time": "2024-01-12T16:25:24.859613Z"
    }
   },
   "id": "e01337cb37ca5014"
  },
  {
   "cell_type": "markdown",
   "source": [
    "###### The data types seem correct, in particular we have three columns that can have floating-point values so they are of type float."
   ],
   "metadata": {
    "collapsed": false
   },
   "id": "dabcabf06aa42317"
  },
  {
   "cell_type": "code",
   "execution_count": 23,
   "outputs": [
    {
     "data": {
      "text/plain": "club_id                      int64\nclub_code                   object\nname                        object\ndomestic_competition_id     object\ntotal_market_value         float64\nsquad_size                   int64\naverage_age                float64\nforeigners_number            int64\nforeigners_percentage      float64\nnational_team_players        int64\nstadium_name                object\nstadium_seats                int64\nnet_transfer_record         object\ncoach_name                 float64\nlast_season                  int64\nurl                         object\ndtype: object"
     },
     "execution_count": 23,
     "metadata": {},
     "output_type": "execute_result"
    }
   ],
   "source": [
    "clb.dtypes"
   ],
   "metadata": {
    "collapsed": false,
    "ExecuteTime": {
     "end_time": "2024-01-12T16:25:25.287242200Z",
     "start_time": "2024-01-12T16:25:24.884129700Z"
    }
   },
   "id": "4b3414beaa1dcd9e"
  },
  {
   "cell_type": "markdown",
   "source": [
    "## <font color='green'>club_games</font> table\n",
    "###### Here we find information about the team's performance in individual matches."
   ],
   "metadata": {
    "collapsed": false
   },
   "id": "72355fbff63b5d0c"
  },
  {
   "cell_type": "code",
   "execution_count": 24,
   "outputs": [
    {
     "data": {
      "text/plain": "   game_id  club_id  own_goals  own_position      own_manager_name  \\\n0  2221751      431          1           NaN         Lutz Göttling   \n1  2221755       83          3           NaN      Ralph Hasenhüttl   \n2  2222597     3725          2           2.0  Stanislav Cherchesov   \n3  2222627     2696          0          11.0        Andrey Kobelev   \n4  2222658     2410          0           2.0        Leonid Slutski   \n\n   opponent_id  opponent_goals  opponent_position opponent_manager_name  \\\n0           60               2                NaN     Christian Streich   \n1         4795               0                NaN            Tomas Oral   \n2          232               1                5.0            Unai Emery   \n3         4128               2               10.0         Rustem Khuzin   \n4          121               2               13.0          Dan Petrescu   \n\n  hosting  is_win  \n0    Home       0  \n1    Home       1  \n2    Home       1  \n3    Home       0  \n4    Home       0  ",
      "text/html": "<div>\n<style scoped>\n    .dataframe tbody tr th:only-of-type {\n        vertical-align: middle;\n    }\n\n    .dataframe tbody tr th {\n        vertical-align: top;\n    }\n\n    .dataframe thead th {\n        text-align: right;\n    }\n</style>\n<table border=\"1\" class=\"dataframe\">\n  <thead>\n    <tr style=\"text-align: right;\">\n      <th></th>\n      <th>game_id</th>\n      <th>club_id</th>\n      <th>own_goals</th>\n      <th>own_position</th>\n      <th>own_manager_name</th>\n      <th>opponent_id</th>\n      <th>opponent_goals</th>\n      <th>opponent_position</th>\n      <th>opponent_manager_name</th>\n      <th>hosting</th>\n      <th>is_win</th>\n    </tr>\n  </thead>\n  <tbody>\n    <tr>\n      <th>0</th>\n      <td>2221751</td>\n      <td>431</td>\n      <td>1</td>\n      <td>NaN</td>\n      <td>Lutz Göttling</td>\n      <td>60</td>\n      <td>2</td>\n      <td>NaN</td>\n      <td>Christian Streich</td>\n      <td>Home</td>\n      <td>0</td>\n    </tr>\n    <tr>\n      <th>1</th>\n      <td>2221755</td>\n      <td>83</td>\n      <td>3</td>\n      <td>NaN</td>\n      <td>Ralph Hasenhüttl</td>\n      <td>4795</td>\n      <td>0</td>\n      <td>NaN</td>\n      <td>Tomas Oral</td>\n      <td>Home</td>\n      <td>1</td>\n    </tr>\n    <tr>\n      <th>2</th>\n      <td>2222597</td>\n      <td>3725</td>\n      <td>2</td>\n      <td>2.0</td>\n      <td>Stanislav Cherchesov</td>\n      <td>232</td>\n      <td>1</td>\n      <td>5.0</td>\n      <td>Unai Emery</td>\n      <td>Home</td>\n      <td>1</td>\n    </tr>\n    <tr>\n      <th>3</th>\n      <td>2222627</td>\n      <td>2696</td>\n      <td>0</td>\n      <td>11.0</td>\n      <td>Andrey Kobelev</td>\n      <td>4128</td>\n      <td>2</td>\n      <td>10.0</td>\n      <td>Rustem Khuzin</td>\n      <td>Home</td>\n      <td>0</td>\n    </tr>\n    <tr>\n      <th>4</th>\n      <td>2222658</td>\n      <td>2410</td>\n      <td>0</td>\n      <td>2.0</td>\n      <td>Leonid Slutski</td>\n      <td>121</td>\n      <td>2</td>\n      <td>13.0</td>\n      <td>Dan Petrescu</td>\n      <td>Home</td>\n      <td>0</td>\n    </tr>\n  </tbody>\n</table>\n</div>"
     },
     "execution_count": 24,
     "metadata": {},
     "output_type": "execute_result"
    }
   ],
   "source": [
    "clb_games = pd.read_csv('../csv/club_games.csv')\n",
    "clb_games.head()\n"
   ],
   "metadata": {
    "collapsed": false,
    "ExecuteTime": {
     "end_time": "2024-01-12T16:25:25.289772100Z",
     "start_time": "2024-01-12T16:25:24.896155Z"
    }
   },
   "id": "fc67f9fd2b24de94"
  },
  {
   "cell_type": "code",
   "execution_count": 25,
   "outputs": [
    {
     "data": {
      "text/plain": "(130432, 11)"
     },
     "execution_count": 25,
     "metadata": {},
     "output_type": "execute_result"
    }
   ],
   "source": [
    "clb_games.shape"
   ],
   "metadata": {
    "collapsed": false,
    "ExecuteTime": {
     "end_time": "2024-01-12T16:25:25.290775900Z",
     "start_time": "2024-01-12T16:25:25.147175600Z"
    }
   },
   "id": "3ebfb8ed2e05bf7a"
  },
  {
   "cell_type": "code",
   "execution_count": 26,
   "outputs": [
    {
     "data": {
      "text/plain": "Index(['game_id', 'club_id', 'own_goals', 'own_position', 'own_manager_name',\n       'opponent_id', 'opponent_goals', 'opponent_position',\n       'opponent_manager_name', 'hosting', 'is_win'],\n      dtype='object')"
     },
     "execution_count": 26,
     "metadata": {},
     "output_type": "execute_result"
    }
   ],
   "source": [
    "clb_games.columns"
   ],
   "metadata": {
    "collapsed": false,
    "ExecuteTime": {
     "end_time": "2024-01-12T16:25:25.290775900Z",
     "start_time": "2024-01-12T16:25:25.159810500Z"
    }
   },
   "id": "ce9e163efe238275"
  },
  {
   "cell_type": "code",
   "execution_count": 27,
   "outputs": [
    {
     "data": {
      "text/plain": "game_id                    int64\nclub_id                    int64\nown_goals                  int64\nown_position             float64\nown_manager_name          object\nopponent_id                int64\nopponent_goals             int64\nopponent_position        float64\nopponent_manager_name     object\nhosting                   object\nis_win                     int64\ndtype: object"
     },
     "execution_count": 27,
     "metadata": {},
     "output_type": "execute_result"
    }
   ],
   "source": [
    "clb_games.dtypes"
   ],
   "metadata": {
    "collapsed": false,
    "ExecuteTime": {
     "end_time": "2024-01-12T16:25:25.290775900Z",
     "start_time": "2024-01-12T16:25:25.171434Z"
    }
   },
   "id": "aca3d2493e586ca3"
  },
  {
   "cell_type": "markdown",
   "source": [
    "###### The missing information refers to the teams' positions and the managers' names."
   ],
   "metadata": {
    "collapsed": false
   },
   "id": "8875a4cf86e08669"
  },
  {
   "cell_type": "code",
   "execution_count": 28,
   "outputs": [
    {
     "data": {
      "text/plain": "game_id                      0\nclub_id                      0\nown_goals                    0\nown_position             38908\nown_manager_name          1484\nopponent_id                  0\nopponent_goals               0\nopponent_position        38908\nopponent_manager_name     1484\nhosting                      0\nis_win                       0\ndtype: int64"
     },
     "execution_count": 28,
     "metadata": {},
     "output_type": "execute_result"
    }
   ],
   "source": [
    "clb_games.isna().sum()"
   ],
   "metadata": {
    "collapsed": false,
    "ExecuteTime": {
     "end_time": "2024-01-12T16:25:25.292079800Z",
     "start_time": "2024-01-12T16:25:25.182734400Z"
    }
   },
   "id": "d2a7c9ffb91d7522"
  },
  {
   "cell_type": "markdown",
   "source": [
    "## <font color='green'>players</font> table\n",
    "###### We find information about individual players, such as personal information such as date of birth, country of origin, height, preferred foot, maximum market value reached and agent name."
   ],
   "metadata": {
    "collapsed": false
   },
   "id": "57874146ebbd8114"
  },
  {
   "cell_type": "code",
   "execution_count": 29,
   "outputs": [
    {
     "data": {
      "text/plain": "   player_id first_name   last_name              name  last_season  \\\n0        598       Timo  Hildebrand   Timo Hildebrand         2014   \n1        670     Martin      Petrov     Martin Petrov         2012   \n2       1323     Martin     Amedick    Martin Amedick         2012   \n3       3195   Jermaine     Pennant  Jermaine Pennant         2013   \n4       3259     Damien        Duff       Damien Duff         2013   \n\n   current_club_id       player_code country_of_birth city_of_birth  \\\n0               24   timo-hildebrand          Germany         Worms   \n1              714     martin-petrov         Bulgaria        Vratsa   \n2               24    martin-amedick          Germany     Paderborn   \n3              512  jermaine-pennant          England    Nottingham   \n4              931       damien-duff          Ireland    Ballyboden   \n\n  country_of_citizenship  ...   foot height_in_cm market_value_in_eur  \\\n0                Germany  ...    NaN          NaN                 NaN   \n1               Bulgaria  ...    NaN          NaN                 NaN   \n2                Germany  ...    NaN          NaN                 NaN   \n3                England  ...  right        173.0                 NaN   \n4                Ireland  ...   left        177.0                 NaN   \n\n  highest_market_value_in_eur  contract_expiration_date  agent_name  \\\n0                  10000000.0                       NaN         NaN   \n1                  12000000.0                       NaN         IFM   \n2                   2750000.0                       NaN         NaN   \n3                  10500000.0                       NaN  Andrew Sky   \n4                  17000000.0                       NaN         NaN   \n\n                                           image_url  \\\n0  https://img.a.transfermarkt.technology/portrai...   \n1  https://img.a.transfermarkt.technology/portrai...   \n2  https://img.a.transfermarkt.technology/portrai...   \n3  https://img.a.transfermarkt.technology/portrai...   \n4  https://img.a.transfermarkt.technology/portrai...   \n\n                                                 url  \\\n0  https://www.transfermarkt.co.uk/timo-hildebran...   \n1  https://www.transfermarkt.co.uk/martin-petrov/...   \n2  https://www.transfermarkt.co.uk/martin-amedick...   \n3  https://www.transfermarkt.co.uk/jermaine-penna...   \n4  https://www.transfermarkt.co.uk/damien-duff/pr...   \n\n  current_club_domestic_competition_id       current_club_name  \n0                                   L1     Eintracht Frankfurt  \n1                                  ES1  RCD Espanyol Barcelona  \n2                                   L1     Eintracht Frankfurt  \n3                                  GB1              Stoke City  \n4                                  GB1               Fulham FC  \n\n[5 rows x 23 columns]",
      "text/html": "<div>\n<style scoped>\n    .dataframe tbody tr th:only-of-type {\n        vertical-align: middle;\n    }\n\n    .dataframe tbody tr th {\n        vertical-align: top;\n    }\n\n    .dataframe thead th {\n        text-align: right;\n    }\n</style>\n<table border=\"1\" class=\"dataframe\">\n  <thead>\n    <tr style=\"text-align: right;\">\n      <th></th>\n      <th>player_id</th>\n      <th>first_name</th>\n      <th>last_name</th>\n      <th>name</th>\n      <th>last_season</th>\n      <th>current_club_id</th>\n      <th>player_code</th>\n      <th>country_of_birth</th>\n      <th>city_of_birth</th>\n      <th>country_of_citizenship</th>\n      <th>...</th>\n      <th>foot</th>\n      <th>height_in_cm</th>\n      <th>market_value_in_eur</th>\n      <th>highest_market_value_in_eur</th>\n      <th>contract_expiration_date</th>\n      <th>agent_name</th>\n      <th>image_url</th>\n      <th>url</th>\n      <th>current_club_domestic_competition_id</th>\n      <th>current_club_name</th>\n    </tr>\n  </thead>\n  <tbody>\n    <tr>\n      <th>0</th>\n      <td>598</td>\n      <td>Timo</td>\n      <td>Hildebrand</td>\n      <td>Timo Hildebrand</td>\n      <td>2014</td>\n      <td>24</td>\n      <td>timo-hildebrand</td>\n      <td>Germany</td>\n      <td>Worms</td>\n      <td>Germany</td>\n      <td>...</td>\n      <td>NaN</td>\n      <td>NaN</td>\n      <td>NaN</td>\n      <td>10000000.0</td>\n      <td>NaN</td>\n      <td>NaN</td>\n      <td>https://img.a.transfermarkt.technology/portrai...</td>\n      <td>https://www.transfermarkt.co.uk/timo-hildebran...</td>\n      <td>L1</td>\n      <td>Eintracht Frankfurt</td>\n    </tr>\n    <tr>\n      <th>1</th>\n      <td>670</td>\n      <td>Martin</td>\n      <td>Petrov</td>\n      <td>Martin Petrov</td>\n      <td>2012</td>\n      <td>714</td>\n      <td>martin-petrov</td>\n      <td>Bulgaria</td>\n      <td>Vratsa</td>\n      <td>Bulgaria</td>\n      <td>...</td>\n      <td>NaN</td>\n      <td>NaN</td>\n      <td>NaN</td>\n      <td>12000000.0</td>\n      <td>NaN</td>\n      <td>IFM</td>\n      <td>https://img.a.transfermarkt.technology/portrai...</td>\n      <td>https://www.transfermarkt.co.uk/martin-petrov/...</td>\n      <td>ES1</td>\n      <td>RCD Espanyol Barcelona</td>\n    </tr>\n    <tr>\n      <th>2</th>\n      <td>1323</td>\n      <td>Martin</td>\n      <td>Amedick</td>\n      <td>Martin Amedick</td>\n      <td>2012</td>\n      <td>24</td>\n      <td>martin-amedick</td>\n      <td>Germany</td>\n      <td>Paderborn</td>\n      <td>Germany</td>\n      <td>...</td>\n      <td>NaN</td>\n      <td>NaN</td>\n      <td>NaN</td>\n      <td>2750000.0</td>\n      <td>NaN</td>\n      <td>NaN</td>\n      <td>https://img.a.transfermarkt.technology/portrai...</td>\n      <td>https://www.transfermarkt.co.uk/martin-amedick...</td>\n      <td>L1</td>\n      <td>Eintracht Frankfurt</td>\n    </tr>\n    <tr>\n      <th>3</th>\n      <td>3195</td>\n      <td>Jermaine</td>\n      <td>Pennant</td>\n      <td>Jermaine Pennant</td>\n      <td>2013</td>\n      <td>512</td>\n      <td>jermaine-pennant</td>\n      <td>England</td>\n      <td>Nottingham</td>\n      <td>England</td>\n      <td>...</td>\n      <td>right</td>\n      <td>173.0</td>\n      <td>NaN</td>\n      <td>10500000.0</td>\n      <td>NaN</td>\n      <td>Andrew Sky</td>\n      <td>https://img.a.transfermarkt.technology/portrai...</td>\n      <td>https://www.transfermarkt.co.uk/jermaine-penna...</td>\n      <td>GB1</td>\n      <td>Stoke City</td>\n    </tr>\n    <tr>\n      <th>4</th>\n      <td>3259</td>\n      <td>Damien</td>\n      <td>Duff</td>\n      <td>Damien Duff</td>\n      <td>2013</td>\n      <td>931</td>\n      <td>damien-duff</td>\n      <td>Ireland</td>\n      <td>Ballyboden</td>\n      <td>Ireland</td>\n      <td>...</td>\n      <td>left</td>\n      <td>177.0</td>\n      <td>NaN</td>\n      <td>17000000.0</td>\n      <td>NaN</td>\n      <td>NaN</td>\n      <td>https://img.a.transfermarkt.technology/portrai...</td>\n      <td>https://www.transfermarkt.co.uk/damien-duff/pr...</td>\n      <td>GB1</td>\n      <td>Fulham FC</td>\n    </tr>\n  </tbody>\n</table>\n<p>5 rows × 23 columns</p>\n</div>"
     },
     "execution_count": 29,
     "metadata": {},
     "output_type": "execute_result"
    }
   ],
   "source": [
    "ply = pd.read_csv('../csv/players.csv')\n",
    "ply.head()\n"
   ],
   "metadata": {
    "collapsed": false,
    "ExecuteTime": {
     "end_time": "2024-01-12T16:25:26.194430300Z",
     "start_time": "2024-01-12T16:25:25.210304900Z"
    }
   },
   "id": "a30513d90b52c282"
  },
  {
   "cell_type": "code",
   "execution_count": 30,
   "outputs": [
    {
     "data": {
      "text/plain": "Index(['player_id', 'first_name', 'last_name', 'name', 'last_season',\n       'current_club_id', 'player_code', 'country_of_birth', 'city_of_birth',\n       'country_of_citizenship', 'date_of_birth', 'sub_position', 'position',\n       'foot', 'height_in_cm', 'market_value_in_eur',\n       'highest_market_value_in_eur', 'contract_expiration_date', 'agent_name',\n       'image_url', 'url', 'current_club_domestic_competition_id',\n       'current_club_name'],\n      dtype='object')"
     },
     "execution_count": 30,
     "metadata": {},
     "output_type": "execute_result"
    }
   ],
   "source": [
    "ply.columns"
   ],
   "metadata": {
    "collapsed": false,
    "ExecuteTime": {
     "end_time": "2024-01-12T16:25:26.195437500Z",
     "start_time": "2024-01-12T16:25:25.540504400Z"
    }
   },
   "id": "84064aeed689db4c"
  },
  {
   "cell_type": "code",
   "execution_count": 31,
   "outputs": [
    {
     "data": {
      "text/plain": "player_id                                 int64\nfirst_name                               object\nlast_name                                object\nname                                     object\nlast_season                               int64\ncurrent_club_id                           int64\nplayer_code                              object\ncountry_of_birth                         object\ncity_of_birth                            object\ncountry_of_citizenship                   object\ndate_of_birth                            object\nsub_position                             object\nposition                                 object\nfoot                                     object\nheight_in_cm                            float64\nmarket_value_in_eur                     float64\nhighest_market_value_in_eur             float64\ncontract_expiration_date                 object\nagent_name                               object\nimage_url                                object\nurl                                      object\ncurrent_club_domestic_competition_id     object\ncurrent_club_name                        object\ndtype: object"
     },
     "execution_count": 31,
     "metadata": {},
     "output_type": "execute_result"
    }
   ],
   "source": [
    "ply.dtypes"
   ],
   "metadata": {
    "collapsed": false,
    "ExecuteTime": {
     "end_time": "2024-01-12T16:25:26.196454800Z",
     "start_time": "2024-01-12T16:25:25.548850600Z"
    }
   },
   "id": "1f587e3b7469af6a"
  },
  {
   "cell_type": "code",
   "execution_count": 32,
   "outputs": [
    {
     "data": {
      "text/plain": "player_id                                        int64\nfirst_name                                      object\nlast_name                                       object\nname                                            object\nlast_season                                      int64\ncurrent_club_id                                  int64\nplayer_code                                     object\ncountry_of_birth                                object\ncity_of_birth                                   object\ncountry_of_citizenship                          object\ndate_of_birth                           datetime64[ns]\nsub_position                                    object\nposition                                        object\nfoot                                            object\nheight_in_cm                                   float64\nmarket_value_in_eur                            float64\nhighest_market_value_in_eur                    float64\ncontract_expiration_date                datetime64[ns]\nagent_name                                      object\nimage_url                                       object\nurl                                             object\ncurrent_club_domestic_competition_id            object\ncurrent_club_name                               object\ndtype: object"
     },
     "execution_count": 32,
     "metadata": {},
     "output_type": "execute_result"
    }
   ],
   "source": [
    "ply['date_of_birth'] = pd.to_datetime(ply['date_of_birth'])\n",
    "ply['contract_expiration_date'] = pd.to_datetime(ply['contract_expiration_date'])\n",
    "ply.dtypes"
   ],
   "metadata": {
    "collapsed": false,
    "ExecuteTime": {
     "end_time": "2024-01-12T16:25:26.301836700Z",
     "start_time": "2024-01-12T16:25:25.556666800Z"
    }
   },
   "id": "7b384e9f6e04c104"
  },
  {
   "cell_type": "markdown",
   "source": [
    "###### The missing information is personal in nature, such as place of birth, height, information about the preferred foot, and market value. The most important information that is not available for many players is first_name. In this case, the name column will only have the value of last_name. However, since we have an identifier such as player_id, we can still associate the player to the data even if we do not know the first_name."
   ],
   "metadata": {
    "collapsed": false
   },
   "id": "9ba29da91d0131d6"
  },
  {
   "cell_type": "code",
   "execution_count": 33,
   "outputs": [
    {
     "data": {
      "text/plain": "player_id                                   0\nfirst_name                               1965\nlast_name                                   0\nname                                        0\nlast_season                                 0\ncurrent_club_id                             0\nplayer_code                                 0\ncountry_of_birth                         2689\ncity_of_birth                            2203\ncountry_of_citizenship                    543\ndate_of_birth                              47\nsub_position                              172\nposition                                    0\nfoot                                     2389\nheight_in_cm                             2098\nmarket_value_in_eur                     10919\nhighest_market_value_in_eur              1321\ncontract_expiration_date                11467\nagent_name                              15361\nimage_url                                   0\nurl                                         0\ncurrent_club_domestic_competition_id        0\ncurrent_club_name                           0\ndtype: int64"
     },
     "execution_count": 33,
     "metadata": {},
     "output_type": "execute_result"
    }
   ],
   "source": [
    "ply.isna().sum()"
   ],
   "metadata": {
    "collapsed": false,
    "ExecuteTime": {
     "end_time": "2024-01-12T16:25:26.303843800Z",
     "start_time": "2024-01-12T16:25:25.593237Z"
    }
   },
   "id": "5143562a7ae1c054"
  },
  {
   "cell_type": "code",
   "execution_count": 34,
   "outputs": [
    {
     "data": {
      "text/plain": "       player_id first_name  last_name       name  last_season  \\\n24          5974        NaN  Matuzalém  Matuzalém         2015   \n47         13952        NaN    Liedson    Liedson         2012   \n49         14137        NaN    Briguel    Briguel         2015   \n51         14282        NaN  Danielson  Danielson         2015   \n66         17292        NaN     Joeano     Joeano         2013   \n...          ...        ...        ...        ...          ...   \n30200     105468        NaN     Neuton     Neuton         2015   \n30218      54183        NaN  Maicosuel  Maicosuel         2013   \n30221     323954        NaN     Walace     Walace         2023   \n30250     217863        NaN  Guilherme  Guilherme         2023   \n30293      99523        NaN    Nícolas    Nícolas         2020   \n\n       current_club_id player_code country_of_birth      city_of_birth  \\\n24                 276   matuzalem           Brazil              Natal   \n47                 720     liedson           Brazil              Cairú   \n49                1301     briguel         Portugal            Funchal   \n51                 979   danielson           Brazil          São Paulo   \n66                2425      joeano           Brazil          Fortaleza   \n...                ...         ...              ...                ...   \n30200              410      neuton           Brazil            Erechim   \n30218              410   maicosuel           Brazil         Cosmópolis   \n30221              410      walace           Brazil           Salvador   \n30250             2293   guilherme           Brazil       Porto Alegre   \n30293              410     nicolas           Brazil  Colorado do Oeste   \n\n      country_of_citizenship  ...   foot height_in_cm market_value_in_eur  \\\n24                    Brazil  ...   left        178.0                 NaN   \n47                  Portugal  ...  right        175.0                 NaN   \n49                  Portugal  ...  right        174.0                 NaN   \n51                    Brazil  ...  right        186.0                 NaN   \n66                    Brazil  ...  right        181.0                 NaN   \n...                      ...  ...    ...          ...                 ...   \n30200                 Brazil  ...   left        182.0                 NaN   \n30218                 Brazil  ...    NaN          NaN                 NaN   \n30221                 Brazil  ...  right        188.0           7000000.0   \n30250                 Brazil  ...   left        180.0           1100000.0   \n30293                 Brazil  ...  right        190.0            300000.0   \n\n      highest_market_value_in_eur  contract_expiration_date  \\\n24                     16000000.0                       NaT   \n47                     15000000.0                       NaT   \n49                       800000.0                       NaT   \n51                      1500000.0                       NaT   \n66                      1500000.0                       NaT   \n...                           ...                       ...   \n30200                   2800000.0                       NaT   \n30218                   4500000.0                       NaT   \n30221                  14000000.0                2026-06-30   \n30250                   2200000.0                2024-06-30   \n30293                    900000.0                2023-06-30   \n\n                 agent_name  \\\n24                      NaN   \n47                      NaN   \n49                      NaN   \n51                      NaN   \n66                      NaN   \n...                     ...   \n30200                   NaN   \n30218         RJ Assessoria   \n30221                  BSSM   \n30250  Jose Renato Martinez   \n30293      Grimaldi Mariano   \n\n                                               image_url  \\\n24     https://img.a.transfermarkt.technology/portrai...   \n47     https://img.a.transfermarkt.technology/portrai...   \n49     https://img.a.transfermarkt.technology/portrai...   \n51     https://img.a.transfermarkt.technology/portrai...   \n66     https://img.a.transfermarkt.technology/portrai...   \n...                                                  ...   \n30200  https://img.a.transfermarkt.technology/portrai...   \n30218  https://img.a.transfermarkt.technology/portrai...   \n30221  https://img.a.transfermarkt.technology/portrai...   \n30250  https://img.a.transfermarkt.technology/portrai...   \n30293  https://img.a.transfermarkt.technology/portrai...   \n\n                                                     url  \\\n24     https://www.transfermarkt.co.uk/matuzalem/prof...   \n47     https://www.transfermarkt.co.uk/liedson/profil...   \n49     https://www.transfermarkt.co.uk/briguel/profil...   \n51     https://www.transfermarkt.co.uk/danielson/prof...   \n66     https://www.transfermarkt.co.uk/joeano/profil/...   \n...                                                  ...   \n30200  https://www.transfermarkt.co.uk/neuton/profil/...   \n30218  https://www.transfermarkt.co.uk/maicosuel/prof...   \n30221  https://www.transfermarkt.co.uk/walace/profil/...   \n30250  https://www.transfermarkt.co.uk/guilherme/prof...   \n30293  https://www.transfermarkt.co.uk/nicolas/profil...   \n\n      current_club_domestic_competition_id current_club_name  \n24                                     IT1     Hellas Verona  \n47                                     PO1          FC Porto  \n49                                     PO1       CS Marítimo  \n51                                     PO1     Moreirense FC  \n66                                     PO1        Rio Ave FC  \n...                                    ...               ...  \n30200                                  IT1    Udinese Calcio  \n30218                                  IT1    Udinese Calcio  \n30221                                  IT1    Udinese Calcio  \n30250                                  TR1         Konyaspor  \n30293                                  IT1    Udinese Calcio  \n\n[1965 rows x 23 columns]",
      "text/html": "<div>\n<style scoped>\n    .dataframe tbody tr th:only-of-type {\n        vertical-align: middle;\n    }\n\n    .dataframe tbody tr th {\n        vertical-align: top;\n    }\n\n    .dataframe thead th {\n        text-align: right;\n    }\n</style>\n<table border=\"1\" class=\"dataframe\">\n  <thead>\n    <tr style=\"text-align: right;\">\n      <th></th>\n      <th>player_id</th>\n      <th>first_name</th>\n      <th>last_name</th>\n      <th>name</th>\n      <th>last_season</th>\n      <th>current_club_id</th>\n      <th>player_code</th>\n      <th>country_of_birth</th>\n      <th>city_of_birth</th>\n      <th>country_of_citizenship</th>\n      <th>...</th>\n      <th>foot</th>\n      <th>height_in_cm</th>\n      <th>market_value_in_eur</th>\n      <th>highest_market_value_in_eur</th>\n      <th>contract_expiration_date</th>\n      <th>agent_name</th>\n      <th>image_url</th>\n      <th>url</th>\n      <th>current_club_domestic_competition_id</th>\n      <th>current_club_name</th>\n    </tr>\n  </thead>\n  <tbody>\n    <tr>\n      <th>24</th>\n      <td>5974</td>\n      <td>NaN</td>\n      <td>Matuzalém</td>\n      <td>Matuzalém</td>\n      <td>2015</td>\n      <td>276</td>\n      <td>matuzalem</td>\n      <td>Brazil</td>\n      <td>Natal</td>\n      <td>Brazil</td>\n      <td>...</td>\n      <td>left</td>\n      <td>178.0</td>\n      <td>NaN</td>\n      <td>16000000.0</td>\n      <td>NaT</td>\n      <td>NaN</td>\n      <td>https://img.a.transfermarkt.technology/portrai...</td>\n      <td>https://www.transfermarkt.co.uk/matuzalem/prof...</td>\n      <td>IT1</td>\n      <td>Hellas Verona</td>\n    </tr>\n    <tr>\n      <th>47</th>\n      <td>13952</td>\n      <td>NaN</td>\n      <td>Liedson</td>\n      <td>Liedson</td>\n      <td>2012</td>\n      <td>720</td>\n      <td>liedson</td>\n      <td>Brazil</td>\n      <td>Cairú</td>\n      <td>Portugal</td>\n      <td>...</td>\n      <td>right</td>\n      <td>175.0</td>\n      <td>NaN</td>\n      <td>15000000.0</td>\n      <td>NaT</td>\n      <td>NaN</td>\n      <td>https://img.a.transfermarkt.technology/portrai...</td>\n      <td>https://www.transfermarkt.co.uk/liedson/profil...</td>\n      <td>PO1</td>\n      <td>FC Porto</td>\n    </tr>\n    <tr>\n      <th>49</th>\n      <td>14137</td>\n      <td>NaN</td>\n      <td>Briguel</td>\n      <td>Briguel</td>\n      <td>2015</td>\n      <td>1301</td>\n      <td>briguel</td>\n      <td>Portugal</td>\n      <td>Funchal</td>\n      <td>Portugal</td>\n      <td>...</td>\n      <td>right</td>\n      <td>174.0</td>\n      <td>NaN</td>\n      <td>800000.0</td>\n      <td>NaT</td>\n      <td>NaN</td>\n      <td>https://img.a.transfermarkt.technology/portrai...</td>\n      <td>https://www.transfermarkt.co.uk/briguel/profil...</td>\n      <td>PO1</td>\n      <td>CS Marítimo</td>\n    </tr>\n    <tr>\n      <th>51</th>\n      <td>14282</td>\n      <td>NaN</td>\n      <td>Danielson</td>\n      <td>Danielson</td>\n      <td>2015</td>\n      <td>979</td>\n      <td>danielson</td>\n      <td>Brazil</td>\n      <td>São Paulo</td>\n      <td>Brazil</td>\n      <td>...</td>\n      <td>right</td>\n      <td>186.0</td>\n      <td>NaN</td>\n      <td>1500000.0</td>\n      <td>NaT</td>\n      <td>NaN</td>\n      <td>https://img.a.transfermarkt.technology/portrai...</td>\n      <td>https://www.transfermarkt.co.uk/danielson/prof...</td>\n      <td>PO1</td>\n      <td>Moreirense FC</td>\n    </tr>\n    <tr>\n      <th>66</th>\n      <td>17292</td>\n      <td>NaN</td>\n      <td>Joeano</td>\n      <td>Joeano</td>\n      <td>2013</td>\n      <td>2425</td>\n      <td>joeano</td>\n      <td>Brazil</td>\n      <td>Fortaleza</td>\n      <td>Brazil</td>\n      <td>...</td>\n      <td>right</td>\n      <td>181.0</td>\n      <td>NaN</td>\n      <td>1500000.0</td>\n      <td>NaT</td>\n      <td>NaN</td>\n      <td>https://img.a.transfermarkt.technology/portrai...</td>\n      <td>https://www.transfermarkt.co.uk/joeano/profil/...</td>\n      <td>PO1</td>\n      <td>Rio Ave FC</td>\n    </tr>\n    <tr>\n      <th>...</th>\n      <td>...</td>\n      <td>...</td>\n      <td>...</td>\n      <td>...</td>\n      <td>...</td>\n      <td>...</td>\n      <td>...</td>\n      <td>...</td>\n      <td>...</td>\n      <td>...</td>\n      <td>...</td>\n      <td>...</td>\n      <td>...</td>\n      <td>...</td>\n      <td>...</td>\n      <td>...</td>\n      <td>...</td>\n      <td>...</td>\n      <td>...</td>\n      <td>...</td>\n      <td>...</td>\n    </tr>\n    <tr>\n      <th>30200</th>\n      <td>105468</td>\n      <td>NaN</td>\n      <td>Neuton</td>\n      <td>Neuton</td>\n      <td>2015</td>\n      <td>410</td>\n      <td>neuton</td>\n      <td>Brazil</td>\n      <td>Erechim</td>\n      <td>Brazil</td>\n      <td>...</td>\n      <td>left</td>\n      <td>182.0</td>\n      <td>NaN</td>\n      <td>2800000.0</td>\n      <td>NaT</td>\n      <td>NaN</td>\n      <td>https://img.a.transfermarkt.technology/portrai...</td>\n      <td>https://www.transfermarkt.co.uk/neuton/profil/...</td>\n      <td>IT1</td>\n      <td>Udinese Calcio</td>\n    </tr>\n    <tr>\n      <th>30218</th>\n      <td>54183</td>\n      <td>NaN</td>\n      <td>Maicosuel</td>\n      <td>Maicosuel</td>\n      <td>2013</td>\n      <td>410</td>\n      <td>maicosuel</td>\n      <td>Brazil</td>\n      <td>Cosmópolis</td>\n      <td>Brazil</td>\n      <td>...</td>\n      <td>NaN</td>\n      <td>NaN</td>\n      <td>NaN</td>\n      <td>4500000.0</td>\n      <td>NaT</td>\n      <td>RJ Assessoria</td>\n      <td>https://img.a.transfermarkt.technology/portrai...</td>\n      <td>https://www.transfermarkt.co.uk/maicosuel/prof...</td>\n      <td>IT1</td>\n      <td>Udinese Calcio</td>\n    </tr>\n    <tr>\n      <th>30221</th>\n      <td>323954</td>\n      <td>NaN</td>\n      <td>Walace</td>\n      <td>Walace</td>\n      <td>2023</td>\n      <td>410</td>\n      <td>walace</td>\n      <td>Brazil</td>\n      <td>Salvador</td>\n      <td>Brazil</td>\n      <td>...</td>\n      <td>right</td>\n      <td>188.0</td>\n      <td>7000000.0</td>\n      <td>14000000.0</td>\n      <td>2026-06-30</td>\n      <td>BSSM</td>\n      <td>https://img.a.transfermarkt.technology/portrai...</td>\n      <td>https://www.transfermarkt.co.uk/walace/profil/...</td>\n      <td>IT1</td>\n      <td>Udinese Calcio</td>\n    </tr>\n    <tr>\n      <th>30250</th>\n      <td>217863</td>\n      <td>NaN</td>\n      <td>Guilherme</td>\n      <td>Guilherme</td>\n      <td>2023</td>\n      <td>2293</td>\n      <td>guilherme</td>\n      <td>Brazil</td>\n      <td>Porto Alegre</td>\n      <td>Brazil</td>\n      <td>...</td>\n      <td>left</td>\n      <td>180.0</td>\n      <td>1100000.0</td>\n      <td>2200000.0</td>\n      <td>2024-06-30</td>\n      <td>Jose Renato Martinez</td>\n      <td>https://img.a.transfermarkt.technology/portrai...</td>\n      <td>https://www.transfermarkt.co.uk/guilherme/prof...</td>\n      <td>TR1</td>\n      <td>Konyaspor</td>\n    </tr>\n    <tr>\n      <th>30293</th>\n      <td>99523</td>\n      <td>NaN</td>\n      <td>Nícolas</td>\n      <td>Nícolas</td>\n      <td>2020</td>\n      <td>410</td>\n      <td>nicolas</td>\n      <td>Brazil</td>\n      <td>Colorado do Oeste</td>\n      <td>Brazil</td>\n      <td>...</td>\n      <td>right</td>\n      <td>190.0</td>\n      <td>300000.0</td>\n      <td>900000.0</td>\n      <td>2023-06-30</td>\n      <td>Grimaldi Mariano</td>\n      <td>https://img.a.transfermarkt.technology/portrai...</td>\n      <td>https://www.transfermarkt.co.uk/nicolas/profil...</td>\n      <td>IT1</td>\n      <td>Udinese Calcio</td>\n    </tr>\n  </tbody>\n</table>\n<p>1965 rows × 23 columns</p>\n</div>"
     },
     "execution_count": 34,
     "metadata": {},
     "output_type": "execute_result"
    }
   ],
   "source": [
    "ply[ply['first_name'].isnull()]"
   ],
   "metadata": {
    "collapsed": false,
    "ExecuteTime": {
     "end_time": "2024-01-12T16:25:26.306837100Z",
     "start_time": "2024-01-12T16:25:25.612471500Z"
    }
   },
   "id": "2487662290dad601"
  },
  {
   "cell_type": "code",
   "execution_count": 35,
   "outputs": [
    {
     "data": {
      "text/plain": "(30302, 23)"
     },
     "execution_count": 35,
     "metadata": {},
     "output_type": "execute_result"
    }
   ],
   "source": [
    "ply.shape"
   ],
   "metadata": {
    "collapsed": false,
    "ExecuteTime": {
     "end_time": "2024-01-12T16:25:26.313781200Z",
     "start_time": "2024-01-12T16:25:25.640766800Z"
    }
   },
   "id": "726a56c14f176963"
  },
  {
   "cell_type": "markdown",
   "source": [
    "## <font color='green'>appearances</font> table\n",
    "###### In this table, we find information about players based on individual matches, such as the number of yellow/red cards, the number of goals, assists, and minutes played."
   ],
   "metadata": {
    "collapsed": false
   },
   "id": "c2884a864c504b63"
  },
  {
   "cell_type": "code",
   "execution_count": 36,
   "outputs": [
    {
     "data": {
      "text/plain": "    appearance_id  game_id  player_id  player_club_id  player_current_club_id  \\\n0   2231978_38004  2231978      38004             853                     235   \n1   2233748_79232  2233748      79232            8841                    2698   \n2   2234413_42792  2234413      42792            6251                     465   \n3   2234418_73333  2234418      73333            1274                    6646   \n4  2234421_122011  2234421     122011             195                    3008   \n\n         date       player_name competition_id  yellow_cards  red_cards  \\\n0  2012-07-03  Aurélien Joachim            CLQ             0          0   \n1  2012-07-05    Ruslan Abyshov            ELQ             0          0   \n2  2012-07-05       Sander Puri            ELQ             0          0   \n3  2012-07-05   Vegar Hedenstad            ELQ             0          0   \n4  2012-07-05  Markus Henriksen            ELQ             0          0   \n\n   goals  assists  minutes_played  \n0      2        0              90  \n1      0        0              90  \n2      0        0              45  \n3      0        0              90  \n4      0        1              90  ",
      "text/html": "<div>\n<style scoped>\n    .dataframe tbody tr th:only-of-type {\n        vertical-align: middle;\n    }\n\n    .dataframe tbody tr th {\n        vertical-align: top;\n    }\n\n    .dataframe thead th {\n        text-align: right;\n    }\n</style>\n<table border=\"1\" class=\"dataframe\">\n  <thead>\n    <tr style=\"text-align: right;\">\n      <th></th>\n      <th>appearance_id</th>\n      <th>game_id</th>\n      <th>player_id</th>\n      <th>player_club_id</th>\n      <th>player_current_club_id</th>\n      <th>date</th>\n      <th>player_name</th>\n      <th>competition_id</th>\n      <th>yellow_cards</th>\n      <th>red_cards</th>\n      <th>goals</th>\n      <th>assists</th>\n      <th>minutes_played</th>\n    </tr>\n  </thead>\n  <tbody>\n    <tr>\n      <th>0</th>\n      <td>2231978_38004</td>\n      <td>2231978</td>\n      <td>38004</td>\n      <td>853</td>\n      <td>235</td>\n      <td>2012-07-03</td>\n      <td>Aurélien Joachim</td>\n      <td>CLQ</td>\n      <td>0</td>\n      <td>0</td>\n      <td>2</td>\n      <td>0</td>\n      <td>90</td>\n    </tr>\n    <tr>\n      <th>1</th>\n      <td>2233748_79232</td>\n      <td>2233748</td>\n      <td>79232</td>\n      <td>8841</td>\n      <td>2698</td>\n      <td>2012-07-05</td>\n      <td>Ruslan Abyshov</td>\n      <td>ELQ</td>\n      <td>0</td>\n      <td>0</td>\n      <td>0</td>\n      <td>0</td>\n      <td>90</td>\n    </tr>\n    <tr>\n      <th>2</th>\n      <td>2234413_42792</td>\n      <td>2234413</td>\n      <td>42792</td>\n      <td>6251</td>\n      <td>465</td>\n      <td>2012-07-05</td>\n      <td>Sander Puri</td>\n      <td>ELQ</td>\n      <td>0</td>\n      <td>0</td>\n      <td>0</td>\n      <td>0</td>\n      <td>45</td>\n    </tr>\n    <tr>\n      <th>3</th>\n      <td>2234418_73333</td>\n      <td>2234418</td>\n      <td>73333</td>\n      <td>1274</td>\n      <td>6646</td>\n      <td>2012-07-05</td>\n      <td>Vegar Hedenstad</td>\n      <td>ELQ</td>\n      <td>0</td>\n      <td>0</td>\n      <td>0</td>\n      <td>0</td>\n      <td>90</td>\n    </tr>\n    <tr>\n      <th>4</th>\n      <td>2234421_122011</td>\n      <td>2234421</td>\n      <td>122011</td>\n      <td>195</td>\n      <td>3008</td>\n      <td>2012-07-05</td>\n      <td>Markus Henriksen</td>\n      <td>ELQ</td>\n      <td>0</td>\n      <td>0</td>\n      <td>0</td>\n      <td>1</td>\n      <td>90</td>\n    </tr>\n  </tbody>\n</table>\n</div>"
     },
     "execution_count": 36,
     "metadata": {},
     "output_type": "execute_result"
    }
   ],
   "source": [
    "apr = pd.read_csv('../csv/appearances.csv')\n",
    "apr.head()"
   ],
   "metadata": {
    "collapsed": false,
    "ExecuteTime": {
     "end_time": "2024-01-12T16:25:28.915855700Z",
     "start_time": "2024-01-12T16:25:25.648474Z"
    }
   },
   "id": "f3e24b0a736bbb55"
  },
  {
   "cell_type": "code",
   "execution_count": 37,
   "outputs": [
    {
     "data": {
      "text/plain": "Index(['appearance_id', 'game_id', 'player_id', 'player_club_id',\n       'player_current_club_id', 'date', 'player_name', 'competition_id',\n       'yellow_cards', 'red_cards', 'goals', 'assists', 'minutes_played'],\n      dtype='object')"
     },
     "execution_count": 37,
     "metadata": {},
     "output_type": "execute_result"
    }
   ],
   "source": [
    "apr.columns"
   ],
   "metadata": {
    "collapsed": false,
    "ExecuteTime": {
     "end_time": "2024-01-12T16:25:28.916975400Z",
     "start_time": "2024-01-12T16:25:28.907718500Z"
    }
   },
   "id": "b0e97bd04b454972"
  },
  {
   "cell_type": "code",
   "execution_count": 38,
   "outputs": [
    {
     "data": {
      "text/plain": "appearance_id             object\ngame_id                    int64\nplayer_id                  int64\nplayer_club_id             int64\nplayer_current_club_id     int64\ndate                      object\nplayer_name               object\ncompetition_id            object\nyellow_cards               int64\nred_cards                  int64\ngoals                      int64\nassists                    int64\nminutes_played             int64\ndtype: object"
     },
     "execution_count": 38,
     "metadata": {},
     "output_type": "execute_result"
    }
   ],
   "source": [
    "apr.dtypes"
   ],
   "metadata": {
    "collapsed": false,
    "ExecuteTime": {
     "end_time": "2024-01-12T16:25:28.957905500Z",
     "start_time": "2024-01-12T16:25:28.912815500Z"
    }
   },
   "id": "4db7a5074147ef71"
  },
  {
   "cell_type": "code",
   "execution_count": 39,
   "outputs": [],
   "source": [
    "apr['date'] = pd.to_datetime(apr['date'])"
   ],
   "metadata": {
    "collapsed": false,
    "ExecuteTime": {
     "end_time": "2024-01-12T16:25:29.193382500Z",
     "start_time": "2024-01-12T16:25:28.919974700Z"
    }
   },
   "id": "93e461377fcf38a1"
  },
  {
   "cell_type": "code",
   "execution_count": 40,
   "outputs": [
    {
     "data": {
      "text/plain": "appearance_id                     object\ngame_id                            int64\nplayer_id                          int64\nplayer_club_id                     int64\nplayer_current_club_id             int64\ndate                      datetime64[ns]\nplayer_name                       object\ncompetition_id                    object\nyellow_cards                       int64\nred_cards                          int64\ngoals                              int64\nassists                            int64\nminutes_played                     int64\ndtype: object"
     },
     "execution_count": 40,
     "metadata": {},
     "output_type": "execute_result"
    }
   ],
   "source": [
    "apr.dtypes"
   ],
   "metadata": {
    "collapsed": false,
    "ExecuteTime": {
     "end_time": "2024-01-12T16:25:29.193382500Z",
     "start_time": "2024-01-12T16:25:29.103650Z"
    }
   },
   "id": "5bca4572b696ffb0"
  },
  {
   "cell_type": "code",
   "execution_count": 41,
   "outputs": [
    {
     "data": {
      "text/plain": "appearance_id               0\ngame_id                     0\nplayer_id                   0\nplayer_club_id              0\nplayer_current_club_id      0\ndate                        0\nplayer_name               324\ncompetition_id              0\nyellow_cards                0\nred_cards                   0\ngoals                       0\nassists                     0\nminutes_played              0\ndtype: int64"
     },
     "execution_count": 41,
     "metadata": {},
     "output_type": "execute_result"
    }
   ],
   "source": [
    "apr.isna().sum()"
   ],
   "metadata": {
    "collapsed": false,
    "ExecuteTime": {
     "end_time": "2024-01-12T16:25:29.293513500Z",
     "start_time": "2024-01-12T16:25:29.113710300Z"
    }
   },
   "id": "29923458d48d5e5c"
  },
  {
   "cell_type": "markdown",
   "source": [
    "## <font color='green'>game_events</font> table\n",
    "###### The game_events table contains detailed information about specific events that occur during a football match. Some examples of events include a player entering the field (substitution), an assist, a foul, a yellow or red card, and other relevant events during the match."
   ],
   "metadata": {
    "collapsed": false
   },
   "id": "3acfb8b571358c18"
  },
  {
   "cell_type": "code",
   "execution_count": 42,
   "outputs": [
    {
     "data": {
      "text/plain": "                      game_event_id        date  game_id  minute  \\\n0  2f41da30c471492e7d4a984951671677  2012-08-05  2211607      77   \n1  a72f7186d132775f234d3e2f7bc0ed5b  2012-08-05  2211607      77   \n2  b2d721eaed4692a5c59a92323689ef18  2012-08-05  2211607       3   \n3  aef768899cedac0c9a650980219075a2  2012-08-05  2211607      53   \n4  5d6d9533023057b6619ecd145a038bbe  2012-08-05  2211607      74   \n\n            type  club_id  player_id  \\\n0          Cards      610       4425   \n1          Cards      383      33210   \n2          Goals      383      36500   \n3          Goals      383      36500   \n4  Substitutions      383      36500   \n\n                                         description  player_in_id  \\\n0               1. Yellow card  , Mass confrontation           NaN   \n1               1. Yellow card  , Mass confrontation           NaN   \n2  , Header, 1. Tournament Goal Assist: , Corner,...           NaN   \n3  , Right-footed shot, 2. Tournament Goal Assist...           NaN   \n4                                     , Not reported       49499.0   \n\n   player_assist_id  \n0               NaN  \n1               NaN  \n2           56416.0  \n3          146258.0  \n4               NaN  ",
      "text/html": "<div>\n<style scoped>\n    .dataframe tbody tr th:only-of-type {\n        vertical-align: middle;\n    }\n\n    .dataframe tbody tr th {\n        vertical-align: top;\n    }\n\n    .dataframe thead th {\n        text-align: right;\n    }\n</style>\n<table border=\"1\" class=\"dataframe\">\n  <thead>\n    <tr style=\"text-align: right;\">\n      <th></th>\n      <th>game_event_id</th>\n      <th>date</th>\n      <th>game_id</th>\n      <th>minute</th>\n      <th>type</th>\n      <th>club_id</th>\n      <th>player_id</th>\n      <th>description</th>\n      <th>player_in_id</th>\n      <th>player_assist_id</th>\n    </tr>\n  </thead>\n  <tbody>\n    <tr>\n      <th>0</th>\n      <td>2f41da30c471492e7d4a984951671677</td>\n      <td>2012-08-05</td>\n      <td>2211607</td>\n      <td>77</td>\n      <td>Cards</td>\n      <td>610</td>\n      <td>4425</td>\n      <td>1. Yellow card  , Mass confrontation</td>\n      <td>NaN</td>\n      <td>NaN</td>\n    </tr>\n    <tr>\n      <th>1</th>\n      <td>a72f7186d132775f234d3e2f7bc0ed5b</td>\n      <td>2012-08-05</td>\n      <td>2211607</td>\n      <td>77</td>\n      <td>Cards</td>\n      <td>383</td>\n      <td>33210</td>\n      <td>1. Yellow card  , Mass confrontation</td>\n      <td>NaN</td>\n      <td>NaN</td>\n    </tr>\n    <tr>\n      <th>2</th>\n      <td>b2d721eaed4692a5c59a92323689ef18</td>\n      <td>2012-08-05</td>\n      <td>2211607</td>\n      <td>3</td>\n      <td>Goals</td>\n      <td>383</td>\n      <td>36500</td>\n      <td>, Header, 1. Tournament Goal Assist: , Corner,...</td>\n      <td>NaN</td>\n      <td>56416.0</td>\n    </tr>\n    <tr>\n      <th>3</th>\n      <td>aef768899cedac0c9a650980219075a2</td>\n      <td>2012-08-05</td>\n      <td>2211607</td>\n      <td>53</td>\n      <td>Goals</td>\n      <td>383</td>\n      <td>36500</td>\n      <td>, Right-footed shot, 2. Tournament Goal Assist...</td>\n      <td>NaN</td>\n      <td>146258.0</td>\n    </tr>\n    <tr>\n      <th>4</th>\n      <td>5d6d9533023057b6619ecd145a038bbe</td>\n      <td>2012-08-05</td>\n      <td>2211607</td>\n      <td>74</td>\n      <td>Substitutions</td>\n      <td>383</td>\n      <td>36500</td>\n      <td>, Not reported</td>\n      <td>49499.0</td>\n      <td>NaN</td>\n    </tr>\n  </tbody>\n</table>\n</div>"
     },
     "execution_count": 42,
     "metadata": {},
     "output_type": "execute_result"
    }
   ],
   "source": [
    "gme = pd.read_csv('../csv/game_events.csv')\n",
    "gme.head()"
   ],
   "metadata": {
    "collapsed": false,
    "ExecuteTime": {
     "end_time": "2024-01-12T16:25:30.516662Z",
     "start_time": "2024-01-12T16:25:29.274002200Z"
    }
   },
   "id": "b432e7b5ae5bc4fa"
  },
  {
   "cell_type": "code",
   "execution_count": 43,
   "outputs": [
    {
     "data": {
      "text/plain": "Index(['game_event_id', 'date', 'game_id', 'minute', 'type', 'club_id',\n       'player_id', 'description', 'player_in_id', 'player_assist_id'],\n      dtype='object')"
     },
     "execution_count": 43,
     "metadata": {},
     "output_type": "execute_result"
    }
   ],
   "source": [
    "gme.columns\n"
   ],
   "metadata": {
    "collapsed": false,
    "ExecuteTime": {
     "end_time": "2024-01-12T16:25:30.536090100Z",
     "start_time": "2024-01-12T16:25:30.514389Z"
    }
   },
   "id": "257c497c798a6641"
  },
  {
   "cell_type": "code",
   "execution_count": 44,
   "outputs": [
    {
     "data": {
      "text/plain": "game_event_id        object\ndate                 object\ngame_id               int64\nminute                int64\ntype                 object\nclub_id               int64\nplayer_id             int64\ndescription          object\nplayer_in_id        float64\nplayer_assist_id    float64\ndtype: object"
     },
     "execution_count": 44,
     "metadata": {},
     "output_type": "execute_result"
    }
   ],
   "source": [
    "gme.dtypes"
   ],
   "metadata": {
    "collapsed": false,
    "ExecuteTime": {
     "end_time": "2024-01-12T16:25:30.612739900Z",
     "start_time": "2024-01-12T16:25:30.526245200Z"
    }
   },
   "id": "5eb5f07c5bcb5462"
  },
  {
   "cell_type": "code",
   "execution_count": 45,
   "outputs": [],
   "source": [
    "gme['date'] = pd.to_datetime(gme['date'])"
   ],
   "metadata": {
    "collapsed": false,
    "ExecuteTime": {
     "end_time": "2024-01-12T16:25:30.704203100Z",
     "start_time": "2024-01-12T16:25:30.540333100Z"
    }
   },
   "id": "b2deada0f017043a"
  },
  {
   "cell_type": "code",
   "execution_count": 46,
   "outputs": [
    {
     "data": {
      "text/plain": "game_event_id               object\ndate                datetime64[ns]\ngame_id                      int64\nminute                       int64\ntype                        object\nclub_id                      int64\nplayer_id                    int64\ndescription                 object\nplayer_in_id               float64\nplayer_assist_id           float64\ndtype: object"
     },
     "execution_count": 46,
     "metadata": {},
     "output_type": "execute_result"
    }
   ],
   "source": [
    "gme.dtypes"
   ],
   "metadata": {
    "collapsed": false,
    "ExecuteTime": {
     "end_time": "2024-01-12T16:25:30.732859300Z",
     "start_time": "2024-01-12T16:25:30.621033200Z"
    }
   },
   "id": "8fd1d82777ad31a5"
  },
  {
   "cell_type": "markdown",
   "source": [
    "###### The missing information concerns the description, the player who came on as a substitute (probably if there were no substitutions in that match) and the missing information about the assists.\n"
   ],
   "metadata": {
    "collapsed": false
   },
   "id": "555d0b183e374fdd"
  },
  {
   "cell_type": "code",
   "execution_count": 47,
   "outputs": [
    {
     "data": {
      "text/plain": "game_event_id            0\ndate                     0\ngame_id                  0\nminute                   0\ntype                     0\nclub_id                  0\nplayer_id                0\ndescription         336325\nplayer_in_id        245309\nplayer_assist_id    635701\ndtype: int64"
     },
     "execution_count": 47,
     "metadata": {},
     "output_type": "execute_result"
    }
   ],
   "source": [
    "gme.isna().sum()"
   ],
   "metadata": {
    "collapsed": false,
    "ExecuteTime": {
     "end_time": "2024-01-12T16:25:30.797756900Z",
     "start_time": "2024-01-12T16:25:30.630620100Z"
    }
   },
   "id": "9cf58e719c2e45fa"
  },
  {
   "cell_type": "code",
   "execution_count": 48,
   "outputs": [
    {
     "data": {
      "text/plain": "(666558, 10)"
     },
     "execution_count": 48,
     "metadata": {},
     "output_type": "execute_result"
    }
   ],
   "source": [
    "gme.shape"
   ],
   "metadata": {
    "collapsed": false,
    "ExecuteTime": {
     "end_time": "2024-01-12T16:25:30.829178100Z",
     "start_time": "2024-01-12T16:25:30.705195200Z"
    }
   },
   "id": "fd98b0ae339b26c1"
  },
  {
   "cell_type": "markdown",
   "source": [
    "## <font color='green'>player_valutations</font> table\n",
    "###### The information in this table contains information about the evaluations of a particular player during different seasons, such as the market value and the current team."
   ],
   "metadata": {
    "collapsed": false
   },
   "id": "adc1a4ab6d698d6e"
  },
  {
   "cell_type": "code",
   "execution_count": 49,
   "outputs": [],
   "source": [
    "plv = pd.read_csv('../csv/player_valuations.csv')\n"
   ],
   "metadata": {
    "collapsed": false,
    "ExecuteTime": {
     "end_time": "2024-01-12T16:25:31.154422800Z",
     "start_time": "2024-01-12T16:25:30.715593300Z"
    }
   },
   "id": "792aff5c244233d8"
  },
  {
   "cell_type": "code",
   "execution_count": 50,
   "outputs": [
    {
     "data": {
      "text/plain": "Index(['player_id', 'last_season', 'datetime', 'date', 'dateweek',\n       'market_value_in_eur', 'n', 'current_club_id',\n       'player_club_domestic_competition_id'],\n      dtype='object')"
     },
     "execution_count": 50,
     "metadata": {},
     "output_type": "execute_result"
    }
   ],
   "source": [
    "plv.columns\n"
   ],
   "metadata": {
    "collapsed": false,
    "ExecuteTime": {
     "end_time": "2024-01-12T16:25:31.166037700Z",
     "start_time": "2024-01-12T16:25:31.156929500Z"
    }
   },
   "id": "3dc066d90b0686da"
  },
  {
   "cell_type": "code",
   "execution_count": 51,
   "outputs": [
    {
     "data": {
      "text/plain": "player_id                               int64\nlast_season                             int64\ndatetime                               object\ndate                                   object\ndateweek                               object\nmarket_value_in_eur                     int64\nn                                       int64\ncurrent_club_id                         int64\nplayer_club_domestic_competition_id    object\ndtype: object"
     },
     "execution_count": 51,
     "metadata": {},
     "output_type": "execute_result"
    }
   ],
   "source": [
    "plv.dtypes"
   ],
   "metadata": {
    "collapsed": false,
    "ExecuteTime": {
     "end_time": "2024-01-12T16:25:31.180826400Z",
     "start_time": "2024-01-12T16:25:31.163870700Z"
    }
   },
   "id": "f0bd13879f4e559b"
  },
  {
   "cell_type": "code",
   "execution_count": 52,
   "outputs": [
    {
     "data": {
      "text/plain": "   player_id  last_season             datetime        date    dateweek  \\\n0       3132         2013  2003-12-09 00:00:00  2003-12-09  2003-12-08   \n1       6893         2012  2003-12-15 00:00:00  2003-12-15  2003-12-15   \n2         10         2015  2004-10-04 00:00:00  2004-10-04  2004-10-04   \n3         26         2017  2004-10-04 00:00:00  2004-10-04  2004-10-04   \n4         65         2015  2004-10-04 00:00:00  2004-10-04  2004-10-04   \n\n   market_value_in_eur  n  current_club_id player_club_domestic_competition_id  \n0               400000  1              126                                 TR1  \n1               900000  1              984                                 GB1  \n2              7000000  1              398                                 IT1  \n3              1500000  1               16                                  L1  \n4              8000000  1             1091                                 GR1  ",
      "text/html": "<div>\n<style scoped>\n    .dataframe tbody tr th:only-of-type {\n        vertical-align: middle;\n    }\n\n    .dataframe tbody tr th {\n        vertical-align: top;\n    }\n\n    .dataframe thead th {\n        text-align: right;\n    }\n</style>\n<table border=\"1\" class=\"dataframe\">\n  <thead>\n    <tr style=\"text-align: right;\">\n      <th></th>\n      <th>player_id</th>\n      <th>last_season</th>\n      <th>datetime</th>\n      <th>date</th>\n      <th>dateweek</th>\n      <th>market_value_in_eur</th>\n      <th>n</th>\n      <th>current_club_id</th>\n      <th>player_club_domestic_competition_id</th>\n    </tr>\n  </thead>\n  <tbody>\n    <tr>\n      <th>0</th>\n      <td>3132</td>\n      <td>2013</td>\n      <td>2003-12-09 00:00:00</td>\n      <td>2003-12-09</td>\n      <td>2003-12-08</td>\n      <td>400000</td>\n      <td>1</td>\n      <td>126</td>\n      <td>TR1</td>\n    </tr>\n    <tr>\n      <th>1</th>\n      <td>6893</td>\n      <td>2012</td>\n      <td>2003-12-15 00:00:00</td>\n      <td>2003-12-15</td>\n      <td>2003-12-15</td>\n      <td>900000</td>\n      <td>1</td>\n      <td>984</td>\n      <td>GB1</td>\n    </tr>\n    <tr>\n      <th>2</th>\n      <td>10</td>\n      <td>2015</td>\n      <td>2004-10-04 00:00:00</td>\n      <td>2004-10-04</td>\n      <td>2004-10-04</td>\n      <td>7000000</td>\n      <td>1</td>\n      <td>398</td>\n      <td>IT1</td>\n    </tr>\n    <tr>\n      <th>3</th>\n      <td>26</td>\n      <td>2017</td>\n      <td>2004-10-04 00:00:00</td>\n      <td>2004-10-04</td>\n      <td>2004-10-04</td>\n      <td>1500000</td>\n      <td>1</td>\n      <td>16</td>\n      <td>L1</td>\n    </tr>\n    <tr>\n      <th>4</th>\n      <td>65</td>\n      <td>2015</td>\n      <td>2004-10-04 00:00:00</td>\n      <td>2004-10-04</td>\n      <td>2004-10-04</td>\n      <td>8000000</td>\n      <td>1</td>\n      <td>1091</td>\n      <td>GR1</td>\n    </tr>\n  </tbody>\n</table>\n</div>"
     },
     "execution_count": 52,
     "metadata": {},
     "output_type": "execute_result"
    }
   ],
   "source": [
    "plv.head()"
   ],
   "metadata": {
    "collapsed": false,
    "ExecuteTime": {
     "end_time": "2024-01-12T16:25:31.264712900Z",
     "start_time": "2024-01-12T16:25:31.175223Z"
    }
   },
   "id": "ce5a5d0cce0ebaf"
  },
  {
   "cell_type": "code",
   "execution_count": 53,
   "outputs": [
    {
     "data": {
      "text/plain": "(440663, 9)"
     },
     "execution_count": 53,
     "metadata": {},
     "output_type": "execute_result"
    }
   ],
   "source": [
    "plv.shape"
   ],
   "metadata": {
    "collapsed": false,
    "ExecuteTime": {
     "end_time": "2024-01-12T16:25:31.283679500Z",
     "start_time": "2024-01-12T16:25:31.189967400Z"
    }
   },
   "id": "c73d35c900aeb610"
  },
  {
   "cell_type": "code",
   "execution_count": 54,
   "outputs": [],
   "source": [
    "plv['date'] = pd.to_datetime(plv['date'])\n",
    "plv['dateweek'] = pd.to_datetime(plv['dateweek'])\n",
    "plv['datetime'] = pd.to_datetime(plv['datetime'])"
   ],
   "metadata": {
    "collapsed": false,
    "ExecuteTime": {
     "end_time": "2024-01-12T16:25:31.512921200Z",
     "start_time": "2024-01-12T16:25:31.198101400Z"
    }
   },
   "id": "a90d2172fad8526"
  },
  {
   "cell_type": "code",
   "execution_count": 55,
   "outputs": [
    {
     "data": {
      "text/plain": "        player_id  last_season   datetime       date   dateweek  \\\n440658     950091         2023 2023-09-21 2023-09-21 2023-09-18   \n440659     968903         2023 2023-09-21 2023-09-21 2023-09-18   \n440660    1031590         2023 2023-09-21 2023-09-21 2023-09-18   \n440661    1166093         2023 2023-09-21 2023-09-21 2023-09-18   \n440662     405676         2018 2023-12-19 2023-12-19 2023-12-18   \n\n        market_value_in_eur  n  current_club_id  \\\n440658              1000000  1             1091   \n440659                50000  1              653   \n440660                50000  1             6418   \n440661                50000  1            30120   \n440662                50000  1            23826   \n\n       player_club_domestic_competition_id  \n440658                                 GR1  \n440659                                 GR1  \n440660                                 GR1  \n440661                                 GR1  \n440662                                  L1  ",
      "text/html": "<div>\n<style scoped>\n    .dataframe tbody tr th:only-of-type {\n        vertical-align: middle;\n    }\n\n    .dataframe tbody tr th {\n        vertical-align: top;\n    }\n\n    .dataframe thead th {\n        text-align: right;\n    }\n</style>\n<table border=\"1\" class=\"dataframe\">\n  <thead>\n    <tr style=\"text-align: right;\">\n      <th></th>\n      <th>player_id</th>\n      <th>last_season</th>\n      <th>datetime</th>\n      <th>date</th>\n      <th>dateweek</th>\n      <th>market_value_in_eur</th>\n      <th>n</th>\n      <th>current_club_id</th>\n      <th>player_club_domestic_competition_id</th>\n    </tr>\n  </thead>\n  <tbody>\n    <tr>\n      <th>440658</th>\n      <td>950091</td>\n      <td>2023</td>\n      <td>2023-09-21</td>\n      <td>2023-09-21</td>\n      <td>2023-09-18</td>\n      <td>1000000</td>\n      <td>1</td>\n      <td>1091</td>\n      <td>GR1</td>\n    </tr>\n    <tr>\n      <th>440659</th>\n      <td>968903</td>\n      <td>2023</td>\n      <td>2023-09-21</td>\n      <td>2023-09-21</td>\n      <td>2023-09-18</td>\n      <td>50000</td>\n      <td>1</td>\n      <td>653</td>\n      <td>GR1</td>\n    </tr>\n    <tr>\n      <th>440660</th>\n      <td>1031590</td>\n      <td>2023</td>\n      <td>2023-09-21</td>\n      <td>2023-09-21</td>\n      <td>2023-09-18</td>\n      <td>50000</td>\n      <td>1</td>\n      <td>6418</td>\n      <td>GR1</td>\n    </tr>\n    <tr>\n      <th>440661</th>\n      <td>1166093</td>\n      <td>2023</td>\n      <td>2023-09-21</td>\n      <td>2023-09-21</td>\n      <td>2023-09-18</td>\n      <td>50000</td>\n      <td>1</td>\n      <td>30120</td>\n      <td>GR1</td>\n    </tr>\n    <tr>\n      <th>440662</th>\n      <td>405676</td>\n      <td>2018</td>\n      <td>2023-12-19</td>\n      <td>2023-12-19</td>\n      <td>2023-12-18</td>\n      <td>50000</td>\n      <td>1</td>\n      <td>23826</td>\n      <td>L1</td>\n    </tr>\n  </tbody>\n</table>\n</div>"
     },
     "execution_count": 55,
     "metadata": {},
     "output_type": "execute_result"
    }
   ],
   "source": [
    "plv.tail()"
   ],
   "metadata": {
    "collapsed": false,
    "ExecuteTime": {
     "end_time": "2024-01-12T16:25:31.515032600Z",
     "start_time": "2024-01-12T16:25:31.371851100Z"
    }
   },
   "id": "f58142b41e730fda"
  },
  {
   "cell_type": "code",
   "execution_count": 56,
   "outputs": [
    {
     "data": {
      "text/plain": "12"
     },
     "execution_count": 56,
     "metadata": {},
     "output_type": "execute_result"
    }
   ],
   "source": [
    "plv['last_season'].nunique()"
   ],
   "metadata": {
    "collapsed": false,
    "ExecuteTime": {
     "end_time": "2024-01-12T16:25:31.542804600Z",
     "start_time": "2024-01-12T16:25:31.387200700Z"
    }
   },
   "id": "b87aa3ec024d684a"
  },
  {
   "cell_type": "code",
   "execution_count": 57,
   "outputs": [
    {
     "data": {
      "text/plain": "4817"
     },
     "execution_count": 57,
     "metadata": {},
     "output_type": "execute_result"
    }
   ],
   "source": [
    "plv['datetime'].nunique()"
   ],
   "metadata": {
    "collapsed": false,
    "ExecuteTime": {
     "end_time": "2024-01-12T16:25:31.542804600Z",
     "start_time": "2024-01-12T16:25:31.404084200Z"
    }
   },
   "id": "3fc85c862347e283"
  },
  {
   "cell_type": "code",
   "execution_count": 58,
   "outputs": [
    {
     "data": {
      "text/plain": "4817"
     },
     "execution_count": 58,
     "metadata": {},
     "output_type": "execute_result"
    }
   ],
   "source": [
    "plv['date'].nunique()"
   ],
   "metadata": {
    "collapsed": false,
    "ExecuteTime": {
     "end_time": "2024-01-12T16:25:31.544804500Z",
     "start_time": "2024-01-12T16:25:31.422763Z"
    }
   },
   "id": "4c1151e10a8c8fb1"
  },
  {
   "cell_type": "markdown",
   "source": [
    "###### <font color=\"red\">We have a match between the different values of datetime and the different values of dates, which is why it might make sense to delete one of these columns.</font>"
   ],
   "metadata": {
    "collapsed": false
   },
   "id": "565bd19215c203eb"
  },
  {
   "cell_type": "markdown",
   "source": [
    "## <font color='green'>game_lineaups</font> table\n",
    "###### The data on the roles of each player of a particular team in a particular match, including the name of the captain, are collected in this table."
   ],
   "metadata": {
    "collapsed": false
   },
   "id": "333e0b8eb34be771"
  },
  {
   "cell_type": "code",
   "execution_count": 59,
   "outputs": [],
   "source": [
    "gml = pd.read_csv('../csv/game_lineups.csv')\n",
    "\n"
   ],
   "metadata": {
    "collapsed": false,
    "ExecuteTime": {
     "end_time": "2024-01-12T16:25:31.823989500Z",
     "start_time": "2024-01-12T16:25:31.439301Z"
    }
   },
   "id": "9153dccef84d2b8b"
  },
  {
   "cell_type": "code",
   "execution_count": 60,
   "outputs": [
    {
     "data": {
      "text/plain": "                    game_lineups_id  game_id  club_id             type number  \\\n0  77b0f371923e0c8bdf050a1e269faaac  3606208      338  starting_lineup     89   \n1  cb6eeedb9f728570615d37b6fe7facaf  3606208      338  starting_lineup     10   \n2  8e63d5f47aac2bdb0e54f5481986e104  3606208      338  starting_lineup      5   \n3  ea4a96d8be410f2d646cf095c4faae7f  3606208      338  starting_lineup     94   \n4  e6abe553801b09bc623c3deb96acba17  3606208      338  starting_lineup     16   \n\n   player_id         player_name  team_captain            position  \n0     419061  Vladyslav Supryaga             0      Centre-Forward  \n1     368611   Mykola Shaparenko             0    Central Midfield  \n2     124182    Sergiy Sydorchuk             1  Defensive Midfield  \n3     181118     Tomasz Kedziora             0          Right-Back  \n4     404842   Vitaliy Mykolenko             0           Left-Back  ",
      "text/html": "<div>\n<style scoped>\n    .dataframe tbody tr th:only-of-type {\n        vertical-align: middle;\n    }\n\n    .dataframe tbody tr th {\n        vertical-align: top;\n    }\n\n    .dataframe thead th {\n        text-align: right;\n    }\n</style>\n<table border=\"1\" class=\"dataframe\">\n  <thead>\n    <tr style=\"text-align: right;\">\n      <th></th>\n      <th>game_lineups_id</th>\n      <th>game_id</th>\n      <th>club_id</th>\n      <th>type</th>\n      <th>number</th>\n      <th>player_id</th>\n      <th>player_name</th>\n      <th>team_captain</th>\n      <th>position</th>\n    </tr>\n  </thead>\n  <tbody>\n    <tr>\n      <th>0</th>\n      <td>77b0f371923e0c8bdf050a1e269faaac</td>\n      <td>3606208</td>\n      <td>338</td>\n      <td>starting_lineup</td>\n      <td>89</td>\n      <td>419061</td>\n      <td>Vladyslav Supryaga</td>\n      <td>0</td>\n      <td>Centre-Forward</td>\n    </tr>\n    <tr>\n      <th>1</th>\n      <td>cb6eeedb9f728570615d37b6fe7facaf</td>\n      <td>3606208</td>\n      <td>338</td>\n      <td>starting_lineup</td>\n      <td>10</td>\n      <td>368611</td>\n      <td>Mykola Shaparenko</td>\n      <td>0</td>\n      <td>Central Midfield</td>\n    </tr>\n    <tr>\n      <th>2</th>\n      <td>8e63d5f47aac2bdb0e54f5481986e104</td>\n      <td>3606208</td>\n      <td>338</td>\n      <td>starting_lineup</td>\n      <td>5</td>\n      <td>124182</td>\n      <td>Sergiy Sydorchuk</td>\n      <td>1</td>\n      <td>Defensive Midfield</td>\n    </tr>\n    <tr>\n      <th>3</th>\n      <td>ea4a96d8be410f2d646cf095c4faae7f</td>\n      <td>3606208</td>\n      <td>338</td>\n      <td>starting_lineup</td>\n      <td>94</td>\n      <td>181118</td>\n      <td>Tomasz Kedziora</td>\n      <td>0</td>\n      <td>Right-Back</td>\n    </tr>\n    <tr>\n      <th>4</th>\n      <td>e6abe553801b09bc623c3deb96acba17</td>\n      <td>3606208</td>\n      <td>338</td>\n      <td>starting_lineup</td>\n      <td>16</td>\n      <td>404842</td>\n      <td>Vitaliy Mykolenko</td>\n      <td>0</td>\n      <td>Left-Back</td>\n    </tr>\n  </tbody>\n</table>\n</div>"
     },
     "execution_count": 60,
     "metadata": {},
     "output_type": "execute_result"
    }
   ],
   "source": [
    "gml.head()\n"
   ],
   "metadata": {
    "collapsed": false,
    "ExecuteTime": {
     "end_time": "2024-01-12T16:25:31.856115300Z",
     "start_time": "2024-01-12T16:25:31.733827900Z"
    }
   },
   "id": "558cd170d9ae1218"
  },
  {
   "cell_type": "code",
   "execution_count": 61,
   "outputs": [
    {
     "data": {
      "text/plain": "Index(['game_lineups_id', 'game_id', 'club_id', 'type', 'number', 'player_id',\n       'player_name', 'team_captain', 'position'],\n      dtype='object')"
     },
     "execution_count": 61,
     "metadata": {},
     "output_type": "execute_result"
    }
   ],
   "source": [
    "gml.columns"
   ],
   "metadata": {
    "collapsed": false,
    "ExecuteTime": {
     "end_time": "2024-01-12T16:25:31.857560700Z",
     "start_time": "2024-01-12T16:25:31.747180100Z"
    }
   },
   "id": "d72fb3588158afdf"
  },
  {
   "cell_type": "code",
   "execution_count": 62,
   "outputs": [
    {
     "data": {
      "text/plain": "(119133, 9)"
     },
     "execution_count": 62,
     "metadata": {},
     "output_type": "execute_result"
    }
   ],
   "source": [
    "gml.shape"
   ],
   "metadata": {
    "collapsed": false,
    "ExecuteTime": {
     "end_time": "2024-01-12T16:25:31.863023Z",
     "start_time": "2024-01-12T16:25:31.757164400Z"
    }
   },
   "id": "ed0f4665d446b6d"
  },
  {
   "cell_type": "code",
   "execution_count": 63,
   "outputs": [
    {
     "data": {
      "text/plain": "game_lineups_id    object\ngame_id             int64\nclub_id             int64\ntype               object\nnumber             object\nplayer_id           int64\nplayer_name        object\nteam_captain        int64\nposition           object\ndtype: object"
     },
     "execution_count": 63,
     "metadata": {},
     "output_type": "execute_result"
    }
   ],
   "source": [
    "gml.dtypes"
   ],
   "metadata": {
    "collapsed": false,
    "ExecuteTime": {
     "end_time": "2024-01-12T16:25:31.864531100Z",
     "start_time": "2024-01-12T16:25:31.766861200Z"
    }
   },
   "id": "bcd063c7af2a1c1"
  },
  {
   "cell_type": "code",
   "execution_count": 64,
   "outputs": [
    {
     "data": {
      "text/plain": "game_lineups_id    0\ngame_id            0\nclub_id            0\ntype               0\nnumber             0\nplayer_id          0\nplayer_name        0\nteam_captain       0\nposition           0\ndtype: int64"
     },
     "execution_count": 64,
     "metadata": {},
     "output_type": "execute_result"
    }
   ],
   "source": [
    "gml.isna().sum()"
   ],
   "metadata": {
    "collapsed": false,
    "ExecuteTime": {
     "end_time": "2024-01-12T16:25:31.933469200Z",
     "start_time": "2024-01-12T16:25:31.778032200Z"
    }
   },
   "id": "7550dbd184ff7c07"
  },
  {
   "cell_type": "code",
   "execution_count": 64,
   "outputs": [],
   "source": [],
   "metadata": {
    "collapsed": false,
    "ExecuteTime": {
     "end_time": "2024-01-12T16:25:31.933469200Z",
     "start_time": "2024-01-12T16:25:31.809700600Z"
    }
   },
   "id": "20812c9040a1cd34"
  }
 ],
 "metadata": {
  "kernelspec": {
   "display_name": "Python 3",
   "language": "python",
   "name": "python3"
  },
  "language_info": {
   "codemirror_mode": {
    "name": "ipython",
    "version": 2
   },
   "file_extension": ".py",
   "mimetype": "text/x-python",
   "name": "python",
   "nbconvert_exporter": "python",
   "pygments_lexer": "ipython2",
   "version": "2.7.6"
  }
 },
 "nbformat": 4,
 "nbformat_minor": 5
}

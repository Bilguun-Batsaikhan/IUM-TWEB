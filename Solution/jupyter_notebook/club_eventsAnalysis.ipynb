{
 "cells": [
  {
   "cell_type": "code",
   "execution_count": 1,
   "id": "initial_id",
   "metadata": {
    "collapsed": true,
    "ExecuteTime": {
     "end_time": "2024-05-05T14:42:55.146517Z",
     "start_time": "2024-05-05T14:42:55.131632Z"
    }
   },
   "outputs": [],
   "source": [
    "import pandas as pd\n",
    "import numpy as np\n",
    "import matplotlib.pylab as plt\n",
    "import seaborn as sns\n",
    "plt.style.use('ggplot')"
   ]
  },
  {
   "cell_type": "code",
   "execution_count": 4,
   "outputs": [],
   "source": [
    "club_games = pd.read_csv('/Users/alexagliuzza/Desktop/IUM-TWEB/Solution/csv/club_games.csv')"
   ],
   "metadata": {
    "collapsed": false,
    "ExecuteTime": {
     "end_time": "2024-05-05T14:45:06.990118Z",
     "start_time": "2024-05-05T14:45:06.665300Z"
    }
   },
   "id": "ebdb71042703942"
  },
  {
   "cell_type": "markdown",
   "source": [
    "### Step 1: Data Understanding ###\n",
    "+ Dataframe shape\n",
    "+ head \n",
    "+ dtypes\n",
    "+ describe"
   ],
   "metadata": {
    "collapsed": false
   },
   "id": "93b080233eb0ed27"
  },
  {
   "cell_type": "code",
   "execution_count": 5,
   "outputs": [
    {
     "data": {
      "text/plain": "(130432, 11)"
     },
     "execution_count": 5,
     "metadata": {},
     "output_type": "execute_result"
    }
   ],
   "source": [
    "club_games.shap"
   ],
   "metadata": {
    "collapsed": false,
    "ExecuteTime": {
     "end_time": "2024-05-05T14:45:51.839383Z",
     "start_time": "2024-05-05T14:45:51.820638Z"
    }
   },
   "id": "fb4b34a7adaf6f86"
  },
  {
   "cell_type": "code",
   "execution_count": 8,
   "outputs": [
    {
     "data": {
      "text/plain": "    game_id  club_id  own_goals  own_position      own_manager_name  \\\n0   2221751      431          1           NaN         Lutz Göttling   \n1   2221755       83          3           NaN      Ralph Hasenhüttl   \n2   2222597     3725          2           2.0  Stanislav Cherchesov   \n3   2222627     2696          0          11.0        Andrey Kobelev   \n4   2222658     2410          0           2.0        Leonid Slutski   \n5   2222664      932          1           5.0          Slaven Bilic   \n6   2222683     2696          0          11.0        Andrey Kobelev   \n7   2222685     2698          0           7.0        Kurban Berdyev   \n8   2222709     3725          2           5.0  Stanislav Cherchesov   \n9   2222734     1083          2          11.0       Miodrag Bozovic   \n10  2222735     2700          2           1.0          Guus Hiddink   \n11  2222739    16704          4           8.0      Slavoljub Muslin   \n12  2222775     3725          1           8.0  Stanislav Cherchesov   \n13  2222786      932          2           9.0          Slaven Bilic   \n14  2222802     2700          3           3.0          Guus Hiddink   \n15  2222816    16704          2           8.0      Slavoljub Muslin   \n16  2222958     6414          2           3.0       Myron Markevych   \n17  2222988      660          4           1.0        Mircea Lucescu   \n18  2223000     6992          1          10.0      Roman Grygorchuk   \n19  2223015     6996          2          15.0     Oleksandr Sevidov   \n\n    opponent_id  opponent_goals  opponent_position opponent_manager_name  \\\n0            60               2                NaN     Christian Streich   \n1          4795               0                NaN            Tomas Oral   \n2           232               1                5.0            Unai Emery   \n3          4128               2               10.0         Rustem Khuzin   \n4           121               2               13.0          Dan Petrescu   \n5          2698               0                8.0        Kurban Berdyev   \n6         12438               1               16.0       Gadzhi Gadzhiev   \n7           232               1                5.0        Valeriy Karpin   \n8         11126               1               16.0  Fedor Shcherbachenko   \n9         16704               3               10.0      Slavoljub Muslin   \n10         2410               0                2.0        Leonid Slutski   \n11         2700               0                3.0          Guus Hiddink   \n12         2700               0                3.0          Guus Hiddink   \n13        11126               1               15.0      Dorinel Munteanu   \n14          121               3                7.0          Dan Petrescu   \n15        12438               0               13.0    Yuriy Kalitvintsev   \n16         6993               0               13.0         Mykola Pavlov   \n17         2740               1               14.0     Vadym Yevtushenko   \n18          660               5                1.0        Mircea Lucescu   \n19         2227               1               14.0          Oleg Luzhnyi   \n\n   hosting  is_win  \n0     Home       0  \n1     Home       1  \n2     Home       1  \n3     Home       0  \n4     Home       0  \n5     Home       1  \n6     Home       0  \n7     Home       0  \n8     Home       1  \n9     Home       0  \n10    Home       1  \n11    Home       1  \n12    Home       1  \n13    Home       1  \n14    Home       0  \n15    Home       1  \n16    Home       1  \n17    Home       1  \n18    Home       0  \n19    Home       1  ",
      "text/html": "<div>\n<style scoped>\n    .dataframe tbody tr th:only-of-type {\n        vertical-align: middle;\n    }\n\n    .dataframe tbody tr th {\n        vertical-align: top;\n    }\n\n    .dataframe thead th {\n        text-align: right;\n    }\n</style>\n<table border=\"1\" class=\"dataframe\">\n  <thead>\n    <tr style=\"text-align: right;\">\n      <th></th>\n      <th>game_id</th>\n      <th>club_id</th>\n      <th>own_goals</th>\n      <th>own_position</th>\n      <th>own_manager_name</th>\n      <th>opponent_id</th>\n      <th>opponent_goals</th>\n      <th>opponent_position</th>\n      <th>opponent_manager_name</th>\n      <th>hosting</th>\n      <th>is_win</th>\n    </tr>\n  </thead>\n  <tbody>\n    <tr>\n      <th>0</th>\n      <td>2221751</td>\n      <td>431</td>\n      <td>1</td>\n      <td>NaN</td>\n      <td>Lutz Göttling</td>\n      <td>60</td>\n      <td>2</td>\n      <td>NaN</td>\n      <td>Christian Streich</td>\n      <td>Home</td>\n      <td>0</td>\n    </tr>\n    <tr>\n      <th>1</th>\n      <td>2221755</td>\n      <td>83</td>\n      <td>3</td>\n      <td>NaN</td>\n      <td>Ralph Hasenhüttl</td>\n      <td>4795</td>\n      <td>0</td>\n      <td>NaN</td>\n      <td>Tomas Oral</td>\n      <td>Home</td>\n      <td>1</td>\n    </tr>\n    <tr>\n      <th>2</th>\n      <td>2222597</td>\n      <td>3725</td>\n      <td>2</td>\n      <td>2.0</td>\n      <td>Stanislav Cherchesov</td>\n      <td>232</td>\n      <td>1</td>\n      <td>5.0</td>\n      <td>Unai Emery</td>\n      <td>Home</td>\n      <td>1</td>\n    </tr>\n    <tr>\n      <th>3</th>\n      <td>2222627</td>\n      <td>2696</td>\n      <td>0</td>\n      <td>11.0</td>\n      <td>Andrey Kobelev</td>\n      <td>4128</td>\n      <td>2</td>\n      <td>10.0</td>\n      <td>Rustem Khuzin</td>\n      <td>Home</td>\n      <td>0</td>\n    </tr>\n    <tr>\n      <th>4</th>\n      <td>2222658</td>\n      <td>2410</td>\n      <td>0</td>\n      <td>2.0</td>\n      <td>Leonid Slutski</td>\n      <td>121</td>\n      <td>2</td>\n      <td>13.0</td>\n      <td>Dan Petrescu</td>\n      <td>Home</td>\n      <td>0</td>\n    </tr>\n    <tr>\n      <th>5</th>\n      <td>2222664</td>\n      <td>932</td>\n      <td>1</td>\n      <td>5.0</td>\n      <td>Slaven Bilic</td>\n      <td>2698</td>\n      <td>0</td>\n      <td>8.0</td>\n      <td>Kurban Berdyev</td>\n      <td>Home</td>\n      <td>1</td>\n    </tr>\n    <tr>\n      <th>6</th>\n      <td>2222683</td>\n      <td>2696</td>\n      <td>0</td>\n      <td>11.0</td>\n      <td>Andrey Kobelev</td>\n      <td>12438</td>\n      <td>1</td>\n      <td>16.0</td>\n      <td>Gadzhi Gadzhiev</td>\n      <td>Home</td>\n      <td>0</td>\n    </tr>\n    <tr>\n      <th>7</th>\n      <td>2222685</td>\n      <td>2698</td>\n      <td>0</td>\n      <td>7.0</td>\n      <td>Kurban Berdyev</td>\n      <td>232</td>\n      <td>1</td>\n      <td>5.0</td>\n      <td>Valeriy Karpin</td>\n      <td>Home</td>\n      <td>0</td>\n    </tr>\n    <tr>\n      <th>8</th>\n      <td>2222709</td>\n      <td>3725</td>\n      <td>2</td>\n      <td>5.0</td>\n      <td>Stanislav Cherchesov</td>\n      <td>11126</td>\n      <td>1</td>\n      <td>16.0</td>\n      <td>Fedor Shcherbachenko</td>\n      <td>Home</td>\n      <td>1</td>\n    </tr>\n    <tr>\n      <th>9</th>\n      <td>2222734</td>\n      <td>1083</td>\n      <td>2</td>\n      <td>11.0</td>\n      <td>Miodrag Bozovic</td>\n      <td>16704</td>\n      <td>3</td>\n      <td>10.0</td>\n      <td>Slavoljub Muslin</td>\n      <td>Home</td>\n      <td>0</td>\n    </tr>\n    <tr>\n      <th>10</th>\n      <td>2222735</td>\n      <td>2700</td>\n      <td>2</td>\n      <td>1.0</td>\n      <td>Guus Hiddink</td>\n      <td>2410</td>\n      <td>0</td>\n      <td>2.0</td>\n      <td>Leonid Slutski</td>\n      <td>Home</td>\n      <td>1</td>\n    </tr>\n    <tr>\n      <th>11</th>\n      <td>2222739</td>\n      <td>16704</td>\n      <td>4</td>\n      <td>8.0</td>\n      <td>Slavoljub Muslin</td>\n      <td>2700</td>\n      <td>0</td>\n      <td>3.0</td>\n      <td>Guus Hiddink</td>\n      <td>Home</td>\n      <td>1</td>\n    </tr>\n    <tr>\n      <th>12</th>\n      <td>2222775</td>\n      <td>3725</td>\n      <td>1</td>\n      <td>8.0</td>\n      <td>Stanislav Cherchesov</td>\n      <td>2700</td>\n      <td>0</td>\n      <td>3.0</td>\n      <td>Guus Hiddink</td>\n      <td>Home</td>\n      <td>1</td>\n    </tr>\n    <tr>\n      <th>13</th>\n      <td>2222786</td>\n      <td>932</td>\n      <td>2</td>\n      <td>9.0</td>\n      <td>Slaven Bilic</td>\n      <td>11126</td>\n      <td>1</td>\n      <td>15.0</td>\n      <td>Dorinel Munteanu</td>\n      <td>Home</td>\n      <td>1</td>\n    </tr>\n    <tr>\n      <th>14</th>\n      <td>2222802</td>\n      <td>2700</td>\n      <td>3</td>\n      <td>3.0</td>\n      <td>Guus Hiddink</td>\n      <td>121</td>\n      <td>3</td>\n      <td>7.0</td>\n      <td>Dan Petrescu</td>\n      <td>Home</td>\n      <td>0</td>\n    </tr>\n    <tr>\n      <th>15</th>\n      <td>2222816</td>\n      <td>16704</td>\n      <td>2</td>\n      <td>8.0</td>\n      <td>Slavoljub Muslin</td>\n      <td>12438</td>\n      <td>0</td>\n      <td>13.0</td>\n      <td>Yuriy Kalitvintsev</td>\n      <td>Home</td>\n      <td>1</td>\n    </tr>\n    <tr>\n      <th>16</th>\n      <td>2222958</td>\n      <td>6414</td>\n      <td>2</td>\n      <td>3.0</td>\n      <td>Myron Markevych</td>\n      <td>6993</td>\n      <td>0</td>\n      <td>13.0</td>\n      <td>Mykola Pavlov</td>\n      <td>Home</td>\n      <td>1</td>\n    </tr>\n    <tr>\n      <th>17</th>\n      <td>2222988</td>\n      <td>660</td>\n      <td>4</td>\n      <td>1.0</td>\n      <td>Mircea Lucescu</td>\n      <td>2740</td>\n      <td>1</td>\n      <td>14.0</td>\n      <td>Vadym Yevtushenko</td>\n      <td>Home</td>\n      <td>1</td>\n    </tr>\n    <tr>\n      <th>18</th>\n      <td>2223000</td>\n      <td>6992</td>\n      <td>1</td>\n      <td>10.0</td>\n      <td>Roman Grygorchuk</td>\n      <td>660</td>\n      <td>5</td>\n      <td>1.0</td>\n      <td>Mircea Lucescu</td>\n      <td>Home</td>\n      <td>0</td>\n    </tr>\n    <tr>\n      <th>19</th>\n      <td>2223015</td>\n      <td>6996</td>\n      <td>2</td>\n      <td>15.0</td>\n      <td>Oleksandr Sevidov</td>\n      <td>2227</td>\n      <td>1</td>\n      <td>14.0</td>\n      <td>Oleg Luzhnyi</td>\n      <td>Home</td>\n      <td>1</td>\n    </tr>\n  </tbody>\n</table>\n</div>"
     },
     "execution_count": 8,
     "metadata": {},
     "output_type": "execute_result"
    }
   ],
   "source": [
    "club_games.head(20)"
   ],
   "metadata": {
    "collapsed": false,
    "ExecuteTime": {
     "end_time": "2024-05-05T14:47:33.074845Z",
     "start_time": "2024-05-05T14:47:33.056049Z"
    }
   },
   "id": "405afdaf7bcc9a4a"
  },
  {
   "cell_type": "code",
   "execution_count": 9,
   "outputs": [
    {
     "data": {
      "text/plain": "Index(['game_id', 'club_id', 'own_goals', 'own_position', 'own_manager_name',\n       'opponent_id', 'opponent_goals', 'opponent_position',\n       'opponent_manager_name', 'hosting', 'is_win'],\n      dtype='object')"
     },
     "execution_count": 9,
     "metadata": {},
     "output_type": "execute_result"
    }
   ],
   "source": [
    "club_games.columns"
   ],
   "metadata": {
    "collapsed": false,
    "ExecuteTime": {
     "end_time": "2024-05-05T14:48:11.972679Z",
     "start_time": "2024-05-05T14:48:11.945111Z"
    }
   },
   "id": "40c092bc4592fcb9"
  },
  {
   "cell_type": "code",
   "execution_count": 10,
   "outputs": [
    {
     "data": {
      "text/plain": "game_id                    int64\nclub_id                    int64\nown_goals                  int64\nown_position             float64\nown_manager_name          object\nopponent_id                int64\nopponent_goals             int64\nopponent_position        float64\nopponent_manager_name     object\nhosting                   object\nis_win                     int64\ndtype: object"
     },
     "execution_count": 10,
     "metadata": {},
     "output_type": "execute_result"
    }
   ],
   "source": [
    "club_games.dtypes"
   ],
   "metadata": {
    "collapsed": false,
    "ExecuteTime": {
     "end_time": "2024-05-05T14:48:30.720069Z",
     "start_time": "2024-05-05T14:48:30.701803Z"
    }
   },
   "id": "c6245e4bdc1e7bcb"
  },
  {
   "cell_type": "markdown",
   "source": [
    "+ game_id: A unique identifier for game\n",
    "+ club_id: A unique identifier for each club.\n",
    "+ own_goals:\n",
    "+ own_position: \n",
    "+ own_manager_name: \n",
    "+ opponent_id: \n",
    "+ opponent_goals: \n",
    "+ opponent_position:\n",
    "+ opponent_manager_name: \n",
    "+ hosting: String values taht idicate\n",
    "+ is_win:"
   ],
   "metadata": {
    "collapsed": false
   },
   "id": "84a38e7f7efe35a8"
  },
  {
   "cell_type": "code",
   "execution_count": 11,
   "outputs": [
    {
     "data": {
      "text/plain": "array(['Home', 'Away'], dtype=object)"
     },
     "execution_count": 11,
     "metadata": {},
     "output_type": "execute_result"
    }
   ],
   "source": [
    "club_games['hosting'].unique()"
   ],
   "metadata": {
    "collapsed": false,
    "ExecuteTime": {
     "end_time": "2024-05-05T14:52:43.983611Z",
     "start_time": "2024-05-05T14:52:43.963974Z"
    }
   },
   "id": "f1b38817a3e0662f"
  },
  {
   "cell_type": "code",
   "execution_count": 12,
   "outputs": [
    {
     "data": {
      "text/plain": "count     130432\nunique         2\ntop         Home\nfreq       65216\nName: hosting, dtype: object"
     },
     "execution_count": 12,
     "metadata": {},
     "output_type": "execute_result"
    }
   ],
   "source": [
    "club_games['hosting'].describe()"
   ],
   "metadata": {
    "collapsed": false,
    "ExecuteTime": {
     "end_time": "2024-05-05T15:24:59.254303Z",
     "start_time": "2024-05-05T15:24:59.201275Z"
    }
   },
   "id": "b3e8c560426829bb"
  },
  {
   "cell_type": "code",
   "execution_count": null,
   "outputs": [],
   "source": [],
   "metadata": {
    "collapsed": false
   },
   "id": "8d9f86765f2f5791"
  },
  {
   "cell_type": "code",
   "execution_count": 13,
   "outputs": [
    {
     "data": {
      "text/plain": "count    130432.000000\nmean          0.392703\nstd           0.488353\nmin           0.000000\n25%           0.000000\n50%           0.000000\n75%           1.000000\nmax           1.000000\nName: is_win, dtype: float64"
     },
     "execution_count": 13,
     "metadata": {},
     "output_type": "execute_result"
    }
   ],
   "source": [
    "club_games['is_win'].describe()"
   ],
   "metadata": {
    "collapsed": false,
    "ExecuteTime": {
     "end_time": "2024-05-05T15:25:57.341974Z",
     "start_time": "2024-05-05T15:25:57.284975Z"
    }
   },
   "id": "722b5604aafcaac0"
  },
  {
   "cell_type": "code",
   "execution_count": null,
   "outputs": [],
   "source": [],
   "metadata": {
    "collapsed": false
   },
   "id": "33286cb72956dfe9"
  }
 ],
 "metadata": {
  "kernelspec": {
   "display_name": "Python 3",
   "language": "python",
   "name": "python3"
  },
  "language_info": {
   "codemirror_mode": {
    "name": "ipython",
    "version": 2
   },
   "file_extension": ".py",
   "mimetype": "text/x-python",
   "name": "python",
   "nbconvert_exporter": "python",
   "pygments_lexer": "ipython2",
   "version": "2.7.6"
  }
 },
 "nbformat": 4,
 "nbformat_minor": 5
}

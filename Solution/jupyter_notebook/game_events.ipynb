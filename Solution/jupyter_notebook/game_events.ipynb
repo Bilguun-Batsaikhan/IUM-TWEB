{
 "cells": [
  {
   "cell_type": "code",
   "execution_count": 119,
   "id": "initial_id",
   "metadata": {
    "collapsed": true,
    "ExecuteTime": {
     "end_time": "2024-05-12T15:15:32.036362Z",
     "start_time": "2024-05-12T15:15:31.603435Z"
    }
   },
   "outputs": [],
   "source": [
    "import pandas as pd\n",
    "import numpy as np\n",
    "import matplotlib.pylab as plt\n",
    "import seaborn as sns\n",
    "plt.style.use('ggplot')"
   ]
  },
  {
   "cell_type": "code",
   "execution_count": 120,
   "outputs": [],
   "source": [
    "game_events = pd.read_csv('../csv/game_events.csv')"
   ],
   "metadata": {
    "collapsed": false,
    "ExecuteTime": {
     "end_time": "2024-05-12T15:15:33.661916Z",
     "start_time": "2024-05-12T15:15:32.042468Z"
    }
   },
   "id": "207dfbca6462d383"
  },
  {
   "cell_type": "markdown",
   "source": [
    "### Step 1: Data Understanding ###\n",
    "+ Dataframe shape\n",
    "+ head \n",
    "+ dtypes\n",
    "+ describe"
   ],
   "metadata": {
    "collapsed": false
   },
   "id": "6ca9656850758932"
  },
  {
   "cell_type": "code",
   "execution_count": 121,
   "outputs": [
    {
     "data": {
      "text/plain": "(666558, 10)"
     },
     "execution_count": 121,
     "metadata": {},
     "output_type": "execute_result"
    }
   ],
   "source": [
    "game_events.shape"
   ],
   "metadata": {
    "collapsed": false,
    "ExecuteTime": {
     "end_time": "2024-05-12T15:15:33.681973Z",
     "start_time": "2024-05-12T15:15:33.667817Z"
    }
   },
   "id": "f93e3cebab530fa0"
  },
  {
   "cell_type": "code",
   "execution_count": 122,
   "outputs": [
    {
     "data": {
      "text/plain": "                       game_event_id        date  game_id  minute  \\\n0   2f41da30c471492e7d4a984951671677  2012-08-05  2211607      77   \n1   a72f7186d132775f234d3e2f7bc0ed5b  2012-08-05  2211607      77   \n2   b2d721eaed4692a5c59a92323689ef18  2012-08-05  2211607       3   \n3   aef768899cedac0c9a650980219075a2  2012-08-05  2211607      53   \n4   5d6d9533023057b6619ecd145a038bbe  2012-08-05  2211607      74   \n5   eef9c46dd75c3aa4c6a503225427446e  2012-08-05  2211607      11   \n6   5d5aef7dedcd5dc9d35dea9438ee35e0  2012-08-05  2211607      90   \n7   7717860e3b0376b86f445f4749fa2ce5  2012-08-05  2211607      44   \n8   02c708273f4fa2003873ef5908e4e3a6  2012-08-05  2211607      79   \n9   d1be2ce4bd5f0ca091c1b15a8569301c  2012-08-05  2211607      90   \n10  f0dfb41b779ad8efbd5acbd0aeedff11  2012-08-05  2211607      76   \n11  06d75371c9a8f3a8db9236ffdd01dcb1  2012-08-05  2211607      75   \n12  6ab3a43a37e3b264d03dcf997e38c167  2012-08-05  2211607      37   \n13  e67340caefbf1cbe1be393d3d61448e1  2012-08-05  2211607      84   \n14  ac69368250666fd5e9d142f53f1e539f  2012-08-05  2211607      65   \n15  874987f117bca74599041037e0c43075  2012-08-05  2211607      -1   \n16  c7273eb67de6f9ba953ae41e7bffb62a  2012-08-05  2211607      31   \n17  584282a7024a5a6da90cbb20317111ff  2012-08-05  2211607      76   \n18  ed9bded6064e693d92634a764cfd3e1a  2012-08-11  2218677      76   \n19  fead616bb25013d5cb15d9fe7f12880e  2012-08-11  2218677      89   \n\n             type  club_id  player_id  \\\n0           Cards      610       4425   \n1           Cards      383      33210   \n2           Goals      383      36500   \n3           Goals      383      36500   \n4   Substitutions      383      36500   \n5           Goals      383      38497   \n6           Cards      610      42710   \n7           Goals      610      42710   \n8           Cards      610      45509   \n9           Goals      383      49499   \n10  Substitutions      610      52246   \n11          Goals      610      52920   \n12          Cards      383      68864   \n13  Substitutions      383      72462   \n14  Substitutions      610      95755   \n15          Cards      610     124883   \n16          Cards      610     187245   \n17  Substitutions      610     187245   \n18          Cards      506       2865   \n19  Substitutions      506       2865   \n\n                                          description  player_in_id  \\\n0                1. Yellow card  , Mass confrontation           NaN   \n1                1. Yellow card  , Mass confrontation           NaN   \n2   , Header, 1. Tournament Goal Assist: , Corner,...           NaN   \n3   , Right-footed shot, 2. Tournament Goal Assist...           NaN   \n4                                      , Not reported       49499.0   \n5   , Right-footed shot, 1. Tournament Goal Assist...           NaN   \n6                                      1. Yellow card           NaN   \n7   , Header, 1. Tournament Goal Assist: , Corner,...           NaN   \n8                                      1. Yellow card           NaN   \n9   , Right-footed shot, 1. Tournament Goal Assist...           NaN   \n10                                     , Not reported      182932.0   \n11   , Own-goal Assist: , Cross, 1. Tournament Assist           NaN   \n12                                     1. Yellow card           NaN   \n13                                     , Not reported      167850.0   \n14                                     , Not reported       34784.0   \n15                                     1. Yellow card           NaN   \n16                                     1. Yellow card           NaN   \n17                                     , Not reported      111184.0   \n18                                     1. Yellow card           NaN   \n19                                     , Not reported       56703.0   \n\n    player_assist_id  \n0                NaN  \n1                NaN  \n2            56416.0  \n3           146258.0  \n4                NaN  \n5            33210.0  \n6                NaN  \n7             4425.0  \n8                NaN  \n9           167850.0  \n10               NaN  \n11          124891.0  \n12               NaN  \n13               NaN  \n14               NaN  \n15               NaN  \n16               NaN  \n17               NaN  \n18               NaN  \n19               NaN  ",
      "text/html": "<div>\n<style scoped>\n    .dataframe tbody tr th:only-of-type {\n        vertical-align: middle;\n    }\n\n    .dataframe tbody tr th {\n        vertical-align: top;\n    }\n\n    .dataframe thead th {\n        text-align: right;\n    }\n</style>\n<table border=\"1\" class=\"dataframe\">\n  <thead>\n    <tr style=\"text-align: right;\">\n      <th></th>\n      <th>game_event_id</th>\n      <th>date</th>\n      <th>game_id</th>\n      <th>minute</th>\n      <th>type</th>\n      <th>club_id</th>\n      <th>player_id</th>\n      <th>description</th>\n      <th>player_in_id</th>\n      <th>player_assist_id</th>\n    </tr>\n  </thead>\n  <tbody>\n    <tr>\n      <th>0</th>\n      <td>2f41da30c471492e7d4a984951671677</td>\n      <td>2012-08-05</td>\n      <td>2211607</td>\n      <td>77</td>\n      <td>Cards</td>\n      <td>610</td>\n      <td>4425</td>\n      <td>1. Yellow card  , Mass confrontation</td>\n      <td>NaN</td>\n      <td>NaN</td>\n    </tr>\n    <tr>\n      <th>1</th>\n      <td>a72f7186d132775f234d3e2f7bc0ed5b</td>\n      <td>2012-08-05</td>\n      <td>2211607</td>\n      <td>77</td>\n      <td>Cards</td>\n      <td>383</td>\n      <td>33210</td>\n      <td>1. Yellow card  , Mass confrontation</td>\n      <td>NaN</td>\n      <td>NaN</td>\n    </tr>\n    <tr>\n      <th>2</th>\n      <td>b2d721eaed4692a5c59a92323689ef18</td>\n      <td>2012-08-05</td>\n      <td>2211607</td>\n      <td>3</td>\n      <td>Goals</td>\n      <td>383</td>\n      <td>36500</td>\n      <td>, Header, 1. Tournament Goal Assist: , Corner,...</td>\n      <td>NaN</td>\n      <td>56416.0</td>\n    </tr>\n    <tr>\n      <th>3</th>\n      <td>aef768899cedac0c9a650980219075a2</td>\n      <td>2012-08-05</td>\n      <td>2211607</td>\n      <td>53</td>\n      <td>Goals</td>\n      <td>383</td>\n      <td>36500</td>\n      <td>, Right-footed shot, 2. Tournament Goal Assist...</td>\n      <td>NaN</td>\n      <td>146258.0</td>\n    </tr>\n    <tr>\n      <th>4</th>\n      <td>5d6d9533023057b6619ecd145a038bbe</td>\n      <td>2012-08-05</td>\n      <td>2211607</td>\n      <td>74</td>\n      <td>Substitutions</td>\n      <td>383</td>\n      <td>36500</td>\n      <td>, Not reported</td>\n      <td>49499.0</td>\n      <td>NaN</td>\n    </tr>\n    <tr>\n      <th>5</th>\n      <td>eef9c46dd75c3aa4c6a503225427446e</td>\n      <td>2012-08-05</td>\n      <td>2211607</td>\n      <td>11</td>\n      <td>Goals</td>\n      <td>383</td>\n      <td>38497</td>\n      <td>, Right-footed shot, 1. Tournament Goal Assist...</td>\n      <td>NaN</td>\n      <td>33210.0</td>\n    </tr>\n    <tr>\n      <th>6</th>\n      <td>5d5aef7dedcd5dc9d35dea9438ee35e0</td>\n      <td>2012-08-05</td>\n      <td>2211607</td>\n      <td>90</td>\n      <td>Cards</td>\n      <td>610</td>\n      <td>42710</td>\n      <td>1. Yellow card</td>\n      <td>NaN</td>\n      <td>NaN</td>\n    </tr>\n    <tr>\n      <th>7</th>\n      <td>7717860e3b0376b86f445f4749fa2ce5</td>\n      <td>2012-08-05</td>\n      <td>2211607</td>\n      <td>44</td>\n      <td>Goals</td>\n      <td>610</td>\n      <td>42710</td>\n      <td>, Header, 1. Tournament Goal Assist: , Corner,...</td>\n      <td>NaN</td>\n      <td>4425.0</td>\n    </tr>\n    <tr>\n      <th>8</th>\n      <td>02c708273f4fa2003873ef5908e4e3a6</td>\n      <td>2012-08-05</td>\n      <td>2211607</td>\n      <td>79</td>\n      <td>Cards</td>\n      <td>610</td>\n      <td>45509</td>\n      <td>1. Yellow card</td>\n      <td>NaN</td>\n      <td>NaN</td>\n    </tr>\n    <tr>\n      <th>9</th>\n      <td>d1be2ce4bd5f0ca091c1b15a8569301c</td>\n      <td>2012-08-05</td>\n      <td>2211607</td>\n      <td>90</td>\n      <td>Goals</td>\n      <td>383</td>\n      <td>49499</td>\n      <td>, Right-footed shot, 1. Tournament Goal Assist...</td>\n      <td>NaN</td>\n      <td>167850.0</td>\n    </tr>\n    <tr>\n      <th>10</th>\n      <td>f0dfb41b779ad8efbd5acbd0aeedff11</td>\n      <td>2012-08-05</td>\n      <td>2211607</td>\n      <td>76</td>\n      <td>Substitutions</td>\n      <td>610</td>\n      <td>52246</td>\n      <td>, Not reported</td>\n      <td>182932.0</td>\n      <td>NaN</td>\n    </tr>\n    <tr>\n      <th>11</th>\n      <td>06d75371c9a8f3a8db9236ffdd01dcb1</td>\n      <td>2012-08-05</td>\n      <td>2211607</td>\n      <td>75</td>\n      <td>Goals</td>\n      <td>610</td>\n      <td>52920</td>\n      <td>, Own-goal Assist: , Cross, 1. Tournament Assist</td>\n      <td>NaN</td>\n      <td>124891.0</td>\n    </tr>\n    <tr>\n      <th>12</th>\n      <td>6ab3a43a37e3b264d03dcf997e38c167</td>\n      <td>2012-08-05</td>\n      <td>2211607</td>\n      <td>37</td>\n      <td>Cards</td>\n      <td>383</td>\n      <td>68864</td>\n      <td>1. Yellow card</td>\n      <td>NaN</td>\n      <td>NaN</td>\n    </tr>\n    <tr>\n      <th>13</th>\n      <td>e67340caefbf1cbe1be393d3d61448e1</td>\n      <td>2012-08-05</td>\n      <td>2211607</td>\n      <td>84</td>\n      <td>Substitutions</td>\n      <td>383</td>\n      <td>72462</td>\n      <td>, Not reported</td>\n      <td>167850.0</td>\n      <td>NaN</td>\n    </tr>\n    <tr>\n      <th>14</th>\n      <td>ac69368250666fd5e9d142f53f1e539f</td>\n      <td>2012-08-05</td>\n      <td>2211607</td>\n      <td>65</td>\n      <td>Substitutions</td>\n      <td>610</td>\n      <td>95755</td>\n      <td>, Not reported</td>\n      <td>34784.0</td>\n      <td>NaN</td>\n    </tr>\n    <tr>\n      <th>15</th>\n      <td>874987f117bca74599041037e0c43075</td>\n      <td>2012-08-05</td>\n      <td>2211607</td>\n      <td>-1</td>\n      <td>Cards</td>\n      <td>610</td>\n      <td>124883</td>\n      <td>1. Yellow card</td>\n      <td>NaN</td>\n      <td>NaN</td>\n    </tr>\n    <tr>\n      <th>16</th>\n      <td>c7273eb67de6f9ba953ae41e7bffb62a</td>\n      <td>2012-08-05</td>\n      <td>2211607</td>\n      <td>31</td>\n      <td>Cards</td>\n      <td>610</td>\n      <td>187245</td>\n      <td>1. Yellow card</td>\n      <td>NaN</td>\n      <td>NaN</td>\n    </tr>\n    <tr>\n      <th>17</th>\n      <td>584282a7024a5a6da90cbb20317111ff</td>\n      <td>2012-08-05</td>\n      <td>2211607</td>\n      <td>76</td>\n      <td>Substitutions</td>\n      <td>610</td>\n      <td>187245</td>\n      <td>, Not reported</td>\n      <td>111184.0</td>\n      <td>NaN</td>\n    </tr>\n    <tr>\n      <th>18</th>\n      <td>ed9bded6064e693d92634a764cfd3e1a</td>\n      <td>2012-08-11</td>\n      <td>2218677</td>\n      <td>76</td>\n      <td>Cards</td>\n      <td>506</td>\n      <td>2865</td>\n      <td>1. Yellow card</td>\n      <td>NaN</td>\n      <td>NaN</td>\n    </tr>\n    <tr>\n      <th>19</th>\n      <td>fead616bb25013d5cb15d9fe7f12880e</td>\n      <td>2012-08-11</td>\n      <td>2218677</td>\n      <td>89</td>\n      <td>Substitutions</td>\n      <td>506</td>\n      <td>2865</td>\n      <td>, Not reported</td>\n      <td>56703.0</td>\n      <td>NaN</td>\n    </tr>\n  </tbody>\n</table>\n</div>"
     },
     "execution_count": 122,
     "metadata": {},
     "output_type": "execute_result"
    }
   ],
   "source": [
    "game_events.head(20)"
   ],
   "metadata": {
    "collapsed": false,
    "ExecuteTime": {
     "end_time": "2024-05-12T15:15:33.747204Z",
     "start_time": "2024-05-12T15:15:33.674593Z"
    }
   },
   "id": "1220f9794d756071"
  },
  {
   "cell_type": "code",
   "execution_count": 123,
   "outputs": [
    {
     "data": {
      "text/plain": "Index(['game_event_id', 'date', 'game_id', 'minute', 'type', 'club_id',\n       'player_id', 'description', 'player_in_id', 'player_assist_id'],\n      dtype='object')"
     },
     "execution_count": 123,
     "metadata": {},
     "output_type": "execute_result"
    }
   ],
   "source": [
    "game_events.columns"
   ],
   "metadata": {
    "collapsed": false,
    "ExecuteTime": {
     "end_time": "2024-05-12T15:15:33.772918Z",
     "start_time": "2024-05-12T15:15:33.706762Z"
    }
   },
   "id": "1eba7cdfe1d9b051"
  },
  {
   "cell_type": "code",
   "execution_count": 124,
   "outputs": [
    {
     "data": {
      "text/plain": "game_event_id        object\ndate                 object\ngame_id               int64\nminute                int64\ntype                 object\nclub_id               int64\nplayer_id             int64\ndescription          object\nplayer_in_id        float64\nplayer_assist_id    float64\ndtype: object"
     },
     "execution_count": 124,
     "metadata": {},
     "output_type": "execute_result"
    }
   ],
   "source": [
    "game_events.dtypes #id in float?"
   ],
   "metadata": {
    "collapsed": false,
    "ExecuteTime": {
     "end_time": "2024-05-12T15:15:33.776034Z",
     "start_time": "2024-05-12T15:15:33.718008Z"
    }
   },
   "id": "70f8c63401813e1b"
  },
  {
   "cell_type": "code",
   "execution_count": 125,
   "outputs": [
    {
     "data": {
      "text/plain": "<bound method Series.unique of type\nSubstitutions    421908\nGoals            180901\nCards             62473\nShootout           1276\nName: count, dtype: int64>"
     },
     "execution_count": 125,
     "metadata": {},
     "output_type": "execute_result"
    }
   ],
   "source": [
    "game_events['type'].value_counts().unique"
   ],
   "metadata": {
    "collapsed": false,
    "ExecuteTime": {
     "end_time": "2024-05-12T15:15:33.899209Z",
     "start_time": "2024-05-12T15:15:33.805789Z"
    }
   },
   "id": "453dd366467182f0"
  },
  {
   "cell_type": "markdown",
   "source": [
    "<h1>description of each column:<h1>\n",
    "\n",
    "+ game_event_id: Identifier for each game event.\n",
    "+ date: Date of the game event, stored in the format YYYY-MM-DD.\n",
    "+ game_id: Identifier for each game.\n",
    "+ minute: Minute of the game when the event occurred.\n",
    "+ type: Type of game event, such as goals, substitutions, or cards.\n",
    "+ club_id: Identifier for the club associated with the event.\n",
    "+ player_id: Identifier for the player involved in the event.\n",
    "+ description: Description of the event, often containing details like the type of shot or the assist.\n",
    "+ player_in_id: Identifier for the player who entered the game (applicable for substitution events).\n",
    "+ player_assist_id (float64): Identifier for the player who assisted in the event (applicable for goals)."
   ],
   "metadata": {
    "collapsed": false
   },
   "id": "8b82cce6e904dab2"
  },
  {
   "cell_type": "markdown",
   "source": [
    "### Step 2: Data Preperation ###\n",
    "+ Dropping irrelevant columns and rows (NaN)\n",
    "+ Identifying duplicated columns\n",
    "+ Feature Creation"
   ],
   "metadata": {
    "collapsed": false
   },
   "id": "b103cf55074aabc2"
  },
  {
   "cell_type": "code",
   "execution_count": 126,
   "outputs": [
    {
     "data": {
      "text/plain": "game_event_id            0\ndate                     0\ngame_id                  0\nminute                   0\ntype                     0\nclub_id                  0\nplayer_id                0\ndescription         336325\nplayer_in_id        245309\nplayer_assist_id    635701\ndtype: int64"
     },
     "execution_count": 126,
     "metadata": {},
     "output_type": "execute_result"
    }
   ],
   "source": [
    "game_events.isna().sum() "
   ],
   "metadata": {
    "collapsed": false,
    "ExecuteTime": {
     "end_time": "2024-05-12T15:15:34.027387Z",
     "start_time": "2024-05-12T15:15:33.817261Z"
    }
   },
   "id": "fc81c215007bb5b2"
  },
  {
   "cell_type": "code",
   "execution_count": 127,
   "outputs": [
    {
     "data": {
      "text/plain": "                           game_event_id        date  game_id  minute  \\\n26555   e4d512124476ec9412a40b6a5992ee2f  2012-08-22  2235964      81   \n26557   ac641aeaaf272da2f7e39427fe5e03c8  2012-08-22  2235964      66   \n28472   9e4d13d444aa9315f9fb56ef075faf23  2013-02-17  2240152      81   \n28473   4bc0bb78995d14303a22390aeec4e601  2013-02-17  2240152      62   \n28475   b08ec33cbbcb9be738f1525e8d09d4e1  2013-02-17  2240152      65   \n...                                  ...         ...      ...     ...   \n666389  1ab6aea19aa0cdefb8a6499315fd4c04  2023-11-22  4227848      73   \n666390  d5c714db0319a34d9355e8a1d8962dca  2023-11-22  4227848      80   \n666391  cda3609ab4adfb44d5ed93af837ce4a1  2023-11-22  4227848      66   \n666392  67a2fab497298fc8307e05e2a4df7098  2023-11-22  4227848      66   \n666393  70adf7511df011c1bed63eab5c466037  2023-11-22  4227848      66   \n\n                 type  club_id  player_id description  player_in_id  \\\n26555   Substitutions    10468     121235         NaN      121027.0   \n26557   Substitutions    10468     201284         NaN      113699.0   \n28472   Substitutions     1465      17352         NaN      125700.0   \n28473   Substitutions     1301      24880         NaN      237663.0   \n28475   Substitutions     1465      42303         NaN      150535.0   \n...               ...      ...        ...         ...           ...   \n666389  Substitutions    29397     348953         NaN      582949.0   \n666390  Substitutions    29397     451684         NaN      945223.0   \n666391  Substitutions     3060     491648         NaN      118302.0   \n666392  Substitutions     3060     502893         NaN      495489.0   \n666393  Substitutions    29397     710314         NaN      206573.0   \n\n        player_assist_id  \n26555                NaN  \n26557                NaN  \n28472                NaN  \n28473                NaN  \n28475                NaN  \n...                  ...  \n666389               NaN  \n666390               NaN  \n666391               NaN  \n666392               NaN  \n666393               NaN  \n\n[336325 rows x 10 columns]",
      "text/html": "<div>\n<style scoped>\n    .dataframe tbody tr th:only-of-type {\n        vertical-align: middle;\n    }\n\n    .dataframe tbody tr th {\n        vertical-align: top;\n    }\n\n    .dataframe thead th {\n        text-align: right;\n    }\n</style>\n<table border=\"1\" class=\"dataframe\">\n  <thead>\n    <tr style=\"text-align: right;\">\n      <th></th>\n      <th>game_event_id</th>\n      <th>date</th>\n      <th>game_id</th>\n      <th>minute</th>\n      <th>type</th>\n      <th>club_id</th>\n      <th>player_id</th>\n      <th>description</th>\n      <th>player_in_id</th>\n      <th>player_assist_id</th>\n    </tr>\n  </thead>\n  <tbody>\n    <tr>\n      <th>26555</th>\n      <td>e4d512124476ec9412a40b6a5992ee2f</td>\n      <td>2012-08-22</td>\n      <td>2235964</td>\n      <td>81</td>\n      <td>Substitutions</td>\n      <td>10468</td>\n      <td>121235</td>\n      <td>NaN</td>\n      <td>121027.0</td>\n      <td>NaN</td>\n    </tr>\n    <tr>\n      <th>26557</th>\n      <td>ac641aeaaf272da2f7e39427fe5e03c8</td>\n      <td>2012-08-22</td>\n      <td>2235964</td>\n      <td>66</td>\n      <td>Substitutions</td>\n      <td>10468</td>\n      <td>201284</td>\n      <td>NaN</td>\n      <td>113699.0</td>\n      <td>NaN</td>\n    </tr>\n    <tr>\n      <th>28472</th>\n      <td>9e4d13d444aa9315f9fb56ef075faf23</td>\n      <td>2013-02-17</td>\n      <td>2240152</td>\n      <td>81</td>\n      <td>Substitutions</td>\n      <td>1465</td>\n      <td>17352</td>\n      <td>NaN</td>\n      <td>125700.0</td>\n      <td>NaN</td>\n    </tr>\n    <tr>\n      <th>28473</th>\n      <td>4bc0bb78995d14303a22390aeec4e601</td>\n      <td>2013-02-17</td>\n      <td>2240152</td>\n      <td>62</td>\n      <td>Substitutions</td>\n      <td>1301</td>\n      <td>24880</td>\n      <td>NaN</td>\n      <td>237663.0</td>\n      <td>NaN</td>\n    </tr>\n    <tr>\n      <th>28475</th>\n      <td>b08ec33cbbcb9be738f1525e8d09d4e1</td>\n      <td>2013-02-17</td>\n      <td>2240152</td>\n      <td>65</td>\n      <td>Substitutions</td>\n      <td>1465</td>\n      <td>42303</td>\n      <td>NaN</td>\n      <td>150535.0</td>\n      <td>NaN</td>\n    </tr>\n    <tr>\n      <th>...</th>\n      <td>...</td>\n      <td>...</td>\n      <td>...</td>\n      <td>...</td>\n      <td>...</td>\n      <td>...</td>\n      <td>...</td>\n      <td>...</td>\n      <td>...</td>\n      <td>...</td>\n    </tr>\n    <tr>\n      <th>666389</th>\n      <td>1ab6aea19aa0cdefb8a6499315fd4c04</td>\n      <td>2023-11-22</td>\n      <td>4227848</td>\n      <td>73</td>\n      <td>Substitutions</td>\n      <td>29397</td>\n      <td>348953</td>\n      <td>NaN</td>\n      <td>582949.0</td>\n      <td>NaN</td>\n    </tr>\n    <tr>\n      <th>666390</th>\n      <td>d5c714db0319a34d9355e8a1d8962dca</td>\n      <td>2023-11-22</td>\n      <td>4227848</td>\n      <td>80</td>\n      <td>Substitutions</td>\n      <td>29397</td>\n      <td>451684</td>\n      <td>NaN</td>\n      <td>945223.0</td>\n      <td>NaN</td>\n    </tr>\n    <tr>\n      <th>666391</th>\n      <td>cda3609ab4adfb44d5ed93af837ce4a1</td>\n      <td>2023-11-22</td>\n      <td>4227848</td>\n      <td>66</td>\n      <td>Substitutions</td>\n      <td>3060</td>\n      <td>491648</td>\n      <td>NaN</td>\n      <td>118302.0</td>\n      <td>NaN</td>\n    </tr>\n    <tr>\n      <th>666392</th>\n      <td>67a2fab497298fc8307e05e2a4df7098</td>\n      <td>2023-11-22</td>\n      <td>4227848</td>\n      <td>66</td>\n      <td>Substitutions</td>\n      <td>3060</td>\n      <td>502893</td>\n      <td>NaN</td>\n      <td>495489.0</td>\n      <td>NaN</td>\n    </tr>\n    <tr>\n      <th>666393</th>\n      <td>70adf7511df011c1bed63eab5c466037</td>\n      <td>2023-11-22</td>\n      <td>4227848</td>\n      <td>66</td>\n      <td>Substitutions</td>\n      <td>29397</td>\n      <td>710314</td>\n      <td>NaN</td>\n      <td>206573.0</td>\n      <td>NaN</td>\n    </tr>\n  </tbody>\n</table>\n<p>336325 rows × 10 columns</p>\n</div>"
     },
     "execution_count": 127,
     "metadata": {},
     "output_type": "execute_result"
    }
   ],
   "source": [
    "game_events.loc[game_events['description'].isnull()]"
   ],
   "metadata": {
    "collapsed": false,
    "ExecuteTime": {
     "end_time": "2024-05-12T15:15:34.111676Z",
     "start_time": "2024-05-12T15:15:33.994751Z"
    }
   },
   "id": "1373ba840f536eea"
  },
  {
   "cell_type": "code",
   "execution_count": 128,
   "outputs": [
    {
     "data": {
      "text/plain": "array(['Substitutions'], dtype=object)"
     },
     "execution_count": 128,
     "metadata": {},
     "output_type": "execute_result"
    }
   ],
   "source": [
    "Nan_Des = game_events.loc[game_events['description'].isnull()]\n",
    "Nan_Des['type'].unique() #so when description is null, it is a substitutions game events. See other nan values"
   ],
   "metadata": {
    "collapsed": false,
    "ExecuteTime": {
     "end_time": "2024-05-12T15:15:34.234943Z",
     "start_time": "2024-05-12T15:15:34.077225Z"
    }
   },
   "id": "d3506cf24f4a04e3"
  },
  {
   "cell_type": "code",
   "execution_count": 129,
   "outputs": [
    {
     "data": {
      "text/plain": "(336325, 10)"
     },
     "execution_count": 129,
     "metadata": {},
     "output_type": "execute_result"
    }
   ],
   "source": [
    "Nan_Des.shape"
   ],
   "metadata": {
    "collapsed": false,
    "ExecuteTime": {
     "end_time": "2024-05-12T15:15:34.237550Z",
     "start_time": "2024-05-12T15:15:34.182550Z"
    }
   },
   "id": "abe168383707b75d"
  },
  {
   "cell_type": "code",
   "execution_count": 130,
   "outputs": [
    {
     "data": {
      "text/plain": "array(['Cards', 'Goals', 'Substitutions', 'Shootout'], dtype=object)"
     },
     "execution_count": 130,
     "metadata": {},
     "output_type": "execute_result"
    }
   ],
   "source": [
    "Nan_player_in = game_events.loc[game_events['player_in_id'].isnull()]\n",
    "Nan_player_in['type'].unique() #in Cards, Goals or shootout events is normal that there is no value"
   ],
   "metadata": {
    "collapsed": false,
    "ExecuteTime": {
     "end_time": "2024-05-12T15:15:34.390743Z",
     "start_time": "2024-05-12T15:15:34.190514Z"
    }
   },
   "id": "9fa87be0671346a9"
  },
  {
   "cell_type": "code",
   "execution_count": 131,
   "outputs": [
    {
     "data": {
      "text/plain": "(245309, 10)"
     },
     "execution_count": 131,
     "metadata": {},
     "output_type": "execute_result"
    }
   ],
   "source": [
    "Nan_player_in.shape"
   ],
   "metadata": {
    "collapsed": false,
    "ExecuteTime": {
     "end_time": "2024-05-12T15:15:34.405983Z",
     "start_time": "2024-05-12T15:15:34.257531Z"
    }
   },
   "id": "3d33599f8e6d8782"
  },
  {
   "cell_type": "code",
   "execution_count": 132,
   "outputs": [
    {
     "data": {
      "text/plain": "game_event_id            0\ndate                     0\ngame_id                  0\nminute                   0\ntype                     0\nclub_id                  0\nplayer_id                0\ndescription            582\nplayer_in_id        245309\nplayer_assist_id    214452\ndtype: int64"
     },
     "execution_count": 132,
     "metadata": {},
     "output_type": "execute_result"
    }
   ],
   "source": [
    "Nan_player_in.isna().sum() #In some substitutions no one enters, they look like incoherent data"
   ],
   "metadata": {
    "collapsed": false,
    "ExecuteTime": {
     "end_time": "2024-05-12T15:15:34.423647Z",
     "start_time": "2024-05-12T15:15:34.266181Z"
    }
   },
   "id": "8b217b8ed4ffdb52"
  },
  {
   "cell_type": "code",
   "execution_count": 133,
   "outputs": [
    {
     "data": {
      "text/plain": "                           game_event_id        date  game_id  minute  \\\n147900  dd26ed0a91fed1b8ba57292204d944d3  2014-12-06  2460748      88   \n150622  21056a64f814010db0b8ced0f1bace9d  2014-07-27  2469421      74   \n150734  7afe7889754fc042f6bf1be23b22555c  2014-08-15  2469452      90   \n151046  86200f245b963544c208a117ca824951  2014-12-01  2469539      90   \n152298  e7d5d169f9fb1c186cee0782b455b830  2014-12-22  2470056      85   \n...                                  ...         ...      ...     ...   \n659890  8bd30a176cfa51e23d9fb2903fff2b95  2023-09-23  4173734      80   \n659936  a9f802fe7c7009f9c75bd6ca4c44f132  2023-09-23  4173741      77   \n659940  61b3ee32fff6d7fa21a1dabc00fcaeea  2023-09-23  4173741      77   \n661023  7bd5ae5d5ec726cb017111f6422b3c9f  2023-10-04  4181478      82   \n662693  aa0e7661d22aec7741e52ffc48e3053d  2023-10-12  4192080      65   \n\n                 type  club_id  player_id description  player_in_id  \\\n147900  Substitutions       79      86202         NaN           NaN   \n150622  Substitutions     5817     264299         NaN           NaN   \n150734  Substitutions      865      22499         NaN           NaN   \n151046  Substitutions     1465     152176         NaN           NaN   \n152298  Substitutions      126      59931         NaN           NaN   \n...               ...      ...        ...         ...           ...   \n659890  Substitutions    13677     841413         NaN           NaN   \n659936  Substitutions    10597     196141         NaN           NaN   \n659940  Substitutions    10597     401680         NaN           NaN   \n661023  Substitutions    20979     542556         NaN           NaN   \n662693  Substitutions   112755     253887         NaN           NaN   \n\n        player_assist_id  \n147900               NaN  \n150622               NaN  \n150734               NaN  \n151046               NaN  \n152298               NaN  \n...                  ...  \n659890               NaN  \n659936               NaN  \n659940               NaN  \n661023               NaN  \n662693               NaN  \n\n[582 rows x 10 columns]",
      "text/html": "<div>\n<style scoped>\n    .dataframe tbody tr th:only-of-type {\n        vertical-align: middle;\n    }\n\n    .dataframe tbody tr th {\n        vertical-align: top;\n    }\n\n    .dataframe thead th {\n        text-align: right;\n    }\n</style>\n<table border=\"1\" class=\"dataframe\">\n  <thead>\n    <tr style=\"text-align: right;\">\n      <th></th>\n      <th>game_event_id</th>\n      <th>date</th>\n      <th>game_id</th>\n      <th>minute</th>\n      <th>type</th>\n      <th>club_id</th>\n      <th>player_id</th>\n      <th>description</th>\n      <th>player_in_id</th>\n      <th>player_assist_id</th>\n    </tr>\n  </thead>\n  <tbody>\n    <tr>\n      <th>147900</th>\n      <td>dd26ed0a91fed1b8ba57292204d944d3</td>\n      <td>2014-12-06</td>\n      <td>2460748</td>\n      <td>88</td>\n      <td>Substitutions</td>\n      <td>79</td>\n      <td>86202</td>\n      <td>NaN</td>\n      <td>NaN</td>\n      <td>NaN</td>\n    </tr>\n    <tr>\n      <th>150622</th>\n      <td>21056a64f814010db0b8ced0f1bace9d</td>\n      <td>2014-07-27</td>\n      <td>2469421</td>\n      <td>74</td>\n      <td>Substitutions</td>\n      <td>5817</td>\n      <td>264299</td>\n      <td>NaN</td>\n      <td>NaN</td>\n      <td>NaN</td>\n    </tr>\n    <tr>\n      <th>150734</th>\n      <td>7afe7889754fc042f6bf1be23b22555c</td>\n      <td>2014-08-15</td>\n      <td>2469452</td>\n      <td>90</td>\n      <td>Substitutions</td>\n      <td>865</td>\n      <td>22499</td>\n      <td>NaN</td>\n      <td>NaN</td>\n      <td>NaN</td>\n    </tr>\n    <tr>\n      <th>151046</th>\n      <td>86200f245b963544c208a117ca824951</td>\n      <td>2014-12-01</td>\n      <td>2469539</td>\n      <td>90</td>\n      <td>Substitutions</td>\n      <td>1465</td>\n      <td>152176</td>\n      <td>NaN</td>\n      <td>NaN</td>\n      <td>NaN</td>\n    </tr>\n    <tr>\n      <th>152298</th>\n      <td>e7d5d169f9fb1c186cee0782b455b830</td>\n      <td>2014-12-22</td>\n      <td>2470056</td>\n      <td>85</td>\n      <td>Substitutions</td>\n      <td>126</td>\n      <td>59931</td>\n      <td>NaN</td>\n      <td>NaN</td>\n      <td>NaN</td>\n    </tr>\n    <tr>\n      <th>...</th>\n      <td>...</td>\n      <td>...</td>\n      <td>...</td>\n      <td>...</td>\n      <td>...</td>\n      <td>...</td>\n      <td>...</td>\n      <td>...</td>\n      <td>...</td>\n      <td>...</td>\n    </tr>\n    <tr>\n      <th>659890</th>\n      <td>8bd30a176cfa51e23d9fb2903fff2b95</td>\n      <td>2023-09-23</td>\n      <td>4173734</td>\n      <td>80</td>\n      <td>Substitutions</td>\n      <td>13677</td>\n      <td>841413</td>\n      <td>NaN</td>\n      <td>NaN</td>\n      <td>NaN</td>\n    </tr>\n    <tr>\n      <th>659936</th>\n      <td>a9f802fe7c7009f9c75bd6ca4c44f132</td>\n      <td>2023-09-23</td>\n      <td>4173741</td>\n      <td>77</td>\n      <td>Substitutions</td>\n      <td>10597</td>\n      <td>196141</td>\n      <td>NaN</td>\n      <td>NaN</td>\n      <td>NaN</td>\n    </tr>\n    <tr>\n      <th>659940</th>\n      <td>61b3ee32fff6d7fa21a1dabc00fcaeea</td>\n      <td>2023-09-23</td>\n      <td>4173741</td>\n      <td>77</td>\n      <td>Substitutions</td>\n      <td>10597</td>\n      <td>401680</td>\n      <td>NaN</td>\n      <td>NaN</td>\n      <td>NaN</td>\n    </tr>\n    <tr>\n      <th>661023</th>\n      <td>7bd5ae5d5ec726cb017111f6422b3c9f</td>\n      <td>2023-10-04</td>\n      <td>4181478</td>\n      <td>82</td>\n      <td>Substitutions</td>\n      <td>20979</td>\n      <td>542556</td>\n      <td>NaN</td>\n      <td>NaN</td>\n      <td>NaN</td>\n    </tr>\n    <tr>\n      <th>662693</th>\n      <td>aa0e7661d22aec7741e52ffc48e3053d</td>\n      <td>2023-10-12</td>\n      <td>4192080</td>\n      <td>65</td>\n      <td>Substitutions</td>\n      <td>112755</td>\n      <td>253887</td>\n      <td>NaN</td>\n      <td>NaN</td>\n      <td>NaN</td>\n    </tr>\n  </tbody>\n</table>\n<p>582 rows × 10 columns</p>\n</div>"
     },
     "execution_count": 133,
     "metadata": {},
     "output_type": "execute_result"
    }
   ],
   "source": [
    "Nan_player_in.loc[Nan_player_in['description'].isnull()]"
   ],
   "metadata": {
    "collapsed": false,
    "ExecuteTime": {
     "end_time": "2024-05-12T15:15:34.459149Z",
     "start_time": "2024-05-12T15:15:34.343116Z"
    }
   },
   "id": "c324bc3859a1d792"
  },
  {
   "cell_type": "code",
   "execution_count": 134,
   "outputs": [
    {
     "data": {
      "text/plain": "582"
     },
     "execution_count": 134,
     "metadata": {},
     "output_type": "execute_result"
    }
   ],
   "source": [
    "Nan_player_in[(Nan_player_in['type'] == 'Substitutions') & Nan_player_in[['description', 'player_in_id', 'player_assist_id']].isna().all(axis=1)].shape[0]\n",
    "#Count rows where all three columns are null \n",
    "#So we can remove there row, because are equal to the missing description number"
   ],
   "metadata": {
    "collapsed": false,
    "ExecuteTime": {
     "end_time": "2024-05-12T15:15:34.504803Z",
     "start_time": "2024-05-12T15:15:34.406866Z"
    }
   },
   "id": "fda5c3d47f927d24"
  },
  {
   "cell_type": "code",
   "execution_count": 135,
   "outputs": [],
   "source": [
    "# Createone boolean mask for identifing all the rows of type = substitution with NaN value for each of 3 columns \n",
    "mask = (game_events['type'] == 'Substitutions') & game_events['description'].isnull() & game_events['player_in_id'].isnull() & game_events['player_assist_id'].isnull()\n",
    "# remove the rows that satisfied the mask \n",
    "game_events = game_events.drop(game_events[mask].index)"
   ],
   "metadata": {
    "collapsed": false,
    "ExecuteTime": {
     "end_time": "2024-05-12T15:15:34.753474Z",
     "start_time": "2024-05-12T15:15:34.537589Z"
    }
   },
   "id": "7f395107c14033a1"
  },
  {
   "cell_type": "code",
   "execution_count": 136,
   "outputs": [
    {
     "data": {
      "text/plain": "(665976, 10)"
     },
     "execution_count": 136,
     "metadata": {},
     "output_type": "execute_result"
    }
   ],
   "source": [
    "game_events.shape"
   ],
   "metadata": {
    "collapsed": false,
    "ExecuteTime": {
     "end_time": "2024-05-12T15:15:34.756313Z",
     "start_time": "2024-05-12T15:15:34.669132Z"
    }
   },
   "id": "cdd9fb6a87d69cd9"
  },
  {
   "cell_type": "code",
   "execution_count": 137,
   "outputs": [
    {
     "data": {
      "text/plain": "                           game_event_id        date  game_id  minute  \\\n613529  18795095e32877ef0693f6a1b8e2d878  2023-01-11  3998376      -1   \n613530  42d801700d04daea6e068fa367be9e4f  2023-01-11  3998376      -1   \n613531  eec64a5579045e749fc7c37df5d0ace9  2023-01-11  3998376      -1   \n613533  4667fa4fd349c761c988a53eab4f2726  2023-01-11  3998376      -1   \n613536  fb88bbeacc69cb5582b05a870f7c1138  2023-01-11  3998376      -1   \n...                                  ...         ...      ...     ...   \n666515  cfe2e2c9bdebe69d5f2a115b089d29eb  2023-11-14  4227998      -1   \n666518  192d0d70152ad2caa9012b8cfbe5f144  2023-11-14  4227998      -1   \n666521  04dbf4c98add438c33a61f93ee2e3f5e  2023-11-14  4227998      -1   \n666524  922f918f7d1df11e6581bce2936d0edf  2023-11-14  4227998      -1   \n666527  7714f6467d47c57cdb6ebdf6b93dbfe4  2023-11-14  4227998      -1   \n\n            type  club_id  player_id description  player_in_id  \\\n613529  Shootout      418      18922    , Scored           NaN   \n613530  Shootout      418      27992    , Scored           NaN   \n613531  Shootout      418      31909    , Scored           NaN   \n613533  Shootout     1049      48280    , Scored           NaN   \n613536  Shootout     1049     221322     , Saved           NaN   \n...          ...      ...        ...         ...           ...   \n666515  Shootout     1072     485994    , Scored           NaN   \n666518  Shootout     1072     552615     , Saved           NaN   \n666521  Shootout    34888     583997     , Saved           NaN   \n666524  Shootout     1072     701062    , Scored           NaN   \n666527  Shootout     1072    1032875    , Scored           NaN   \n\n        player_assist_id  \n613529               NaN  \n613530               NaN  \n613531               NaN  \n613533               NaN  \n613536               NaN  \n...                  ...  \n666515               NaN  \n666518               NaN  \n666521               NaN  \n666524               NaN  \n666527               NaN  \n\n[1276 rows x 10 columns]",
      "text/html": "<div>\n<style scoped>\n    .dataframe tbody tr th:only-of-type {\n        vertical-align: middle;\n    }\n\n    .dataframe tbody tr th {\n        vertical-align: top;\n    }\n\n    .dataframe thead th {\n        text-align: right;\n    }\n</style>\n<table border=\"1\" class=\"dataframe\">\n  <thead>\n    <tr style=\"text-align: right;\">\n      <th></th>\n      <th>game_event_id</th>\n      <th>date</th>\n      <th>game_id</th>\n      <th>minute</th>\n      <th>type</th>\n      <th>club_id</th>\n      <th>player_id</th>\n      <th>description</th>\n      <th>player_in_id</th>\n      <th>player_assist_id</th>\n    </tr>\n  </thead>\n  <tbody>\n    <tr>\n      <th>613529</th>\n      <td>18795095e32877ef0693f6a1b8e2d878</td>\n      <td>2023-01-11</td>\n      <td>3998376</td>\n      <td>-1</td>\n      <td>Shootout</td>\n      <td>418</td>\n      <td>18922</td>\n      <td>, Scored</td>\n      <td>NaN</td>\n      <td>NaN</td>\n    </tr>\n    <tr>\n      <th>613530</th>\n      <td>42d801700d04daea6e068fa367be9e4f</td>\n      <td>2023-01-11</td>\n      <td>3998376</td>\n      <td>-1</td>\n      <td>Shootout</td>\n      <td>418</td>\n      <td>27992</td>\n      <td>, Scored</td>\n      <td>NaN</td>\n      <td>NaN</td>\n    </tr>\n    <tr>\n      <th>613531</th>\n      <td>eec64a5579045e749fc7c37df5d0ace9</td>\n      <td>2023-01-11</td>\n      <td>3998376</td>\n      <td>-1</td>\n      <td>Shootout</td>\n      <td>418</td>\n      <td>31909</td>\n      <td>, Scored</td>\n      <td>NaN</td>\n      <td>NaN</td>\n    </tr>\n    <tr>\n      <th>613533</th>\n      <td>4667fa4fd349c761c988a53eab4f2726</td>\n      <td>2023-01-11</td>\n      <td>3998376</td>\n      <td>-1</td>\n      <td>Shootout</td>\n      <td>1049</td>\n      <td>48280</td>\n      <td>, Scored</td>\n      <td>NaN</td>\n      <td>NaN</td>\n    </tr>\n    <tr>\n      <th>613536</th>\n      <td>fb88bbeacc69cb5582b05a870f7c1138</td>\n      <td>2023-01-11</td>\n      <td>3998376</td>\n      <td>-1</td>\n      <td>Shootout</td>\n      <td>1049</td>\n      <td>221322</td>\n      <td>, Saved</td>\n      <td>NaN</td>\n      <td>NaN</td>\n    </tr>\n    <tr>\n      <th>...</th>\n      <td>...</td>\n      <td>...</td>\n      <td>...</td>\n      <td>...</td>\n      <td>...</td>\n      <td>...</td>\n      <td>...</td>\n      <td>...</td>\n      <td>...</td>\n      <td>...</td>\n    </tr>\n    <tr>\n      <th>666515</th>\n      <td>cfe2e2c9bdebe69d5f2a115b089d29eb</td>\n      <td>2023-11-14</td>\n      <td>4227998</td>\n      <td>-1</td>\n      <td>Shootout</td>\n      <td>1072</td>\n      <td>485994</td>\n      <td>, Scored</td>\n      <td>NaN</td>\n      <td>NaN</td>\n    </tr>\n    <tr>\n      <th>666518</th>\n      <td>192d0d70152ad2caa9012b8cfbe5f144</td>\n      <td>2023-11-14</td>\n      <td>4227998</td>\n      <td>-1</td>\n      <td>Shootout</td>\n      <td>1072</td>\n      <td>552615</td>\n      <td>, Saved</td>\n      <td>NaN</td>\n      <td>NaN</td>\n    </tr>\n    <tr>\n      <th>666521</th>\n      <td>04dbf4c98add438c33a61f93ee2e3f5e</td>\n      <td>2023-11-14</td>\n      <td>4227998</td>\n      <td>-1</td>\n      <td>Shootout</td>\n      <td>34888</td>\n      <td>583997</td>\n      <td>, Saved</td>\n      <td>NaN</td>\n      <td>NaN</td>\n    </tr>\n    <tr>\n      <th>666524</th>\n      <td>922f918f7d1df11e6581bce2936d0edf</td>\n      <td>2023-11-14</td>\n      <td>4227998</td>\n      <td>-1</td>\n      <td>Shootout</td>\n      <td>1072</td>\n      <td>701062</td>\n      <td>, Scored</td>\n      <td>NaN</td>\n      <td>NaN</td>\n    </tr>\n    <tr>\n      <th>666527</th>\n      <td>7714f6467d47c57cdb6ebdf6b93dbfe4</td>\n      <td>2023-11-14</td>\n      <td>4227998</td>\n      <td>-1</td>\n      <td>Shootout</td>\n      <td>1072</td>\n      <td>1032875</td>\n      <td>, Scored</td>\n      <td>NaN</td>\n      <td>NaN</td>\n    </tr>\n  </tbody>\n</table>\n<p>1276 rows × 10 columns</p>\n</div>"
     },
     "execution_count": 137,
     "metadata": {},
     "output_type": "execute_result"
    }
   ],
   "source": [
    "game_events.query(\"type == 'Shootout'\") #Maybe this is Penalty kick"
   ],
   "metadata": {
    "collapsed": false,
    "ExecuteTime": {
     "end_time": "2024-05-12T15:15:34.837439Z",
     "start_time": "2024-05-12T15:15:34.674648Z"
    }
   },
   "id": "9f5d4a064f879e96"
  },
  {
   "cell_type": "code",
   "execution_count": 138,
   "outputs": [
    {
     "data": {
      "text/plain": "array(['Cards', 'Substitutions', 'Goals', 'Shootout'], dtype=object)"
     },
     "execution_count": 138,
     "metadata": {},
     "output_type": "execute_result"
    }
   ],
   "source": [
    "Nan_player_assist = game_events.loc[game_events['player_assist_id'].isnull()]\n",
    "Nan_player_assist['type'].unique() "
   ],
   "metadata": {
    "collapsed": false,
    "ExecuteTime": {
     "end_time": "2024-05-12T15:15:34.970033Z",
     "start_time": "2024-05-12T15:15:34.738817Z"
    }
   },
   "id": "f7af26ae6a2fa5ee"
  },
  {
   "cell_type": "code",
   "execution_count": 139,
   "outputs": [
    {
     "data": {
      "text/plain": "game_event_id            0\ndate                     0\ngame_id                  0\nminute                   0\ntype                     0\nclub_id                  0\nplayer_id                0\ndescription         335743\nplayer_in_id        213870\nplayer_assist_id    635119\ndtype: int64"
     },
     "execution_count": 139,
     "metadata": {},
     "output_type": "execute_result"
    }
   ],
   "source": [
    "Nan_player_assist.isna().sum()"
   ],
   "metadata": {
    "collapsed": false,
    "ExecuteTime": {
     "end_time": "2024-05-12T15:15:35.181444Z",
     "start_time": "2024-05-12T15:15:34.935723Z"
    }
   },
   "id": "f1305aafb535ba56"
  },
  {
   "cell_type": "code",
   "execution_count": 140,
   "outputs": [
    {
     "data": {
      "text/plain": "0"
     },
     "execution_count": 140,
     "metadata": {},
     "output_type": "execute_result"
    }
   ],
   "source": [
    "game_events.duplicated().sum()"
   ],
   "metadata": {
    "collapsed": false,
    "ExecuteTime": {
     "end_time": "2024-05-12T15:15:35.874687Z",
     "start_time": "2024-05-12T15:15:35.117045Z"
    }
   },
   "id": "c952deeb50094765"
  },
  {
   "cell_type": "markdown",
   "source": [
    "<h1>CREATE NEW DATASET<h1>"
   ],
   "metadata": {
    "collapsed": false
   },
   "id": "57dc4591a55a6d9"
  },
  {
   "cell_type": "code",
   "execution_count": 141,
   "outputs": [],
   "source": [
    "substitution = game_events.loc[game_events['type'] == 'Substitutions']"
   ],
   "metadata": {
    "collapsed": false,
    "ExecuteTime": {
     "end_time": "2024-05-12T15:15:36.038123Z",
     "start_time": "2024-05-12T15:15:35.942828Z"
    }
   },
   "id": "b7db5ca89e85bc18"
  },
  {
   "cell_type": "code",
   "execution_count": 142,
   "outputs": [
    {
     "data": {
      "text/plain": "(421326, 10)"
     },
     "execution_count": 142,
     "metadata": {},
     "output_type": "execute_result"
    }
   ],
   "source": [
    "substitution.shape"
   ],
   "metadata": {
    "collapsed": false,
    "ExecuteTime": {
     "end_time": "2024-05-12T15:15:36.041311Z",
     "start_time": "2024-05-12T15:15:36.016940Z"
    }
   },
   "id": "eea565b5ec5ced0b"
  },
  {
   "cell_type": "code",
   "execution_count": 143,
   "outputs": [
    {
     "data": {
      "text/plain": "game_event_id            0\ndate                     0\ngame_id                  0\nminute                   0\ntype                     0\nclub_id                  0\nplayer_id                0\ndescription         335743\nplayer_in_id            77\nplayer_assist_id    421326\ndtype: int64"
     },
     "execution_count": 143,
     "metadata": {},
     "output_type": "execute_result"
    }
   ],
   "source": [
    "substitution.isna().sum()"
   ],
   "metadata": {
    "collapsed": false,
    "ExecuteTime": {
     "end_time": "2024-05-12T15:15:36.121861Z",
     "start_time": "2024-05-12T15:15:36.027347Z"
    }
   },
   "id": "9683838d3d489a52"
  },
  {
   "cell_type": "code",
   "execution_count": 144,
   "outputs": [],
   "source": [
    "substitution = substitution[['game_event_id', 'date', 'game_id', 'minute', 'type', 'club_id',\n",
    "       'player_id', 'description', 'player_in_id']]\n"
   ],
   "metadata": {
    "collapsed": false,
    "ExecuteTime": {
     "end_time": "2024-05-12T15:15:36.182345Z",
     "start_time": "2024-05-12T15:15:36.122491Z"
    }
   },
   "id": "c19e822336e4613"
  },
  {
   "cell_type": "code",
   "execution_count": 145,
   "outputs": [
    {
     "data": {
      "text/plain": "                           game_event_id        date  game_id  minute  \\\n4       5d6d9533023057b6619ecd145a038bbe  2012-08-05  2211607      74   \n10      f0dfb41b779ad8efbd5acbd0aeedff11  2012-08-05  2211607      76   \n13      e67340caefbf1cbe1be393d3d61448e1  2012-08-05  2211607      84   \n14      ac69368250666fd5e9d142f53f1e539f  2012-08-05  2211607      65   \n17      584282a7024a5a6da90cbb20317111ff  2012-08-05  2211607      76   \n...                                  ...         ...      ...     ...   \n666550  7b89ec7d57033c6783b80a4ab248b947  2023-11-15  4228114      59   \n666551  503bec0b5797d85f747a4aaf1c23b308  2023-11-15  4228114      63   \n666553  7f5a6b61ca858e0cd63a58c554b56bb7  2023-11-15  4228114      82   \n666555  d638b1e72f531c413487d413258a3130  2023-11-15  4228114      68   \n666556  0ff7774aa1383af83e40c435325463af  2023-11-15  4228114      68   \n\n                 type  club_id  player_id     description  player_in_id  \n4       Substitutions      383      36500  , Not reported       49499.0  \n10      Substitutions      610      52246  , Not reported      182932.0  \n13      Substitutions      383      72462  , Not reported      167850.0  \n14      Substitutions      610      95755  , Not reported       34784.0  \n17      Substitutions      610     187245  , Not reported      111184.0  \n...               ...      ...        ...             ...           ...  \n666550  Substitutions    46889     814815      , Tactical      550816.0  \n666551  Substitutions    46889     839808        , Injury     1203716.0  \n666553  Substitutions      358     874064      , Tactical      965607.0  \n666555  Substitutions    46889     922572      , Tactical     1200869.0  \n666556  Substitutions    46889    1200864      , Tactical      921121.0  \n\n[85583 rows x 9 columns]",
      "text/html": "<div>\n<style scoped>\n    .dataframe tbody tr th:only-of-type {\n        vertical-align: middle;\n    }\n\n    .dataframe tbody tr th {\n        vertical-align: top;\n    }\n\n    .dataframe thead th {\n        text-align: right;\n    }\n</style>\n<table border=\"1\" class=\"dataframe\">\n  <thead>\n    <tr style=\"text-align: right;\">\n      <th></th>\n      <th>game_event_id</th>\n      <th>date</th>\n      <th>game_id</th>\n      <th>minute</th>\n      <th>type</th>\n      <th>club_id</th>\n      <th>player_id</th>\n      <th>description</th>\n      <th>player_in_id</th>\n    </tr>\n  </thead>\n  <tbody>\n    <tr>\n      <th>4</th>\n      <td>5d6d9533023057b6619ecd145a038bbe</td>\n      <td>2012-08-05</td>\n      <td>2211607</td>\n      <td>74</td>\n      <td>Substitutions</td>\n      <td>383</td>\n      <td>36500</td>\n      <td>, Not reported</td>\n      <td>49499.0</td>\n    </tr>\n    <tr>\n      <th>10</th>\n      <td>f0dfb41b779ad8efbd5acbd0aeedff11</td>\n      <td>2012-08-05</td>\n      <td>2211607</td>\n      <td>76</td>\n      <td>Substitutions</td>\n      <td>610</td>\n      <td>52246</td>\n      <td>, Not reported</td>\n      <td>182932.0</td>\n    </tr>\n    <tr>\n      <th>13</th>\n      <td>e67340caefbf1cbe1be393d3d61448e1</td>\n      <td>2012-08-05</td>\n      <td>2211607</td>\n      <td>84</td>\n      <td>Substitutions</td>\n      <td>383</td>\n      <td>72462</td>\n      <td>, Not reported</td>\n      <td>167850.0</td>\n    </tr>\n    <tr>\n      <th>14</th>\n      <td>ac69368250666fd5e9d142f53f1e539f</td>\n      <td>2012-08-05</td>\n      <td>2211607</td>\n      <td>65</td>\n      <td>Substitutions</td>\n      <td>610</td>\n      <td>95755</td>\n      <td>, Not reported</td>\n      <td>34784.0</td>\n    </tr>\n    <tr>\n      <th>17</th>\n      <td>584282a7024a5a6da90cbb20317111ff</td>\n      <td>2012-08-05</td>\n      <td>2211607</td>\n      <td>76</td>\n      <td>Substitutions</td>\n      <td>610</td>\n      <td>187245</td>\n      <td>, Not reported</td>\n      <td>111184.0</td>\n    </tr>\n    <tr>\n      <th>...</th>\n      <td>...</td>\n      <td>...</td>\n      <td>...</td>\n      <td>...</td>\n      <td>...</td>\n      <td>...</td>\n      <td>...</td>\n      <td>...</td>\n      <td>...</td>\n    </tr>\n    <tr>\n      <th>666550</th>\n      <td>7b89ec7d57033c6783b80a4ab248b947</td>\n      <td>2023-11-15</td>\n      <td>4228114</td>\n      <td>59</td>\n      <td>Substitutions</td>\n      <td>46889</td>\n      <td>814815</td>\n      <td>, Tactical</td>\n      <td>550816.0</td>\n    </tr>\n    <tr>\n      <th>666551</th>\n      <td>503bec0b5797d85f747a4aaf1c23b308</td>\n      <td>2023-11-15</td>\n      <td>4228114</td>\n      <td>63</td>\n      <td>Substitutions</td>\n      <td>46889</td>\n      <td>839808</td>\n      <td>, Injury</td>\n      <td>1203716.0</td>\n    </tr>\n    <tr>\n      <th>666553</th>\n      <td>7f5a6b61ca858e0cd63a58c554b56bb7</td>\n      <td>2023-11-15</td>\n      <td>4228114</td>\n      <td>82</td>\n      <td>Substitutions</td>\n      <td>358</td>\n      <td>874064</td>\n      <td>, Tactical</td>\n      <td>965607.0</td>\n    </tr>\n    <tr>\n      <th>666555</th>\n      <td>d638b1e72f531c413487d413258a3130</td>\n      <td>2023-11-15</td>\n      <td>4228114</td>\n      <td>68</td>\n      <td>Substitutions</td>\n      <td>46889</td>\n      <td>922572</td>\n      <td>, Tactical</td>\n      <td>1200869.0</td>\n    </tr>\n    <tr>\n      <th>666556</th>\n      <td>0ff7774aa1383af83e40c435325463af</td>\n      <td>2023-11-15</td>\n      <td>4228114</td>\n      <td>68</td>\n      <td>Substitutions</td>\n      <td>46889</td>\n      <td>1200864</td>\n      <td>, Tactical</td>\n      <td>921121.0</td>\n    </tr>\n  </tbody>\n</table>\n<p>85583 rows × 9 columns</p>\n</div>"
     },
     "execution_count": 145,
     "metadata": {},
     "output_type": "execute_result"
    }
   ],
   "source": [
    "substitution.loc[substitution['description'].notna()] "
   ],
   "metadata": {
    "collapsed": false,
    "ExecuteTime": {
     "end_time": "2024-05-12T15:15:36.234612Z",
     "start_time": "2024-05-12T15:15:36.191991Z"
    }
   },
   "id": "74ede588908e2bbc"
  },
  {
   "cell_type": "code",
   "execution_count": 146,
   "outputs": [
    {
     "data": {
      "text/plain": "array([', Not reported', ', Tactical', ', Delay', ', Resting', ', Injury',\n       ', Risk of booking', ', Special achievements',\n       ', Substitution without replacement', nan], dtype=object)"
     },
     "execution_count": 146,
     "metadata": {},
     "output_type": "execute_result"
    }
   ],
   "source": [
    "substitution['description'].unique()"
   ],
   "metadata": {
    "collapsed": false,
    "ExecuteTime": {
     "end_time": "2024-05-12T15:15:36.272460Z",
     "start_time": "2024-05-12T15:15:36.236518Z"
    }
   },
   "id": "238e6eac100eb5cd"
  },
  {
   "cell_type": "code",
   "execution_count": 147,
   "outputs": [],
   "source": [
    "substitution['description'].fillna(', Not reported', inplace=True)"
   ],
   "metadata": {
    "collapsed": false,
    "ExecuteTime": {
     "end_time": "2024-05-12T15:15:36.333627Z",
     "start_time": "2024-05-12T15:15:36.265085Z"
    }
   },
   "id": "79505003d0883039"
  },
  {
   "cell_type": "code",
   "execution_count": 148,
   "outputs": [
    {
     "data": {
      "text/plain": "                           game_event_id        date  game_id  minute  \\\n16280   ab4e2ad6d50ee8cd1927934938c658a7  2012-09-23  2225462      90   \n16727   af8264d946665c974ee98f2f6cad5433  2012-10-07  2225500      76   \n26969   ee4cbac0bc20bce458d0336b350f5410  2012-10-07  2240047      80   \n31617   e3a71e2f06aeba3432625243d2ae3905  2012-11-11  2242924      73   \n32378   b82273ce2950e288f17ba294c99fdcf5  2013-05-08  2242976      82   \n...                                  ...         ...      ...     ...   \n659899  8ebb237e92a929015c051f77785cc2f1  2023-09-23  4173734      80   \n660645  fdb6184fe2f9a4b19c2800716845ad20  2023-09-26  4180926      83   \n661027  585fbb999f872674039dd01d9b5374bf  2023-10-04  4181478      62   \n661317  22fbe29bade214c06945c6f8133b98a2  2023-09-16  4182474      87   \n662699  6f29ce9bbe74431bb1e782abe9e5333e  2023-10-12  4192080      78   \n\n                 type  club_id  player_id                         description  \\\n16280   Substitutions       31      78959  , Substitution without replacement   \n16727   Substitutions      405      90964  , Substitution without replacement   \n26969   Substitutions      720      79960  , Substitution without replacement   \n31617   Substitutions     3709      16315  , Substitution without replacement   \n32378   Substitutions      418      35664  , Substitution without replacement   \n...               ...      ...        ...                                 ...   \n659899  Substitutions    13677    1063673                          , Tactical   \n660645  Substitutions   112611     615993                      , Not reported   \n661027  Substitutions    20979     695761                      , Not reported   \n661317  Substitutions    41231     371856  , Substitution without replacement   \n662699  Substitutions   112755    1121762                      , Not reported   \n\n        player_in_id  \n16280            NaN  \n16727            NaN  \n26969            NaN  \n31617            NaN  \n32378            NaN  \n...              ...  \n659899           NaN  \n660645           NaN  \n661027           NaN  \n661317           NaN  \n662699           NaN  \n\n[77 rows x 9 columns]",
      "text/html": "<div>\n<style scoped>\n    .dataframe tbody tr th:only-of-type {\n        vertical-align: middle;\n    }\n\n    .dataframe tbody tr th {\n        vertical-align: top;\n    }\n\n    .dataframe thead th {\n        text-align: right;\n    }\n</style>\n<table border=\"1\" class=\"dataframe\">\n  <thead>\n    <tr style=\"text-align: right;\">\n      <th></th>\n      <th>game_event_id</th>\n      <th>date</th>\n      <th>game_id</th>\n      <th>minute</th>\n      <th>type</th>\n      <th>club_id</th>\n      <th>player_id</th>\n      <th>description</th>\n      <th>player_in_id</th>\n    </tr>\n  </thead>\n  <tbody>\n    <tr>\n      <th>16280</th>\n      <td>ab4e2ad6d50ee8cd1927934938c658a7</td>\n      <td>2012-09-23</td>\n      <td>2225462</td>\n      <td>90</td>\n      <td>Substitutions</td>\n      <td>31</td>\n      <td>78959</td>\n      <td>, Substitution without replacement</td>\n      <td>NaN</td>\n    </tr>\n    <tr>\n      <th>16727</th>\n      <td>af8264d946665c974ee98f2f6cad5433</td>\n      <td>2012-10-07</td>\n      <td>2225500</td>\n      <td>76</td>\n      <td>Substitutions</td>\n      <td>405</td>\n      <td>90964</td>\n      <td>, Substitution without replacement</td>\n      <td>NaN</td>\n    </tr>\n    <tr>\n      <th>26969</th>\n      <td>ee4cbac0bc20bce458d0336b350f5410</td>\n      <td>2012-10-07</td>\n      <td>2240047</td>\n      <td>80</td>\n      <td>Substitutions</td>\n      <td>720</td>\n      <td>79960</td>\n      <td>, Substitution without replacement</td>\n      <td>NaN</td>\n    </tr>\n    <tr>\n      <th>31617</th>\n      <td>e3a71e2f06aeba3432625243d2ae3905</td>\n      <td>2012-11-11</td>\n      <td>2242924</td>\n      <td>73</td>\n      <td>Substitutions</td>\n      <td>3709</td>\n      <td>16315</td>\n      <td>, Substitution without replacement</td>\n      <td>NaN</td>\n    </tr>\n    <tr>\n      <th>32378</th>\n      <td>b82273ce2950e288f17ba294c99fdcf5</td>\n      <td>2013-05-08</td>\n      <td>2242976</td>\n      <td>82</td>\n      <td>Substitutions</td>\n      <td>418</td>\n      <td>35664</td>\n      <td>, Substitution without replacement</td>\n      <td>NaN</td>\n    </tr>\n    <tr>\n      <th>...</th>\n      <td>...</td>\n      <td>...</td>\n      <td>...</td>\n      <td>...</td>\n      <td>...</td>\n      <td>...</td>\n      <td>...</td>\n      <td>...</td>\n      <td>...</td>\n    </tr>\n    <tr>\n      <th>659899</th>\n      <td>8ebb237e92a929015c051f77785cc2f1</td>\n      <td>2023-09-23</td>\n      <td>4173734</td>\n      <td>80</td>\n      <td>Substitutions</td>\n      <td>13677</td>\n      <td>1063673</td>\n      <td>, Tactical</td>\n      <td>NaN</td>\n    </tr>\n    <tr>\n      <th>660645</th>\n      <td>fdb6184fe2f9a4b19c2800716845ad20</td>\n      <td>2023-09-26</td>\n      <td>4180926</td>\n      <td>83</td>\n      <td>Substitutions</td>\n      <td>112611</td>\n      <td>615993</td>\n      <td>, Not reported</td>\n      <td>NaN</td>\n    </tr>\n    <tr>\n      <th>661027</th>\n      <td>585fbb999f872674039dd01d9b5374bf</td>\n      <td>2023-10-04</td>\n      <td>4181478</td>\n      <td>62</td>\n      <td>Substitutions</td>\n      <td>20979</td>\n      <td>695761</td>\n      <td>, Not reported</td>\n      <td>NaN</td>\n    </tr>\n    <tr>\n      <th>661317</th>\n      <td>22fbe29bade214c06945c6f8133b98a2</td>\n      <td>2023-09-16</td>\n      <td>4182474</td>\n      <td>87</td>\n      <td>Substitutions</td>\n      <td>41231</td>\n      <td>371856</td>\n      <td>, Substitution without replacement</td>\n      <td>NaN</td>\n    </tr>\n    <tr>\n      <th>662699</th>\n      <td>6f29ce9bbe74431bb1e782abe9e5333e</td>\n      <td>2023-10-12</td>\n      <td>4192080</td>\n      <td>78</td>\n      <td>Substitutions</td>\n      <td>112755</td>\n      <td>1121762</td>\n      <td>, Not reported</td>\n      <td>NaN</td>\n    </tr>\n  </tbody>\n</table>\n<p>77 rows × 9 columns</p>\n</div>"
     },
     "execution_count": 148,
     "metadata": {},
     "output_type": "execute_result"
    }
   ],
   "source": [
    "substitution.loc[substitution['player_in_id'].isna()] "
   ],
   "metadata": {
    "collapsed": false,
    "ExecuteTime": {
     "end_time": "2024-05-12T15:15:36.337064Z",
     "start_time": "2024-05-12T15:15:36.283884Z"
    }
   },
   "id": "37f7124757440d46"
  },
  {
   "cell_type": "code",
   "execution_count": 149,
   "outputs": [
    {
     "data": {
      "text/plain": "game_event_id     0\ndate              0\ngame_id           0\nminute            0\ntype              0\nclub_id           0\nplayer_id         0\ndescription       0\nplayer_in_id     77\ndtype: int64"
     },
     "execution_count": 149,
     "metadata": {},
     "output_type": "execute_result"
    }
   ],
   "source": [
    "substitution.isna().sum()"
   ],
   "metadata": {
    "collapsed": false,
    "ExecuteTime": {
     "end_time": "2024-05-12T15:15:36.598923Z",
     "start_time": "2024-05-12T15:15:36.302473Z"
    }
   },
   "id": "8823d5f4997f842b"
  },
  {
   "cell_type": "code",
   "execution_count": 150,
   "outputs": [],
   "source": [
    "cards = game_events.loc[game_events['type'] == 'Cards']"
   ],
   "metadata": {
    "collapsed": false,
    "ExecuteTime": {
     "end_time": "2024-05-12T15:15:36.936303Z",
     "start_time": "2024-05-12T15:15:36.481702Z"
    }
   },
   "id": "79fecc789a13eafe"
  },
  {
   "cell_type": "code",
   "execution_count": 151,
   "outputs": [
    {
     "data": {
      "text/plain": "(62473, 10)"
     },
     "execution_count": 151,
     "metadata": {},
     "output_type": "execute_result"
    }
   ],
   "source": [
    "cards.shape"
   ],
   "metadata": {
    "collapsed": false,
    "ExecuteTime": {
     "end_time": "2024-05-12T15:15:36.939458Z",
     "start_time": "2024-05-12T15:15:36.531210Z"
    }
   },
   "id": "7db7755042c0bdc3"
  },
  {
   "cell_type": "code",
   "execution_count": 152,
   "outputs": [
    {
     "data": {
      "text/plain": "game_event_id           0\ndate                    0\ngame_id                 0\nminute                  0\ntype                    0\nclub_id                 0\nplayer_id               0\ndescription             0\nplayer_in_id        62473\nplayer_assist_id    62473\ndtype: int64"
     },
     "execution_count": 152,
     "metadata": {},
     "output_type": "execute_result"
    }
   ],
   "source": [
    "cards.isna().sum()"
   ],
   "metadata": {
    "collapsed": false,
    "ExecuteTime": {
     "end_time": "2024-05-12T15:15:37.049527Z",
     "start_time": "2024-05-12T15:15:36.540408Z"
    }
   },
   "id": "49188090ff8ae9a4"
  },
  {
   "cell_type": "code",
   "execution_count": 153,
   "outputs": [
    {
     "data": {
      "text/plain": "(62473, 8)"
     },
     "execution_count": 153,
     "metadata": {},
     "output_type": "execute_result"
    }
   ],
   "source": [
    "cards = cards[['game_event_id', 'date', 'game_id', 'minute', 'type', 'club_id',\n",
    "       'player_id', 'description']] #remove columns\n",
    "cards.shape"
   ],
   "metadata": {
    "collapsed": false,
    "ExecuteTime": {
     "end_time": "2024-05-12T15:15:37.053964Z",
     "start_time": "2024-05-12T15:15:36.584550Z"
    }
   },
   "id": "d18986fce3e39935"
  },
  {
   "cell_type": "code",
   "execution_count": 154,
   "outputs": [],
   "source": [
    "goal = game_events.loc[game_events['type'] == 'Goals']"
   ],
   "metadata": {
    "collapsed": false,
    "ExecuteTime": {
     "end_time": "2024-05-12T15:15:37.124712Z",
     "start_time": "2024-05-12T15:15:36.599240Z"
    }
   },
   "id": "9aa2519d980f9234"
  },
  {
   "cell_type": "code",
   "execution_count": 155,
   "outputs": [
    {
     "data": {
      "text/plain": "(180901, 10)"
     },
     "execution_count": 155,
     "metadata": {},
     "output_type": "execute_result"
    }
   ],
   "source": [
    "goal.shape"
   ],
   "metadata": {
    "collapsed": false,
    "ExecuteTime": {
     "end_time": "2024-05-12T15:15:37.127942Z",
     "start_time": "2024-05-12T15:15:36.847250Z"
    }
   },
   "id": "c42e23f7e9e57c2e"
  },
  {
   "cell_type": "code",
   "execution_count": 156,
   "outputs": [
    {
     "data": {
      "text/plain": "game_event_id            0\ndate                     0\ngame_id                  0\nminute                   0\ntype                     0\nclub_id                  0\nplayer_id                0\ndescription              0\nplayer_in_id        180901\nplayer_assist_id    150044\ndtype: int64"
     },
     "execution_count": 156,
     "metadata": {},
     "output_type": "execute_result"
    }
   ],
   "source": [
    "goal.isna().sum()"
   ],
   "metadata": {
    "collapsed": false,
    "ExecuteTime": {
     "end_time": "2024-05-12T15:15:37.284823Z",
     "start_time": "2024-05-12T15:15:36.847667Z"
    }
   },
   "id": "3738bfb7755aad0d"
  },
  {
   "cell_type": "code",
   "execution_count": 157,
   "outputs": [
    {
     "data": {
      "text/plain": "(180901, 9)"
     },
     "execution_count": 157,
     "metadata": {},
     "output_type": "execute_result"
    }
   ],
   "source": [
    "goal = goal[['game_event_id', 'date', 'game_id', 'minute', 'type', 'club_id',\n",
    "       'player_id', 'description', 'player_assist_id']]\n",
    "goal.shape"
   ],
   "metadata": {
    "collapsed": false,
    "ExecuteTime": {
     "end_time": "2024-05-12T15:15:37.309999Z",
     "start_time": "2024-05-12T15:15:36.912294Z"
    }
   },
   "id": "9383ba6189131ef1"
  },
  {
   "cell_type": "code",
   "execution_count": 158,
   "outputs": [],
   "source": [
    "shootout =  game_events.loc[game_events['type'] == 'Shootout']"
   ],
   "metadata": {
    "collapsed": false,
    "ExecuteTime": {
     "end_time": "2024-05-12T15:15:37.346102Z",
     "start_time": "2024-05-12T15:15:37.056795Z"
    }
   },
   "id": "c25cb667bee184ee"
  },
  {
   "cell_type": "code",
   "execution_count": 159,
   "outputs": [
    {
     "data": {
      "text/plain": "(1276, 10)"
     },
     "execution_count": 159,
     "metadata": {},
     "output_type": "execute_result"
    }
   ],
   "source": [
    "shootout.shape"
   ],
   "metadata": {
    "collapsed": false,
    "ExecuteTime": {
     "end_time": "2024-05-12T15:15:37.348276Z",
     "start_time": "2024-05-12T15:15:37.069646Z"
    }
   },
   "id": "4fc85cd1445f3cb3"
  },
  {
   "cell_type": "code",
   "execution_count": 160,
   "outputs": [
    {
     "data": {
      "text/plain": "game_event_id          0\ndate                   0\ngame_id                0\nminute                 0\ntype                   0\nclub_id                0\nplayer_id              0\ndescription            0\nplayer_in_id        1276\nplayer_assist_id    1276\ndtype: int64"
     },
     "execution_count": 160,
     "metadata": {},
     "output_type": "execute_result"
    }
   ],
   "source": [
    "shootout.isna().sum()"
   ],
   "metadata": {
    "collapsed": false,
    "ExecuteTime": {
     "end_time": "2024-05-12T15:15:37.350609Z",
     "start_time": "2024-05-12T15:15:37.085195Z"
    }
   },
   "id": "d12f550d76a6c063"
  },
  {
   "cell_type": "code",
   "execution_count": 161,
   "outputs": [
    {
     "data": {
      "text/plain": "(1276, 8)"
     },
     "execution_count": 161,
     "metadata": {},
     "output_type": "execute_result"
    }
   ],
   "source": [
    "shootout = shootout[['game_event_id', 'date', 'game_id', 'minute', 'type', 'club_id',\n",
    "       'player_id', 'description']]\n",
    "shootout.shape"
   ],
   "metadata": {
    "collapsed": false,
    "ExecuteTime": {
     "end_time": "2024-05-12T15:15:37.360319Z",
     "start_time": "2024-05-12T15:15:37.098326Z"
    }
   },
   "id": "f1f6ce7900c4c0f4"
  },
  {
   "cell_type": "code",
   "execution_count": 161,
   "outputs": [],
   "source": [],
   "metadata": {
    "collapsed": false,
    "ExecuteTime": {
     "end_time": "2024-05-12T15:15:37.362540Z",
     "start_time": "2024-05-12T15:15:37.107805Z"
    }
   },
   "id": "c7d005e31f6139b7"
  }
 ],
 "metadata": {
  "kernelspec": {
   "display_name": "Python 3",
   "language": "python",
   "name": "python3"
  },
  "language_info": {
   "codemirror_mode": {
    "name": "ipython",
    "version": 2
   },
   "file_extension": ".py",
   "mimetype": "text/x-python",
   "name": "python",
   "nbconvert_exporter": "python",
   "pygments_lexer": "ipython2",
   "version": "2.7.6"
  }
 },
 "nbformat": 4,
 "nbformat_minor": 5
}

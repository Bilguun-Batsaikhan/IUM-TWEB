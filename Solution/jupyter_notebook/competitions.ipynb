{
 "cells": [
  {
   "cell_type": "code",
   "execution_count": 2,
   "id": "initial_id",
   "metadata": {
    "collapsed": true,
    "ExecuteTime": {
     "end_time": "2024-04-29T12:35:05.361622600Z",
     "start_time": "2024-04-29T12:35:01.967095500Z"
    }
   },
   "outputs": [],
   "source": [
    "import pandas as pd\n",
    "import numpy as np\n",
    "import matplotlib.pyplot as plt"
   ]
  },
  {
   "cell_type": "code",
   "execution_count": 3,
   "id": "e31158dca0fa7d6c",
   "metadata": {
    "collapsed": false,
    "ExecuteTime": {
     "end_time": "2024-04-29T12:35:05.413625900Z",
     "start_time": "2024-04-29T12:35:05.363621100Z"
    }
   },
   "outputs": [
    {
     "data": {
      "text/plain": "  competition_id               competition_code  \\\n0            CIT                      italy-cup   \n1           NLSC           johan-cruijff-schaal   \n2            GRP                kypello-elladas   \n3           POSU  supertaca-candido-de-oliveira   \n4           RUSS              russian-super-cup   \n\n                            name            sub_type          type  \\\n0                      italy-cup        domestic_cup  domestic_cup   \n1           johan-cruijff-schaal  domestic_super_cup         other   \n2                kypello-elladas        domestic_cup  domestic_cup   \n3  supertaca-candido-de-oliveira  domestic_super_cup         other   \n4              russian-super-cup  domestic_super_cup         other   \n\n   country_id country_name domestic_league_code confederation  \\\n0          75        Italy                  IT1        europa   \n1         122  Netherlands                  NL1        europa   \n2          56       Greece                  GR1        europa   \n3         136     Portugal                  PO1        europa   \n4         141       Russia                  RU1        europa   \n\n                                                 url  \n0  https://www.transfermarkt.co.uk/italy-cup/star...  \n1  https://www.transfermarkt.co.uk/johan-cruijff-...  \n2  https://www.transfermarkt.co.uk/kypello-ellada...  \n3  https://www.transfermarkt.co.uk/supertaca-cand...  \n4  https://www.transfermarkt.co.uk/russian-super-...  ",
      "text/html": "<div>\n<style scoped>\n    .dataframe tbody tr th:only-of-type {\n        vertical-align: middle;\n    }\n\n    .dataframe tbody tr th {\n        vertical-align: top;\n    }\n\n    .dataframe thead th {\n        text-align: right;\n    }\n</style>\n<table border=\"1\" class=\"dataframe\">\n  <thead>\n    <tr style=\"text-align: right;\">\n      <th></th>\n      <th>competition_id</th>\n      <th>competition_code</th>\n      <th>name</th>\n      <th>sub_type</th>\n      <th>type</th>\n      <th>country_id</th>\n      <th>country_name</th>\n      <th>domestic_league_code</th>\n      <th>confederation</th>\n      <th>url</th>\n    </tr>\n  </thead>\n  <tbody>\n    <tr>\n      <th>0</th>\n      <td>CIT</td>\n      <td>italy-cup</td>\n      <td>italy-cup</td>\n      <td>domestic_cup</td>\n      <td>domestic_cup</td>\n      <td>75</td>\n      <td>Italy</td>\n      <td>IT1</td>\n      <td>europa</td>\n      <td>https://www.transfermarkt.co.uk/italy-cup/star...</td>\n    </tr>\n    <tr>\n      <th>1</th>\n      <td>NLSC</td>\n      <td>johan-cruijff-schaal</td>\n      <td>johan-cruijff-schaal</td>\n      <td>domestic_super_cup</td>\n      <td>other</td>\n      <td>122</td>\n      <td>Netherlands</td>\n      <td>NL1</td>\n      <td>europa</td>\n      <td>https://www.transfermarkt.co.uk/johan-cruijff-...</td>\n    </tr>\n    <tr>\n      <th>2</th>\n      <td>GRP</td>\n      <td>kypello-elladas</td>\n      <td>kypello-elladas</td>\n      <td>domestic_cup</td>\n      <td>domestic_cup</td>\n      <td>56</td>\n      <td>Greece</td>\n      <td>GR1</td>\n      <td>europa</td>\n      <td>https://www.transfermarkt.co.uk/kypello-ellada...</td>\n    </tr>\n    <tr>\n      <th>3</th>\n      <td>POSU</td>\n      <td>supertaca-candido-de-oliveira</td>\n      <td>supertaca-candido-de-oliveira</td>\n      <td>domestic_super_cup</td>\n      <td>other</td>\n      <td>136</td>\n      <td>Portugal</td>\n      <td>PO1</td>\n      <td>europa</td>\n      <td>https://www.transfermarkt.co.uk/supertaca-cand...</td>\n    </tr>\n    <tr>\n      <th>4</th>\n      <td>RUSS</td>\n      <td>russian-super-cup</td>\n      <td>russian-super-cup</td>\n      <td>domestic_super_cup</td>\n      <td>other</td>\n      <td>141</td>\n      <td>Russia</td>\n      <td>RU1</td>\n      <td>europa</td>\n      <td>https://www.transfermarkt.co.uk/russian-super-...</td>\n    </tr>\n  </tbody>\n</table>\n</div>"
     },
     "execution_count": 3,
     "metadata": {},
     "output_type": "execute_result"
    }
   ],
   "source": [
    "df = pd.read_csv('../csv/competitions.csv')\n",
    "df.head()"
   ]
  },
  {
   "cell_type": "raw",
   "id": "9f53f282791dd629",
   "metadata": {
    "collapsed": false
   },
   "source": []
  },
  {
   "cell_type": "markdown",
   "id": "bf082f6f3f6d5802",
   "metadata": {
    "collapsed": false
   },
   "source": [
    "### Step 1: Data Understanding ###\n",
    "+ Dataframe shape\n",
    "+ head and tail\n",
    "+ dtypes\n",
    "+ describe"
   ]
  },
  {
   "cell_type": "code",
   "execution_count": 4,
   "id": "c2df1f460a4a3643",
   "metadata": {
    "collapsed": false,
    "ExecuteTime": {
     "end_time": "2024-04-29T12:35:05.414624Z",
     "start_time": "2024-04-29T12:35:05.398963Z"
    }
   },
   "outputs": [
    {
     "data": {
      "text/plain": "(43, 10)"
     },
     "execution_count": 4,
     "metadata": {},
     "output_type": "execute_result"
    }
   ],
   "source": [
    "df.shape"
   ]
  },
  {
   "cell_type": "code",
   "execution_count": 5,
   "id": "f9db1ccec8d4af05",
   "metadata": {
    "collapsed": false,
    "ExecuteTime": {
     "end_time": "2024-04-29T12:35:05.425805600Z",
     "start_time": "2024-04-29T12:35:05.404622100Z"
    }
   },
   "outputs": [
    {
     "data": {
      "text/plain": "  competition_id               competition_code  \\\n0            CIT                      italy-cup   \n1           NLSC           johan-cruijff-schaal   \n2            GRP                kypello-elladas   \n3           POSU  supertaca-candido-de-oliveira   \n4           RUSS              russian-super-cup   \n\n                            name            sub_type          type  \\\n0                      italy-cup        domestic_cup  domestic_cup   \n1           johan-cruijff-schaal  domestic_super_cup         other   \n2                kypello-elladas        domestic_cup  domestic_cup   \n3  supertaca-candido-de-oliveira  domestic_super_cup         other   \n4              russian-super-cup  domestic_super_cup         other   \n\n   country_id country_name domestic_league_code confederation  \\\n0          75        Italy                  IT1        europa   \n1         122  Netherlands                  NL1        europa   \n2          56       Greece                  GR1        europa   \n3         136     Portugal                  PO1        europa   \n4         141       Russia                  RU1        europa   \n\n                                                 url  \n0  https://www.transfermarkt.co.uk/italy-cup/star...  \n1  https://www.transfermarkt.co.uk/johan-cruijff-...  \n2  https://www.transfermarkt.co.uk/kypello-ellada...  \n3  https://www.transfermarkt.co.uk/supertaca-cand...  \n4  https://www.transfermarkt.co.uk/russian-super-...  ",
      "text/html": "<div>\n<style scoped>\n    .dataframe tbody tr th:only-of-type {\n        vertical-align: middle;\n    }\n\n    .dataframe tbody tr th {\n        vertical-align: top;\n    }\n\n    .dataframe thead th {\n        text-align: right;\n    }\n</style>\n<table border=\"1\" class=\"dataframe\">\n  <thead>\n    <tr style=\"text-align: right;\">\n      <th></th>\n      <th>competition_id</th>\n      <th>competition_code</th>\n      <th>name</th>\n      <th>sub_type</th>\n      <th>type</th>\n      <th>country_id</th>\n      <th>country_name</th>\n      <th>domestic_league_code</th>\n      <th>confederation</th>\n      <th>url</th>\n    </tr>\n  </thead>\n  <tbody>\n    <tr>\n      <th>0</th>\n      <td>CIT</td>\n      <td>italy-cup</td>\n      <td>italy-cup</td>\n      <td>domestic_cup</td>\n      <td>domestic_cup</td>\n      <td>75</td>\n      <td>Italy</td>\n      <td>IT1</td>\n      <td>europa</td>\n      <td>https://www.transfermarkt.co.uk/italy-cup/star...</td>\n    </tr>\n    <tr>\n      <th>1</th>\n      <td>NLSC</td>\n      <td>johan-cruijff-schaal</td>\n      <td>johan-cruijff-schaal</td>\n      <td>domestic_super_cup</td>\n      <td>other</td>\n      <td>122</td>\n      <td>Netherlands</td>\n      <td>NL1</td>\n      <td>europa</td>\n      <td>https://www.transfermarkt.co.uk/johan-cruijff-...</td>\n    </tr>\n    <tr>\n      <th>2</th>\n      <td>GRP</td>\n      <td>kypello-elladas</td>\n      <td>kypello-elladas</td>\n      <td>domestic_cup</td>\n      <td>domestic_cup</td>\n      <td>56</td>\n      <td>Greece</td>\n      <td>GR1</td>\n      <td>europa</td>\n      <td>https://www.transfermarkt.co.uk/kypello-ellada...</td>\n    </tr>\n    <tr>\n      <th>3</th>\n      <td>POSU</td>\n      <td>supertaca-candido-de-oliveira</td>\n      <td>supertaca-candido-de-oliveira</td>\n      <td>domestic_super_cup</td>\n      <td>other</td>\n      <td>136</td>\n      <td>Portugal</td>\n      <td>PO1</td>\n      <td>europa</td>\n      <td>https://www.transfermarkt.co.uk/supertaca-cand...</td>\n    </tr>\n    <tr>\n      <th>4</th>\n      <td>RUSS</td>\n      <td>russian-super-cup</td>\n      <td>russian-super-cup</td>\n      <td>domestic_super_cup</td>\n      <td>other</td>\n      <td>141</td>\n      <td>Russia</td>\n      <td>RU1</td>\n      <td>europa</td>\n      <td>https://www.transfermarkt.co.uk/russian-super-...</td>\n    </tr>\n  </tbody>\n</table>\n</div>"
     },
     "execution_count": 5,
     "metadata": {},
     "output_type": "execute_result"
    }
   ],
   "source": [
    "df.head(5)"
   ]
  },
  {
   "cell_type": "code",
   "execution_count": 6,
   "id": "f28028c3ae5f3f1b",
   "metadata": {
    "collapsed": false,
    "ExecuteTime": {
     "end_time": "2024-04-29T12:35:05.436261800Z",
     "start_time": "2024-04-29T12:35:05.418914600Z"
    }
   },
   "outputs": [
    {
     "data": {
      "text/plain": "competition_id          object\ncompetition_code        object\nname                    object\nsub_type                object\ntype                    object\ncountry_id               int64\ncountry_name            object\ndomestic_league_code    object\nconfederation           object\nurl                     object\ndtype: object"
     },
     "execution_count": 6,
     "metadata": {},
     "output_type": "execute_result"
    }
   ],
   "source": [
    "df.dtypes"
   ]
  },
  {
   "cell_type": "code",
   "execution_count": 7,
   "id": "d80b78580d6d15f2",
   "metadata": {
    "collapsed": false,
    "ExecuteTime": {
     "end_time": "2024-04-29T12:35:05.436261800Z",
     "start_time": "2024-04-29T12:35:05.429814200Z"
    }
   },
   "outputs": [
    {
     "data": {
      "text/plain": "Index(['competition_id', 'competition_code', 'name', 'sub_type', 'type',\n       'country_id', 'country_name', 'domestic_league_code', 'confederation',\n       'url'],\n      dtype='object')"
     },
     "execution_count": 7,
     "metadata": {},
     "output_type": "execute_result"
    }
   ],
   "source": [
    "df.columns"
   ]
  },
  {
   "cell_type": "markdown",
   "id": "a27e44ed033b12b7",
   "metadata": {
    "collapsed": false
   },
   "source": [
    "+ competition_id: A unique identifier for each competition.\n",
    "+ competition_code: A code or abbreviation representing each competition.\n",
    "+ name: The name of the competition.\n",
    "+ sub_type: The subtype or category of the competition, providing additional classification beyond just the name. For example, \"domestic cup\" or \"domestic super cup\".\n",
    "+ type: The type of competition, such as \"domestic cup\", \"domestic super cup\", or other categories.\n",
    "+ country_id: A unique identifier for the country associated with the competition.\n",
    "+ country_name: The name of the country associated with the competition.\n",
    "+ domestic_league_code: A code or identifier specific to domestic leagues within each country, which might be used to distinguish between different competitions within the same country.\n",
    "+ confederation: The confederation or governing body associated with the competition, indicating its broader organizational affiliation.\n",
    "+ url: The URL link to access more information about the competition, potentially leading to details such as schedules, results, and standings."
   ]
  },
  {
   "cell_type": "code",
   "execution_count": 8,
   "id": "3bbb4268c2cacb7b",
   "metadata": {
    "collapsed": false,
    "ExecuteTime": {
     "end_time": "2024-04-29T12:35:05.527420300Z",
     "start_time": "2024-04-29T12:35:05.437264700Z"
    }
   },
   "outputs": [
    {
     "data": {
      "text/plain": "       country_id\ncount   43.000000\nmean    97.093023\nstd     69.766896\nmin     -1.000000\n25%     39.500000\n50%    122.000000\n75%    157.000000\nmax    190.000000",
      "text/html": "<div>\n<style scoped>\n    .dataframe tbody tr th:only-of-type {\n        vertical-align: middle;\n    }\n\n    .dataframe tbody tr th {\n        vertical-align: top;\n    }\n\n    .dataframe thead th {\n        text-align: right;\n    }\n</style>\n<table border=\"1\" class=\"dataframe\">\n  <thead>\n    <tr style=\"text-align: right;\">\n      <th></th>\n      <th>country_id</th>\n    </tr>\n  </thead>\n  <tbody>\n    <tr>\n      <th>count</th>\n      <td>43.000000</td>\n    </tr>\n    <tr>\n      <th>mean</th>\n      <td>97.093023</td>\n    </tr>\n    <tr>\n      <th>std</th>\n      <td>69.766896</td>\n    </tr>\n    <tr>\n      <th>min</th>\n      <td>-1.000000</td>\n    </tr>\n    <tr>\n      <th>25%</th>\n      <td>39.500000</td>\n    </tr>\n    <tr>\n      <th>50%</th>\n      <td>122.000000</td>\n    </tr>\n    <tr>\n      <th>75%</th>\n      <td>157.000000</td>\n    </tr>\n    <tr>\n      <th>max</th>\n      <td>190.000000</td>\n    </tr>\n  </tbody>\n</table>\n</div>"
     },
     "execution_count": 8,
     "metadata": {},
     "output_type": "execute_result"
    }
   ],
   "source": [
    "df.describe()"
   ]
  },
  {
   "cell_type": "markdown",
   "id": "a2bb3f7df924b95a",
   "metadata": {
    "collapsed": false
   },
   "source": [
    "### Step 2: Data Preperation ###\n",
    "+ Dropping irrelevant columns and rows\n",
    "+ Identifying duplicated columns\n",
    "+ Feature Creation "
   ]
  },
  {
   "cell_type": "code",
   "execution_count": 9,
   "id": "c2bbeeb432a99cd4",
   "metadata": {
    "collapsed": false,
    "ExecuteTime": {
     "end_time": "2024-04-29T12:35:05.564450400Z",
     "start_time": "2024-04-29T12:35:05.449370100Z"
    }
   },
   "outputs": [
    {
     "data": {
      "text/plain": "   competition_id                             competition_code  \\\n0             CIT                                    italy-cup   \n1            NLSC                         johan-cruijff-schaal   \n2             GRP                              kypello-elladas   \n3            POSU                supertaca-candido-de-oliveira   \n4            RUSS                            russian-super-cup   \n5             SUC                                    supercopa   \n6             USC                               uefa-super-cup   \n7             DK1                                  superligaen   \n8              EL                                europa-league   \n9             ES1                                       laliga   \n10            FR1                                      ligue-1   \n11            IT1                                      serie-a   \n12            NL1                                   eredivisie   \n13            RUP                                  russian-cup   \n14            PO1                           liga-portugal-bwin   \n15           BESC                             belgian-supercup   \n16            GB1                               premier-league   \n17            ELQ                  europa-league-qualifikation   \n18            CGB                                      efl-cup   \n19            DKP                              sydbank-pokalen   \n20           ECLQ  uefa-europa-conference-league-qualifikation   \n21            FAC                                       fa-cup   \n22            NLP                              toto-knvb-beker   \n23           UKRS                          ukrainian-super-cup   \n24           UKR1                                 premier-liga   \n25            CDR                                 copa-del-rey   \n26             CL                        uefa-champions-league   \n27            GR1                               super-league-1   \n28            TR1                                    super-lig   \n29           POCP                                  allianz-cup   \n30           GBCS                             community-shield   \n31           KLUB                                 fifa-klub-wm   \n32             L1                                   bundesliga   \n33            RU1                                 premier-liga   \n34            SC1                         scottish-premiership   \n35            SCI                          supercoppa-italiana   \n36            BE1                           jupiler-pro-league   \n37            CLQ          uefa-champions-league-qualifikation   \n38            DFL                                 dfl-supercup   \n39            SFA                                      sfa-cup   \n40           UKRP                                ukrainian-cup   \n41            DFB                                    dfb-pokal   \n42           FRCH                        trophee-des-champions   \n\n                                           name  \\\n0                                     italy-cup   \n1                          johan-cruijff-schaal   \n2                               kypello-elladas   \n3                 supertaca-candido-de-oliveira   \n4                             russian-super-cup   \n5                                     supercopa   \n6                                uefa-super-cup   \n7                                   superligaen   \n8                                 europa-league   \n9                                        laliga   \n10                                      ligue-1   \n11                                      serie-a   \n12                                   eredivisie   \n13                                  russian-cup   \n14                           liga-portugal-bwin   \n15                             belgian-supercup   \n16                               premier-league   \n17                  europa-league-qualifikation   \n18                                      efl-cup   \n19                              sydbank-pokalen   \n20  uefa-europa-conference-league-qualifikation   \n21                                       fa-cup   \n22                              toto-knvb-beker   \n23                          ukrainian-super-cup   \n24                                 premier-liga   \n25                                 copa-del-rey   \n26                        uefa-champions-league   \n27                               super-league-1   \n28                                    super-lig   \n29                                  allianz-cup   \n30                             community-shield   \n31                                 fifa-klub-wm   \n32                                   bundesliga   \n33                                 premier-liga   \n34                         scottish-premiership   \n35                          supercoppa-italiana   \n36                           jupiler-pro-league   \n37          uefa-champions-league-qualifikation   \n38                                 dfl-supercup   \n39                                      sfa-cup   \n40                                ukrainian-cup   \n41                                    dfb-pokal   \n42                        trophee-des-champions   \n\n                                    sub_type               type  country_id  \\\n0                               domestic_cup       domestic_cup          75   \n1                         domestic_super_cup              other         122   \n2                               domestic_cup       domestic_cup          56   \n3                         domestic_super_cup              other         136   \n4                         domestic_super_cup              other         141   \n5                         domestic_super_cup              other         157   \n6                             uefa_super_cup              other          -1   \n7                                 first_tier    domestic_league          39   \n8                              europa_league  international_cup          -1   \n9                                 first_tier    domestic_league         157   \n10                                first_tier    domestic_league          50   \n11                                first_tier    domestic_league          75   \n12                                first_tier    domestic_league         122   \n13                              domestic_cup       domestic_cup         141   \n14                                first_tier    domestic_league         136   \n15                        domestic_super_cup              other          19   \n16                                first_tier    domestic_league         189   \n17                  europa_league_qualifying  international_cup          -1   \n18                                league_cup              other         189   \n19                              domestic_cup       domestic_cup          39   \n20  uefa_europa_conference_league_qualifiers  international_cup          -1   \n21                              domestic_cup       domestic_cup         189   \n22                              domestic_cup       domestic_cup         122   \n23                        domestic_super_cup              other         177   \n24                                first_tier    domestic_league         177   \n25                              domestic_cup       domestic_cup         157   \n26                     uefa_champions_league  international_cup          -1   \n27                                first_tier    domestic_league          56   \n28                                first_tier    domestic_league         174   \n29                              domestic_cup       domestic_cup         136   \n30                        domestic_super_cup              other         189   \n31                       fifa_club_world_cup              other          -1   \n32                                first_tier    domestic_league          40   \n33                                first_tier    domestic_league         141   \n34                                first_tier    domestic_league         190   \n35                        domestic_super_cup              other          75   \n36                                first_tier    domestic_league          19   \n37          uefa_champions_league_qualifying  international_cup          -1   \n38                        domestic_super_cup              other          40   \n39                              domestic_cup       domestic_cup         190   \n40                              domestic_cup       domestic_cup         177   \n41                              domestic_cup       domestic_cup          40   \n42                        domestic_super_cup              other          50   \n\n   country_name domestic_league_code confederation  \n0         Italy                  IT1        europa  \n1   Netherlands                  NL1        europa  \n2        Greece                  GR1        europa  \n3      Portugal                  PO1        europa  \n4        Russia                  RU1        europa  \n5         Spain                  ES1        europa  \n6           NaN                  NaN        europa  \n7       Denmark                  DK1        europa  \n8           NaN                  NaN        europa  \n9         Spain                  ES1        europa  \n10       France                  FR1        europa  \n11        Italy                  IT1        europa  \n12  Netherlands                  NL1        europa  \n13       Russia                  RU1        europa  \n14     Portugal                  PO1        europa  \n15      Belgium                  BE1        europa  \n16      England                  GB1        europa  \n17          NaN                  NaN        europa  \n18      England                  GB1        europa  \n19      Denmark                  DK1        europa  \n20          NaN                  NaN        europa  \n21      England                  GB1        europa  \n22  Netherlands                  NL1        europa  \n23      Ukraine                 UKR1        europa  \n24      Ukraine                 UKR1        europa  \n25        Spain                  ES1        europa  \n26          NaN                  NaN        europa  \n27       Greece                  GR1        europa  \n28       Turkey                  TR1        europa  \n29     Portugal                  PO1        europa  \n30      England                  GB1        europa  \n31          NaN                  NaN        europa  \n32      Germany                   L1        europa  \n33       Russia                  RU1        europa  \n34     Scotland                  SC1        europa  \n35        Italy                  IT1        europa  \n36      Belgium                  BE1        europa  \n37          NaN                  NaN        europa  \n38      Germany                   L1        europa  \n39     Scotland                  SC1        europa  \n40      Ukraine                 UKR1        europa  \n41      Germany                   L1        europa  \n42       France                  FR1        europa  ",
      "text/html": "<div>\n<style scoped>\n    .dataframe tbody tr th:only-of-type {\n        vertical-align: middle;\n    }\n\n    .dataframe tbody tr th {\n        vertical-align: top;\n    }\n\n    .dataframe thead th {\n        text-align: right;\n    }\n</style>\n<table border=\"1\" class=\"dataframe\">\n  <thead>\n    <tr style=\"text-align: right;\">\n      <th></th>\n      <th>competition_id</th>\n      <th>competition_code</th>\n      <th>name</th>\n      <th>sub_type</th>\n      <th>type</th>\n      <th>country_id</th>\n      <th>country_name</th>\n      <th>domestic_league_code</th>\n      <th>confederation</th>\n    </tr>\n  </thead>\n  <tbody>\n    <tr>\n      <th>0</th>\n      <td>CIT</td>\n      <td>italy-cup</td>\n      <td>italy-cup</td>\n      <td>domestic_cup</td>\n      <td>domestic_cup</td>\n      <td>75</td>\n      <td>Italy</td>\n      <td>IT1</td>\n      <td>europa</td>\n    </tr>\n    <tr>\n      <th>1</th>\n      <td>NLSC</td>\n      <td>johan-cruijff-schaal</td>\n      <td>johan-cruijff-schaal</td>\n      <td>domestic_super_cup</td>\n      <td>other</td>\n      <td>122</td>\n      <td>Netherlands</td>\n      <td>NL1</td>\n      <td>europa</td>\n    </tr>\n    <tr>\n      <th>2</th>\n      <td>GRP</td>\n      <td>kypello-elladas</td>\n      <td>kypello-elladas</td>\n      <td>domestic_cup</td>\n      <td>domestic_cup</td>\n      <td>56</td>\n      <td>Greece</td>\n      <td>GR1</td>\n      <td>europa</td>\n    </tr>\n    <tr>\n      <th>3</th>\n      <td>POSU</td>\n      <td>supertaca-candido-de-oliveira</td>\n      <td>supertaca-candido-de-oliveira</td>\n      <td>domestic_super_cup</td>\n      <td>other</td>\n      <td>136</td>\n      <td>Portugal</td>\n      <td>PO1</td>\n      <td>europa</td>\n    </tr>\n    <tr>\n      <th>4</th>\n      <td>RUSS</td>\n      <td>russian-super-cup</td>\n      <td>russian-super-cup</td>\n      <td>domestic_super_cup</td>\n      <td>other</td>\n      <td>141</td>\n      <td>Russia</td>\n      <td>RU1</td>\n      <td>europa</td>\n    </tr>\n    <tr>\n      <th>5</th>\n      <td>SUC</td>\n      <td>supercopa</td>\n      <td>supercopa</td>\n      <td>domestic_super_cup</td>\n      <td>other</td>\n      <td>157</td>\n      <td>Spain</td>\n      <td>ES1</td>\n      <td>europa</td>\n    </tr>\n    <tr>\n      <th>6</th>\n      <td>USC</td>\n      <td>uefa-super-cup</td>\n      <td>uefa-super-cup</td>\n      <td>uefa_super_cup</td>\n      <td>other</td>\n      <td>-1</td>\n      <td>NaN</td>\n      <td>NaN</td>\n      <td>europa</td>\n    </tr>\n    <tr>\n      <th>7</th>\n      <td>DK1</td>\n      <td>superligaen</td>\n      <td>superligaen</td>\n      <td>first_tier</td>\n      <td>domestic_league</td>\n      <td>39</td>\n      <td>Denmark</td>\n      <td>DK1</td>\n      <td>europa</td>\n    </tr>\n    <tr>\n      <th>8</th>\n      <td>EL</td>\n      <td>europa-league</td>\n      <td>europa-league</td>\n      <td>europa_league</td>\n      <td>international_cup</td>\n      <td>-1</td>\n      <td>NaN</td>\n      <td>NaN</td>\n      <td>europa</td>\n    </tr>\n    <tr>\n      <th>9</th>\n      <td>ES1</td>\n      <td>laliga</td>\n      <td>laliga</td>\n      <td>first_tier</td>\n      <td>domestic_league</td>\n      <td>157</td>\n      <td>Spain</td>\n      <td>ES1</td>\n      <td>europa</td>\n    </tr>\n    <tr>\n      <th>10</th>\n      <td>FR1</td>\n      <td>ligue-1</td>\n      <td>ligue-1</td>\n      <td>first_tier</td>\n      <td>domestic_league</td>\n      <td>50</td>\n      <td>France</td>\n      <td>FR1</td>\n      <td>europa</td>\n    </tr>\n    <tr>\n      <th>11</th>\n      <td>IT1</td>\n      <td>serie-a</td>\n      <td>serie-a</td>\n      <td>first_tier</td>\n      <td>domestic_league</td>\n      <td>75</td>\n      <td>Italy</td>\n      <td>IT1</td>\n      <td>europa</td>\n    </tr>\n    <tr>\n      <th>12</th>\n      <td>NL1</td>\n      <td>eredivisie</td>\n      <td>eredivisie</td>\n      <td>first_tier</td>\n      <td>domestic_league</td>\n      <td>122</td>\n      <td>Netherlands</td>\n      <td>NL1</td>\n      <td>europa</td>\n    </tr>\n    <tr>\n      <th>13</th>\n      <td>RUP</td>\n      <td>russian-cup</td>\n      <td>russian-cup</td>\n      <td>domestic_cup</td>\n      <td>domestic_cup</td>\n      <td>141</td>\n      <td>Russia</td>\n      <td>RU1</td>\n      <td>europa</td>\n    </tr>\n    <tr>\n      <th>14</th>\n      <td>PO1</td>\n      <td>liga-portugal-bwin</td>\n      <td>liga-portugal-bwin</td>\n      <td>first_tier</td>\n      <td>domestic_league</td>\n      <td>136</td>\n      <td>Portugal</td>\n      <td>PO1</td>\n      <td>europa</td>\n    </tr>\n    <tr>\n      <th>15</th>\n      <td>BESC</td>\n      <td>belgian-supercup</td>\n      <td>belgian-supercup</td>\n      <td>domestic_super_cup</td>\n      <td>other</td>\n      <td>19</td>\n      <td>Belgium</td>\n      <td>BE1</td>\n      <td>europa</td>\n    </tr>\n    <tr>\n      <th>16</th>\n      <td>GB1</td>\n      <td>premier-league</td>\n      <td>premier-league</td>\n      <td>first_tier</td>\n      <td>domestic_league</td>\n      <td>189</td>\n      <td>England</td>\n      <td>GB1</td>\n      <td>europa</td>\n    </tr>\n    <tr>\n      <th>17</th>\n      <td>ELQ</td>\n      <td>europa-league-qualifikation</td>\n      <td>europa-league-qualifikation</td>\n      <td>europa_league_qualifying</td>\n      <td>international_cup</td>\n      <td>-1</td>\n      <td>NaN</td>\n      <td>NaN</td>\n      <td>europa</td>\n    </tr>\n    <tr>\n      <th>18</th>\n      <td>CGB</td>\n      <td>efl-cup</td>\n      <td>efl-cup</td>\n      <td>league_cup</td>\n      <td>other</td>\n      <td>189</td>\n      <td>England</td>\n      <td>GB1</td>\n      <td>europa</td>\n    </tr>\n    <tr>\n      <th>19</th>\n      <td>DKP</td>\n      <td>sydbank-pokalen</td>\n      <td>sydbank-pokalen</td>\n      <td>domestic_cup</td>\n      <td>domestic_cup</td>\n      <td>39</td>\n      <td>Denmark</td>\n      <td>DK1</td>\n      <td>europa</td>\n    </tr>\n    <tr>\n      <th>20</th>\n      <td>ECLQ</td>\n      <td>uefa-europa-conference-league-qualifikation</td>\n      <td>uefa-europa-conference-league-qualifikation</td>\n      <td>uefa_europa_conference_league_qualifiers</td>\n      <td>international_cup</td>\n      <td>-1</td>\n      <td>NaN</td>\n      <td>NaN</td>\n      <td>europa</td>\n    </tr>\n    <tr>\n      <th>21</th>\n      <td>FAC</td>\n      <td>fa-cup</td>\n      <td>fa-cup</td>\n      <td>domestic_cup</td>\n      <td>domestic_cup</td>\n      <td>189</td>\n      <td>England</td>\n      <td>GB1</td>\n      <td>europa</td>\n    </tr>\n    <tr>\n      <th>22</th>\n      <td>NLP</td>\n      <td>toto-knvb-beker</td>\n      <td>toto-knvb-beker</td>\n      <td>domestic_cup</td>\n      <td>domestic_cup</td>\n      <td>122</td>\n      <td>Netherlands</td>\n      <td>NL1</td>\n      <td>europa</td>\n    </tr>\n    <tr>\n      <th>23</th>\n      <td>UKRS</td>\n      <td>ukrainian-super-cup</td>\n      <td>ukrainian-super-cup</td>\n      <td>domestic_super_cup</td>\n      <td>other</td>\n      <td>177</td>\n      <td>Ukraine</td>\n      <td>UKR1</td>\n      <td>europa</td>\n    </tr>\n    <tr>\n      <th>24</th>\n      <td>UKR1</td>\n      <td>premier-liga</td>\n      <td>premier-liga</td>\n      <td>first_tier</td>\n      <td>domestic_league</td>\n      <td>177</td>\n      <td>Ukraine</td>\n      <td>UKR1</td>\n      <td>europa</td>\n    </tr>\n    <tr>\n      <th>25</th>\n      <td>CDR</td>\n      <td>copa-del-rey</td>\n      <td>copa-del-rey</td>\n      <td>domestic_cup</td>\n      <td>domestic_cup</td>\n      <td>157</td>\n      <td>Spain</td>\n      <td>ES1</td>\n      <td>europa</td>\n    </tr>\n    <tr>\n      <th>26</th>\n      <td>CL</td>\n      <td>uefa-champions-league</td>\n      <td>uefa-champions-league</td>\n      <td>uefa_champions_league</td>\n      <td>international_cup</td>\n      <td>-1</td>\n      <td>NaN</td>\n      <td>NaN</td>\n      <td>europa</td>\n    </tr>\n    <tr>\n      <th>27</th>\n      <td>GR1</td>\n      <td>super-league-1</td>\n      <td>super-league-1</td>\n      <td>first_tier</td>\n      <td>domestic_league</td>\n      <td>56</td>\n      <td>Greece</td>\n      <td>GR1</td>\n      <td>europa</td>\n    </tr>\n    <tr>\n      <th>28</th>\n      <td>TR1</td>\n      <td>super-lig</td>\n      <td>super-lig</td>\n      <td>first_tier</td>\n      <td>domestic_league</td>\n      <td>174</td>\n      <td>Turkey</td>\n      <td>TR1</td>\n      <td>europa</td>\n    </tr>\n    <tr>\n      <th>29</th>\n      <td>POCP</td>\n      <td>allianz-cup</td>\n      <td>allianz-cup</td>\n      <td>domestic_cup</td>\n      <td>domestic_cup</td>\n      <td>136</td>\n      <td>Portugal</td>\n      <td>PO1</td>\n      <td>europa</td>\n    </tr>\n    <tr>\n      <th>30</th>\n      <td>GBCS</td>\n      <td>community-shield</td>\n      <td>community-shield</td>\n      <td>domestic_super_cup</td>\n      <td>other</td>\n      <td>189</td>\n      <td>England</td>\n      <td>GB1</td>\n      <td>europa</td>\n    </tr>\n    <tr>\n      <th>31</th>\n      <td>KLUB</td>\n      <td>fifa-klub-wm</td>\n      <td>fifa-klub-wm</td>\n      <td>fifa_club_world_cup</td>\n      <td>other</td>\n      <td>-1</td>\n      <td>NaN</td>\n      <td>NaN</td>\n      <td>europa</td>\n    </tr>\n    <tr>\n      <th>32</th>\n      <td>L1</td>\n      <td>bundesliga</td>\n      <td>bundesliga</td>\n      <td>first_tier</td>\n      <td>domestic_league</td>\n      <td>40</td>\n      <td>Germany</td>\n      <td>L1</td>\n      <td>europa</td>\n    </tr>\n    <tr>\n      <th>33</th>\n      <td>RU1</td>\n      <td>premier-liga</td>\n      <td>premier-liga</td>\n      <td>first_tier</td>\n      <td>domestic_league</td>\n      <td>141</td>\n      <td>Russia</td>\n      <td>RU1</td>\n      <td>europa</td>\n    </tr>\n    <tr>\n      <th>34</th>\n      <td>SC1</td>\n      <td>scottish-premiership</td>\n      <td>scottish-premiership</td>\n      <td>first_tier</td>\n      <td>domestic_league</td>\n      <td>190</td>\n      <td>Scotland</td>\n      <td>SC1</td>\n      <td>europa</td>\n    </tr>\n    <tr>\n      <th>35</th>\n      <td>SCI</td>\n      <td>supercoppa-italiana</td>\n      <td>supercoppa-italiana</td>\n      <td>domestic_super_cup</td>\n      <td>other</td>\n      <td>75</td>\n      <td>Italy</td>\n      <td>IT1</td>\n      <td>europa</td>\n    </tr>\n    <tr>\n      <th>36</th>\n      <td>BE1</td>\n      <td>jupiler-pro-league</td>\n      <td>jupiler-pro-league</td>\n      <td>first_tier</td>\n      <td>domestic_league</td>\n      <td>19</td>\n      <td>Belgium</td>\n      <td>BE1</td>\n      <td>europa</td>\n    </tr>\n    <tr>\n      <th>37</th>\n      <td>CLQ</td>\n      <td>uefa-champions-league-qualifikation</td>\n      <td>uefa-champions-league-qualifikation</td>\n      <td>uefa_champions_league_qualifying</td>\n      <td>international_cup</td>\n      <td>-1</td>\n      <td>NaN</td>\n      <td>NaN</td>\n      <td>europa</td>\n    </tr>\n    <tr>\n      <th>38</th>\n      <td>DFL</td>\n      <td>dfl-supercup</td>\n      <td>dfl-supercup</td>\n      <td>domestic_super_cup</td>\n      <td>other</td>\n      <td>40</td>\n      <td>Germany</td>\n      <td>L1</td>\n      <td>europa</td>\n    </tr>\n    <tr>\n      <th>39</th>\n      <td>SFA</td>\n      <td>sfa-cup</td>\n      <td>sfa-cup</td>\n      <td>domestic_cup</td>\n      <td>domestic_cup</td>\n      <td>190</td>\n      <td>Scotland</td>\n      <td>SC1</td>\n      <td>europa</td>\n    </tr>\n    <tr>\n      <th>40</th>\n      <td>UKRP</td>\n      <td>ukrainian-cup</td>\n      <td>ukrainian-cup</td>\n      <td>domestic_cup</td>\n      <td>domestic_cup</td>\n      <td>177</td>\n      <td>Ukraine</td>\n      <td>UKR1</td>\n      <td>europa</td>\n    </tr>\n    <tr>\n      <th>41</th>\n      <td>DFB</td>\n      <td>dfb-pokal</td>\n      <td>dfb-pokal</td>\n      <td>domestic_cup</td>\n      <td>domestic_cup</td>\n      <td>40</td>\n      <td>Germany</td>\n      <td>L1</td>\n      <td>europa</td>\n    </tr>\n    <tr>\n      <th>42</th>\n      <td>FRCH</td>\n      <td>trophee-des-champions</td>\n      <td>trophee-des-champions</td>\n      <td>domestic_super_cup</td>\n      <td>other</td>\n      <td>50</td>\n      <td>France</td>\n      <td>FR1</td>\n      <td>europa</td>\n    </tr>\n  </tbody>\n</table>\n</div>"
     },
     "execution_count": 9,
     "metadata": {},
     "output_type": "execute_result"
    }
   ],
   "source": [
    "# Dropping irrelevant columns\n",
    "df = df[['competition_id', 'competition_code', 'name', 'sub_type', 'type',\n",
    "       'country_id', 'country_name', 'domestic_league_code', 'confederation',\n",
    "       #'url'\n",
    "]]\n",
    "df"
   ]
  },
  {
   "cell_type": "code",
   "execution_count": 10,
   "id": "ecbd17297a9b6d75",
   "metadata": {
    "collapsed": false,
    "ExecuteTime": {
     "end_time": "2024-04-29T12:35:05.608230400Z",
     "start_time": "2024-04-29T12:35:05.465658900Z"
    }
   },
   "outputs": [
    {
     "data": {
      "text/plain": "0"
     },
     "execution_count": 10,
     "metadata": {},
     "output_type": "execute_result"
    }
   ],
   "source": [
    "# Identifying duplicated columns\n",
    "df.duplicated().sum()"
   ]
  },
  {
   "cell_type": "code",
   "execution_count": 11,
   "id": "5654dec603edda29",
   "metadata": {
    "collapsed": false,
    "ExecuteTime": {
     "end_time": "2024-04-29T12:35:05.609261200Z",
     "start_time": "2024-04-29T12:35:05.477233900Z"
    }
   },
   "outputs": [
    {
     "data": {
      "text/plain": "competition_id          0\ncompetition_code        0\nname                    0\nsub_type                0\ntype                    0\ncountry_id              0\ncountry_name            7\ndomestic_league_code    7\nconfederation           0\ndtype: int64"
     },
     "execution_count": 11,
     "metadata": {},
     "output_type": "execute_result"
    }
   ],
   "source": [
    "df.isna().sum()\n",
    "# df.loc[df.duplicated()]"
   ]
  },
  {
   "cell_type": "markdown",
   "id": "a18bb9291fe9c54",
   "metadata": {
    "collapsed": false
   },
   "source": [
    "### Step 3: Feature Understanding ###\n",
    "+ My questions\n",
    "       + What are the different types of competitions?\n",
    "       + How many sub_types are there in each type?\n",
    "       + How many competitions are there in each country?\n",
    "       + How many competitions are there in each confederation?\n",
    "       + What are the different types of competitions in each country?\n",
    "       + How many different types of competitions are there in each country?\n",
    "+ Plotting Feature Distributions\n",
    "       + Histogram\n",
    "       + KDE\n",
    "       + Boxplot"
   ]
  },
  {
   "cell_type": "code",
   "execution_count": 12,
   "id": "c9708289f84d83f9",
   "metadata": {
    "collapsed": false,
    "ExecuteTime": {
     "end_time": "2024-04-29T12:35:05.610230900Z",
     "start_time": "2024-04-29T12:35:05.485133400Z"
    }
   },
   "outputs": [
    {
     "data": {
      "text/plain": "type\ndomestic_league      14\nother                13\ndomestic_cup         11\ninternational_cup     5\nName: count, dtype: int64"
     },
     "execution_count": 12,
     "metadata": {},
     "output_type": "execute_result"
    }
   ],
   "source": [
    "# What are the different types of competitions?\n",
    "df['type'].value_counts()"
   ]
  },
  {
   "cell_type": "code",
   "execution_count": 13,
   "id": "e4e41f46dafcf2ba",
   "metadata": {
    "collapsed": false,
    "ExecuteTime": {
     "end_time": "2024-04-29T12:35:05.849678600Z",
     "start_time": "2024-04-29T12:35:05.492414Z"
    }
   },
   "outputs": [
    {
     "data": {
      "text/plain": "<Axes: xlabel='type'>"
     },
     "execution_count": 13,
     "metadata": {},
     "output_type": "execute_result"
    },
    {
     "data": {
      "text/plain": "<Figure size 640x480 with 1 Axes>",
      "image/png": "[encoded data removed]"
     },
     "metadata": {},
     "output_type": "display_data"
    }
   ],
   "source": [
    "df['type'].value_counts().plot(kind='bar')"
   ]
  },
  {
   "cell_type": "code",
   "execution_count": 14,
   "id": "dbf3c276bdb1463c",
   "metadata": {
    "collapsed": false,
    "ExecuteTime": {
     "end_time": "2024-04-29T12:35:05.850678500Z",
     "start_time": "2024-04-29T12:35:05.752833700Z"
    }
   },
   "outputs": [
    {
     "data": {
      "text/plain": "sub_type\nfirst_tier                                  14\ndomestic_cup                                11\ndomestic_super_cup                          10\nuefa_super_cup                               1\neuropa_league                                1\neuropa_league_qualifying                     1\nleague_cup                                   1\nuefa_europa_conference_league_qualifiers     1\nuefa_champions_league                        1\nfifa_club_world_cup                          1\nuefa_champions_league_qualifying             1\nName: count, dtype: int64"
     },
     "execution_count": 14,
     "metadata": {},
     "output_type": "execute_result"
    }
   ],
   "source": [
    "df['sub_type'].value_counts()"
   ]
  },
  {
   "cell_type": "code",
   "execution_count": 15,
   "id": "6597353ded031f70",
   "metadata": {
    "collapsed": false,
    "ExecuteTime": {
     "end_time": "2024-04-29T12:35:05.874695300Z",
     "start_time": "2024-04-29T12:35:05.761177900Z"
    }
   },
   "outputs": [
    {
     "data": {
      "text/plain": "type               sub_type                                \ndomestic_cup       domestic_cup                                11\ndomestic_league    first_tier                                  14\ninternational_cup  europa_league                                1\n                   europa_league_qualifying                     1\n                   uefa_champions_league                        1\n                   uefa_champions_league_qualifying             1\n                   uefa_europa_conference_league_qualifiers     1\nother              domestic_super_cup                          10\n                   fifa_club_world_cup                          1\n                   league_cup                                   1\n                   uefa_super_cup                               1\nName: count, dtype: int64"
     },
     "execution_count": 15,
     "metadata": {},
     "output_type": "execute_result"
    }
   ],
   "source": [
    "# How many sub_types are there in each type?\n",
    "df.groupby('type')['sub_type'].nunique()\n",
    "df.groupby('type')['sub_type'].value_counts()"
   ]
  },
  {
   "cell_type": "code",
   "execution_count": 16,
   "outputs": [
    {
     "data": {
      "text/plain": "   competition_id competition_code     name    sub_type   type  country_id  \\\n18            CGB          efl-cup  efl-cup  league_cup  other         189   \n\n   country_name domestic_league_code confederation  \n18      England                  GB1        europa  ",
      "text/html": "<div>\n<style scoped>\n    .dataframe tbody tr th:only-of-type {\n        vertical-align: middle;\n    }\n\n    .dataframe tbody tr th {\n        vertical-align: top;\n    }\n\n    .dataframe thead th {\n        text-align: right;\n    }\n</style>\n<table border=\"1\" class=\"dataframe\">\n  <thead>\n    <tr style=\"text-align: right;\">\n      <th></th>\n      <th>competition_id</th>\n      <th>competition_code</th>\n      <th>name</th>\n      <th>sub_type</th>\n      <th>type</th>\n      <th>country_id</th>\n      <th>country_name</th>\n      <th>domestic_league_code</th>\n      <th>confederation</th>\n    </tr>\n  </thead>\n  <tbody>\n    <tr>\n      <th>18</th>\n      <td>CGB</td>\n      <td>efl-cup</td>\n      <td>efl-cup</td>\n      <td>league_cup</td>\n      <td>other</td>\n      <td>189</td>\n      <td>England</td>\n      <td>GB1</td>\n      <td>europa</td>\n    </tr>\n  </tbody>\n</table>\n</div>"
     },
     "execution_count": 16,
     "metadata": {},
     "output_type": "execute_result"
    }
   ],
   "source": [
    "df.loc[df['sub_type'] == 'league_cup']"
   ],
   "metadata": {
    "collapsed": false,
    "ExecuteTime": {
     "end_time": "2024-04-29T12:35:05.994297700Z",
     "start_time": "2024-04-29T12:35:05.773674600Z"
    }
   },
   "id": "c3d57a344fdedea3"
  },
  {
   "cell_type": "code",
   "execution_count": 24,
   "outputs": [
    {
     "data": {
      "text/plain": "   competition_id competition_code          name             sub_type   type  \\\n31           KLUB     fifa-klub-wm  fifa-klub-wm  fifa_club_world_cup  other   \n\n    country_id country_name domestic_league_code confederation  \n31          -1          NaN                  NaN        europa  ",
      "text/html": "<div>\n<style scoped>\n    .dataframe tbody tr th:only-of-type {\n        vertical-align: middle;\n    }\n\n    .dataframe tbody tr th {\n        vertical-align: top;\n    }\n\n    .dataframe thead th {\n        text-align: right;\n    }\n</style>\n<table border=\"1\" class=\"dataframe\">\n  <thead>\n    <tr style=\"text-align: right;\">\n      <th></th>\n      <th>competition_id</th>\n      <th>competition_code</th>\n      <th>name</th>\n      <th>sub_type</th>\n      <th>type</th>\n      <th>country_id</th>\n      <th>country_name</th>\n      <th>domestic_league_code</th>\n      <th>confederation</th>\n    </tr>\n  </thead>\n  <tbody>\n    <tr>\n      <th>31</th>\n      <td>KLUB</td>\n      <td>fifa-klub-wm</td>\n      <td>fifa-klub-wm</td>\n      <td>fifa_club_world_cup</td>\n      <td>other</td>\n      <td>-1</td>\n      <td>NaN</td>\n      <td>NaN</td>\n      <td>europa</td>\n    </tr>\n  </tbody>\n</table>\n</div>"
     },
     "execution_count": 24,
     "metadata": {},
     "output_type": "execute_result"
    }
   ],
   "source": [
    "df.loc[df['sub_type'] == 'fifa_club_world_cup'] "
   ],
   "metadata": {
    "collapsed": false,
    "ExecuteTime": {
     "end_time": "2024-04-29T13:03:03.522630200Z",
     "start_time": "2024-04-29T13:03:03.481315900Z"
    }
   },
   "id": "cd0c68c4f8d57ea9"
  },
  {
   "cell_type": "code",
   "execution_count": 17,
   "id": "94ee7aacda24fb5e",
   "metadata": {
    "collapsed": false,
    "ExecuteTime": {
     "end_time": "2024-04-29T12:35:05.995292500Z",
     "start_time": "2024-04-29T12:35:05.785992900Z"
    }
   },
   "outputs": [
    {
     "data": {
      "text/plain": "country_name\nEngland        4\nItaly          3\nNetherlands    3\nPortugal       3\nRussia         3\nSpain          3\nUkraine        3\nGermany        3\nGreece         2\nDenmark        2\nFrance         2\nBelgium        2\nScotland       2\nTurkey         1\nName: count, dtype: int64"
     },
     "execution_count": 17,
     "metadata": {},
     "output_type": "execute_result"
    }
   ],
   "source": [
    "# How many competitions are there in each country?\n",
    "df['country_name'].value_counts()"
   ]
  },
  {
   "cell_type": "code",
   "execution_count": 18,
   "id": "197e7c9f1db552c6",
   "metadata": {
    "collapsed": false,
    "ExecuteTime": {
     "end_time": "2024-04-29T12:35:06.032216700Z",
     "start_time": "2024-04-29T12:35:05.796684300Z"
    }
   },
   "outputs": [
    {
     "name": "stderr",
     "output_type": "stream",
     "text": [
      "C:\\Users\\Daimo\\AppData\\Local\\Temp\\ipykernel_3916\\3391649761.py:1: MatplotlibDeprecationWarning: The get_cmap function was deprecated in Matplotlib 3.7 and will be removed two minor releases later. Use ``matplotlib.colormaps[name]`` or ``matplotlib.colormaps.get_cmap(obj)`` instead.\n",
      "  colors = plt.cm.get_cmap('tab10', len(df['country_name'].unique()))  # Get a colormap with enough colors for each unique country name\n"
     ]
    },
    {
     "data": {
      "text/plain": "<Figure size 640x480 with 1 Axes>",
      "image/png": "[encoded data removed]"
     },
     "metadata": {},
     "output_type": "display_data"
    }
   ],
   "source": [
    "\n",
    "colors = plt.cm.get_cmap('tab10', len(df['country_name'].unique()))  # Get a colormap with enough colors for each unique country name\n",
    "color_dict = {country: colors(i) for i, country in enumerate(df['country_name'].unique())}  # Create a dictionary mapping country names to colors\n",
    "\n",
    "# Plotting\n",
    "df['country_name'].value_counts().plot(kind='barh', title='Number of Competitions in Each Country', color=[color_dict[country] for country in df['country_name']])\n",
    "plt.show()"
   ]
  },
  {
   "cell_type": "code",
   "execution_count": 19,
   "id": "d9935f030204c7b4",
   "metadata": {
    "collapsed": false,
    "ExecuteTime": {
     "end_time": "2024-04-29T12:35:06.032216700Z",
     "start_time": "2024-04-29T12:35:05.926258200Z"
    }
   },
   "outputs": [
    {
     "data": {
      "text/plain": "confederation\neuropa    43\nName: count, dtype: int64"
     },
     "execution_count": 19,
     "metadata": {},
     "output_type": "execute_result"
    }
   ],
   "source": [
    "# How many competitions are there in each confederation?\n",
    "df['confederation'].value_counts()"
   ]
  },
  {
   "cell_type": "code",
   "execution_count": 20,
   "id": "fe9b0f9415476e34",
   "metadata": {
    "collapsed": false,
    "ExecuteTime": {
     "end_time": "2024-04-29T12:35:06.033158400Z",
     "start_time": "2024-04-29T12:35:05.933413100Z"
    }
   },
   "outputs": [
    {
     "data": {
      "text/plain": "1"
     },
     "execution_count": 20,
     "metadata": {},
     "output_type": "execute_result"
    }
   ],
   "source": [
    "# Number of different confederations?\n",
    "df['confederation'].nunique()\n",
    "# it's only 1 so, probably I should delete this column"
   ]
  },
  {
   "cell_type": "code",
   "execution_count": 21,
   "id": "a56bb2ba42b4d41d",
   "metadata": {
    "collapsed": false,
    "ExecuteTime": {
     "end_time": "2024-04-29T12:35:06.033158400Z",
     "start_time": "2024-04-29T12:35:05.940327900Z"
    }
   },
   "outputs": [
    {
     "data": {
      "text/plain": "country_name  type           \nBelgium       domestic_league    1\n              other              1\nDenmark       domestic_league    1\n              domestic_cup       1\nEngland       other              2\n              domestic_league    1\n              domestic_cup       1\nFrance        other              1\n              domestic_league    1\nGermany       other              1\n              domestic_league    1\n              domestic_cup       1\nGreece        domestic_league    1\n              domestic_cup       1\nItaly         other              1\n              domestic_league    1\n              domestic_cup       1\nNetherlands   domestic_league    1\n              other              1\n              domestic_cup       1\nPortugal      domestic_cup       1\n              domestic_league    1\n              other              1\nRussia        domestic_cup       1\n              domestic_league    1\n              other              1\nScotland      domestic_cup       1\n              domestic_league    1\nSpain         domestic_cup       1\n              domestic_league    1\n              other              1\nTurkey        domestic_league    1\nUkraine       domestic_cup       1\n              domestic_league    1\n              other              1\nName: count, dtype: int64"
     },
     "execution_count": 21,
     "metadata": {},
     "output_type": "execute_result"
    }
   ],
   "source": [
    "# What are the different types of competitions in each country?\n",
    "df.groupby('country_name')['type'].value_counts()"
   ]
  },
  {
   "cell_type": "code",
   "execution_count": 22,
   "id": "8ca0dae65ef2dc1",
   "metadata": {
    "collapsed": false,
    "ExecuteTime": {
     "end_time": "2024-04-29T12:35:06.034158900Z",
     "start_time": "2024-04-29T12:35:05.949846300Z"
    }
   },
   "outputs": [
    {
     "data": {
      "text/plain": "country_name\nBelgium        2\nDenmark        2\nEngland        3\nFrance         2\nGermany        3\nGreece         2\nItaly          3\nNetherlands    3\nPortugal       3\nRussia         3\nScotland       2\nSpain          3\nTurkey         1\nUkraine        3\nName: type, dtype: int64"
     },
     "execution_count": 22,
     "metadata": {},
     "output_type": "execute_result"
    }
   ],
   "source": [
    "# How many different types of competitions are there in each country?\n",
    "df.groupby('country_name')['type'].nunique()"
   ]
  },
  {
   "cell_type": "code",
   "execution_count": 23,
   "id": "d23f0a9d2ff6ece0",
   "metadata": {
    "collapsed": false,
    "ExecuteTime": {
     "end_time": "2024-04-29T12:35:06.034158900Z",
     "start_time": "2024-04-29T12:35:05.957387100Z"
    }
   },
   "outputs": [
    {
     "data": {
      "text/plain": "Index(['competition_id', 'competition_code', 'name', 'sub_type', 'type',\n       'country_id', 'country_name', 'domestic_league_code', 'confederation'],\n      dtype='object')"
     },
     "execution_count": 23,
     "metadata": {},
     "output_type": "execute_result"
    }
   ],
   "source": [
    "df.columns"
   ]
  },
  {
   "cell_type": "code",
   "execution_count": 23,
   "id": "9bbf7f80a5c656e",
   "metadata": {
    "collapsed": false,
    "ExecuteTime": {
     "end_time": "2024-04-29T12:35:06.034158900Z",
     "start_time": "2024-04-29T12:35:05.963619600Z"
    }
   },
   "outputs": [],
   "source": []
  }
 ],
 "metadata": {
  "kernelspec": {
   "display_name": "Python 3",
   "language": "python",
   "name": "python3"
  },
  "language_info": {
   "codemirror_mode": {
    "name": "ipython",
    "version": 3
   },
   "file_extension": ".py",
   "mimetype": "text/x-python",
   "name": "python",
   "nbconvert_exporter": "python",
   "pygments_lexer": "ipython3",
   "version": "3.11.7"
  }
 },
 "nbformat": 4,
 "nbformat_minor": 5
}

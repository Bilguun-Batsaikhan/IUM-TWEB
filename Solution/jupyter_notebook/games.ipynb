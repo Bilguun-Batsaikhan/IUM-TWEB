{
 "cells": [
  {
   "cell_type": "code",
   "execution_count": 2,
   "id": "initial_id",
   "metadata": {
    "collapsed": true,
    "ExecuteTime": {
     "end_time": "2024-05-22T15:15:44.824930800Z",
     "start_time": "2024-05-22T15:15:44.793506900Z"
    }
   },
   "outputs": [],
   "source": [
    "import pandas as pd\n",
    "import seaborn as sns\n",
    "import numpy as np\n",
    "import matplotlib.pyplot as plt"
   ]
  },
  {
   "cell_type": "markdown",
   "source": [
    "### Step 1: Data Understanding ###\n",
    "+ Dataframe shape\n",
    "+ head and tail\n",
    "+ dtypes\n",
    "+ describe"
   ],
   "metadata": {
    "collapsed": false
   },
   "id": "bce354b6ef740a79"
  },
  {
   "cell_type": "code",
   "execution_count": 3,
   "outputs": [
    {
     "data": {
      "text/plain": "   game_id competition_id  season         round        date  home_club_id  \\\n0  2222597            RU1    2012   6. Matchday  2012-08-25          3725   \n1  2222627            RU1    2012   5. Matchday  2012-08-20          2696   \n2  2222658            RU1    2012  10. Matchday  2012-09-30          2410   \n3  2222664            RU1    2012   8. Matchday  2012-09-15           932   \n4  2222683            RU1    2012  12. Matchday  2012-10-22          2696   \n\n   away_club_id  home_club_goals  away_club_goals  home_club_position  ...  \\\n0           232                2                1                 2.0  ...   \n1          4128                0                2                11.0  ...   \n2           121                0                2                 2.0  ...   \n3          2698                1                0                 5.0  ...   \n4         12438                0                1                11.0  ...   \n\n        stadium attendance               referee  \\\n0  Akhmat-Arena    21700.0  Vladislav Bezborodov   \n1     Metallurg    11400.0         Sergey Ivanov   \n2  Arena Khimki    12000.0        Sergey Karasev   \n3     RZD Arena    11408.0        Sergey Karasev   \n4     Metallurg     7534.0     Timur Arslanbekov   \n\n                                                 url  home_club_formation  \\\n0  https://www.transfermarkt.co.uk/terek-grozny_s...                  NaN   \n1  https://www.transfermarkt.co.uk/krylya-sovetov...                  NaN   \n2  https://www.transfermarkt.co.uk/cska-moscow_di...                  NaN   \n3  https://www.transfermarkt.co.uk/lokomotiv-mosc...                  NaN   \n4  https://www.transfermarkt.co.uk/krylya-sovetov...                  NaN   \n\n  away_club_formation                      home_club_name  \\\n0                 NaN                   RFK Akhmat Grozny   \n1                 NaN           PFK Krylya Sovetov Samara   \n2                 NaN                     PFK CSKA Moskva   \n3                 NaN  Футбольный клуб \"Локомотив\" Москва   \n4                 NaN           PFK Krylya Sovetov Samara   \n\n                    away_club_name aggregate competition_type  \n0                FK Spartak Moskva       2:1  domestic_league  \n1                       Amkar Perm       0:2  domestic_league  \n2                 FK Dinamo Moskva       0:2  domestic_league  \n3                   FC Rubin Kazan       1:0  domestic_league  \n4  Volga Nizhniy Novgorod (- 2016)       0:1  domestic_league  \n\n[5 rows x 23 columns]",
      "text/html": "<div>\n<style scoped>\n    .dataframe tbody tr th:only-of-type {\n        vertical-align: middle;\n    }\n\n    .dataframe tbody tr th {\n        vertical-align: top;\n    }\n\n    .dataframe thead th {\n        text-align: right;\n    }\n</style>\n<table border=\"1\" class=\"dataframe\">\n  <thead>\n    <tr style=\"text-align: right;\">\n      <th></th>\n      <th>game_id</th>\n      <th>competition_id</th>\n      <th>season</th>\n      <th>round</th>\n      <th>date</th>\n      <th>home_club_id</th>\n      <th>away_club_id</th>\n      <th>home_club_goals</th>\n      <th>away_club_goals</th>\n      <th>home_club_position</th>\n      <th>...</th>\n      <th>stadium</th>\n      <th>attendance</th>\n      <th>referee</th>\n      <th>url</th>\n      <th>home_club_formation</th>\n      <th>away_club_formation</th>\n      <th>home_club_name</th>\n      <th>away_club_name</th>\n      <th>aggregate</th>\n      <th>competition_type</th>\n    </tr>\n  </thead>\n  <tbody>\n    <tr>\n      <th>0</th>\n      <td>2222597</td>\n      <td>RU1</td>\n      <td>2012</td>\n      <td>6. Matchday</td>\n      <td>2012-08-25</td>\n      <td>3725</td>\n      <td>232</td>\n      <td>2</td>\n      <td>1</td>\n      <td>2.0</td>\n      <td>...</td>\n      <td>Akhmat-Arena</td>\n      <td>21700.0</td>\n      <td>Vladislav Bezborodov</td>\n      <td>https://www.transfermarkt.co.uk/terek-grozny_s...</td>\n      <td>NaN</td>\n      <td>NaN</td>\n      <td>RFK Akhmat Grozny</td>\n      <td>FK Spartak Moskva</td>\n      <td>2:1</td>\n      <td>domestic_league</td>\n    </tr>\n    <tr>\n      <th>1</th>\n      <td>2222627</td>\n      <td>RU1</td>\n      <td>2012</td>\n      <td>5. Matchday</td>\n      <td>2012-08-20</td>\n      <td>2696</td>\n      <td>4128</td>\n      <td>0</td>\n      <td>2</td>\n      <td>11.0</td>\n      <td>...</td>\n      <td>Metallurg</td>\n      <td>11400.0</td>\n      <td>Sergey Ivanov</td>\n      <td>https://www.transfermarkt.co.uk/krylya-sovetov...</td>\n      <td>NaN</td>\n      <td>NaN</td>\n      <td>PFK Krylya Sovetov Samara</td>\n      <td>Amkar Perm</td>\n      <td>0:2</td>\n      <td>domestic_league</td>\n    </tr>\n    <tr>\n      <th>2</th>\n      <td>2222658</td>\n      <td>RU1</td>\n      <td>2012</td>\n      <td>10. Matchday</td>\n      <td>2012-09-30</td>\n      <td>2410</td>\n      <td>121</td>\n      <td>0</td>\n      <td>2</td>\n      <td>2.0</td>\n      <td>...</td>\n      <td>Arena Khimki</td>\n      <td>12000.0</td>\n      <td>Sergey Karasev</td>\n      <td>https://www.transfermarkt.co.uk/cska-moscow_di...</td>\n      <td>NaN</td>\n      <td>NaN</td>\n      <td>PFK CSKA Moskva</td>\n      <td>FK Dinamo Moskva</td>\n      <td>0:2</td>\n      <td>domestic_league</td>\n    </tr>\n    <tr>\n      <th>3</th>\n      <td>2222664</td>\n      <td>RU1</td>\n      <td>2012</td>\n      <td>8. Matchday</td>\n      <td>2012-09-15</td>\n      <td>932</td>\n      <td>2698</td>\n      <td>1</td>\n      <td>0</td>\n      <td>5.0</td>\n      <td>...</td>\n      <td>RZD Arena</td>\n      <td>11408.0</td>\n      <td>Sergey Karasev</td>\n      <td>https://www.transfermarkt.co.uk/lokomotiv-mosc...</td>\n      <td>NaN</td>\n      <td>NaN</td>\n      <td>Футбольный клуб \"Локомотив\" Москва</td>\n      <td>FC Rubin Kazan</td>\n      <td>1:0</td>\n      <td>domestic_league</td>\n    </tr>\n    <tr>\n      <th>4</th>\n      <td>2222683</td>\n      <td>RU1</td>\n      <td>2012</td>\n      <td>12. Matchday</td>\n      <td>2012-10-22</td>\n      <td>2696</td>\n      <td>12438</td>\n      <td>0</td>\n      <td>1</td>\n      <td>11.0</td>\n      <td>...</td>\n      <td>Metallurg</td>\n      <td>7534.0</td>\n      <td>Timur Arslanbekov</td>\n      <td>https://www.transfermarkt.co.uk/krylya-sovetov...</td>\n      <td>NaN</td>\n      <td>NaN</td>\n      <td>PFK Krylya Sovetov Samara</td>\n      <td>Volga Nizhniy Novgorod (- 2016)</td>\n      <td>0:1</td>\n      <td>domestic_league</td>\n    </tr>\n  </tbody>\n</table>\n<p>5 rows × 23 columns</p>\n</div>"
     },
     "execution_count": 3,
     "metadata": {},
     "output_type": "execute_result"
    }
   ],
   "source": [
    "df = pd.read_csv('../csv/games.csv')\n",
    "df.head()"
   ],
   "metadata": {
    "collapsed": false,
    "ExecuteTime": {
     "end_time": "2024-05-22T15:15:45.185569200Z",
     "start_time": "2024-05-22T15:15:44.803548100Z"
    }
   },
   "id": "4c413eb1575e06c4"
  },
  {
   "cell_type": "code",
   "execution_count": 4,
   "outputs": [
    {
     "data": {
      "text/plain": "Index(['game_id', 'competition_id', 'season', 'round', 'date', 'home_club_id',\n       'away_club_id', 'home_club_goals', 'away_club_goals',\n       'home_club_position', 'away_club_position', 'home_club_manager_name',\n       'away_club_manager_name', 'stadium', 'attendance', 'referee', 'url',\n       'home_club_formation', 'away_club_formation', 'home_club_name',\n       'away_club_name', 'aggregate', 'competition_type'],\n      dtype='object')"
     },
     "execution_count": 4,
     "metadata": {},
     "output_type": "execute_result"
    }
   ],
   "source": [
    "df.columns"
   ],
   "metadata": {
    "collapsed": false,
    "ExecuteTime": {
     "end_time": "2024-05-22T15:15:45.186569300Z",
     "start_time": "2024-05-22T15:15:45.083723200Z"
    }
   },
   "id": "99ddfe28c78570ea"
  },
  {
   "cell_type": "code",
   "execution_count": 5,
   "outputs": [
    {
     "data": {
      "text/plain": "competition_type\ndomestic_cup         11\ndomestic_league      14\ninternational_cup     5\nother                13\nName: competition_id, dtype: int64"
     },
     "execution_count": 5,
     "metadata": {},
     "output_type": "execute_result"
    }
   ],
   "source": [
    "#check if for every competition_type there is a competition_id that is unique\n",
    "df.groupby('competition_type')['competition_id'].nunique()"
   ],
   "metadata": {
    "collapsed": false,
    "ExecuteTime": {
     "end_time": "2024-05-22T15:15:45.187569600Z",
     "start_time": "2024-05-22T15:15:45.088939400Z"
    }
   },
   "id": "3628c8e303bfe352"
  },
  {
   "cell_type": "code",
   "execution_count": 6,
   "outputs": [
    {
     "name": "stdout",
     "output_type": "stream",
     "text": [
      "<class 'pandas.core.frame.DataFrame'>\n",
      "RangeIndex: 65216 entries, 0 to 65215\n",
      "Data columns (total 23 columns):\n",
      " #   Column                  Non-Null Count  Dtype  \n",
      "---  ------                  --------------  -----  \n",
      " 0   game_id                 65216 non-null  int64  \n",
      " 1   competition_id          65216 non-null  object \n",
      " 2   season                  65216 non-null  int64  \n",
      " 3   round                   65216 non-null  object \n",
      " 4   date                    65216 non-null  object \n",
      " 5   home_club_id            65216 non-null  int64  \n",
      " 6   away_club_id            65216 non-null  int64  \n",
      " 7   home_club_goals         65216 non-null  int64  \n",
      " 8   away_club_goals         65216 non-null  int64  \n",
      " 9   home_club_position      45762 non-null  float64\n",
      " 10  away_club_position      45762 non-null  float64\n",
      " 11  home_club_manager_name  64474 non-null  object \n",
      " 12  away_club_manager_name  64474 non-null  object \n",
      " 13  stadium                 65005 non-null  object \n",
      " 14  attendance              55704 non-null  float64\n",
      " 15  referee                 64622 non-null  object \n",
      " 16  url                     65216 non-null  object \n",
      " 17  home_club_formation     2869 non-null   object \n",
      " 18  away_club_formation     2888 non-null   object \n",
      " 19  home_club_name          53964 non-null  object \n",
      " 20  away_club_name          55167 non-null  object \n",
      " 21  aggregate               65216 non-null  object \n",
      " 22  competition_type        65216 non-null  object \n",
      "dtypes: float64(3), int64(6), object(14)\n",
      "memory usage: 11.4+ MB\n"
     ]
    }
   ],
   "source": [
    "df.info()"
   ],
   "metadata": {
    "collapsed": false,
    "ExecuteTime": {
     "end_time": "2024-05-22T15:15:45.187569600Z",
     "start_time": "2024-05-22T15:15:45.107099200Z"
    }
   },
   "id": "88418befd6d1139d"
  },
  {
   "cell_type": "code",
   "execution_count": 7,
   "outputs": [
    {
     "data": {
      "text/plain": "            game_id        season   home_club_id   away_club_id  \\\ncount  6.521600e+04  65216.000000   65216.000000   65216.000000   \nmean   3.018125e+06   2017.252990    4921.579597    4441.948862   \nstd    5.605215e+05      3.348529   11440.848691   10262.628710   \nmin    2.211607e+06   2012.000000       1.000000       2.000000   \n25%    2.518596e+06   2014.000000     354.000000     347.000000   \n50%    2.919854e+06   2017.000000     995.000000     989.000000   \n75%    3.450800e+06   2020.000000    3205.000000    3028.000000   \nmax    4.228114e+06   2023.000000  112753.000000  112755.000000   \n\n       home_club_goals  away_club_goals  home_club_position  \\\ncount     65216.000000     65216.000000        45762.000000   \nmean          1.593290         1.321440            9.273043   \nstd           1.427243         1.363181            5.299837   \nmin           0.000000         0.000000            1.000000   \n25%           1.000000         0.000000            5.000000   \n50%           1.000000         1.000000            9.000000   \n75%           2.000000         2.000000           14.000000   \nmax          15.000000        19.000000           21.000000   \n\n       away_club_position    attendance  \ncount        45762.000000  55704.000000  \nmean             9.456776  18060.337337  \nstd              5.321858  17764.667425  \nmin              1.000000      1.000000  \n25%              5.000000   4300.000000  \n50%              9.000000  12140.000000  \n75%             14.000000  26184.000000  \nmax             21.000000  99354.000000  ",
      "text/html": "<div>\n<style scoped>\n    .dataframe tbody tr th:only-of-type {\n        vertical-align: middle;\n    }\n\n    .dataframe tbody tr th {\n        vertical-align: top;\n    }\n\n    .dataframe thead th {\n        text-align: right;\n    }\n</style>\n<table border=\"1\" class=\"dataframe\">\n  <thead>\n    <tr style=\"text-align: right;\">\n      <th></th>\n      <th>game_id</th>\n      <th>season</th>\n      <th>home_club_id</th>\n      <th>away_club_id</th>\n      <th>home_club_goals</th>\n      <th>away_club_goals</th>\n      <th>home_club_position</th>\n      <th>away_club_position</th>\n      <th>attendance</th>\n    </tr>\n  </thead>\n  <tbody>\n    <tr>\n      <th>count</th>\n      <td>6.521600e+04</td>\n      <td>65216.000000</td>\n      <td>65216.000000</td>\n      <td>65216.000000</td>\n      <td>65216.000000</td>\n      <td>65216.000000</td>\n      <td>45762.000000</td>\n      <td>45762.000000</td>\n      <td>55704.000000</td>\n    </tr>\n    <tr>\n      <th>mean</th>\n      <td>3.018125e+06</td>\n      <td>2017.252990</td>\n      <td>4921.579597</td>\n      <td>4441.948862</td>\n      <td>1.593290</td>\n      <td>1.321440</td>\n      <td>9.273043</td>\n      <td>9.456776</td>\n      <td>18060.337337</td>\n    </tr>\n    <tr>\n      <th>std</th>\n      <td>5.605215e+05</td>\n      <td>3.348529</td>\n      <td>11440.848691</td>\n      <td>10262.628710</td>\n      <td>1.427243</td>\n      <td>1.363181</td>\n      <td>5.299837</td>\n      <td>5.321858</td>\n      <td>17764.667425</td>\n    </tr>\n    <tr>\n      <th>min</th>\n      <td>2.211607e+06</td>\n      <td>2012.000000</td>\n      <td>1.000000</td>\n      <td>2.000000</td>\n      <td>0.000000</td>\n      <td>0.000000</td>\n      <td>1.000000</td>\n      <td>1.000000</td>\n      <td>1.000000</td>\n    </tr>\n    <tr>\n      <th>25%</th>\n      <td>2.518596e+06</td>\n      <td>2014.000000</td>\n      <td>354.000000</td>\n      <td>347.000000</td>\n      <td>1.000000</td>\n      <td>0.000000</td>\n      <td>5.000000</td>\n      <td>5.000000</td>\n      <td>4300.000000</td>\n    </tr>\n    <tr>\n      <th>50%</th>\n      <td>2.919854e+06</td>\n      <td>2017.000000</td>\n      <td>995.000000</td>\n      <td>989.000000</td>\n      <td>1.000000</td>\n      <td>1.000000</td>\n      <td>9.000000</td>\n      <td>9.000000</td>\n      <td>12140.000000</td>\n    </tr>\n    <tr>\n      <th>75%</th>\n      <td>3.450800e+06</td>\n      <td>2020.000000</td>\n      <td>3205.000000</td>\n      <td>3028.000000</td>\n      <td>2.000000</td>\n      <td>2.000000</td>\n      <td>14.000000</td>\n      <td>14.000000</td>\n      <td>26184.000000</td>\n    </tr>\n    <tr>\n      <th>max</th>\n      <td>4.228114e+06</td>\n      <td>2023.000000</td>\n      <td>112753.000000</td>\n      <td>112755.000000</td>\n      <td>15.000000</td>\n      <td>19.000000</td>\n      <td>21.000000</td>\n      <td>21.000000</td>\n      <td>99354.000000</td>\n    </tr>\n  </tbody>\n</table>\n</div>"
     },
     "execution_count": 7,
     "metadata": {},
     "output_type": "execute_result"
    }
   ],
   "source": [
    "df.describe()"
   ],
   "metadata": {
    "collapsed": false,
    "ExecuteTime": {
     "end_time": "2024-05-22T15:15:45.189073300Z",
     "start_time": "2024-05-22T15:15:45.132071300Z"
    }
   },
   "id": "cdf2ae44c9b3b5fc"
  },
  {
   "cell_type": "code",
   "execution_count": 8,
   "outputs": [
    {
     "data": {
      "text/plain": "(65216, 23)"
     },
     "execution_count": 8,
     "metadata": {},
     "output_type": "execute_result"
    }
   ],
   "source": [
    "df.shape"
   ],
   "metadata": {
    "collapsed": false,
    "ExecuteTime": {
     "end_time": "2024-05-22T15:15:45.190078Z",
     "start_time": "2024-05-22T15:15:45.167689Z"
    }
   },
   "id": "71a56b78c771535a"
  },
  {
   "cell_type": "code",
   "execution_count": 9,
   "outputs": [
    {
     "data": {
      "text/plain": "       game_id competition_id  season                 round        date  \\\n1585   2384653           KLUB    2013           Semi-Finals  2013-12-17   \n3414   3515968           KLUB    2020           Semi-Finals  2021-02-08   \n5442   2283452           KLUB    2012  Third Place Play-Off  2012-12-16   \n5504   2517432           KLUB    2014           Semi-Finals  2014-12-17   \n5505   2518506           KLUB    2014  Third Place Play-Off  2014-12-20   \n...        ...            ...     ...                   ...         ...   \n58442  3290641           KLUB    2019           First Round  2019-12-10   \n60180  4020739           KLUB    2022           Semi-Finals  2023-02-07   \n60181  4022148           KLUB    2022  Third Place Play-Off  2023-02-11   \n62040  2804405           KLUB    2016          Second Round  2016-12-11   \n62116  3136249           KLUB    2018       5th place match  2018-12-18   \n\n       home_club_id  away_club_id  home_club_goals  away_club_goals  \\\n1585          10948            27                0                3   \n3414              7            27                0                2   \n5442              7          2407                0                2   \n5504           1775         11391                2                1   \n5505           3711         11391                3                5   \n...             ...           ...              ...              ...   \n58442           656         18393                3                1   \n60180           614          1114                2                3   \n60181             7           614                2                4   \n62040          6356          2241                0                2   \n62116          3342          6711                7                6   \n\n       home_club_position  ...                  stadium attendance  \\\n1585                  NaN  ...              Stade Adrar    27311.0   \n3414                  NaN  ...    Ahmad bin Ali Stadium        NaN   \n5442                  NaN  ...           NISSAN Stadium    56301.0   \n5504                  NaN  ...       Stade de Marrakech    18485.0   \n5505                  NaN  ...       Stade de Marrakech    38345.0   \n...                   ...  ...                      ...        ...   \n58442                 NaN  ...         Jassim Bin Hamad     7047.0   \n60180                 NaN  ...        Stade Ibn Batouta    42496.0   \n60181                 NaN  ...        Stade Ibn Batouta    30216.0   \n62040                 NaN  ...  PANASONIC Stadium Suita    21702.0   \n62116                 NaN  ...  Hazza Bin Zayed Stadium     5883.0   \n\n                       referee  \\\n1585       Bakary Papa Gassama   \n3414   Mohammed Abdulla Hassan   \n5442             Peter O´Leary   \n5504         Benjamin Williams   \n5505             Pedro Proença   \n...                        ...   \n58442         Mustapha Ghorbal   \n60180            Istvan Kovacs   \n60181         Mustapha Ghorbal   \n62040    Roberto García Orozco   \n62116              Matt Conger   \n\n                                                     url  home_club_formation  \\\n1585   https://www.transfermarkt.co.uk/spielbericht/i...                  NaN   \n3414   https://www.transfermarkt.co.uk/spielbericht/i...                  NaN   \n5442   https://www.transfermarkt.co.uk/spielbericht/i...                  NaN   \n5504   https://www.transfermarkt.co.uk/spielbericht/i...                  NaN   \n5505   https://www.transfermarkt.co.uk/spielbericht/i...                  NaN   \n...                                                  ...                  ...   \n58442  https://www.transfermarkt.co.uk/spielbericht/i...                  NaN   \n60180  https://www.transfermarkt.co.uk/spielbericht/i...                  NaN   \n60181  https://www.transfermarkt.co.uk/spielbericht/i...                  NaN   \n62040  https://www.transfermarkt.co.uk/spielbericht/i...                  NaN   \n62116  https://www.transfermarkt.co.uk/spielbericht/i...                  NaN   \n\n      away_club_formation home_club_name     away_club_name aggregate  \\\n1585                  NaN            NaN  FC Bayern München       0:3   \n3414                  NaN            NaN  FC Bayern München       0:2   \n5442                  NaN            NaN                NaN       0:2   \n5504                  NaN            NaN                NaN       2:1   \n5505                  NaN            NaN                NaN       3:5   \n...                   ...            ...                ...       ...   \n58442                 NaN            NaN                NaN       3:1   \n60180                 NaN            NaN                NaN       2:3   \n60181                 NaN            NaN                NaN       2:4   \n62040                 NaN            NaN                NaN       0:2   \n62116                 NaN            NaN                NaN       7:6   \n\n      competition_type  \n1585             other  \n3414             other  \n5442             other  \n5504             other  \n5505             other  \n...                ...  \n58442            other  \n60180            other  \n60181            other  \n62040            other  \n62116            other  \n\n[86 rows x 23 columns]",
      "text/html": "<div>\n<style scoped>\n    .dataframe tbody tr th:only-of-type {\n        vertical-align: middle;\n    }\n\n    .dataframe tbody tr th {\n        vertical-align: top;\n    }\n\n    .dataframe thead th {\n        text-align: right;\n    }\n</style>\n<table border=\"1\" class=\"dataframe\">\n  <thead>\n    <tr style=\"text-align: right;\">\n      <th></th>\n      <th>game_id</th>\n      <th>competition_id</th>\n      <th>season</th>\n      <th>round</th>\n      <th>date</th>\n      <th>home_club_id</th>\n      <th>away_club_id</th>\n      <th>home_club_goals</th>\n      <th>away_club_goals</th>\n      <th>home_club_position</th>\n      <th>...</th>\n      <th>stadium</th>\n      <th>attendance</th>\n      <th>referee</th>\n      <th>url</th>\n      <th>home_club_formation</th>\n      <th>away_club_formation</th>\n      <th>home_club_name</th>\n      <th>away_club_name</th>\n      <th>aggregate</th>\n      <th>competition_type</th>\n    </tr>\n  </thead>\n  <tbody>\n    <tr>\n      <th>1585</th>\n      <td>2384653</td>\n      <td>KLUB</td>\n      <td>2013</td>\n      <td>Semi-Finals</td>\n      <td>2013-12-17</td>\n      <td>10948</td>\n      <td>27</td>\n      <td>0</td>\n      <td>3</td>\n      <td>NaN</td>\n      <td>...</td>\n      <td>Stade Adrar</td>\n      <td>27311.0</td>\n      <td>Bakary Papa Gassama</td>\n      <td>https://www.transfermarkt.co.uk/spielbericht/i...</td>\n      <td>NaN</td>\n      <td>NaN</td>\n      <td>NaN</td>\n      <td>FC Bayern München</td>\n      <td>0:3</td>\n      <td>other</td>\n    </tr>\n    <tr>\n      <th>3414</th>\n      <td>3515968</td>\n      <td>KLUB</td>\n      <td>2020</td>\n      <td>Semi-Finals</td>\n      <td>2021-02-08</td>\n      <td>7</td>\n      <td>27</td>\n      <td>0</td>\n      <td>2</td>\n      <td>NaN</td>\n      <td>...</td>\n      <td>Ahmad bin Ali Stadium</td>\n      <td>NaN</td>\n      <td>Mohammed Abdulla Hassan</td>\n      <td>https://www.transfermarkt.co.uk/spielbericht/i...</td>\n      <td>NaN</td>\n      <td>NaN</td>\n      <td>NaN</td>\n      <td>FC Bayern München</td>\n      <td>0:2</td>\n      <td>other</td>\n    </tr>\n    <tr>\n      <th>5442</th>\n      <td>2283452</td>\n      <td>KLUB</td>\n      <td>2012</td>\n      <td>Third Place Play-Off</td>\n      <td>2012-12-16</td>\n      <td>7</td>\n      <td>2407</td>\n      <td>0</td>\n      <td>2</td>\n      <td>NaN</td>\n      <td>...</td>\n      <td>NISSAN Stadium</td>\n      <td>56301.0</td>\n      <td>Peter O´Leary</td>\n      <td>https://www.transfermarkt.co.uk/spielbericht/i...</td>\n      <td>NaN</td>\n      <td>NaN</td>\n      <td>NaN</td>\n      <td>NaN</td>\n      <td>0:2</td>\n      <td>other</td>\n    </tr>\n    <tr>\n      <th>5504</th>\n      <td>2517432</td>\n      <td>KLUB</td>\n      <td>2014</td>\n      <td>Semi-Finals</td>\n      <td>2014-12-17</td>\n      <td>1775</td>\n      <td>11391</td>\n      <td>2</td>\n      <td>1</td>\n      <td>NaN</td>\n      <td>...</td>\n      <td>Stade de Marrakech</td>\n      <td>18485.0</td>\n      <td>Benjamin Williams</td>\n      <td>https://www.transfermarkt.co.uk/spielbericht/i...</td>\n      <td>NaN</td>\n      <td>NaN</td>\n      <td>NaN</td>\n      <td>NaN</td>\n      <td>2:1</td>\n      <td>other</td>\n    </tr>\n    <tr>\n      <th>5505</th>\n      <td>2518506</td>\n      <td>KLUB</td>\n      <td>2014</td>\n      <td>Third Place Play-Off</td>\n      <td>2014-12-20</td>\n      <td>3711</td>\n      <td>11391</td>\n      <td>3</td>\n      <td>5</td>\n      <td>NaN</td>\n      <td>...</td>\n      <td>Stade de Marrakech</td>\n      <td>38345.0</td>\n      <td>Pedro Proença</td>\n      <td>https://www.transfermarkt.co.uk/spielbericht/i...</td>\n      <td>NaN</td>\n      <td>NaN</td>\n      <td>NaN</td>\n      <td>NaN</td>\n      <td>3:5</td>\n      <td>other</td>\n    </tr>\n    <tr>\n      <th>...</th>\n      <td>...</td>\n      <td>...</td>\n      <td>...</td>\n      <td>...</td>\n      <td>...</td>\n      <td>...</td>\n      <td>...</td>\n      <td>...</td>\n      <td>...</td>\n      <td>...</td>\n      <td>...</td>\n      <td>...</td>\n      <td>...</td>\n      <td>...</td>\n      <td>...</td>\n      <td>...</td>\n      <td>...</td>\n      <td>...</td>\n      <td>...</td>\n      <td>...</td>\n      <td>...</td>\n    </tr>\n    <tr>\n      <th>58442</th>\n      <td>3290641</td>\n      <td>KLUB</td>\n      <td>2019</td>\n      <td>First Round</td>\n      <td>2019-12-10</td>\n      <td>656</td>\n      <td>18393</td>\n      <td>3</td>\n      <td>1</td>\n      <td>NaN</td>\n      <td>...</td>\n      <td>Jassim Bin Hamad</td>\n      <td>7047.0</td>\n      <td>Mustapha Ghorbal</td>\n      <td>https://www.transfermarkt.co.uk/spielbericht/i...</td>\n      <td>NaN</td>\n      <td>NaN</td>\n      <td>NaN</td>\n      <td>NaN</td>\n      <td>3:1</td>\n      <td>other</td>\n    </tr>\n    <tr>\n      <th>60180</th>\n      <td>4020739</td>\n      <td>KLUB</td>\n      <td>2022</td>\n      <td>Semi-Finals</td>\n      <td>2023-02-07</td>\n      <td>614</td>\n      <td>1114</td>\n      <td>2</td>\n      <td>3</td>\n      <td>NaN</td>\n      <td>...</td>\n      <td>Stade Ibn Batouta</td>\n      <td>42496.0</td>\n      <td>Istvan Kovacs</td>\n      <td>https://www.transfermarkt.co.uk/spielbericht/i...</td>\n      <td>NaN</td>\n      <td>NaN</td>\n      <td>NaN</td>\n      <td>NaN</td>\n      <td>2:3</td>\n      <td>other</td>\n    </tr>\n    <tr>\n      <th>60181</th>\n      <td>4022148</td>\n      <td>KLUB</td>\n      <td>2022</td>\n      <td>Third Place Play-Off</td>\n      <td>2023-02-11</td>\n      <td>7</td>\n      <td>614</td>\n      <td>2</td>\n      <td>4</td>\n      <td>NaN</td>\n      <td>...</td>\n      <td>Stade Ibn Batouta</td>\n      <td>30216.0</td>\n      <td>Mustapha Ghorbal</td>\n      <td>https://www.transfermarkt.co.uk/spielbericht/i...</td>\n      <td>NaN</td>\n      <td>NaN</td>\n      <td>NaN</td>\n      <td>NaN</td>\n      <td>2:4</td>\n      <td>other</td>\n    </tr>\n    <tr>\n      <th>62040</th>\n      <td>2804405</td>\n      <td>KLUB</td>\n      <td>2016</td>\n      <td>Second Round</td>\n      <td>2016-12-11</td>\n      <td>6356</td>\n      <td>2241</td>\n      <td>0</td>\n      <td>2</td>\n      <td>NaN</td>\n      <td>...</td>\n      <td>PANASONIC Stadium Suita</td>\n      <td>21702.0</td>\n      <td>Roberto García Orozco</td>\n      <td>https://www.transfermarkt.co.uk/spielbericht/i...</td>\n      <td>NaN</td>\n      <td>NaN</td>\n      <td>NaN</td>\n      <td>NaN</td>\n      <td>0:2</td>\n      <td>other</td>\n    </tr>\n    <tr>\n      <th>62116</th>\n      <td>3136249</td>\n      <td>KLUB</td>\n      <td>2018</td>\n      <td>5th place match</td>\n      <td>2018-12-18</td>\n      <td>3342</td>\n      <td>6711</td>\n      <td>7</td>\n      <td>6</td>\n      <td>NaN</td>\n      <td>...</td>\n      <td>Hazza Bin Zayed Stadium</td>\n      <td>5883.0</td>\n      <td>Matt Conger</td>\n      <td>https://www.transfermarkt.co.uk/spielbericht/i...</td>\n      <td>NaN</td>\n      <td>NaN</td>\n      <td>NaN</td>\n      <td>NaN</td>\n      <td>7:6</td>\n      <td>other</td>\n    </tr>\n  </tbody>\n</table>\n<p>86 rows × 23 columns</p>\n</div>"
     },
     "execution_count": 9,
     "metadata": {},
     "output_type": "execute_result"
    }
   ],
   "source": [
    "df.loc[df['competition_id'] == 'KLUB'] # fifa_club_world_cup from other type of competition"
   ],
   "metadata": {
    "collapsed": false,
    "ExecuteTime": {
     "end_time": "2024-05-22T15:15:45.226439700Z",
     "start_time": "2024-05-22T15:15:45.172543Z"
    }
   },
   "id": "74ee3cc02b7fdc24"
  },
  {
   "cell_type": "code",
   "execution_count": 10,
   "outputs": [
    {
     "data": {
      "text/plain": "array(['domestic_league', 'international_cup', 'domestic_cup', 'other'],\n      dtype=object)"
     },
     "execution_count": 10,
     "metadata": {},
     "output_type": "execute_result"
    }
   ],
   "source": [
    "df['competition_type'].unique()"
   ],
   "metadata": {
    "collapsed": false,
    "ExecuteTime": {
     "end_time": "2024-05-22T15:15:45.294452700Z",
     "start_time": "2024-05-22T15:15:45.192082500Z"
    }
   },
   "id": "73499145ef06072d"
  },
  {
   "cell_type": "code",
   "execution_count": 11,
   "outputs": [
    {
     "data": {
      "text/plain": "       game_id competition_id  season                       round        date  \\\n169    2262154             CL    2012                     Group D  2012-09-18   \n170    2262190             CL    2012                     Group B  2012-10-24   \n171    2262441             EL    2012                     Group A  2012-10-25   \n181    2284471             EL    2012  intermediate stage 1st leg  2013-02-14   \n182    2284475             EL    2012  intermediate stage 1st leg  2013-02-14   \n...        ...            ...     ...                         ...         ...   \n65203  3631863           ECLQ    2021           3rd round 1st leg  2021-08-05   \n65205  2262451             EL    2012                     Group F  2012-10-25   \n65206  2469213            ELQ    2014        Second Round 1st leg  2014-07-17   \n65211  2367292             EL    2013                     Group B  2013-11-07   \n65213  3092951            CLQ    2018    Qualifying Round 2nd leg  2018-08-29   \n\n       home_club_id  away_club_id  home_club_goals  away_club_goals  \\\n169              16           610                1                0   \n170             969           683                1                2   \n171              31          2700                1                0   \n181            3368           683                3                0   \n182             338            40                1                1   \n...             ...           ...              ...              ...   \n65203         48332         10480                0                0   \n65205           383           272                1                1   \n65206           987         21875                2                2   \n65211           383           419                2                0   \n65213           383           713                3                0   \n\n       home_club_position  ...             stadium attendance  \\\n169                   NaN  ...   SIGNAL IDUNA PARK    65829.0   \n170                   NaN  ...  Stade de la Mosson    22834.0   \n171                   NaN  ...             Anfield    39358.0   \n181                   NaN  ...  Ciutat de València    17000.0   \n182                   NaN  ...       NSK Olimpisky    24953.0   \n...                   ...  ...                 ...        ...   \n65203                 NaN  ...               Kolos        NaN   \n65205                 NaN  ...     Philips Stadion    14400.0   \n65206                 NaN  ...            Fir Park     6700.0   \n65211                 NaN  ...     Philips Stadion    10000.0   \n65213                 NaN  ...     Philips Stadion    34200.0   \n\n                 referee                                                url  \\\n169    Paolo Tagliavento  https://www.transfermarkt.co.uk/spielbericht/i...   \n170       Daniele Orsato  https://www.transfermarkt.co.uk/spielbericht/i...   \n171          Bas Nijhuis  https://www.transfermarkt.co.uk/spielbericht/i...   \n181         Manuel Gräfe  https://www.transfermarkt.co.uk/spielbericht/i...   \n182      Alexandru Tudor  https://www.transfermarkt.co.uk/spielbericht/i...   \n...                  ...                                                ...   \n65203  Peter Kjaersgaard  https://www.transfermarkt.co.uk/spielbericht/i...   \n65205     Emir Aleckovic  https://www.transfermarkt.co.uk/spielbericht/i...   \n65206   Michael Johansen  https://www.transfermarkt.co.uk/spielbericht/i...   \n65211     Cristian Balaj  https://www.transfermarkt.co.uk/spielbericht/i...   \n65213     Anthony Taylor  https://www.transfermarkt.co.uk/spielbericht/i...   \n\n       home_club_formation away_club_formation  \\\n169                    NaN                 NaN   \n170                    NaN                 NaN   \n171                    NaN                 NaN   \n181                    NaN                 NaN   \n182                    NaN                 NaN   \n...                    ...                 ...   \n65203                  NaN                 NaN   \n65205                  NaN                 NaN   \n65206                  NaN                 NaN   \n65211                  NaN                 NaN   \n65213                  NaN                 NaN   \n\n                                          home_club_name  \\\n169                                    Borussia Dortmund   \n170                       Montpellier Hérault Sport Club   \n171                              Liverpool Football Club   \n181                                           Levante UD   \n182                           Futbolniy Klub Dynamo Kyiv   \n...                                                  ...   \n65203                                 FK Kolos Kovalivka   \n65205  Eindhovense Voetbalvereniging Philips Sport Ve...   \n65206                           Motherwell Football Club   \n65211  Eindhovense Voetbalvereniging Philips Sport Ve...   \n65213  Eindhovense Voetbalvereniging Philips Sport Ve...   \n\n                                away_club_name aggregate   competition_type  \n169                         AFC Ajax Amsterdam       1:0  international_cup  \n170    Olympiakos Syndesmos Filathlon Peiraios       1:2  international_cup  \n171                 Anzhi Makhachkala ( -2022)       1:0  international_cup  \n181    Olympiakos Syndesmos Filathlon Peiraios       3:0  international_cup  \n182                      FC Girondins Bordeaux       1:1  international_cup  \n...                                        ...       ...                ...  \n65203                                      NaN       0:0  international_cup  \n65205                                      NaN       1:1  international_cup  \n65206                                      NaN       2:2  international_cup  \n65211                                      NaN       2:0  international_cup  \n65213                                      NaN       3:0  international_cup  \n\n[8040 rows x 23 columns]",
      "text/html": "<div>\n<style scoped>\n    .dataframe tbody tr th:only-of-type {\n        vertical-align: middle;\n    }\n\n    .dataframe tbody tr th {\n        vertical-align: top;\n    }\n\n    .dataframe thead th {\n        text-align: right;\n    }\n</style>\n<table border=\"1\" class=\"dataframe\">\n  <thead>\n    <tr style=\"text-align: right;\">\n      <th></th>\n      <th>game_id</th>\n      <th>competition_id</th>\n      <th>season</th>\n      <th>round</th>\n      <th>date</th>\n      <th>home_club_id</th>\n      <th>away_club_id</th>\n      <th>home_club_goals</th>\n      <th>away_club_goals</th>\n      <th>home_club_position</th>\n      <th>...</th>\n      <th>stadium</th>\n      <th>attendance</th>\n      <th>referee</th>\n      <th>url</th>\n      <th>home_club_formation</th>\n      <th>away_club_formation</th>\n      <th>home_club_name</th>\n      <th>away_club_name</th>\n      <th>aggregate</th>\n      <th>competition_type</th>\n    </tr>\n  </thead>\n  <tbody>\n    <tr>\n      <th>169</th>\n      <td>2262154</td>\n      <td>CL</td>\n      <td>2012</td>\n      <td>Group D</td>\n      <td>2012-09-18</td>\n      <td>16</td>\n      <td>610</td>\n      <td>1</td>\n      <td>0</td>\n      <td>NaN</td>\n      <td>...</td>\n      <td>SIGNAL IDUNA PARK</td>\n      <td>65829.0</td>\n      <td>Paolo Tagliavento</td>\n      <td>https://www.transfermarkt.co.uk/spielbericht/i...</td>\n      <td>NaN</td>\n      <td>NaN</td>\n      <td>Borussia Dortmund</td>\n      <td>AFC Ajax Amsterdam</td>\n      <td>1:0</td>\n      <td>international_cup</td>\n    </tr>\n    <tr>\n      <th>170</th>\n      <td>2262190</td>\n      <td>CL</td>\n      <td>2012</td>\n      <td>Group B</td>\n      <td>2012-10-24</td>\n      <td>969</td>\n      <td>683</td>\n      <td>1</td>\n      <td>2</td>\n      <td>NaN</td>\n      <td>...</td>\n      <td>Stade de la Mosson</td>\n      <td>22834.0</td>\n      <td>Daniele Orsato</td>\n      <td>https://www.transfermarkt.co.uk/spielbericht/i...</td>\n      <td>NaN</td>\n      <td>NaN</td>\n      <td>Montpellier Hérault Sport Club</td>\n      <td>Olympiakos Syndesmos Filathlon Peiraios</td>\n      <td>1:2</td>\n      <td>international_cup</td>\n    </tr>\n    <tr>\n      <th>171</th>\n      <td>2262441</td>\n      <td>EL</td>\n      <td>2012</td>\n      <td>Group A</td>\n      <td>2012-10-25</td>\n      <td>31</td>\n      <td>2700</td>\n      <td>1</td>\n      <td>0</td>\n      <td>NaN</td>\n      <td>...</td>\n      <td>Anfield</td>\n      <td>39358.0</td>\n      <td>Bas Nijhuis</td>\n      <td>https://www.transfermarkt.co.uk/spielbericht/i...</td>\n      <td>NaN</td>\n      <td>NaN</td>\n      <td>Liverpool Football Club</td>\n      <td>Anzhi Makhachkala ( -2022)</td>\n      <td>1:0</td>\n      <td>international_cup</td>\n    </tr>\n    <tr>\n      <th>181</th>\n      <td>2284471</td>\n      <td>EL</td>\n      <td>2012</td>\n      <td>intermediate stage 1st leg</td>\n      <td>2013-02-14</td>\n      <td>3368</td>\n      <td>683</td>\n      <td>3</td>\n      <td>0</td>\n      <td>NaN</td>\n      <td>...</td>\n      <td>Ciutat de València</td>\n      <td>17000.0</td>\n      <td>Manuel Gräfe</td>\n      <td>https://www.transfermarkt.co.uk/spielbericht/i...</td>\n      <td>NaN</td>\n      <td>NaN</td>\n      <td>Levante UD</td>\n      <td>Olympiakos Syndesmos Filathlon Peiraios</td>\n      <td>3:0</td>\n      <td>international_cup</td>\n    </tr>\n    <tr>\n      <th>182</th>\n      <td>2284475</td>\n      <td>EL</td>\n      <td>2012</td>\n      <td>intermediate stage 1st leg</td>\n      <td>2013-02-14</td>\n      <td>338</td>\n      <td>40</td>\n      <td>1</td>\n      <td>1</td>\n      <td>NaN</td>\n      <td>...</td>\n      <td>NSK Olimpisky</td>\n      <td>24953.0</td>\n      <td>Alexandru Tudor</td>\n      <td>https://www.transfermarkt.co.uk/spielbericht/i...</td>\n      <td>NaN</td>\n      <td>NaN</td>\n      <td>Futbolniy Klub Dynamo Kyiv</td>\n      <td>FC Girondins Bordeaux</td>\n      <td>1:1</td>\n      <td>international_cup</td>\n    </tr>\n    <tr>\n      <th>...</th>\n      <td>...</td>\n      <td>...</td>\n      <td>...</td>\n      <td>...</td>\n      <td>...</td>\n      <td>...</td>\n      <td>...</td>\n      <td>...</td>\n      <td>...</td>\n      <td>...</td>\n      <td>...</td>\n      <td>...</td>\n      <td>...</td>\n      <td>...</td>\n      <td>...</td>\n      <td>...</td>\n      <td>...</td>\n      <td>...</td>\n      <td>...</td>\n      <td>...</td>\n      <td>...</td>\n    </tr>\n    <tr>\n      <th>65203</th>\n      <td>3631863</td>\n      <td>ECLQ</td>\n      <td>2021</td>\n      <td>3rd round 1st leg</td>\n      <td>2021-08-05</td>\n      <td>48332</td>\n      <td>10480</td>\n      <td>0</td>\n      <td>0</td>\n      <td>NaN</td>\n      <td>...</td>\n      <td>Kolos</td>\n      <td>NaN</td>\n      <td>Peter Kjaersgaard</td>\n      <td>https://www.transfermarkt.co.uk/spielbericht/i...</td>\n      <td>NaN</td>\n      <td>NaN</td>\n      <td>FK Kolos Kovalivka</td>\n      <td>NaN</td>\n      <td>0:0</td>\n      <td>international_cup</td>\n    </tr>\n    <tr>\n      <th>65205</th>\n      <td>2262451</td>\n      <td>EL</td>\n      <td>2012</td>\n      <td>Group F</td>\n      <td>2012-10-25</td>\n      <td>383</td>\n      <td>272</td>\n      <td>1</td>\n      <td>1</td>\n      <td>NaN</td>\n      <td>...</td>\n      <td>Philips Stadion</td>\n      <td>14400.0</td>\n      <td>Emir Aleckovic</td>\n      <td>https://www.transfermarkt.co.uk/spielbericht/i...</td>\n      <td>NaN</td>\n      <td>NaN</td>\n      <td>Eindhovense Voetbalvereniging Philips Sport Ve...</td>\n      <td>NaN</td>\n      <td>1:1</td>\n      <td>international_cup</td>\n    </tr>\n    <tr>\n      <th>65206</th>\n      <td>2469213</td>\n      <td>ELQ</td>\n      <td>2014</td>\n      <td>Second Round 1st leg</td>\n      <td>2014-07-17</td>\n      <td>987</td>\n      <td>21875</td>\n      <td>2</td>\n      <td>2</td>\n      <td>NaN</td>\n      <td>...</td>\n      <td>Fir Park</td>\n      <td>6700.0</td>\n      <td>Michael Johansen</td>\n      <td>https://www.transfermarkt.co.uk/spielbericht/i...</td>\n      <td>NaN</td>\n      <td>NaN</td>\n      <td>Motherwell Football Club</td>\n      <td>NaN</td>\n      <td>2:2</td>\n      <td>international_cup</td>\n    </tr>\n    <tr>\n      <th>65211</th>\n      <td>2367292</td>\n      <td>EL</td>\n      <td>2013</td>\n      <td>Group B</td>\n      <td>2013-11-07</td>\n      <td>383</td>\n      <td>419</td>\n      <td>2</td>\n      <td>0</td>\n      <td>NaN</td>\n      <td>...</td>\n      <td>Philips Stadion</td>\n      <td>10000.0</td>\n      <td>Cristian Balaj</td>\n      <td>https://www.transfermarkt.co.uk/spielbericht/i...</td>\n      <td>NaN</td>\n      <td>NaN</td>\n      <td>Eindhovense Voetbalvereniging Philips Sport Ve...</td>\n      <td>NaN</td>\n      <td>2:0</td>\n      <td>international_cup</td>\n    </tr>\n    <tr>\n      <th>65213</th>\n      <td>3092951</td>\n      <td>CLQ</td>\n      <td>2018</td>\n      <td>Qualifying Round 2nd leg</td>\n      <td>2018-08-29</td>\n      <td>383</td>\n      <td>713</td>\n      <td>3</td>\n      <td>0</td>\n      <td>NaN</td>\n      <td>...</td>\n      <td>Philips Stadion</td>\n      <td>34200.0</td>\n      <td>Anthony Taylor</td>\n      <td>https://www.transfermarkt.co.uk/spielbericht/i...</td>\n      <td>NaN</td>\n      <td>NaN</td>\n      <td>Eindhovense Voetbalvereniging Philips Sport Ve...</td>\n      <td>NaN</td>\n      <td>3:0</td>\n      <td>international_cup</td>\n    </tr>\n  </tbody>\n</table>\n<p>8040 rows × 23 columns</p>\n</div>"
     },
     "execution_count": 11,
     "metadata": {},
     "output_type": "execute_result"
    }
   ],
   "source": [
    "# for international cup we'll be grouping the matches by round.\n",
    "df.loc[df['competition_type'] == 'international_cup']"
   ],
   "metadata": {
    "collapsed": false,
    "ExecuteTime": {
     "end_time": "2024-05-22T15:15:45.296453100Z",
     "start_time": "2024-05-22T15:15:45.200162Z"
    }
   },
   "id": "f23412c71ac3dfb9"
  },
  {
   "cell_type": "markdown",
   "source": [
    "+ game_id: Unique identifier for each game.\n",
    "+ competition_id: Identifier for the competition in which the game took place.\n",
    "+ season: The season in which the game occurred.\n",
    "+ round: The specific round or matchday of the competition.\n",
    "+ date: The date when the game was played.\n",
    "+ home_club_id: Identifier for the home club participating in the game.\n",
    "+ away_club_id: Identifier for the away club participating in the game.\n",
    "+ home_club_goals: Number of goals scored by the home club in the game.\n",
    "+ away_club_goals: Number of goals scored by the away club in the game.\n",
    "+ home_club_position: Position of the home club in the league table at the time of the game.\n",
    "+ away_club_position: Position of the away club in the league table at the time of the game.\n",
    "+ home_club_manager_name: Name of the manager of the home club.\n",
    "+ away_club_manager_name: Name of the manager of the away club.\n",
    "+ stadium: Name of the stadium where the game was played.\n",
    "+ attendance: The number of spectators or attendees at the game.\n",
    "+ referee: Name of the referee officiating the game.\n",
    "+ url: URL to access more information about the game, possibly on a website like Transfermarkt.\n",
    "+ home_club_formation: Formation used by the home club in the game.\n",
    "+ away_club_formation: Formation used by the away club in the game.\n",
    "+ home_club_name: Name of the home club.\n",
    "+ away_club_name: Name of the away club.\n",
    "+ aggregate: Aggregate score of both legs if the game is part of a two-legged tie (e.g., in knockout competitions).\n",
    "+ competition_type: Type of competition (e.g., domestic league, cup competition)."
   ],
   "metadata": {
    "collapsed": false
   },
   "id": "38531b813c3f44ad"
  },
  {
   "cell_type": "markdown",
   "source": [
    "### Step 2: Data Preperation ###\n",
    "+ Dropping irrelevant columns and rows\n",
    "+ Identifying duplicated columns\n",
    "+ Feature Creation"
   ],
   "metadata": {
    "collapsed": false
   },
   "id": "1383941d5385f7fc"
  },
  {
   "cell_type": "code",
   "execution_count": 12,
   "outputs": [
    {
     "data": {
      "text/plain": "62347"
     },
     "execution_count": 12,
     "metadata": {},
     "output_type": "execute_result"
    }
   ],
   "source": [
    "# checking NaN values of column \"home_club_formation\"\n",
    "df['home_club_formation'].isnull().sum()"
   ],
   "metadata": {
    "collapsed": false,
    "ExecuteTime": {
     "end_time": "2024-05-22T15:15:45.298957300Z",
     "start_time": "2024-05-22T15:15:45.222247300Z"
    }
   },
   "id": "a0888f0ee267b04e"
  },
  {
   "cell_type": "code",
   "execution_count": 13,
   "outputs": [
    {
     "data": {
      "text/plain": "62328"
     },
     "execution_count": 13,
     "metadata": {},
     "output_type": "execute_result"
    }
   ],
   "source": [
    "# checking NaN values of column \"away_club_formation\"\n",
    "df['away_club_formation'].isnull().sum()"
   ],
   "metadata": {
    "collapsed": false,
    "ExecuteTime": {
     "end_time": "2024-05-22T15:15:45.349840100Z",
     "start_time": "2024-05-22T15:15:45.228951800Z"
    }
   },
   "id": "414874e836133b0b"
  },
  {
   "cell_type": "code",
   "execution_count": 14,
   "outputs": [
    {
     "data": {
      "text/plain": "19454"
     },
     "execution_count": 14,
     "metadata": {},
     "output_type": "execute_result"
    }
   ],
   "source": [
    "# checking NaN values of column \"home_club_position\"\n",
    "df['home_club_position'].isnull().sum()"
   ],
   "metadata": {
    "collapsed": false,
    "ExecuteTime": {
     "end_time": "2024-05-22T15:15:45.364233500Z",
     "start_time": "2024-05-22T15:15:45.234772200Z"
    }
   },
   "id": "ac3a68b771d05311"
  },
  {
   "cell_type": "code",
   "execution_count": 15,
   "outputs": [
    {
     "data": {
      "text/plain": "19454"
     },
     "execution_count": 15,
     "metadata": {},
     "output_type": "execute_result"
    }
   ],
   "source": [
    "# checking NaN values of column \"away_club_position\"\n",
    "df['away_club_position'].isnull().sum()"
   ],
   "metadata": {
    "collapsed": false,
    "ExecuteTime": {
     "end_time": "2024-05-22T15:15:45.365234300Z",
     "start_time": "2024-05-22T15:15:45.241028500Z"
    }
   },
   "id": "5ed5547ab45d2335"
  },
  {
   "cell_type": "code",
   "execution_count": 16,
   "outputs": [
    {
     "data": {
      "text/plain": "       game_id competition_id  season        round        date  home_club_id  \\\n2842   4087929            GB1    2023  1. Matchday  2023-08-12           350   \n2843   4087952            GB1    2023  3. Matchday  2023-08-27           762   \n2844   4087962            GB1    2023  4. Matchday  2023-09-02           281   \n2845   4087965            GB1    2023  5. Matchday  2023-09-16           405   \n2846   4089283            DK1    2023  1. Matchday  2023-07-23           678   \n...        ...            ...     ...          ...         ...           ...   \n65115  4113067            ES1    2023  7. Matchday  2023-09-26           368   \n65116  4150622            GR1    2023  7. Matchday  2023-11-29         60949   \n65117  4093112            BE1    2023  1. Matchday  2023-07-30           475   \n65118  4089286            DK1    2023  1. Matchday  2023-07-24          2778   \n65169  4097959            NL1    2023  5. Matchday  2023-09-16           383   \n\n       away_club_id  home_club_goals  away_club_goals  home_club_position  \\\n2842            873                0                1                15.0   \n2843             31                1                2                13.0   \n2844            931                5                1                 1.0   \n2845            873                3                1                 7.0   \n2846            443                1                0                 4.0   \n...             ...              ...              ...                 ...   \n65115          3302                5                1                12.0   \n65116          3385                1                0                12.0   \n65117          3057                1                0                 4.0   \n65118          1063                4                1                 1.0   \n65169           467                4                0                 1.0   \n\n       ...                     stadium attendance                     referee  \\\n2842   ...                Bramall Lane    31194.0                 John Brooks   \n2843   ...              St James' Park    52214.0                 John Brooks   \n2844   ...              Etihad Stadium    52899.0              Michael Oliver   \n2845   ...                  Villa Park    40809.0              Darren England   \n2846   ...                  Ceres Park    12215.0                Jonas Hansen   \n...    ...                         ...        ...                         ...   \n65115  ...       Ramón Sánchez-Pizjuán    35729.0  Guillermo Cuadra Fernández   \n65116  ...        Panthessaliko Stadio        NaN           Aristidis Vatsios   \n65117  ...  Daio Wasabi Stayen Stadium     7026.0             Jasper Vergoote   \n65118  ...         Right to Dream Park     4143.0                   Jens Maae   \n65169  ...             Philips Stadion    34200.0                  Joey Kooij   \n\n                                                     url  home_club_formation  \\\n2842   https://www.transfermarkt.co.uk/sheffield-unit...           3-5-2 flat   \n2843   https://www.transfermarkt.co.uk/newcastle-unit...      4-3-3 Attacking   \n2844   https://www.transfermarkt.co.uk/manchester-cit...              4-2-3-1   \n2845   https://www.transfermarkt.co.uk/aston-villa_cr...              4-2-3-1   \n2846   https://www.transfermarkt.co.uk/aarhus-gf_vejl...              3-4-2-1   \n...                                                  ...                  ...   \n65115  https://www.transfermarkt.co.uk/sevilla-fc_ud-...              4-2-3-1   \n65116  https://www.transfermarkt.co.uk/volos-nps_pans...              4-2-3-1   \n65117  https://www.transfermarkt.co.uk/sint-truidense...                3-4-3   \n65118  https://www.transfermarkt.co.uk/fc-nordsjaella...      4-3-3 Attacking   \n65169  https://www.transfermarkt.co.uk/psv-eindhoven_...      4-3-3 Attacking   \n\n      away_club_formation                                     home_club_name  \\\n2842              4-2-3-1                     Sheffield United Football Club   \n2843      4-3-3 Attacking                     Newcastle United Football Club   \n2844      4-3-3 Attacking                      Manchester City Football Club   \n2845              4-4-1-1                          Aston Villa Football Club   \n2846                3-4-3                          Aarhus Gymnastik Forening   \n...                   ...                                                ...   \n65115               4-4-2                         Sevilla Fútbol Club S.A.D.   \n65116             4-2-3-1                   Neos Podosferikos Syllogos Volou   \n65117             4-1-4-1       Koninklijke Sint-Truidense Voetbalvereniging   \n65118               3-4-3                          Fodbold Club Nordsjælland   \n65169     4-3-3 Defending  Eindhovense Voetbalvereniging Philips Sport Ve...   \n\n                       away_club_name aggregate competition_type  \n2842     Crystal Palace Football Club       0:1  domestic_league  \n2843          Liverpool Football Club       1:2  domestic_league  \n2844             Fulham Football Club       5:1  domestic_league  \n2845     Crystal Palace Football Club       3:1  domestic_league  \n2846                   Vejle Boldklub       1:0  domestic_league  \n...                               ...       ...              ...  \n65115  Unión Deportiva Almería S.A.D.       5:1  domestic_league  \n65116             Panserraikos Serres       1:0  domestic_league  \n65117    Royal Standard Club de Liège       1:0  domestic_league  \n65118       Viborg Fodsports Forening       4:1  domestic_league  \n65169   Nijmegen Eendracht Combinatie       4:0  domestic_league  \n\n[1588 rows x 23 columns]",
      "text/html": "<div>\n<style scoped>\n    .dataframe tbody tr th:only-of-type {\n        vertical-align: middle;\n    }\n\n    .dataframe tbody tr th {\n        vertical-align: top;\n    }\n\n    .dataframe thead th {\n        text-align: right;\n    }\n</style>\n<table border=\"1\" class=\"dataframe\">\n  <thead>\n    <tr style=\"text-align: right;\">\n      <th></th>\n      <th>game_id</th>\n      <th>competition_id</th>\n      <th>season</th>\n      <th>round</th>\n      <th>date</th>\n      <th>home_club_id</th>\n      <th>away_club_id</th>\n      <th>home_club_goals</th>\n      <th>away_club_goals</th>\n      <th>home_club_position</th>\n      <th>...</th>\n      <th>stadium</th>\n      <th>attendance</th>\n      <th>referee</th>\n      <th>url</th>\n      <th>home_club_formation</th>\n      <th>away_club_formation</th>\n      <th>home_club_name</th>\n      <th>away_club_name</th>\n      <th>aggregate</th>\n      <th>competition_type</th>\n    </tr>\n  </thead>\n  <tbody>\n    <tr>\n      <th>2842</th>\n      <td>4087929</td>\n      <td>GB1</td>\n      <td>2023</td>\n      <td>1. Matchday</td>\n      <td>2023-08-12</td>\n      <td>350</td>\n      <td>873</td>\n      <td>0</td>\n      <td>1</td>\n      <td>15.0</td>\n      <td>...</td>\n      <td>Bramall Lane</td>\n      <td>31194.0</td>\n      <td>John Brooks</td>\n      <td>https://www.transfermarkt.co.uk/sheffield-unit...</td>\n      <td>3-5-2 flat</td>\n      <td>4-2-3-1</td>\n      <td>Sheffield United Football Club</td>\n      <td>Crystal Palace Football Club</td>\n      <td>0:1</td>\n      <td>domestic_league</td>\n    </tr>\n    <tr>\n      <th>2843</th>\n      <td>4087952</td>\n      <td>GB1</td>\n      <td>2023</td>\n      <td>3. Matchday</td>\n      <td>2023-08-27</td>\n      <td>762</td>\n      <td>31</td>\n      <td>1</td>\n      <td>2</td>\n      <td>13.0</td>\n      <td>...</td>\n      <td>St James' Park</td>\n      <td>52214.0</td>\n      <td>John Brooks</td>\n      <td>https://www.transfermarkt.co.uk/newcastle-unit...</td>\n      <td>4-3-3 Attacking</td>\n      <td>4-3-3 Attacking</td>\n      <td>Newcastle United Football Club</td>\n      <td>Liverpool Football Club</td>\n      <td>1:2</td>\n      <td>domestic_league</td>\n    </tr>\n    <tr>\n      <th>2844</th>\n      <td>4087962</td>\n      <td>GB1</td>\n      <td>2023</td>\n      <td>4. Matchday</td>\n      <td>2023-09-02</td>\n      <td>281</td>\n      <td>931</td>\n      <td>5</td>\n      <td>1</td>\n      <td>1.0</td>\n      <td>...</td>\n      <td>Etihad Stadium</td>\n      <td>52899.0</td>\n      <td>Michael Oliver</td>\n      <td>https://www.transfermarkt.co.uk/manchester-cit...</td>\n      <td>4-2-3-1</td>\n      <td>4-3-3 Attacking</td>\n      <td>Manchester City Football Club</td>\n      <td>Fulham Football Club</td>\n      <td>5:1</td>\n      <td>domestic_league</td>\n    </tr>\n    <tr>\n      <th>2845</th>\n      <td>4087965</td>\n      <td>GB1</td>\n      <td>2023</td>\n      <td>5. Matchday</td>\n      <td>2023-09-16</td>\n      <td>405</td>\n      <td>873</td>\n      <td>3</td>\n      <td>1</td>\n      <td>7.0</td>\n      <td>...</td>\n      <td>Villa Park</td>\n      <td>40809.0</td>\n      <td>Darren England</td>\n      <td>https://www.transfermarkt.co.uk/aston-villa_cr...</td>\n      <td>4-2-3-1</td>\n      <td>4-4-1-1</td>\n      <td>Aston Villa Football Club</td>\n      <td>Crystal Palace Football Club</td>\n      <td>3:1</td>\n      <td>domestic_league</td>\n    </tr>\n    <tr>\n      <th>2846</th>\n      <td>4089283</td>\n      <td>DK1</td>\n      <td>2023</td>\n      <td>1. Matchday</td>\n      <td>2023-07-23</td>\n      <td>678</td>\n      <td>443</td>\n      <td>1</td>\n      <td>0</td>\n      <td>4.0</td>\n      <td>...</td>\n      <td>Ceres Park</td>\n      <td>12215.0</td>\n      <td>Jonas Hansen</td>\n      <td>https://www.transfermarkt.co.uk/aarhus-gf_vejl...</td>\n      <td>3-4-2-1</td>\n      <td>3-4-3</td>\n      <td>Aarhus Gymnastik Forening</td>\n      <td>Vejle Boldklub</td>\n      <td>1:0</td>\n      <td>domestic_league</td>\n    </tr>\n    <tr>\n      <th>...</th>\n      <td>...</td>\n      <td>...</td>\n      <td>...</td>\n      <td>...</td>\n      <td>...</td>\n      <td>...</td>\n      <td>...</td>\n      <td>...</td>\n      <td>...</td>\n      <td>...</td>\n      <td>...</td>\n      <td>...</td>\n      <td>...</td>\n      <td>...</td>\n      <td>...</td>\n      <td>...</td>\n      <td>...</td>\n      <td>...</td>\n      <td>...</td>\n      <td>...</td>\n      <td>...</td>\n    </tr>\n    <tr>\n      <th>65115</th>\n      <td>4113067</td>\n      <td>ES1</td>\n      <td>2023</td>\n      <td>7. Matchday</td>\n      <td>2023-09-26</td>\n      <td>368</td>\n      <td>3302</td>\n      <td>5</td>\n      <td>1</td>\n      <td>12.0</td>\n      <td>...</td>\n      <td>Ramón Sánchez-Pizjuán</td>\n      <td>35729.0</td>\n      <td>Guillermo Cuadra Fernández</td>\n      <td>https://www.transfermarkt.co.uk/sevilla-fc_ud-...</td>\n      <td>4-2-3-1</td>\n      <td>4-4-2</td>\n      <td>Sevilla Fútbol Club S.A.D.</td>\n      <td>Unión Deportiva Almería S.A.D.</td>\n      <td>5:1</td>\n      <td>domestic_league</td>\n    </tr>\n    <tr>\n      <th>65116</th>\n      <td>4150622</td>\n      <td>GR1</td>\n      <td>2023</td>\n      <td>7. Matchday</td>\n      <td>2023-11-29</td>\n      <td>60949</td>\n      <td>3385</td>\n      <td>1</td>\n      <td>0</td>\n      <td>12.0</td>\n      <td>...</td>\n      <td>Panthessaliko Stadio</td>\n      <td>NaN</td>\n      <td>Aristidis Vatsios</td>\n      <td>https://www.transfermarkt.co.uk/volos-nps_pans...</td>\n      <td>4-2-3-1</td>\n      <td>4-2-3-1</td>\n      <td>Neos Podosferikos Syllogos Volou</td>\n      <td>Panserraikos Serres</td>\n      <td>1:0</td>\n      <td>domestic_league</td>\n    </tr>\n    <tr>\n      <th>65117</th>\n      <td>4093112</td>\n      <td>BE1</td>\n      <td>2023</td>\n      <td>1. Matchday</td>\n      <td>2023-07-30</td>\n      <td>475</td>\n      <td>3057</td>\n      <td>1</td>\n      <td>0</td>\n      <td>4.0</td>\n      <td>...</td>\n      <td>Daio Wasabi Stayen Stadium</td>\n      <td>7026.0</td>\n      <td>Jasper Vergoote</td>\n      <td>https://www.transfermarkt.co.uk/sint-truidense...</td>\n      <td>3-4-3</td>\n      <td>4-1-4-1</td>\n      <td>Koninklijke Sint-Truidense Voetbalvereniging</td>\n      <td>Royal Standard Club de Liège</td>\n      <td>1:0</td>\n      <td>domestic_league</td>\n    </tr>\n    <tr>\n      <th>65118</th>\n      <td>4089286</td>\n      <td>DK1</td>\n      <td>2023</td>\n      <td>1. Matchday</td>\n      <td>2023-07-24</td>\n      <td>2778</td>\n      <td>1063</td>\n      <td>4</td>\n      <td>1</td>\n      <td>1.0</td>\n      <td>...</td>\n      <td>Right to Dream Park</td>\n      <td>4143.0</td>\n      <td>Jens Maae</td>\n      <td>https://www.transfermarkt.co.uk/fc-nordsjaella...</td>\n      <td>4-3-3 Attacking</td>\n      <td>3-4-3</td>\n      <td>Fodbold Club Nordsjælland</td>\n      <td>Viborg Fodsports Forening</td>\n      <td>4:1</td>\n      <td>domestic_league</td>\n    </tr>\n    <tr>\n      <th>65169</th>\n      <td>4097959</td>\n      <td>NL1</td>\n      <td>2023</td>\n      <td>5. Matchday</td>\n      <td>2023-09-16</td>\n      <td>383</td>\n      <td>467</td>\n      <td>4</td>\n      <td>0</td>\n      <td>1.0</td>\n      <td>...</td>\n      <td>Philips Stadion</td>\n      <td>34200.0</td>\n      <td>Joey Kooij</td>\n      <td>https://www.transfermarkt.co.uk/psv-eindhoven_...</td>\n      <td>4-3-3 Attacking</td>\n      <td>4-3-3 Defending</td>\n      <td>Eindhovense Voetbalvereniging Philips Sport Ve...</td>\n      <td>Nijmegen Eendracht Combinatie</td>\n      <td>4:0</td>\n      <td>domestic_league</td>\n    </tr>\n  </tbody>\n</table>\n<p>1588 rows × 23 columns</p>\n</div>"
     },
     "execution_count": 16,
     "metadata": {},
     "output_type": "execute_result"
    }
   ],
   "source": [
    "dff = df.dropna(subset=['home_club_formation', 'away_club_formation', 'home_club_position', 'away_club_position'])\n",
    "dff"
   ],
   "metadata": {
    "collapsed": false,
    "ExecuteTime": {
     "end_time": "2024-05-22T15:15:45.412734200Z",
     "start_time": "2024-05-22T15:15:45.247277100Z"
    }
   },
   "id": "fe12796f3f1f0b7f"
  },
  {
   "cell_type": "code",
   "execution_count": 17,
   "outputs": [
    {
     "data": {
      "text/plain": "(1588, 23)"
     },
     "execution_count": 17,
     "metadata": {},
     "output_type": "execute_result"
    }
   ],
   "source": [
    "dff.shape \n",
    "# this is a subset data where we have removed the NaN values from the columns \n",
    "# \"home_club_formation\", \"away_club_formation\", \"home_club_position\", \"away_club_position\""
   ],
   "metadata": {
    "collapsed": false,
    "ExecuteTime": {
     "end_time": "2024-05-22T15:15:45.414244700Z",
     "start_time": "2024-05-22T15:15:45.264627Z"
    }
   },
   "id": "a8fbfacdf92f3c39"
  },
  {
   "cell_type": "code",
   "execution_count": 18,
   "outputs": [
    {
     "data": {
      "text/plain": "      competition_id  season                     round        date  \\\n0                RU1    2012               6. Matchday  2012-08-25   \n1                RU1    2012               5. Matchday  2012-08-20   \n2                RU1    2012              10. Matchday  2012-09-30   \n3                RU1    2012               8. Matchday  2012-09-15   \n4                RU1    2012              12. Matchday  2012-10-22   \n...              ...     ...                       ...         ...   \n65211             EL    2013                   Group B  2013-11-07   \n65212            NLP    2015               Third Round  2015-10-27   \n65213            CLQ    2018  Qualifying Round 2nd leg  2018-08-29   \n65214            CGB    2023              Second Round  2023-08-29   \n65215            FAC    2022              Fourth Round  2023-01-29   \n\n       home_club_id  away_club_id  home_club_goals  away_club_goals  \\\n0              3725           232                2                1   \n1              2696          4128                0                2   \n2              2410           121                0                2   \n3               932          2698                1                0   \n4              2696         12438                0                1   \n...             ...           ...              ...              ...   \n65211           383           419                2                0   \n65212           383         16866                6                0   \n65213           383           713                3                0   \n65214           512          1194                6                1   \n65215           512          3684                3                1   \n\n      home_club_manager_name away_club_manager_name          stadium  \\\n0       Stanislav Cherchesov             Unai Emery     Akhmat-Arena   \n1             Andrey Kobelev          Rustem Khuzin        Metallurg   \n2             Leonid Slutski           Dan Petrescu     Arena Khimki   \n3               Slaven Bilic         Kurban Berdyev        RZD Arena   \n4             Andrey Kobelev        Gadzhi Gadzhiev        Metallurg   \n...                      ...                    ...              ...   \n65211           Phillip Cocu            Zoran Mamic  Philips Stadion   \n65212           Phillip Cocu       Hennie in 't Hof  Philips Stadion   \n65213        Mark van Bommel           Aleksey Baga  Philips Stadion   \n65214              Alex Neil            Matt Taylor   bet365 Stadium   \n65215              Alex Neil            Steve Evans   bet365 Stadium   \n\n       attendance               referee  \\\n0         21700.0  Vladislav Bezborodov   \n1         11400.0         Sergey Ivanov   \n2         12000.0        Sergey Karasev   \n3         11408.0        Sergey Karasev   \n4          7534.0     Timur Arslanbekov   \n...           ...                   ...   \n65211     10000.0        Cristian Balaj   \n65212     31000.0       Allard Lindhout   \n65213     34200.0        Anthony Taylor   \n65214      9410.0     Michael Salisbury   \n65215     14392.0            David Webb   \n\n                                          home_club_name  \\\n0                                      RFK Akhmat Grozny   \n1                              PFK Krylya Sovetov Samara   \n2                                        PFK CSKA Moskva   \n3                     Футбольный клуб \"Локомотив\" Москва   \n4                              PFK Krylya Sovetov Samara   \n...                                                  ...   \n65211  Eindhovense Voetbalvereniging Philips Sport Ve...   \n65212  Eindhovense Voetbalvereniging Philips Sport Ve...   \n65213  Eindhovense Voetbalvereniging Philips Sport Ve...   \n65214                                         Stoke City   \n65215                                         Stoke City   \n\n                        away_club_name aggregate   competition_type  \n0                    FK Spartak Moskva       2:1    domestic_league  \n1                           Amkar Perm       0:2    domestic_league  \n2                     FK Dinamo Moskva       0:2    domestic_league  \n3                       FC Rubin Kazan       1:0    domestic_league  \n4      Volga Nizhniy Novgorod (- 2016)       0:1    domestic_league  \n...                                ...       ...                ...  \n65211                              NaN       2:0  international_cup  \n65212                              NaN       6:0       domestic_cup  \n65213                              NaN       3:0  international_cup  \n65214                              NaN       6:1              other  \n65215                              NaN       3:1       domestic_cup  \n\n[65216 rows x 17 columns]",
      "text/html": "<div>\n<style scoped>\n    .dataframe tbody tr th:only-of-type {\n        vertical-align: middle;\n    }\n\n    .dataframe tbody tr th {\n        vertical-align: top;\n    }\n\n    .dataframe thead th {\n        text-align: right;\n    }\n</style>\n<table border=\"1\" class=\"dataframe\">\n  <thead>\n    <tr style=\"text-align: right;\">\n      <th></th>\n      <th>competition_id</th>\n      <th>season</th>\n      <th>round</th>\n      <th>date</th>\n      <th>home_club_id</th>\n      <th>away_club_id</th>\n      <th>home_club_goals</th>\n      <th>away_club_goals</th>\n      <th>home_club_manager_name</th>\n      <th>away_club_manager_name</th>\n      <th>stadium</th>\n      <th>attendance</th>\n      <th>referee</th>\n      <th>home_club_name</th>\n      <th>away_club_name</th>\n      <th>aggregate</th>\n      <th>competition_type</th>\n    </tr>\n  </thead>\n  <tbody>\n    <tr>\n      <th>0</th>\n      <td>RU1</td>\n      <td>2012</td>\n      <td>6. Matchday</td>\n      <td>2012-08-25</td>\n      <td>3725</td>\n      <td>232</td>\n      <td>2</td>\n      <td>1</td>\n      <td>Stanislav Cherchesov</td>\n      <td>Unai Emery</td>\n      <td>Akhmat-Arena</td>\n      <td>21700.0</td>\n      <td>Vladislav Bezborodov</td>\n      <td>RFK Akhmat Grozny</td>\n      <td>FK Spartak Moskva</td>\n      <td>2:1</td>\n      <td>domestic_league</td>\n    </tr>\n    <tr>\n      <th>1</th>\n      <td>RU1</td>\n      <td>2012</td>\n      <td>5. Matchday</td>\n      <td>2012-08-20</td>\n      <td>2696</td>\n      <td>4128</td>\n      <td>0</td>\n      <td>2</td>\n      <td>Andrey Kobelev</td>\n      <td>Rustem Khuzin</td>\n      <td>Metallurg</td>\n      <td>11400.0</td>\n      <td>Sergey Ivanov</td>\n      <td>PFK Krylya Sovetov Samara</td>\n      <td>Amkar Perm</td>\n      <td>0:2</td>\n      <td>domestic_league</td>\n    </tr>\n    <tr>\n      <th>2</th>\n      <td>RU1</td>\n      <td>2012</td>\n      <td>10. Matchday</td>\n      <td>2012-09-30</td>\n      <td>2410</td>\n      <td>121</td>\n      <td>0</td>\n      <td>2</td>\n      <td>Leonid Slutski</td>\n      <td>Dan Petrescu</td>\n      <td>Arena Khimki</td>\n      <td>12000.0</td>\n      <td>Sergey Karasev</td>\n      <td>PFK CSKA Moskva</td>\n      <td>FK Dinamo Moskva</td>\n      <td>0:2</td>\n      <td>domestic_league</td>\n    </tr>\n    <tr>\n      <th>3</th>\n      <td>RU1</td>\n      <td>2012</td>\n      <td>8. Matchday</td>\n      <td>2012-09-15</td>\n      <td>932</td>\n      <td>2698</td>\n      <td>1</td>\n      <td>0</td>\n      <td>Slaven Bilic</td>\n      <td>Kurban Berdyev</td>\n      <td>RZD Arena</td>\n      <td>11408.0</td>\n      <td>Sergey Karasev</td>\n      <td>Футбольный клуб \"Локомотив\" Москва</td>\n      <td>FC Rubin Kazan</td>\n      <td>1:0</td>\n      <td>domestic_league</td>\n    </tr>\n    <tr>\n      <th>4</th>\n      <td>RU1</td>\n      <td>2012</td>\n      <td>12. Matchday</td>\n      <td>2012-10-22</td>\n      <td>2696</td>\n      <td>12438</td>\n      <td>0</td>\n      <td>1</td>\n      <td>Andrey Kobelev</td>\n      <td>Gadzhi Gadzhiev</td>\n      <td>Metallurg</td>\n      <td>7534.0</td>\n      <td>Timur Arslanbekov</td>\n      <td>PFK Krylya Sovetov Samara</td>\n      <td>Volga Nizhniy Novgorod (- 2016)</td>\n      <td>0:1</td>\n      <td>domestic_league</td>\n    </tr>\n    <tr>\n      <th>...</th>\n      <td>...</td>\n      <td>...</td>\n      <td>...</td>\n      <td>...</td>\n      <td>...</td>\n      <td>...</td>\n      <td>...</td>\n      <td>...</td>\n      <td>...</td>\n      <td>...</td>\n      <td>...</td>\n      <td>...</td>\n      <td>...</td>\n      <td>...</td>\n      <td>...</td>\n      <td>...</td>\n      <td>...</td>\n    </tr>\n    <tr>\n      <th>65211</th>\n      <td>EL</td>\n      <td>2013</td>\n      <td>Group B</td>\n      <td>2013-11-07</td>\n      <td>383</td>\n      <td>419</td>\n      <td>2</td>\n      <td>0</td>\n      <td>Phillip Cocu</td>\n      <td>Zoran Mamic</td>\n      <td>Philips Stadion</td>\n      <td>10000.0</td>\n      <td>Cristian Balaj</td>\n      <td>Eindhovense Voetbalvereniging Philips Sport Ve...</td>\n      <td>NaN</td>\n      <td>2:0</td>\n      <td>international_cup</td>\n    </tr>\n    <tr>\n      <th>65212</th>\n      <td>NLP</td>\n      <td>2015</td>\n      <td>Third Round</td>\n      <td>2015-10-27</td>\n      <td>383</td>\n      <td>16866</td>\n      <td>6</td>\n      <td>0</td>\n      <td>Phillip Cocu</td>\n      <td>Hennie in 't Hof</td>\n      <td>Philips Stadion</td>\n      <td>31000.0</td>\n      <td>Allard Lindhout</td>\n      <td>Eindhovense Voetbalvereniging Philips Sport Ve...</td>\n      <td>NaN</td>\n      <td>6:0</td>\n      <td>domestic_cup</td>\n    </tr>\n    <tr>\n      <th>65213</th>\n      <td>CLQ</td>\n      <td>2018</td>\n      <td>Qualifying Round 2nd leg</td>\n      <td>2018-08-29</td>\n      <td>383</td>\n      <td>713</td>\n      <td>3</td>\n      <td>0</td>\n      <td>Mark van Bommel</td>\n      <td>Aleksey Baga</td>\n      <td>Philips Stadion</td>\n      <td>34200.0</td>\n      <td>Anthony Taylor</td>\n      <td>Eindhovense Voetbalvereniging Philips Sport Ve...</td>\n      <td>NaN</td>\n      <td>3:0</td>\n      <td>international_cup</td>\n    </tr>\n    <tr>\n      <th>65214</th>\n      <td>CGB</td>\n      <td>2023</td>\n      <td>Second Round</td>\n      <td>2023-08-29</td>\n      <td>512</td>\n      <td>1194</td>\n      <td>6</td>\n      <td>1</td>\n      <td>Alex Neil</td>\n      <td>Matt Taylor</td>\n      <td>bet365 Stadium</td>\n      <td>9410.0</td>\n      <td>Michael Salisbury</td>\n      <td>Stoke City</td>\n      <td>NaN</td>\n      <td>6:1</td>\n      <td>other</td>\n    </tr>\n    <tr>\n      <th>65215</th>\n      <td>FAC</td>\n      <td>2022</td>\n      <td>Fourth Round</td>\n      <td>2023-01-29</td>\n      <td>512</td>\n      <td>3684</td>\n      <td>3</td>\n      <td>1</td>\n      <td>Alex Neil</td>\n      <td>Steve Evans</td>\n      <td>bet365 Stadium</td>\n      <td>14392.0</td>\n      <td>David Webb</td>\n      <td>Stoke City</td>\n      <td>NaN</td>\n      <td>3:1</td>\n      <td>domestic_cup</td>\n    </tr>\n  </tbody>\n</table>\n<p>65216 rows × 17 columns</p>\n</div>"
     },
     "execution_count": 18,
     "metadata": {},
     "output_type": "execute_result"
    }
   ],
   "source": [
    "df = df[['competition_id', 'season', 'round', 'date', 'home_club_id',\n",
    "       'away_club_id', 'home_club_goals', 'away_club_goals', 'home_club_manager_name',\n",
    "       'away_club_manager_name', 'stadium', 'attendance', 'referee', 'home_club_name',\n",
    "       'away_club_name', 'aggregate', 'competition_type']]\n",
    "df # this is the final dataframe after dropping the irrelevant columns"
   ],
   "metadata": {
    "collapsed": false,
    "ExecuteTime": {
     "end_time": "2024-05-22T15:15:45.462601500Z",
     "start_time": "2024-05-22T15:15:45.267361800Z"
    }
   },
   "id": "6e4fafb709904ed7"
  },
  {
   "cell_type": "code",
   "execution_count": 19,
   "outputs": [
    {
     "data": {
      "text/plain": "0"
     },
     "execution_count": 19,
     "metadata": {},
     "output_type": "execute_result"
    }
   ],
   "source": [
    "# checking for duplicated columns\n",
    "df.duplicated().sum()"
   ],
   "metadata": {
    "collapsed": false,
    "ExecuteTime": {
     "end_time": "2024-05-22T15:15:45.608315600Z",
     "start_time": "2024-05-22T15:15:45.285938Z"
    }
   },
   "id": "e117091298fdef0f"
  },
  {
   "cell_type": "code",
   "execution_count": 20,
   "outputs": [
    {
     "data": {
      "text/plain": "competition_id                0\nseason                        0\nround                         0\ndate                          0\nhome_club_id                  0\naway_club_id                  0\nhome_club_goals               0\naway_club_goals               0\nhome_club_manager_name      742\naway_club_manager_name      742\nstadium                     211\nattendance                 9512\nreferee                     594\nhome_club_name            11252\naway_club_name            10049\naggregate                     0\ncompetition_type              0\ndtype: int64"
     },
     "execution_count": 20,
     "metadata": {},
     "output_type": "execute_result"
    }
   ],
   "source": [
    "df.isna().sum()\n",
    "# df.loc[df.duplicated()]"
   ],
   "metadata": {
    "collapsed": false,
    "ExecuteTime": {
     "end_time": "2024-05-22T15:15:45.609834400Z",
     "start_time": "2024-05-22T15:15:45.338522700Z"
    }
   },
   "id": "4f44720d8f4d177a"
  },
  {
   "cell_type": "markdown",
   "source": [
    "### Step 3: Feature Understanding ###\n",
    "1. **Goal Analysis**:\n",
    "   - What is the average number of goals scored per game?\n",
    "   - Which clubs have the highest average goals per game?\n",
    "   - Is there a correlation between a club's position in the league table and their average goals scored per game?\n",
    "\n",
    "2. **Manager Performance**:\n",
    "   - How does a manager's name correlate with their team's performance (e.g., win rate)?\n",
    "   - Are there any trends in the performance of teams under different managers?\n",
    "\n",
    "3. **Home vs. Away Performance**:\n",
    "   - Is there a difference in the average goals scored by home and away teams?\n",
    "   - Do teams perform differently when playing at home versus away?\n",
    "\n",
    "4. **Stadium Attendance**:\n",
    "   - What are the average attendance figures for games held at different stadiums?\n",
    "   - Is there a correlation between stadium attendance and the competitiveness of the game or the stature of the teams involved?\n",
    "\n",
    "5. **League Standings**:\n",
    "   - How does a club's position in the league table correlate with their performance in individual games?\n",
    "   - Are there any noticeable trends or patterns in the league standings over different seasons?\n",
    "\n",
    "6. **Referee Analysis**:\n",
    "   - Is there any correlation between the referee officiating a game and the number of cards (yellow or red) issued? # apparently not in the dataset\n",
    "   - Do certain referees tend to officiate higher-scoring games or games with more fouls?\n",
    "\n",
    "7. **Formation Effectiveness**: # apparently all columns are NaN\n",
    "   - Is there a correlation between the formation used by a team and their success in a game?\n",
    "   - Which formations are most commonly used and are they associated with higher win rates?\n",
    "\n",
    "8. **Competition Type Comparison**:\n",
    "   - How do average goals, attendance, or other metrics differ between domestic league games and cup competitions?\n",
    "   - Are there any notable differences in performance or spectator interest between different types of competitions?\n",
    "\n"
   ],
   "metadata": {
    "collapsed": false
   },
   "id": "1a76c8b6d34dbbd"
  },
  {
   "cell_type": "code",
   "execution_count": 21,
   "outputs": [
    {
     "data": {
      "text/plain": "2.914729514229637"
     },
     "execution_count": 21,
     "metadata": {},
     "output_type": "execute_result"
    }
   ],
   "source": [
    "# Goal Analysis\n",
    "# What is the average number of goals scored per game?\n",
    "avg_goals_per_game = df[['home_club_goals', 'away_club_goals']].mean().sum()\n",
    "avg_goals_per_game"
   ],
   "metadata": {
    "collapsed": false,
    "ExecuteTime": {
     "end_time": "2024-05-22T15:15:45.609834400Z",
     "start_time": "2024-05-22T15:15:45.357300700Z"
    }
   },
   "id": "5c765427b6c449ad"
  },
  {
   "cell_type": "code",
   "execution_count": 22,
   "outputs": [
    {
     "data": {
      "text/plain": "home_club_name\nHvidovre Idrætsforening    4.454545\nFK Polissya Zhytomyr       4.111111\nFootball Club Volendam     4.031250\nFC Bayern München          3.907801\nFK Baltika                 3.800000\n                             ...   \nElazigspor                 2.088235\nAO Xanthi                  2.055944\nFK Obolon Kyiv             2.055556\nCasa Pia Atlético Clube    1.966667\nLe Havre Athletic Club     1.833333\nLength: 426, dtype: float64"
     },
     "execution_count": 22,
     "metadata": {},
     "output_type": "execute_result"
    }
   ],
   "source": [
    "# Which clubs have the highest average goals per game?\n",
    "avg_goals_per_game_club = df.groupby('home_club_name')[['home_club_goals', 'away_club_goals']].mean().sum(axis=1).sort_values(ascending=False)\n",
    "avg_goals_per_game_club"
   ],
   "metadata": {
    "collapsed": false,
    "ExecuteTime": {
     "end_time": "2024-05-22T15:15:45.675848900Z",
     "start_time": "2024-05-22T15:15:45.364233500Z"
    }
   },
   "id": "512d74353e98e67b"
  },
  {
   "cell_type": "code",
   "execution_count": 23,
   "outputs": [
    {
     "data": {
      "text/plain": "home_club_position\n1.0     3.774194\n2.0     3.173077\n3.0     2.755556\n4.0     2.739583\n5.0     3.009901\n6.0     2.700855\n7.0     2.459770\n8.0     2.969072\n9.0     2.608696\n10.0    2.626374\n11.0    2.626374\n12.0    2.891304\n13.0    2.487179\n14.0    2.405405\n15.0    2.575758\n16.0    2.703125\n17.0    2.857143\n18.0    2.941176\n19.0    3.555556\n20.0    2.928571\ndtype: float64"
     },
     "execution_count": 23,
     "metadata": {},
     "output_type": "execute_result"
    }
   ],
   "source": [
    "# Is there a correlation between a club's position in the league table and their average goals scored per game?\n",
    "# we'll be using the subset data \"dff\" for this analysis\n",
    "avg_goals_per_game_club_position = dff.groupby('home_club_position')[['home_club_goals', 'away_club_goals']].mean().sum(axis=1)\n",
    "avg_goals_per_game_club_position"
   ],
   "metadata": {
    "collapsed": false,
    "ExecuteTime": {
     "end_time": "2024-05-22T15:15:45.685385Z",
     "start_time": "2024-05-22T15:15:45.376458500Z"
    }
   },
   "id": "91978db9196f6a4"
  },
  {
   "cell_type": "markdown",
   "source": [
    "### Little comment on position of club ###\n",
    "In football leagues, the club positions in the table are typically determined by their points accumulation throughout the season. Here's how it generally works:\n",
    "\n",
    "1. **Points:** Clubs earn points based on their results in matches. In most leagues, teams earn:\n",
    "+ 3 points for a win\n",
    "+ 1 point for a draw\n",
    "+ 0 points for a loss\n",
    "2. **Goal Difference:** If two or more clubs have the same number of points, their positions in the table are determined by goal difference. Goal difference is calculated by subtracting the total number of goals conceded from the total number of goals scored. For example, if a team has scored 20 goals and conceded 15, their goal difference would be +5.\n",
    "3. **Goals Scored:** If clubs are still level after goal difference, the next tiebreaker is the total number of goals scored.\n",
    "4. **Head-to-Head Record:** In some leagues, if clubs are still level after the above criteria, their head-to-head record against each other may be used as a tiebreaker."
   ],
   "metadata": {
    "collapsed": false
   },
   "id": "74ac6af9153d4c0b"
  },
  {
   "cell_type": "code",
   "execution_count": 24,
   "outputs": [
    {
     "data": {
      "text/plain": "<Figure size 1000x600 with 1 Axes>",
      "image/png": "[encoded data removed]"
     },
     "metadata": {},
     "output_type": "display_data"
    }
   ],
   "source": [
    "# Assuming avg_goals_per_game_club_position is a Series with club positions as indices and average goals per game as values\n",
    "plt.figure(figsize=(10, 6))\n",
    "plt.scatter(avg_goals_per_game_club_position.index, avg_goals_per_game_club_position.values, color='blue')\n",
    "plt.title('Average Goals per Game vs. Club Position')\n",
    "plt.xlabel('Club Position')\n",
    "plt.ylabel('Average Goals per Game')\n",
    "plt.grid(True)\n",
    "plt.show()"
   ],
   "metadata": {
    "collapsed": false,
    "ExecuteTime": {
     "end_time": "2024-05-22T15:15:45.788734900Z",
     "start_time": "2024-05-22T15:15:45.384044100Z"
    }
   },
   "id": "f0d203b851173fc2"
  },
  {
   "cell_type": "code",
   "execution_count": 25,
   "outputs": [
    {
     "data": {
      "text/plain": "                        total_win  total_games    win_rate\nhome_club_manager_name                                    \nAaron Callaghan                 0            1    0.000000\nAaron Danks                     1            1  100.000000\nAart Jan van Boksel             1            1  100.000000\nAbdel Bouhazama                 4            5   80.000000\nAbdi Raqiib                     1            1  100.000000\n...                           ...          ...         ...\nÜmit Özat                      21           31   67.741935\nÜnal Karaman                   41           50   82.000000\nİlhan Palut                     4            6   66.666667\nİsmail Kartal                  10           10  100.000000\nŞenol Güneş                     5            6   83.333333\n\n[4818 rows x 3 columns]",
      "text/html": "<div>\n<style scoped>\n    .dataframe tbody tr th:only-of-type {\n        vertical-align: middle;\n    }\n\n    .dataframe tbody tr th {\n        vertical-align: top;\n    }\n\n    .dataframe thead th {\n        text-align: right;\n    }\n</style>\n<table border=\"1\" class=\"dataframe\">\n  <thead>\n    <tr style=\"text-align: right;\">\n      <th></th>\n      <th>total_win</th>\n      <th>total_games</th>\n      <th>win_rate</th>\n    </tr>\n    <tr>\n      <th>home_club_manager_name</th>\n      <th></th>\n      <th></th>\n      <th></th>\n    </tr>\n  </thead>\n  <tbody>\n    <tr>\n      <th>Aaron Callaghan</th>\n      <td>0</td>\n      <td>1</td>\n      <td>0.000000</td>\n    </tr>\n    <tr>\n      <th>Aaron Danks</th>\n      <td>1</td>\n      <td>1</td>\n      <td>100.000000</td>\n    </tr>\n    <tr>\n      <th>Aart Jan van Boksel</th>\n      <td>1</td>\n      <td>1</td>\n      <td>100.000000</td>\n    </tr>\n    <tr>\n      <th>Abdel Bouhazama</th>\n      <td>4</td>\n      <td>5</td>\n      <td>80.000000</td>\n    </tr>\n    <tr>\n      <th>Abdi Raqiib</th>\n      <td>1</td>\n      <td>1</td>\n      <td>100.000000</td>\n    </tr>\n    <tr>\n      <th>...</th>\n      <td>...</td>\n      <td>...</td>\n      <td>...</td>\n    </tr>\n    <tr>\n      <th>Ümit Özat</th>\n      <td>21</td>\n      <td>31</td>\n      <td>67.741935</td>\n    </tr>\n    <tr>\n      <th>Ünal Karaman</th>\n      <td>41</td>\n      <td>50</td>\n      <td>82.000000</td>\n    </tr>\n    <tr>\n      <th>İlhan Palut</th>\n      <td>4</td>\n      <td>6</td>\n      <td>66.666667</td>\n    </tr>\n    <tr>\n      <th>İsmail Kartal</th>\n      <td>10</td>\n      <td>10</td>\n      <td>100.000000</td>\n    </tr>\n    <tr>\n      <th>Şenol Güneş</th>\n      <td>5</td>\n      <td>6</td>\n      <td>83.333333</td>\n    </tr>\n  </tbody>\n</table>\n<p>4818 rows × 3 columns</p>\n</div>"
     },
     "execution_count": 25,
     "metadata": {},
     "output_type": "execute_result"
    }
   ],
   "source": [
    "# Manager Performance\n",
    "# How does a manager's name correlate with their team's performance (e.g., win rate)?\n",
    "# Are there any trends in the performance of teams under different managers?\n",
    "# we'll be using the subset data \"df\" for this analysis\n",
    "# win rate = (total wins / total games) * 100\n",
    "df['home_club_win'] = np.where(df['home_club_goals'] > df['away_club_goals'], 1, 0)\n",
    "df['away_club_win'] = np.where(df['away_club_goals'] > df['home_club_goals'], 1, 0)\n",
    "df['total_win'] = df['home_club_win'] + df['away_club_win']\n",
    "df['total_games'] = 1\n",
    "manager_performance = df.groupby('home_club_manager_name')[['total_win', 'total_games']].sum()\n",
    "manager_performance['win_rate'] = (manager_performance['total_win'] / manager_performance['total_games']) * 100\n",
    "manager_performance"
   ],
   "metadata": {
    "collapsed": false,
    "ExecuteTime": {
     "end_time": "2024-05-22T15:15:45.789700800Z",
     "start_time": "2024-05-22T15:15:45.555413700Z"
    }
   },
   "id": "a0df3cc56f232f92"
  },
  {
   "cell_type": "code",
   "execution_count": 26,
   "outputs": [
    {
     "data": {
      "text/plain": "                          total_win  total_games    win_rate\nhome_club_manager_name                                      \nAbdullah Avci                   114          158   72.151899\nAbel Ferreira                    60           69   86.956522\nAbel Resino                      10           16   62.500000\nAbelardo                         58           76   76.315789\nAchim Beierlorzer                20           22   90.909091\n...                             ...          ...         ...\nÓskar Hrafn Thorvaldsson         10           10  100.000000\nÖmer Erdogan                     42           52   80.769231\nÜmit Özat                        21           31   67.741935\nÜnal Karaman                     41           50   82.000000\nİsmail Kartal                    10           10  100.000000\n\n[1129 rows x 3 columns]",
      "text/html": "<div>\n<style scoped>\n    .dataframe tbody tr th:only-of-type {\n        vertical-align: middle;\n    }\n\n    .dataframe tbody tr th {\n        vertical-align: top;\n    }\n\n    .dataframe thead th {\n        text-align: right;\n    }\n</style>\n<table border=\"1\" class=\"dataframe\">\n  <thead>\n    <tr style=\"text-align: right;\">\n      <th></th>\n      <th>total_win</th>\n      <th>total_games</th>\n      <th>win_rate</th>\n    </tr>\n    <tr>\n      <th>home_club_manager_name</th>\n      <th></th>\n      <th></th>\n      <th></th>\n    </tr>\n  </thead>\n  <tbody>\n    <tr>\n      <th>Abdullah Avci</th>\n      <td>114</td>\n      <td>158</td>\n      <td>72.151899</td>\n    </tr>\n    <tr>\n      <th>Abel Ferreira</th>\n      <td>60</td>\n      <td>69</td>\n      <td>86.956522</td>\n    </tr>\n    <tr>\n      <th>Abel Resino</th>\n      <td>10</td>\n      <td>16</td>\n      <td>62.500000</td>\n    </tr>\n    <tr>\n      <th>Abelardo</th>\n      <td>58</td>\n      <td>76</td>\n      <td>76.315789</td>\n    </tr>\n    <tr>\n      <th>Achim Beierlorzer</th>\n      <td>20</td>\n      <td>22</td>\n      <td>90.909091</td>\n    </tr>\n    <tr>\n      <th>...</th>\n      <td>...</td>\n      <td>...</td>\n      <td>...</td>\n    </tr>\n    <tr>\n      <th>Óskar Hrafn Thorvaldsson</th>\n      <td>10</td>\n      <td>10</td>\n      <td>100.000000</td>\n    </tr>\n    <tr>\n      <th>Ömer Erdogan</th>\n      <td>42</td>\n      <td>52</td>\n      <td>80.769231</td>\n    </tr>\n    <tr>\n      <th>Ümit Özat</th>\n      <td>21</td>\n      <td>31</td>\n      <td>67.741935</td>\n    </tr>\n    <tr>\n      <th>Ünal Karaman</th>\n      <td>41</td>\n      <td>50</td>\n      <td>82.000000</td>\n    </tr>\n    <tr>\n      <th>İsmail Kartal</th>\n      <td>10</td>\n      <td>10</td>\n      <td>100.000000</td>\n    </tr>\n  </tbody>\n</table>\n<p>1129 rows × 3 columns</p>\n</div>"
     },
     "execution_count": 26,
     "metadata": {},
     "output_type": "execute_result"
    }
   ],
   "source": [
    "# let's exclude the managers with less than 10 games\n",
    "manager_performance = manager_performance[manager_performance['total_games'] >= 10]\n",
    "manager_performance"
   ],
   "metadata": {
    "collapsed": false,
    "ExecuteTime": {
     "end_time": "2024-05-22T15:15:45.816578800Z",
     "start_time": "2024-05-22T15:15:45.572658400Z"
    }
   },
   "id": "c87029713834d865"
  },
  {
   "cell_type": "code",
   "execution_count": 27,
   "outputs": [
    {
     "data": {
      "text/plain": "home_club_goals    1.59329\naway_club_goals    1.32144\ndtype: float64"
     },
     "execution_count": 27,
     "metadata": {},
     "output_type": "execute_result"
    }
   ],
   "source": [
    "# Home vs. Away Performance\n",
    "# Is there a difference in the average goals scored by home and away teams?\n",
    "# Do teams perform differently when playing at home versus away?\n",
    "# we'll be using the subset data \"df\" for this analysis\n",
    "avg_goals_home_away = df[['home_club_goals', 'away_club_goals']].mean()\n",
    "avg_goals_home_away"
   ],
   "metadata": {
    "collapsed": false,
    "ExecuteTime": {
     "end_time": "2024-05-22T15:15:45.836610600Z",
     "start_time": "2024-05-22T15:15:45.581175100Z"
    }
   },
   "id": "6bdef83e2172dd1e"
  },
  {
   "cell_type": "code",
   "execution_count": 28,
   "outputs": [
    {
     "data": {
      "text/plain": "stadium\nOld Trafford                     73640.751880\nSpotify Camp Nou                 73278.369811\nSIGNAL IDUNA PARK                72816.798354\nAllianz Arena                    69417.572581\nWembley Stadium                  68677.275862\n                                     ...     \nYeni Sakarya Atatürk Stadyumu             NaN\nZirineio Stadium                          NaN\nZorya                                     NaN\nØlstykke Stadion                          NaN\nÚj Hidegkuti Nándor Stadion               NaN\nName: attendance, Length: 2282, dtype: float64"
     },
     "execution_count": 28,
     "metadata": {},
     "output_type": "execute_result"
    }
   ],
   "source": [
    "# Stadium Attendance\n",
    "# What are the average attendance figures for games held at different stadiums?\n",
    "# Is there a correlation between stadium attendance and the competitiveness of the game or the stature of the teams involved?\n",
    "# we'll be using the subset data \"df\" for this analysis\n",
    "avg_attendance_stadium = df.groupby('stadium')['attendance'].mean().sort_values(ascending=False)\n",
    "avg_attendance_stadium"
   ],
   "metadata": {
    "collapsed": false,
    "ExecuteTime": {
     "end_time": "2024-05-22T15:15:45.881132Z",
     "start_time": "2024-05-22T15:15:45.586966200Z"
    }
   },
   "id": "955e03473c74fe97"
  },
  {
   "cell_type": "code",
   "execution_count": 29,
   "outputs": [
    {
     "data": {
      "text/plain": "                    total_win  total_games   win_rate\nhome_club_position                                   \n1.0                        88           93  94.623656\n2.0                        90          104  86.538462\n3.0                        74           90  82.222222\n4.0                        76           96  79.166667\n5.0                        79          101  78.217822\n6.0                        89          117  76.068376\n7.0                        59           87  67.816092\n8.0                        64           97  65.979381\n9.0                        53           92  57.608696\n10.0                       59           91  64.835165\n11.0                       64           91  70.329670\n12.0                       63           92  68.478261\n13.0                       52           78  66.666667\n14.0                       54           74  72.972973\n15.0                       44           66  66.666667\n16.0                       46           64  71.875000\n17.0                       32           49  65.306122\n18.0                       39           51  76.470588\n19.0                       21           27  77.777778\n20.0                       25           28  89.285714",
      "text/html": "<div>\n<style scoped>\n    .dataframe tbody tr th:only-of-type {\n        vertical-align: middle;\n    }\n\n    .dataframe tbody tr th {\n        vertical-align: top;\n    }\n\n    .dataframe thead th {\n        text-align: right;\n    }\n</style>\n<table border=\"1\" class=\"dataframe\">\n  <thead>\n    <tr style=\"text-align: right;\">\n      <th></th>\n      <th>total_win</th>\n      <th>total_games</th>\n      <th>win_rate</th>\n    </tr>\n    <tr>\n      <th>home_club_position</th>\n      <th></th>\n      <th></th>\n      <th></th>\n    </tr>\n  </thead>\n  <tbody>\n    <tr>\n      <th>1.0</th>\n      <td>88</td>\n      <td>93</td>\n      <td>94.623656</td>\n    </tr>\n    <tr>\n      <th>2.0</th>\n      <td>90</td>\n      <td>104</td>\n      <td>86.538462</td>\n    </tr>\n    <tr>\n      <th>3.0</th>\n      <td>74</td>\n      <td>90</td>\n      <td>82.222222</td>\n    </tr>\n    <tr>\n      <th>4.0</th>\n      <td>76</td>\n      <td>96</td>\n      <td>79.166667</td>\n    </tr>\n    <tr>\n      <th>5.0</th>\n      <td>79</td>\n      <td>101</td>\n      <td>78.217822</td>\n    </tr>\n    <tr>\n      <th>6.0</th>\n      <td>89</td>\n      <td>117</td>\n      <td>76.068376</td>\n    </tr>\n    <tr>\n      <th>7.0</th>\n      <td>59</td>\n      <td>87</td>\n      <td>67.816092</td>\n    </tr>\n    <tr>\n      <th>8.0</th>\n      <td>64</td>\n      <td>97</td>\n      <td>65.979381</td>\n    </tr>\n    <tr>\n      <th>9.0</th>\n      <td>53</td>\n      <td>92</td>\n      <td>57.608696</td>\n    </tr>\n    <tr>\n      <th>10.0</th>\n      <td>59</td>\n      <td>91</td>\n      <td>64.835165</td>\n    </tr>\n    <tr>\n      <th>11.0</th>\n      <td>64</td>\n      <td>91</td>\n      <td>70.329670</td>\n    </tr>\n    <tr>\n      <th>12.0</th>\n      <td>63</td>\n      <td>92</td>\n      <td>68.478261</td>\n    </tr>\n    <tr>\n      <th>13.0</th>\n      <td>52</td>\n      <td>78</td>\n      <td>66.666667</td>\n    </tr>\n    <tr>\n      <th>14.0</th>\n      <td>54</td>\n      <td>74</td>\n      <td>72.972973</td>\n    </tr>\n    <tr>\n      <th>15.0</th>\n      <td>44</td>\n      <td>66</td>\n      <td>66.666667</td>\n    </tr>\n    <tr>\n      <th>16.0</th>\n      <td>46</td>\n      <td>64</td>\n      <td>71.875000</td>\n    </tr>\n    <tr>\n      <th>17.0</th>\n      <td>32</td>\n      <td>49</td>\n      <td>65.306122</td>\n    </tr>\n    <tr>\n      <th>18.0</th>\n      <td>39</td>\n      <td>51</td>\n      <td>76.470588</td>\n    </tr>\n    <tr>\n      <th>19.0</th>\n      <td>21</td>\n      <td>27</td>\n      <td>77.777778</td>\n    </tr>\n    <tr>\n      <th>20.0</th>\n      <td>25</td>\n      <td>28</td>\n      <td>89.285714</td>\n    </tr>\n  </tbody>\n</table>\n</div>"
     },
     "execution_count": 29,
     "metadata": {},
     "output_type": "execute_result"
    }
   ],
   "source": [
    "# League Standings\n",
    "# How does a club's position in the league table correlate with their performance in individual games?\n",
    "# Are there any noticeable trends or patterns in the league standings over different seasons?\n",
    "# we'll be using the subset data \"dff\" for this analysis\n",
    "# win rate = (total wins / total games) * 100\n",
    "dff['home_club_win'] = np.where(dff['home_club_goals'] > dff['away_club_goals'], 1, 0)\n",
    "dff['away_club_win'] = np.where(dff['away_club_goals'] > dff['home_club_goals'], 1, 0)\n",
    "dff['total_win'] = dff['home_club_win'] + dff['away_club_win']\n",
    "dff['total_games'] = 1\n",
    "club_performance = dff.groupby('home_club_position')[['total_win', 'total_games']].sum()\n",
    "club_performance['win_rate'] = (club_performance['total_win'] / club_performance['total_games']) * 100\n",
    "club_performance"
   ],
   "metadata": {
    "collapsed": false,
    "ExecuteTime": {
     "end_time": "2024-05-22T15:15:45.884199Z",
     "start_time": "2024-05-22T15:15:45.600319600Z"
    }
   },
   "id": "21a34e2aa426e375"
  },
  {
   "cell_type": "code",
   "execution_count": 30,
   "outputs": [
    {
     "data": {
      "text/plain": "<Figure size 1000x600 with 1 Axes>",
      "image/png": "[encoded data removed]"
     },
     "metadata": {},
     "output_type": "display_data"
    }
   ],
   "source": [
    "import matplotlib.pyplot as plt\n",
    "\n",
    "# Assuming club_performance is a DataFrame with 'win_rate' as one of its columns and the club position as its index\n",
    "plt.figure(figsize=(10, 6))\n",
    "plt.scatter(club_performance.index, club_performance['win_rate'], color='blue')\n",
    "plt.title('Win Rate vs Club Position')\n",
    "plt.xlabel('Club Position')\n",
    "plt.ylabel('Win Rate')\n",
    "plt.grid(True)\n",
    "plt.gca().invert_xaxis()  # This is to make the position 1 at the start of x-axis\n",
    "plt.show()"
   ],
   "metadata": {
    "collapsed": false,
    "ExecuteTime": {
     "end_time": "2024-05-22T15:15:46.111594900Z",
     "start_time": "2024-05-22T15:15:45.610893800Z"
    }
   },
   "id": "d035d1621241e136"
  },
  {
   "cell_type": "code",
   "execution_count": 31,
   "outputs": [
    {
     "name": "stdout",
     "output_type": "stream",
     "text": [
      "                              home_club_goals  away_club_goals  total_goals\n",
      "referee                                                                    \n",
      "Rob Wassink                              11.0             12.0         23.0\n",
      "Andriy Kholyavko                         10.0             11.0         21.0\n",
      "Spyros Kazanas                            9.0             10.0         19.0\n",
      "Francisco Villena Contreras              10.0              9.0         19.0\n",
      "Javier Fernández Santesteban              9.0              8.0         17.0\n",
      "...                                       ...              ...          ...\n",
      "Jorge Faustino                            0.0              0.0          0.0\n",
      "Haris Kaljanac                            0.0              0.0          0.0\n",
      "Dionysios Zougras                         0.0              0.0          0.0\n",
      "Mohammad Usman Aslam                      0.0              0.0          0.0\n",
      "Dean Watson                               0.0              0.0          0.0\n",
      "\n",
      "[2351 rows x 3 columns]\n"
     ]
    }
   ],
   "source": [
    "# Referee Analysis\n",
    "# Is there any correlation between the referee officiating a game and the number of cards (yellow or red) issued? (apparently not in the dataset\n",
    "# Do certain referees tend to officiate higher-scoring games or games with more fouls?\n",
    "# we'll be using the subset data \"df\" for this analysis\n",
    "\n",
    "# Calculate the total number of goals scored by each referee\n",
    "referee_goals = df.groupby('referee')[['home_club_goals', 'away_club_goals']].sum()\n",
    "\n",
    "# Count the total number of games officiated by each referee\n",
    "referee_games = df['referee'].value_counts()\n",
    "\n",
    "# Normalize the total number of goals by the total number of games for each referee\n",
    "referee_avg_goals_per_game = referee_goals.div(referee_games, axis=0)\n",
    "\n",
    "# Calculate the average goals scored per game for each referee\n",
    "referee_avg_goals_per_game['total_goals'] = referee_avg_goals_per_game.sum(axis=1)\n",
    "\n",
    "# Sort referees by average goals per game\n",
    "referee_avg_goals_per_game = referee_avg_goals_per_game.sort_values(by='total_goals', ascending=False)\n",
    "\n",
    "# Print or visualize the result\n",
    "print(referee_avg_goals_per_game)\n"
   ],
   "metadata": {
    "collapsed": false,
    "ExecuteTime": {
     "end_time": "2024-05-22T15:15:46.134898900Z",
     "start_time": "2024-05-22T15:15:45.742165600Z"
    }
   },
   "id": "b7cbd7540ced2fb6"
  },
  {
   "cell_type": "code",
   "execution_count": 32,
   "outputs": [],
   "source": [
    "# Formation Effectiveness (apparently all columns are NaN)"
   ],
   "metadata": {
    "collapsed": false,
    "ExecuteTime": {
     "end_time": "2024-05-22T15:15:46.134898900Z",
     "start_time": "2024-05-22T15:15:45.759177300Z"
    }
   },
   "id": "99846ea721676447"
  },
  {
   "cell_type": "code",
   "execution_count": 33,
   "outputs": [
    {
     "data": {
      "text/plain": "competition_type\ndomestic_cup         3.701026\ndomestic_league      2.722601\ninternational_cup    2.859950\nother                4.365239\ndtype: float64"
     },
     "execution_count": 33,
     "metadata": {},
     "output_type": "execute_result"
    }
   ],
   "source": [
    "# Competition Type Comparison\n",
    "# How do average goals, attendance, or other metrics differ between domestic league games and cup competitions? \n",
    "# Are there any notable differences in performance or spectator interest between different types of competitions?\n",
    "# we'll be using the subset data \"df\" for this analysis\n",
    "# Average goals per game by competition type\n",
    "avg_goals_competition = df.groupby('competition_type')[['home_club_goals', 'away_club_goals']].mean().sum(axis=1)\n",
    "avg_goals_competition"
   ],
   "metadata": {
    "collapsed": false,
    "ExecuteTime": {
     "end_time": "2024-05-22T15:15:46.135898300Z",
     "start_time": "2024-05-22T15:15:45.761800900Z"
    }
   },
   "id": "f5f5e32b7a44ee96"
  },
  {
   "cell_type": "code",
   "execution_count": 34,
   "outputs": [
    {
     "data": {
      "text/plain": "<Figure size 1000x600 with 1 Axes>",
      "image/png": "[encoded data removed]"
     },
     "metadata": {},
     "output_type": "display_data"
    }
   ],
   "source": [
    "# barplot for average goals per game by competition type\n",
    "plt.figure(figsize=(10, 6))\n",
    "sns.barplot(x=avg_goals_competition.index, y=avg_goals_competition.values, color='blue')\n",
    "plt.title('Average Goals per Game by Competition Type')\n",
    "plt.xlabel('Competition Type')\n",
    "plt.ylabel('Average Goals per Game')\n",
    "plt.show()"
   ],
   "metadata": {
    "collapsed": false,
    "ExecuteTime": {
     "end_time": "2024-05-22T15:15:46.195376Z",
     "start_time": "2024-05-22T15:15:45.771548700Z"
    }
   },
   "id": "734880dec722adcf"
  },
  {
   "cell_type": "code",
   "execution_count": 34,
   "outputs": [],
   "source": [],
   "metadata": {
    "collapsed": false,
    "ExecuteTime": {
     "end_time": "2024-05-22T15:15:46.195376Z",
     "start_time": "2024-05-22T15:15:45.878622400Z"
    }
   },
   "id": "e65aaacf1d44da83"
  }
 ],
 "metadata": {
  "kernelspec": {
   "display_name": "Python 3",
   "language": "python",
   "name": "python3"
  },
  "language_info": {
   "codemirror_mode": {
    "name": "ipython",
    "version": 2
   },
   "file_extension": ".py",
   "mimetype": "text/x-python",
   "name": "python",
   "nbconvert_exporter": "python",
   "pygments_lexer": "ipython2",
   "version": "2.7.6"
  }
 },
 "nbformat": 4,
 "nbformat_minor": 5
}

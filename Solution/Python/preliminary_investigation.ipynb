{
 "cells": [
  {
   "cell_type": "markdown",
   "source": [
    "# <font color='gray'>Large Scale Data Analytics using Jupyter Notebooks</font>\n",
    "\n",
    "###### In this preliminary data analysis, we observed the column names, the shape of each dataset including the data format, and the null values. <br>The data is collected in 9 different CSV files: appearances, club_games, clubs, competitions, game_events, game_lineups, games, player_valuations and players. \n"
   ],
   "metadata": {
    "collapsed": false
   },
   "id": "8254b3b00ac4eed2"
  },
  {
   "cell_type": "code",
   "execution_count": 1,
   "outputs": [],
   "source": [
    "import pandas as pd\n",
    "import numpy as np"
   ],
   "metadata": {
    "collapsed": false,
    "ExecuteTime": {
     "end_time": "2023-12-26T14:05:21.650450400Z",
     "start_time": "2023-12-26T14:05:19.201626500Z"
    }
   },
   "id": "ff0b5acaddecd3d3"
  },
  {
   "cell_type": "markdown",
   "source": [
    "## <font color='green'>competitions</font> table \n",
    "###### This table contains information about competitions, such as the competition name, the competition country, and the competition type."
   ],
   "metadata": {
    "collapsed": false
   },
   "id": "5acb44c394378beb"
  },
  {
   "cell_type": "code",
   "execution_count": 2,
   "outputs": [
    {
     "ename": "FileNotFoundError",
     "evalue": "[Errno 2] No such file or directory: '../csv/competitions.csv'",
     "output_type": "error",
     "traceback": [
      "\u001B[1;31m---------------------------------------------------------------------------\u001B[0m",
      "\u001B[1;31mFileNotFoundError\u001B[0m                         Traceback (most recent call last)",
      "Cell \u001B[1;32mIn[2], line 1\u001B[0m\n\u001B[1;32m----> 1\u001B[0m cpt \u001B[38;5;241m=\u001B[39m \u001B[43mpd\u001B[49m\u001B[38;5;241;43m.\u001B[39;49m\u001B[43mread_csv\u001B[49m\u001B[43m(\u001B[49m\u001B[38;5;124;43m'\u001B[39;49m\u001B[38;5;124;43m../csv/competitions.csv\u001B[39;49m\u001B[38;5;124;43m'\u001B[39;49m\u001B[43m)\u001B[49m\n\u001B[0;32m      2\u001B[0m cpt\u001B[38;5;241m.\u001B[39mhead()\n",
      "File \u001B[1;32m~\\firstPython\\Lib\\site-packages\\pandas\\io\\parsers\\readers.py:948\u001B[0m, in \u001B[0;36mread_csv\u001B[1;34m(filepath_or_buffer, sep, delimiter, header, names, index_col, usecols, dtype, engine, converters, true_values, false_values, skipinitialspace, skiprows, skipfooter, nrows, na_values, keep_default_na, na_filter, verbose, skip_blank_lines, parse_dates, infer_datetime_format, keep_date_col, date_parser, date_format, dayfirst, cache_dates, iterator, chunksize, compression, thousands, decimal, lineterminator, quotechar, quoting, doublequote, escapechar, comment, encoding, encoding_errors, dialect, on_bad_lines, delim_whitespace, low_memory, memory_map, float_precision, storage_options, dtype_backend)\u001B[0m\n\u001B[0;32m    935\u001B[0m kwds_defaults \u001B[38;5;241m=\u001B[39m _refine_defaults_read(\n\u001B[0;32m    936\u001B[0m     dialect,\n\u001B[0;32m    937\u001B[0m     delimiter,\n\u001B[1;32m   (...)\u001B[0m\n\u001B[0;32m    944\u001B[0m     dtype_backend\u001B[38;5;241m=\u001B[39mdtype_backend,\n\u001B[0;32m    945\u001B[0m )\n\u001B[0;32m    946\u001B[0m kwds\u001B[38;5;241m.\u001B[39mupdate(kwds_defaults)\n\u001B[1;32m--> 948\u001B[0m \u001B[38;5;28;01mreturn\u001B[39;00m \u001B[43m_read\u001B[49m\u001B[43m(\u001B[49m\u001B[43mfilepath_or_buffer\u001B[49m\u001B[43m,\u001B[49m\u001B[43m \u001B[49m\u001B[43mkwds\u001B[49m\u001B[43m)\u001B[49m\n",
      "File \u001B[1;32m~\\firstPython\\Lib\\site-packages\\pandas\\io\\parsers\\readers.py:611\u001B[0m, in \u001B[0;36m_read\u001B[1;34m(filepath_or_buffer, kwds)\u001B[0m\n\u001B[0;32m    608\u001B[0m _validate_names(kwds\u001B[38;5;241m.\u001B[39mget(\u001B[38;5;124m\"\u001B[39m\u001B[38;5;124mnames\u001B[39m\u001B[38;5;124m\"\u001B[39m, \u001B[38;5;28;01mNone\u001B[39;00m))\n\u001B[0;32m    610\u001B[0m \u001B[38;5;66;03m# Create the parser.\u001B[39;00m\n\u001B[1;32m--> 611\u001B[0m parser \u001B[38;5;241m=\u001B[39m \u001B[43mTextFileReader\u001B[49m\u001B[43m(\u001B[49m\u001B[43mfilepath_or_buffer\u001B[49m\u001B[43m,\u001B[49m\u001B[43m \u001B[49m\u001B[38;5;241;43m*\u001B[39;49m\u001B[38;5;241;43m*\u001B[39;49m\u001B[43mkwds\u001B[49m\u001B[43m)\u001B[49m\n\u001B[0;32m    613\u001B[0m \u001B[38;5;28;01mif\u001B[39;00m chunksize \u001B[38;5;129;01mor\u001B[39;00m iterator:\n\u001B[0;32m    614\u001B[0m     \u001B[38;5;28;01mreturn\u001B[39;00m parser\n",
      "File \u001B[1;32m~\\firstPython\\Lib\\site-packages\\pandas\\io\\parsers\\readers.py:1448\u001B[0m, in \u001B[0;36mTextFileReader.__init__\u001B[1;34m(self, f, engine, **kwds)\u001B[0m\n\u001B[0;32m   1445\u001B[0m     \u001B[38;5;28mself\u001B[39m\u001B[38;5;241m.\u001B[39moptions[\u001B[38;5;124m\"\u001B[39m\u001B[38;5;124mhas_index_names\u001B[39m\u001B[38;5;124m\"\u001B[39m] \u001B[38;5;241m=\u001B[39m kwds[\u001B[38;5;124m\"\u001B[39m\u001B[38;5;124mhas_index_names\u001B[39m\u001B[38;5;124m\"\u001B[39m]\n\u001B[0;32m   1447\u001B[0m \u001B[38;5;28mself\u001B[39m\u001B[38;5;241m.\u001B[39mhandles: IOHandles \u001B[38;5;241m|\u001B[39m \u001B[38;5;28;01mNone\u001B[39;00m \u001B[38;5;241m=\u001B[39m \u001B[38;5;28;01mNone\u001B[39;00m\n\u001B[1;32m-> 1448\u001B[0m \u001B[38;5;28mself\u001B[39m\u001B[38;5;241m.\u001B[39m_engine \u001B[38;5;241m=\u001B[39m \u001B[38;5;28;43mself\u001B[39;49m\u001B[38;5;241;43m.\u001B[39;49m\u001B[43m_make_engine\u001B[49m\u001B[43m(\u001B[49m\u001B[43mf\u001B[49m\u001B[43m,\u001B[49m\u001B[43m \u001B[49m\u001B[38;5;28;43mself\u001B[39;49m\u001B[38;5;241;43m.\u001B[39;49m\u001B[43mengine\u001B[49m\u001B[43m)\u001B[49m\n",
      "File \u001B[1;32m~\\firstPython\\Lib\\site-packages\\pandas\\io\\parsers\\readers.py:1705\u001B[0m, in \u001B[0;36mTextFileReader._make_engine\u001B[1;34m(self, f, engine)\u001B[0m\n\u001B[0;32m   1703\u001B[0m     \u001B[38;5;28;01mif\u001B[39;00m \u001B[38;5;124m\"\u001B[39m\u001B[38;5;124mb\u001B[39m\u001B[38;5;124m\"\u001B[39m \u001B[38;5;129;01mnot\u001B[39;00m \u001B[38;5;129;01min\u001B[39;00m mode:\n\u001B[0;32m   1704\u001B[0m         mode \u001B[38;5;241m+\u001B[39m\u001B[38;5;241m=\u001B[39m \u001B[38;5;124m\"\u001B[39m\u001B[38;5;124mb\u001B[39m\u001B[38;5;124m\"\u001B[39m\n\u001B[1;32m-> 1705\u001B[0m \u001B[38;5;28mself\u001B[39m\u001B[38;5;241m.\u001B[39mhandles \u001B[38;5;241m=\u001B[39m \u001B[43mget_handle\u001B[49m\u001B[43m(\u001B[49m\n\u001B[0;32m   1706\u001B[0m \u001B[43m    \u001B[49m\u001B[43mf\u001B[49m\u001B[43m,\u001B[49m\n\u001B[0;32m   1707\u001B[0m \u001B[43m    \u001B[49m\u001B[43mmode\u001B[49m\u001B[43m,\u001B[49m\n\u001B[0;32m   1708\u001B[0m \u001B[43m    \u001B[49m\u001B[43mencoding\u001B[49m\u001B[38;5;241;43m=\u001B[39;49m\u001B[38;5;28;43mself\u001B[39;49m\u001B[38;5;241;43m.\u001B[39;49m\u001B[43moptions\u001B[49m\u001B[38;5;241;43m.\u001B[39;49m\u001B[43mget\u001B[49m\u001B[43m(\u001B[49m\u001B[38;5;124;43m\"\u001B[39;49m\u001B[38;5;124;43mencoding\u001B[39;49m\u001B[38;5;124;43m\"\u001B[39;49m\u001B[43m,\u001B[49m\u001B[43m \u001B[49m\u001B[38;5;28;43;01mNone\u001B[39;49;00m\u001B[43m)\u001B[49m\u001B[43m,\u001B[49m\n\u001B[0;32m   1709\u001B[0m \u001B[43m    \u001B[49m\u001B[43mcompression\u001B[49m\u001B[38;5;241;43m=\u001B[39;49m\u001B[38;5;28;43mself\u001B[39;49m\u001B[38;5;241;43m.\u001B[39;49m\u001B[43moptions\u001B[49m\u001B[38;5;241;43m.\u001B[39;49m\u001B[43mget\u001B[49m\u001B[43m(\u001B[49m\u001B[38;5;124;43m\"\u001B[39;49m\u001B[38;5;124;43mcompression\u001B[39;49m\u001B[38;5;124;43m\"\u001B[39;49m\u001B[43m,\u001B[49m\u001B[43m \u001B[49m\u001B[38;5;28;43;01mNone\u001B[39;49;00m\u001B[43m)\u001B[49m\u001B[43m,\u001B[49m\n\u001B[0;32m   1710\u001B[0m \u001B[43m    \u001B[49m\u001B[43mmemory_map\u001B[49m\u001B[38;5;241;43m=\u001B[39;49m\u001B[38;5;28;43mself\u001B[39;49m\u001B[38;5;241;43m.\u001B[39;49m\u001B[43moptions\u001B[49m\u001B[38;5;241;43m.\u001B[39;49m\u001B[43mget\u001B[49m\u001B[43m(\u001B[49m\u001B[38;5;124;43m\"\u001B[39;49m\u001B[38;5;124;43mmemory_map\u001B[39;49m\u001B[38;5;124;43m\"\u001B[39;49m\u001B[43m,\u001B[49m\u001B[43m \u001B[49m\u001B[38;5;28;43;01mFalse\u001B[39;49;00m\u001B[43m)\u001B[49m\u001B[43m,\u001B[49m\n\u001B[0;32m   1711\u001B[0m \u001B[43m    \u001B[49m\u001B[43mis_text\u001B[49m\u001B[38;5;241;43m=\u001B[39;49m\u001B[43mis_text\u001B[49m\u001B[43m,\u001B[49m\n\u001B[0;32m   1712\u001B[0m \u001B[43m    \u001B[49m\u001B[43merrors\u001B[49m\u001B[38;5;241;43m=\u001B[39;49m\u001B[38;5;28;43mself\u001B[39;49m\u001B[38;5;241;43m.\u001B[39;49m\u001B[43moptions\u001B[49m\u001B[38;5;241;43m.\u001B[39;49m\u001B[43mget\u001B[49m\u001B[43m(\u001B[49m\u001B[38;5;124;43m\"\u001B[39;49m\u001B[38;5;124;43mencoding_errors\u001B[39;49m\u001B[38;5;124;43m\"\u001B[39;49m\u001B[43m,\u001B[49m\u001B[43m \u001B[49m\u001B[38;5;124;43m\"\u001B[39;49m\u001B[38;5;124;43mstrict\u001B[39;49m\u001B[38;5;124;43m\"\u001B[39;49m\u001B[43m)\u001B[49m\u001B[43m,\u001B[49m\n\u001B[0;32m   1713\u001B[0m \u001B[43m    \u001B[49m\u001B[43mstorage_options\u001B[49m\u001B[38;5;241;43m=\u001B[39;49m\u001B[38;5;28;43mself\u001B[39;49m\u001B[38;5;241;43m.\u001B[39;49m\u001B[43moptions\u001B[49m\u001B[38;5;241;43m.\u001B[39;49m\u001B[43mget\u001B[49m\u001B[43m(\u001B[49m\u001B[38;5;124;43m\"\u001B[39;49m\u001B[38;5;124;43mstorage_options\u001B[39;49m\u001B[38;5;124;43m\"\u001B[39;49m\u001B[43m,\u001B[49m\u001B[43m \u001B[49m\u001B[38;5;28;43;01mNone\u001B[39;49;00m\u001B[43m)\u001B[49m\u001B[43m,\u001B[49m\n\u001B[0;32m   1714\u001B[0m \u001B[43m\u001B[49m\u001B[43m)\u001B[49m\n\u001B[0;32m   1715\u001B[0m \u001B[38;5;28;01massert\u001B[39;00m \u001B[38;5;28mself\u001B[39m\u001B[38;5;241m.\u001B[39mhandles \u001B[38;5;129;01mis\u001B[39;00m \u001B[38;5;129;01mnot\u001B[39;00m \u001B[38;5;28;01mNone\u001B[39;00m\n\u001B[0;32m   1716\u001B[0m f \u001B[38;5;241m=\u001B[39m \u001B[38;5;28mself\u001B[39m\u001B[38;5;241m.\u001B[39mhandles\u001B[38;5;241m.\u001B[39mhandle\n",
      "File \u001B[1;32m~\\firstPython\\Lib\\site-packages\\pandas\\io\\common.py:863\u001B[0m, in \u001B[0;36mget_handle\u001B[1;34m(path_or_buf, mode, encoding, compression, memory_map, is_text, errors, storage_options)\u001B[0m\n\u001B[0;32m    858\u001B[0m \u001B[38;5;28;01melif\u001B[39;00m \u001B[38;5;28misinstance\u001B[39m(handle, \u001B[38;5;28mstr\u001B[39m):\n\u001B[0;32m    859\u001B[0m     \u001B[38;5;66;03m# Check whether the filename is to be opened in binary mode.\u001B[39;00m\n\u001B[0;32m    860\u001B[0m     \u001B[38;5;66;03m# Binary mode does not support 'encoding' and 'newline'.\u001B[39;00m\n\u001B[0;32m    861\u001B[0m     \u001B[38;5;28;01mif\u001B[39;00m ioargs\u001B[38;5;241m.\u001B[39mencoding \u001B[38;5;129;01mand\u001B[39;00m \u001B[38;5;124m\"\u001B[39m\u001B[38;5;124mb\u001B[39m\u001B[38;5;124m\"\u001B[39m \u001B[38;5;129;01mnot\u001B[39;00m \u001B[38;5;129;01min\u001B[39;00m ioargs\u001B[38;5;241m.\u001B[39mmode:\n\u001B[0;32m    862\u001B[0m         \u001B[38;5;66;03m# Encoding\u001B[39;00m\n\u001B[1;32m--> 863\u001B[0m         handle \u001B[38;5;241m=\u001B[39m \u001B[38;5;28;43mopen\u001B[39;49m\u001B[43m(\u001B[49m\n\u001B[0;32m    864\u001B[0m \u001B[43m            \u001B[49m\u001B[43mhandle\u001B[49m\u001B[43m,\u001B[49m\n\u001B[0;32m    865\u001B[0m \u001B[43m            \u001B[49m\u001B[43mioargs\u001B[49m\u001B[38;5;241;43m.\u001B[39;49m\u001B[43mmode\u001B[49m\u001B[43m,\u001B[49m\n\u001B[0;32m    866\u001B[0m \u001B[43m            \u001B[49m\u001B[43mencoding\u001B[49m\u001B[38;5;241;43m=\u001B[39;49m\u001B[43mioargs\u001B[49m\u001B[38;5;241;43m.\u001B[39;49m\u001B[43mencoding\u001B[49m\u001B[43m,\u001B[49m\n\u001B[0;32m    867\u001B[0m \u001B[43m            \u001B[49m\u001B[43merrors\u001B[49m\u001B[38;5;241;43m=\u001B[39;49m\u001B[43merrors\u001B[49m\u001B[43m,\u001B[49m\n\u001B[0;32m    868\u001B[0m \u001B[43m            \u001B[49m\u001B[43mnewline\u001B[49m\u001B[38;5;241;43m=\u001B[39;49m\u001B[38;5;124;43m\"\u001B[39;49m\u001B[38;5;124;43m\"\u001B[39;49m\u001B[43m,\u001B[49m\n\u001B[0;32m    869\u001B[0m \u001B[43m        \u001B[49m\u001B[43m)\u001B[49m\n\u001B[0;32m    870\u001B[0m     \u001B[38;5;28;01melse\u001B[39;00m:\n\u001B[0;32m    871\u001B[0m         \u001B[38;5;66;03m# Binary mode\u001B[39;00m\n\u001B[0;32m    872\u001B[0m         handle \u001B[38;5;241m=\u001B[39m \u001B[38;5;28mopen\u001B[39m(handle, ioargs\u001B[38;5;241m.\u001B[39mmode)\n",
      "\u001B[1;31mFileNotFoundError\u001B[0m: [Errno 2] No such file or directory: '../csv/competitions.csv'"
     ]
    }
   ],
   "source": [
    "cpt = pd.read_csv('../csv/competitions.csv')\n",
    "cpt.head()\n",
    "\n"
   ],
   "metadata": {
    "collapsed": false,
    "ExecuteTime": {
     "end_time": "2023-12-26T14:05:22.014951Z",
     "start_time": "2023-12-26T14:05:21.651450800Z"
    }
   },
   "id": "b9c8d915688c7ecd"
  },
  {
   "cell_type": "code",
   "execution_count": null,
   "outputs": [],
   "source": [
    "cpt.columns"
   ],
   "metadata": {
    "collapsed": false,
    "ExecuteTime": {
     "end_time": "2023-12-26T14:05:22.021960400Z",
     "start_time": "2023-12-26T14:05:22.016960400Z"
    }
   },
   "id": "ede23d2fa40d2e56"
  },
  {
   "cell_type": "code",
   "execution_count": null,
   "outputs": [],
   "source": [
    "cpt.dtypes"
   ],
   "metadata": {
    "collapsed": false,
    "ExecuteTime": {
     "start_time": "2023-12-26T14:05:22.017960900Z"
    }
   },
   "id": "f61922c6193244cb"
  },
  {
   "cell_type": "code",
   "execution_count": null,
   "outputs": [],
   "source": [
    "cpt.shape"
   ],
   "metadata": {
    "collapsed": false,
    "ExecuteTime": {
     "start_time": "2023-12-26T14:05:22.019961200Z"
    }
   },
   "id": "7b58bf147cbe276b"
  },
  {
   "cell_type": "code",
   "execution_count": null,
   "outputs": [],
   "source": [
    "cpt.isna()"
   ],
   "metadata": {
    "collapsed": false,
    "ExecuteTime": {
     "start_time": "2023-12-26T14:05:22.020962100Z"
    }
   },
   "id": "7a731ff030577197"
  },
  {
   "cell_type": "code",
   "execution_count": null,
   "outputs": [],
   "source": [
    "cpt.isna().sum()"
   ],
   "metadata": {
    "collapsed": false,
    "ExecuteTime": {
     "end_time": "2023-12-26T14:05:22.021960400Z",
     "start_time": "2023-12-26T14:05:22.021960400Z"
    }
   },
   "id": "eccac49627b4aaf7"
  },
  {
   "cell_type": "markdown",
   "source": [
    "###### Let's see in which tuples there are null values in the column country_name\n"
   ],
   "metadata": {
    "collapsed": false
   },
   "id": "aa45becaa3261c3a"
  },
  {
   "cell_type": "code",
   "execution_count": null,
   "outputs": [],
   "source": [
    "cpt[cpt['country_name'].isnull()]"
   ],
   "metadata": {
    "collapsed": false,
    "ExecuteTime": {
     "start_time": "2023-12-26T14:05:22.022961Z"
    }
   },
   "id": "6eb1203b002f3c99"
  },
  {
   "cell_type": "markdown",
   "source": [
    "## <font color='green'>games</font> table\n",
    "###### This table contains details about individual matches, such as the home team, the away team, the competition, the season, the date, the stadium and the number of goals."
   ],
   "metadata": {
    "collapsed": false
   },
   "id": "a3e09dd3f4c2c91f"
  },
  {
   "cell_type": "code",
   "execution_count": null,
   "outputs": [],
   "source": [
    "gms = pd.read_csv('../csv/games.csv')\n",
    "gms.head()"
   ],
   "metadata": {
    "collapsed": false,
    "ExecuteTime": {
     "end_time": "2023-12-26T14:05:22.026476600Z",
     "start_time": "2023-12-26T14:05:22.024465800Z"
    }
   },
   "id": "d768706b5f269790"
  },
  {
   "cell_type": "code",
   "execution_count": null,
   "outputs": [],
   "source": [
    "gms.columns"
   ],
   "metadata": {
    "collapsed": false,
    "ExecuteTime": {
     "start_time": "2023-12-26T14:05:22.025471200Z"
    }
   },
   "id": "26d159b021a4b8f6"
  },
  {
   "cell_type": "code",
   "execution_count": null,
   "outputs": [],
   "source": [
    "gms.dtypes"
   ],
   "metadata": {
    "collapsed": false,
    "ExecuteTime": {
     "end_time": "2023-12-26T14:05:22.029476300Z",
     "start_time": "2023-12-26T14:05:22.026476600Z"
    }
   },
   "id": "b886f3a935efc9f9"
  },
  {
   "cell_type": "code",
   "execution_count": null,
   "outputs": [],
   "source": [
    "gms.shape"
   ],
   "metadata": {
    "collapsed": false,
    "ExecuteTime": {
     "start_time": "2023-12-26T14:05:22.027477Z"
    }
   },
   "id": "d5b582f883037f1a"
  },
  {
   "cell_type": "code",
   "execution_count": null,
   "outputs": [],
   "source": [
    "gms['date']"
   ],
   "metadata": {
    "collapsed": false,
    "ExecuteTime": {
     "end_time": "2023-12-26T14:05:22.029476300Z",
     "start_time": "2023-12-26T14:05:22.029476300Z"
    }
   },
   "id": "ce6d8692d1340622"
  },
  {
   "cell_type": "markdown",
   "source": [
    "###### We have some dates that we can convert to the appropriate format."
   ],
   "metadata": {
    "collapsed": false
   },
   "id": "f6ef177755890030"
  },
  {
   "cell_type": "code",
   "execution_count": null,
   "outputs": [],
   "source": [
    "gms['date'] = pd.to_datetime(gms['date'])"
   ],
   "metadata": {
    "collapsed": false,
    "ExecuteTime": {
     "start_time": "2023-12-26T14:05:22.030476100Z"
    }
   },
   "id": "c5e0bb9348c2e90a"
  },
  {
   "cell_type": "markdown",
   "source": [],
   "metadata": {
    "collapsed": false
   },
   "id": "71c4cd342f7443cc"
  },
  {
   "cell_type": "markdown",
   "source": [
    "###### In some tuples, there is missing information about the manager, the stadium, the lineup, and the home team. This could be due to matches without a home team, for example, matches played on neutral grounds or in other circumstances. Additionally, in many tuples, the home team's position is not known.\n"
   ],
   "metadata": {
    "collapsed": false
   },
   "id": "ff631403684f7629"
  },
  {
   "cell_type": "code",
   "execution_count": null,
   "outputs": [],
   "source": [
    "gms.isna().sum()"
   ],
   "metadata": {
    "collapsed": false,
    "ExecuteTime": {
     "start_time": "2023-12-26T14:05:22.031476Z"
    }
   },
   "id": "904e5266ebc7e999"
  },
  {
   "cell_type": "markdown",
   "source": [],
   "metadata": {
    "collapsed": false
   },
   "id": "c1b5a08ae560c345"
  },
  {
   "cell_type": "markdown",
   "source": [
    "###### Here we observe that the number of different competitions is 43."
   ],
   "metadata": {
    "collapsed": false
   },
   "id": "b3f9f08808b68082"
  },
  {
   "cell_type": "code",
   "execution_count": null,
   "outputs": [],
   "source": [
    "gms['competition_id'].unique()"
   ],
   "metadata": {
    "collapsed": false,
    "ExecuteTime": {
     "start_time": "2023-12-26T14:05:22.032475400Z"
    }
   },
   "id": "f1260b56853c74a4"
  },
  {
   "cell_type": "code",
   "execution_count": null,
   "outputs": [],
   "source": [
    "gms[gms[\"home_club_formation\"].isnull()]"
   ],
   "metadata": {
    "collapsed": false,
    "ExecuteTime": {
     "start_time": "2023-12-26T14:05:22.033475500Z"
    }
   },
   "id": "2346094cefad5b50"
  },
  {
   "cell_type": "markdown",
   "source": [
    "## <font color='green'>clubs</font> table\n",
    "###### The clubs table contains statistical information about a particular team, such as the number of players, the market value, the number of foreign players, the home stadium, and the coach."
   ],
   "metadata": {
    "collapsed": false
   },
   "id": "a799385ee1447760"
  },
  {
   "cell_type": "code",
   "execution_count": null,
   "outputs": [],
   "source": [
    "clb = pd.read_csv('../csv/clubs.csv')\n",
    "clb.head()\n"
   ],
   "metadata": {
    "collapsed": false,
    "ExecuteTime": {
     "start_time": "2023-12-26T14:05:22.034980600Z"
    }
   },
   "id": "a2a724d85e9af5b8"
  },
  {
   "cell_type": "markdown",
   "source": [
    "###### The missing information is the market value, the average age, and the percentage of foreigners. The latter two pieces of information could be missing due to incomplete information about the team composition, while the market value information seems to be missing altogether because it is also missing for well-known teams (e.g., AS Roma)."
   ],
   "metadata": {
    "collapsed": false
   },
   "id": "dbb8112e6d6cdceb"
  },
  {
   "cell_type": "code",
   "execution_count": null,
   "outputs": [],
   "source": [
    "clb.isna().sum()"
   ],
   "metadata": {
    "collapsed": false,
    "ExecuteTime": {
     "end_time": "2023-12-26T14:05:22.040991Z",
     "start_time": "2023-12-26T14:05:22.035985800Z"
    }
   },
   "id": "69cc7bd6936a230d"
  },
  {
   "cell_type": "code",
   "execution_count": null,
   "outputs": [],
   "source": [
    "clb.shape"
   ],
   "metadata": {
    "collapsed": false,
    "ExecuteTime": {
     "start_time": "2023-12-26T14:05:22.037990400Z"
    }
   },
   "id": "36d73575be26a89b"
  },
  {
   "cell_type": "code",
   "execution_count": null,
   "outputs": [],
   "source": [
    "clb[clb[\"total_market_value\"].isnull()]"
   ],
   "metadata": {
    "collapsed": false,
    "ExecuteTime": {
     "start_time": "2023-12-26T14:05:22.038991500Z"
    }
   },
   "id": "e01337cb37ca5014"
  },
  {
   "cell_type": "markdown",
   "source": [
    "###### The data types seem correct, in particular we have three columns that can have floating-point values so they are of type float."
   ],
   "metadata": {
    "collapsed": false
   },
   "id": "dabcabf06aa42317"
  },
  {
   "cell_type": "code",
   "execution_count": null,
   "outputs": [],
   "source": [
    "clb.dtypes"
   ],
   "metadata": {
    "collapsed": false,
    "ExecuteTime": {
     "start_time": "2023-12-26T14:05:22.039991100Z"
    }
   },
   "id": "4b3414beaa1dcd9e"
  },
  {
   "cell_type": "markdown",
   "source": [
    "## <font color='green'>club_games</font> table\n",
    "###### Here we find information about the team's performance in individual matches."
   ],
   "metadata": {
    "collapsed": false
   },
   "id": "72355fbff63b5d0c"
  },
  {
   "cell_type": "code",
   "execution_count": null,
   "outputs": [],
   "source": [
    "clb_games = pd.read_csv('../csv/club_games.csv')\n",
    "clb_games.head()\n"
   ],
   "metadata": {
    "collapsed": false,
    "ExecuteTime": {
     "end_time": "2023-12-26T14:05:22.045502600Z",
     "start_time": "2023-12-26T14:05:22.040991Z"
    }
   },
   "id": "fc67f9fd2b24de94"
  },
  {
   "cell_type": "code",
   "execution_count": null,
   "outputs": [],
   "source": [
    "clb_games.shape"
   ],
   "metadata": {
    "collapsed": false,
    "ExecuteTime": {
     "start_time": "2023-12-26T14:05:22.042990800Z"
    }
   },
   "id": "3ebfb8ed2e05bf7a"
  },
  {
   "cell_type": "code",
   "execution_count": null,
   "outputs": [],
   "source": [
    "clb_games.columns"
   ],
   "metadata": {
    "collapsed": false,
    "ExecuteTime": {
     "start_time": "2023-12-26T14:05:22.042990800Z"
    }
   },
   "id": "ce9e163efe238275"
  },
  {
   "cell_type": "code",
   "execution_count": null,
   "outputs": [],
   "source": [
    "clb_games.dtypes"
   ],
   "metadata": {
    "collapsed": false,
    "ExecuteTime": {
     "start_time": "2023-12-26T14:05:22.044496400Z"
    }
   },
   "id": "aca3d2493e586ca3"
  },
  {
   "cell_type": "markdown",
   "source": [
    "###### The missing information refers to the teams' positions and the managers' names."
   ],
   "metadata": {
    "collapsed": false
   },
   "id": "8875a4cf86e08669"
  },
  {
   "cell_type": "code",
   "execution_count": null,
   "outputs": [],
   "source": [
    "clb_games.isna().sum()"
   ],
   "metadata": {
    "collapsed": false,
    "ExecuteTime": {
     "start_time": "2023-12-26T14:05:22.045502600Z"
    }
   },
   "id": "d2a7c9ffb91d7522"
  },
  {
   "cell_type": "markdown",
   "source": [
    "## <font color='green'>players</font> table\n",
    "###### We find information about individual players, such as personal information such as date of birth, country of origin, height, preferred foot, maximum market value reached and agent name."
   ],
   "metadata": {
    "collapsed": false
   },
   "id": "57874146ebbd8114"
  },
  {
   "cell_type": "code",
   "execution_count": null,
   "outputs": [],
   "source": [
    "ply = pd.read_csv('../csv/players.csv')\n",
    "ply.head()\n"
   ],
   "metadata": {
    "collapsed": false,
    "ExecuteTime": {
     "start_time": "2023-12-26T14:05:22.047507300Z"
    }
   },
   "id": "a30513d90b52c282"
  },
  {
   "cell_type": "code",
   "execution_count": null,
   "outputs": [],
   "source": [
    "ply.columns"
   ],
   "metadata": {
    "collapsed": false,
    "ExecuteTime": {
     "start_time": "2023-12-26T14:05:22.049507700Z"
    }
   },
   "id": "84064aeed689db4c"
  },
  {
   "cell_type": "code",
   "execution_count": null,
   "outputs": [],
   "source": [
    "ply.dtypes"
   ],
   "metadata": {
    "collapsed": false,
    "ExecuteTime": {
     "start_time": "2023-12-26T14:05:22.050507Z"
    }
   },
   "id": "1f587e3b7469af6a"
  },
  {
   "cell_type": "code",
   "execution_count": null,
   "outputs": [],
   "source": [
    "ply['date_of_birth'] = pd.to_datetime(ply['date_of_birth'])\n",
    "ply['contract_expiration_date'] = pd.to_datetime(ply['contract_expiration_date'])\n",
    "ply.dtypes"
   ],
   "metadata": {
    "collapsed": false,
    "ExecuteTime": {
     "start_time": "2023-12-26T14:05:22.051508Z"
    }
   },
   "id": "7b384e9f6e04c104"
  },
  {
   "cell_type": "markdown",
   "source": [
    "###### The missing information is personal in nature, such as place of birth, height, information about the preferred foot, and market value. The most important information that is not available for many players is first_name. In this case, the name column will only have the value of last_name. However, since we have an identifier such as player_id, we can still associate the player to the data even if we do not know the first_name."
   ],
   "metadata": {
    "collapsed": false
   },
   "id": "9ba29da91d0131d6"
  },
  {
   "cell_type": "code",
   "execution_count": null,
   "outputs": [],
   "source": [
    "ply.isna().sum()"
   ],
   "metadata": {
    "collapsed": false,
    "ExecuteTime": {
     "start_time": "2023-12-26T14:05:22.053506500Z"
    }
   },
   "id": "5143562a7ae1c054"
  },
  {
   "cell_type": "code",
   "execution_count": null,
   "outputs": [],
   "source": [
    "ply[ply['first_name'].isnull()]"
   ],
   "metadata": {
    "collapsed": false,
    "ExecuteTime": {
     "start_time": "2023-12-26T14:05:22.054508Z"
    }
   },
   "id": "2487662290dad601"
  },
  {
   "cell_type": "code",
   "execution_count": null,
   "outputs": [],
   "source": [
    "ply.shape"
   ],
   "metadata": {
    "collapsed": false,
    "ExecuteTime": {
     "start_time": "2023-12-26T14:05:22.056681600Z"
    }
   },
   "id": "726a56c14f176963"
  },
  {
   "cell_type": "markdown",
   "source": [
    "## <font color='green'>appearances</font> table\n",
    "###### In this table, we find information about players based on individual matches, such as the number of yellow/red cards, the number of goals, assists, and minutes played."
   ],
   "metadata": {
    "collapsed": false
   },
   "id": "c2884a864c504b63"
  },
  {
   "cell_type": "code",
   "execution_count": null,
   "outputs": [],
   "source": [
    "apr = pd.read_csv('../csv/appearances.csv')\n",
    "apr.head()"
   ],
   "metadata": {
    "collapsed": false,
    "ExecuteTime": {
     "start_time": "2023-12-26T14:05:22.058682800Z"
    }
   },
   "id": "f3e24b0a736bbb55"
  },
  {
   "cell_type": "code",
   "execution_count": null,
   "outputs": [],
   "source": [
    "apr.columns"
   ],
   "metadata": {
    "collapsed": false,
    "ExecuteTime": {
     "start_time": "2023-12-26T14:05:22.059681200Z"
    }
   },
   "id": "b0e97bd04b454972"
  },
  {
   "cell_type": "code",
   "execution_count": null,
   "outputs": [],
   "source": [
    "apr.dtypes"
   ],
   "metadata": {
    "collapsed": false,
    "ExecuteTime": {
     "start_time": "2023-12-26T14:05:22.060681100Z"
    }
   },
   "id": "4db7a5074147ef71"
  },
  {
   "cell_type": "code",
   "execution_count": null,
   "outputs": [],
   "source": [
    "apr['date'] = pd.to_datetime(apr['date'])"
   ],
   "metadata": {
    "collapsed": false,
    "ExecuteTime": {
     "start_time": "2023-12-26T14:05:22.062710900Z"
    }
   },
   "id": "93e461377fcf38a1"
  },
  {
   "cell_type": "code",
   "execution_count": null,
   "outputs": [],
   "source": [
    "apr.dtypes"
   ],
   "metadata": {
    "collapsed": false,
    "ExecuteTime": {
     "start_time": "2023-12-26T14:05:22.062710900Z"
    }
   },
   "id": "5bca4572b696ffb0"
  },
  {
   "cell_type": "code",
   "execution_count": null,
   "outputs": [],
   "source": [
    "apr.isna().sum()"
   ],
   "metadata": {
    "collapsed": false,
    "ExecuteTime": {
     "start_time": "2023-12-26T14:05:22.064219800Z"
    }
   },
   "id": "29923458d48d5e5c"
  },
  {
   "cell_type": "markdown",
   "source": [
    "## <font color='green'>game_events</font> table\n",
    "###### The game_events table contains detailed information about specific events that occur during a football match. Some examples of events include a player entering the field (substitution), an assist, a foul, a yellow or red card, and other relevant events during the match."
   ],
   "metadata": {
    "collapsed": false
   },
   "id": "3acfb8b571358c18"
  },
  {
   "cell_type": "code",
   "execution_count": null,
   "outputs": [],
   "source": [
    "gme = pd.read_csv('../csv/game_events.csv')\n",
    "gme.head()"
   ],
   "metadata": {
    "collapsed": false,
    "ExecuteTime": {
     "start_time": "2023-12-26T14:05:22.065224600Z"
    }
   },
   "id": "b432e7b5ae5bc4fa"
  },
  {
   "cell_type": "code",
   "execution_count": null,
   "outputs": [],
   "source": [
    "gme.columns\n"
   ],
   "metadata": {
    "collapsed": false,
    "ExecuteTime": {
     "start_time": "2023-12-26T14:05:22.066250400Z"
    }
   },
   "id": "257c497c798a6641"
  },
  {
   "cell_type": "code",
   "execution_count": null,
   "outputs": [],
   "source": [
    "gme.dtypes"
   ],
   "metadata": {
    "collapsed": false,
    "ExecuteTime": {
     "start_time": "2023-12-26T14:05:22.067247100Z"
    }
   },
   "id": "5eb5f07c5bcb5462"
  },
  {
   "cell_type": "code",
   "execution_count": null,
   "outputs": [],
   "source": [
    "gme['date'] = pd.to_datetime(gme['date'])"
   ],
   "metadata": {
    "collapsed": false,
    "ExecuteTime": {
     "end_time": "2023-12-26T14:05:22.074247600Z",
     "start_time": "2023-12-26T14:05:22.068224800Z"
    }
   },
   "id": "b2deada0f017043a"
  },
  {
   "cell_type": "code",
   "execution_count": null,
   "outputs": [],
   "source": [
    "gme.dtypes"
   ],
   "metadata": {
    "collapsed": false,
    "ExecuteTime": {
     "start_time": "2023-12-26T14:05:22.069251300Z"
    }
   },
   "id": "8fd1d82777ad31a5"
  },
  {
   "cell_type": "markdown",
   "source": [
    "###### The missing information concerns the description, the player who came on as a substitute (probably if there were no substitutions in that match) and the missing information about the assists.\n"
   ],
   "metadata": {
    "collapsed": false
   },
   "id": "555d0b183e374fdd"
  },
  {
   "cell_type": "code",
   "execution_count": null,
   "outputs": [],
   "source": [
    "gme.isna().sum()"
   ],
   "metadata": {
    "collapsed": false,
    "ExecuteTime": {
     "start_time": "2023-12-26T14:05:22.070225800Z"
    }
   },
   "id": "9cf58e719c2e45fa"
  },
  {
   "cell_type": "code",
   "execution_count": null,
   "outputs": [],
   "source": [
    "gme.shape"
   ],
   "metadata": {
    "collapsed": false,
    "ExecuteTime": {
     "start_time": "2023-12-26T14:05:22.071249400Z"
    }
   },
   "id": "fd98b0ae339b26c1"
  },
  {
   "cell_type": "markdown",
   "source": [
    "## <font color='green'>player_valutations</font> table\n",
    "###### The information in this table contains information about the evaluations of a particular player during different seasons, such as the market value and the current team."
   ],
   "metadata": {
    "collapsed": false
   },
   "id": "adc1a4ab6d698d6e"
  },
  {
   "cell_type": "code",
   "execution_count": null,
   "outputs": [],
   "source": [
    "plv = pd.read_csv('../csv/player_valuations.csv')\n"
   ],
   "metadata": {
    "collapsed": false,
    "ExecuteTime": {
     "start_time": "2023-12-26T14:05:22.072248Z"
    }
   },
   "id": "792aff5c244233d8"
  },
  {
   "cell_type": "code",
   "execution_count": null,
   "outputs": [],
   "source": [
    "plv.columns\n"
   ],
   "metadata": {
    "collapsed": false,
    "ExecuteTime": {
     "start_time": "2023-12-26T14:05:22.073249800Z"
    }
   },
   "id": "3dc066d90b0686da"
  },
  {
   "cell_type": "code",
   "execution_count": null,
   "outputs": [],
   "source": [
    "plv.dtypes"
   ],
   "metadata": {
    "collapsed": false,
    "ExecuteTime": {
     "start_time": "2023-12-26T14:05:22.073249800Z"
    }
   },
   "id": "f0bd13879f4e559b"
  },
  {
   "cell_type": "code",
   "execution_count": null,
   "outputs": [],
   "source": [
    "plv.head()"
   ],
   "metadata": {
    "collapsed": false,
    "ExecuteTime": {
     "end_time": "2023-12-26T14:05:22.202211Z",
     "start_time": "2023-12-26T14:05:22.074247600Z"
    }
   },
   "id": "ce5a5d0cce0ebaf"
  },
  {
   "cell_type": "code",
   "execution_count": null,
   "outputs": [],
   "source": [
    "plv.shape"
   ],
   "metadata": {
    "collapsed": false,
    "ExecuteTime": {
     "start_time": "2023-12-26T14:05:22.076504800Z"
    }
   },
   "id": "c73d35c900aeb610"
  },
  {
   "cell_type": "code",
   "execution_count": null,
   "outputs": [],
   "source": [
    "plv['date'] = pd.to_datetime(plv['date'])\n",
    "plv['dateweek'] = pd.to_datetime(plv['dateweek'])\n",
    "plv['datetime'] = pd.to_datetime(plv['datetime'])"
   ],
   "metadata": {
    "collapsed": false,
    "ExecuteTime": {
     "start_time": "2023-12-26T14:05:22.077467200Z"
    }
   },
   "id": "a90d2172fad8526"
  },
  {
   "cell_type": "code",
   "execution_count": null,
   "outputs": [],
   "source": [
    "plv.tail()"
   ],
   "metadata": {
    "collapsed": false,
    "ExecuteTime": {
     "start_time": "2023-12-26T14:05:22.077467200Z"
    }
   },
   "id": "f58142b41e730fda"
  },
  {
   "cell_type": "code",
   "execution_count": null,
   "outputs": [],
   "source": [
    "plv['last_season'].nunique()"
   ],
   "metadata": {
    "collapsed": false,
    "ExecuteTime": {
     "start_time": "2023-12-26T14:05:22.078466500Z"
    }
   },
   "id": "b87aa3ec024d684a"
  },
  {
   "cell_type": "code",
   "execution_count": null,
   "outputs": [],
   "source": [
    "plv['datetime'].nunique()"
   ],
   "metadata": {
    "collapsed": false,
    "ExecuteTime": {
     "start_time": "2023-12-26T14:05:22.080465500Z"
    }
   },
   "id": "3fc85c862347e283"
  },
  {
   "cell_type": "code",
   "execution_count": null,
   "outputs": [],
   "source": [
    "plv['date'].nunique()"
   ],
   "metadata": {
    "collapsed": false,
    "ExecuteTime": {
     "start_time": "2023-12-26T14:05:22.081493400Z"
    }
   },
   "id": "4c1151e10a8c8fb1"
  },
  {
   "cell_type": "markdown",
   "source": [
    "###### <font color=\"red\">We have a match between the different values of datetime and the different values of dates, which is why it might make sense to delete one of these columns.</font>"
   ],
   "metadata": {
    "collapsed": false
   },
   "id": "565bd19215c203eb"
  },
  {
   "cell_type": "markdown",
   "source": [
    "## <font color='green'>game_lineaups</font> table\n",
    "###### The data on the roles of each player of a particular team in a particular match, including the name of the captain, are collected in this table."
   ],
   "metadata": {
    "collapsed": false
   },
   "id": "333e0b8eb34be771"
  },
  {
   "cell_type": "code",
   "execution_count": null,
   "outputs": [],
   "source": [
    "gml = pd.read_csv('../csv/game_lineups.csv')\n",
    "\n"
   ],
   "metadata": {
    "collapsed": false,
    "ExecuteTime": {
     "start_time": "2023-12-26T14:05:22.082467600Z"
    }
   },
   "id": "9153dccef84d2b8b"
  },
  {
   "cell_type": "code",
   "execution_count": null,
   "outputs": [],
   "source": [
    "gml.head()\n"
   ],
   "metadata": {
    "collapsed": false,
    "ExecuteTime": {
     "start_time": "2023-12-26T14:05:22.083465800Z"
    }
   },
   "id": "558cd170d9ae1218"
  },
  {
   "cell_type": "code",
   "execution_count": null,
   "outputs": [],
   "source": [
    "gml.columns"
   ],
   "metadata": {
    "collapsed": false,
    "ExecuteTime": {
     "start_time": "2023-12-26T14:05:22.084981Z"
    }
   },
   "id": "d72fb3588158afdf"
  },
  {
   "cell_type": "code",
   "execution_count": null,
   "outputs": [],
   "source": [
    "gml.shape"
   ],
   "metadata": {
    "collapsed": false,
    "ExecuteTime": {
     "start_time": "2023-12-26T14:05:22.085987500Z"
    }
   },
   "id": "ed0f4665d446b6d"
  },
  {
   "cell_type": "code",
   "execution_count": null,
   "outputs": [],
   "source": [
    "gml.dtypes"
   ],
   "metadata": {
    "collapsed": false,
    "ExecuteTime": {
     "start_time": "2023-12-26T14:05:22.086986300Z"
    }
   },
   "id": "bcd063c7af2a1c1"
  },
  {
   "cell_type": "code",
   "execution_count": null,
   "outputs": [],
   "source": [
    "gml.isna().sum()"
   ],
   "metadata": {
    "collapsed": false,
    "ExecuteTime": {
     "start_time": "2023-12-26T14:05:22.088988Z"
    }
   },
   "id": "7550dbd184ff7c07"
  },
  {
   "cell_type": "code",
   "execution_count": null,
   "outputs": [],
   "source": [],
   "metadata": {
    "collapsed": false,
    "ExecuteTime": {
     "start_time": "2023-12-26T14:05:22.088988Z"
    }
   },
   "id": "20812c9040a1cd34"
  }
 ],
 "metadata": {
  "kernelspec": {
   "display_name": "Python 3",
   "language": "python",
   "name": "python3"
  },
  "language_info": {
   "codemirror_mode": {
    "name": "ipython",
    "version": 2
   },
   "file_extension": ".py",
   "mimetype": "text/x-python",
   "name": "python",
   "nbconvert_exporter": "python",
   "pygments_lexer": "ipython2",
   "version": "2.7.6"
  }
 },
 "nbformat": 4,
 "nbformat_minor": 5
}

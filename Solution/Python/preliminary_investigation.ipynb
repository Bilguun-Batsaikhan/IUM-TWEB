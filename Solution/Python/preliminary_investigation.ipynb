{
 "cells": [
  {
   "cell_type": "markdown",
   "source": [
    "# <font color='gray'>Large Scale Data Analytics using Jupyter Notebooks</font>\n",
    "\n",
    "###### In this preliminary data analysis, we observed the column names, the shape of each dataset including the data format, and the null values. <br>The data is collected in 9 different CSV files: appearances, club_games, clubs, competitions, game_events, game_lineups, games, player_valuations and players. \n"
   ],
   "metadata": {
    "collapsed": false
   },
   "id": "8254b3b00ac4eed2"
  },
  {
   "cell_type": "code",
   "execution_count": 33,
   "outputs": [],
   "source": [
    "import pandas as pd\n",
    "import numpy as np"
   ],
   "metadata": {
    "collapsed": false,
    "ExecuteTime": {
     "end_time": "2023-12-22T14:25:12.891924900Z",
     "start_time": "2023-12-22T14:25:12.864007400Z"
    }
   },
   "id": "ff0b5acaddecd3d3"
  },
  {
   "cell_type": "markdown",
   "source": [
    "## <font color='green'>competitions</font> table\n"
   ],
   "metadata": {
    "collapsed": false
   },
   "id": "5acb44c394378beb"
  },
  {
   "cell_type": "code",
   "execution_count": 138,
   "outputs": [
    {
     "data": {
      "text/plain": "  competition_id               competition_code  \\\n0            CIT                      italy-cup   \n1           NLSC           johan-cruijff-schaal   \n2            GRP                kypello-elladas   \n3           POSU  supertaca-candido-de-oliveira   \n4           RUSS              russian-super-cup   \n\n                            name            sub_type          type  \\\n0                      italy-cup        domestic_cup  domestic_cup   \n1           johan-cruijff-schaal  domestic_super_cup         other   \n2                kypello-elladas        domestic_cup  domestic_cup   \n3  supertaca-candido-de-oliveira  domestic_super_cup         other   \n4              russian-super-cup  domestic_super_cup         other   \n\n   country_id country_name domestic_league_code confederation  \\\n0          75        Italy                  IT1        europa   \n1         122  Netherlands                  NL1        europa   \n2          56       Greece                  GR1        europa   \n3         136     Portugal                  PO1        europa   \n4         141       Russia                  RU1        europa   \n\n                                                 url  \n0  https://www.transfermarkt.co.uk/italy-cup/star...  \n1  https://www.transfermarkt.co.uk/johan-cruijff-...  \n2  https://www.transfermarkt.co.uk/kypello-ellada...  \n3  https://www.transfermarkt.co.uk/supertaca-cand...  \n4  https://www.transfermarkt.co.uk/russian-super-...  ",
      "text/html": "<div>\n<style scoped>\n    .dataframe tbody tr th:only-of-type {\n        vertical-align: middle;\n    }\n\n    .dataframe tbody tr th {\n        vertical-align: top;\n    }\n\n    .dataframe thead th {\n        text-align: right;\n    }\n</style>\n<table border=\"1\" class=\"dataframe\">\n  <thead>\n    <tr style=\"text-align: right;\">\n      <th></th>\n      <th>competition_id</th>\n      <th>competition_code</th>\n      <th>name</th>\n      <th>sub_type</th>\n      <th>type</th>\n      <th>country_id</th>\n      <th>country_name</th>\n      <th>domestic_league_code</th>\n      <th>confederation</th>\n      <th>url</th>\n    </tr>\n  </thead>\n  <tbody>\n    <tr>\n      <th>0</th>\n      <td>CIT</td>\n      <td>italy-cup</td>\n      <td>italy-cup</td>\n      <td>domestic_cup</td>\n      <td>domestic_cup</td>\n      <td>75</td>\n      <td>Italy</td>\n      <td>IT1</td>\n      <td>europa</td>\n      <td>https://www.transfermarkt.co.uk/italy-cup/star...</td>\n    </tr>\n    <tr>\n      <th>1</th>\n      <td>NLSC</td>\n      <td>johan-cruijff-schaal</td>\n      <td>johan-cruijff-schaal</td>\n      <td>domestic_super_cup</td>\n      <td>other</td>\n      <td>122</td>\n      <td>Netherlands</td>\n      <td>NL1</td>\n      <td>europa</td>\n      <td>https://www.transfermarkt.co.uk/johan-cruijff-...</td>\n    </tr>\n    <tr>\n      <th>2</th>\n      <td>GRP</td>\n      <td>kypello-elladas</td>\n      <td>kypello-elladas</td>\n      <td>domestic_cup</td>\n      <td>domestic_cup</td>\n      <td>56</td>\n      <td>Greece</td>\n      <td>GR1</td>\n      <td>europa</td>\n      <td>https://www.transfermarkt.co.uk/kypello-ellada...</td>\n    </tr>\n    <tr>\n      <th>3</th>\n      <td>POSU</td>\n      <td>supertaca-candido-de-oliveira</td>\n      <td>supertaca-candido-de-oliveira</td>\n      <td>domestic_super_cup</td>\n      <td>other</td>\n      <td>136</td>\n      <td>Portugal</td>\n      <td>PO1</td>\n      <td>europa</td>\n      <td>https://www.transfermarkt.co.uk/supertaca-cand...</td>\n    </tr>\n    <tr>\n      <th>4</th>\n      <td>RUSS</td>\n      <td>russian-super-cup</td>\n      <td>russian-super-cup</td>\n      <td>domestic_super_cup</td>\n      <td>other</td>\n      <td>141</td>\n      <td>Russia</td>\n      <td>RU1</td>\n      <td>europa</td>\n      <td>https://www.transfermarkt.co.uk/russian-super-...</td>\n    </tr>\n  </tbody>\n</table>\n</div>"
     },
     "execution_count": 138,
     "metadata": {},
     "output_type": "execute_result"
    }
   ],
   "source": [
    "cpt = pd.read_csv('../csv/competitions.csv')\n",
    "cpt.head()"
   ],
   "metadata": {
    "collapsed": false,
    "ExecuteTime": {
     "end_time": "2023-12-22T19:44:19.425710100Z",
     "start_time": "2023-12-22T19:44:19.356840100Z"
    }
   },
   "id": "b9c8d915688c7ecd"
  },
  {
   "cell_type": "code",
   "execution_count": 35,
   "outputs": [
    {
     "data": {
      "text/plain": "Index(['competition_id', 'competition_code', 'name', 'sub_type', 'type',\n       'country_id', 'country_name', 'domestic_league_code', 'confederation',\n       'url'],\n      dtype='object')"
     },
     "execution_count": 35,
     "metadata": {},
     "output_type": "execute_result"
    }
   ],
   "source": [
    "cpt.columns"
   ],
   "metadata": {
    "collapsed": false,
    "ExecuteTime": {
     "end_time": "2023-12-22T14:25:13.056827700Z",
     "start_time": "2023-12-22T14:25:12.898440600Z"
    }
   },
   "id": "ede23d2fa40d2e56"
  },
  {
   "cell_type": "code",
   "execution_count": 36,
   "outputs": [
    {
     "data": {
      "text/plain": "competition_id          object\ncompetition_code        object\nname                    object\nsub_type                object\ntype                    object\ncountry_id               int64\ncountry_name            object\ndomestic_league_code    object\nconfederation           object\nurl                     object\ndtype: object"
     },
     "execution_count": 36,
     "metadata": {},
     "output_type": "execute_result"
    }
   ],
   "source": [
    "cpt.dtypes"
   ],
   "metadata": {
    "collapsed": false,
    "ExecuteTime": {
     "end_time": "2023-12-22T14:25:13.058844300Z",
     "start_time": "2023-12-22T14:25:12.904808500Z"
    }
   },
   "id": "f61922c6193244cb"
  },
  {
   "cell_type": "code",
   "execution_count": 37,
   "outputs": [
    {
     "data": {
      "text/plain": "(43, 10)"
     },
     "execution_count": 37,
     "metadata": {},
     "output_type": "execute_result"
    }
   ],
   "source": [
    "cpt.shape"
   ],
   "metadata": {
    "collapsed": false,
    "ExecuteTime": {
     "end_time": "2023-12-22T14:25:13.058844300Z",
     "start_time": "2023-12-22T14:25:12.912313500Z"
    }
   },
   "id": "7b58bf147cbe276b"
  },
  {
   "cell_type": "code",
   "execution_count": 38,
   "outputs": [
    {
     "data": {
      "text/plain": "    competition_id  competition_code   name  sub_type   type  country_id  \\\n0            False             False  False     False  False       False   \n1            False             False  False     False  False       False   \n2            False             False  False     False  False       False   \n3            False             False  False     False  False       False   \n4            False             False  False     False  False       False   \n5            False             False  False     False  False       False   \n6            False             False  False     False  False       False   \n7            False             False  False     False  False       False   \n8            False             False  False     False  False       False   \n9            False             False  False     False  False       False   \n10           False             False  False     False  False       False   \n11           False             False  False     False  False       False   \n12           False             False  False     False  False       False   \n13           False             False  False     False  False       False   \n14           False             False  False     False  False       False   \n15           False             False  False     False  False       False   \n16           False             False  False     False  False       False   \n17           False             False  False     False  False       False   \n18           False             False  False     False  False       False   \n19           False             False  False     False  False       False   \n20           False             False  False     False  False       False   \n21           False             False  False     False  False       False   \n22           False             False  False     False  False       False   \n23           False             False  False     False  False       False   \n24           False             False  False     False  False       False   \n25           False             False  False     False  False       False   \n26           False             False  False     False  False       False   \n27           False             False  False     False  False       False   \n28           False             False  False     False  False       False   \n29           False             False  False     False  False       False   \n30           False             False  False     False  False       False   \n31           False             False  False     False  False       False   \n32           False             False  False     False  False       False   \n33           False             False  False     False  False       False   \n34           False             False  False     False  False       False   \n35           False             False  False     False  False       False   \n36           False             False  False     False  False       False   \n37           False             False  False     False  False       False   \n38           False             False  False     False  False       False   \n39           False             False  False     False  False       False   \n40           False             False  False     False  False       False   \n41           False             False  False     False  False       False   \n42           False             False  False     False  False       False   \n\n    country_name  domestic_league_code  confederation    url  \n0          False                 False          False  False  \n1          False                 False          False  False  \n2          False                 False          False  False  \n3          False                 False          False  False  \n4          False                 False          False  False  \n5          False                 False          False  False  \n6           True                  True          False  False  \n7          False                 False          False  False  \n8           True                  True          False  False  \n9          False                 False          False  False  \n10         False                 False          False  False  \n11         False                 False          False  False  \n12         False                 False          False  False  \n13         False                 False          False  False  \n14         False                 False          False  False  \n15         False                 False          False  False  \n16         False                 False          False  False  \n17          True                  True          False  False  \n18         False                 False          False  False  \n19         False                 False          False  False  \n20          True                  True          False  False  \n21         False                 False          False  False  \n22         False                 False          False  False  \n23         False                 False          False  False  \n24         False                 False          False  False  \n25         False                 False          False  False  \n26          True                  True          False  False  \n27         False                 False          False  False  \n28         False                 False          False  False  \n29         False                 False          False  False  \n30         False                 False          False  False  \n31          True                  True          False  False  \n32         False                 False          False  False  \n33         False                 False          False  False  \n34         False                 False          False  False  \n35         False                 False          False  False  \n36         False                 False          False  False  \n37          True                  True          False  False  \n38         False                 False          False  False  \n39         False                 False          False  False  \n40         False                 False          False  False  \n41         False                 False          False  False  \n42         False                 False          False  False  ",
      "text/html": "<div>\n<style scoped>\n    .dataframe tbody tr th:only-of-type {\n        vertical-align: middle;\n    }\n\n    .dataframe tbody tr th {\n        vertical-align: top;\n    }\n\n    .dataframe thead th {\n        text-align: right;\n    }\n</style>\n<table border=\"1\" class=\"dataframe\">\n  <thead>\n    <tr style=\"text-align: right;\">\n      <th></th>\n      <th>competition_id</th>\n      <th>competition_code</th>\n      <th>name</th>\n      <th>sub_type</th>\n      <th>type</th>\n      <th>country_id</th>\n      <th>country_name</th>\n      <th>domestic_league_code</th>\n      <th>confederation</th>\n      <th>url</th>\n    </tr>\n  </thead>\n  <tbody>\n    <tr>\n      <th>0</th>\n      <td>False</td>\n      <td>False</td>\n      <td>False</td>\n      <td>False</td>\n      <td>False</td>\n      <td>False</td>\n      <td>False</td>\n      <td>False</td>\n      <td>False</td>\n      <td>False</td>\n    </tr>\n    <tr>\n      <th>1</th>\n      <td>False</td>\n      <td>False</td>\n      <td>False</td>\n      <td>False</td>\n      <td>False</td>\n      <td>False</td>\n      <td>False</td>\n      <td>False</td>\n      <td>False</td>\n      <td>False</td>\n    </tr>\n    <tr>\n      <th>2</th>\n      <td>False</td>\n      <td>False</td>\n      <td>False</td>\n      <td>False</td>\n      <td>False</td>\n      <td>False</td>\n      <td>False</td>\n      <td>False</td>\n      <td>False</td>\n      <td>False</td>\n    </tr>\n    <tr>\n      <th>3</th>\n      <td>False</td>\n      <td>False</td>\n      <td>False</td>\n      <td>False</td>\n      <td>False</td>\n      <td>False</td>\n      <td>False</td>\n      <td>False</td>\n      <td>False</td>\n      <td>False</td>\n    </tr>\n    <tr>\n      <th>4</th>\n      <td>False</td>\n      <td>False</td>\n      <td>False</td>\n      <td>False</td>\n      <td>False</td>\n      <td>False</td>\n      <td>False</td>\n      <td>False</td>\n      <td>False</td>\n      <td>False</td>\n    </tr>\n    <tr>\n      <th>5</th>\n      <td>False</td>\n      <td>False</td>\n      <td>False</td>\n      <td>False</td>\n      <td>False</td>\n      <td>False</td>\n      <td>False</td>\n      <td>False</td>\n      <td>False</td>\n      <td>False</td>\n    </tr>\n    <tr>\n      <th>6</th>\n      <td>False</td>\n      <td>False</td>\n      <td>False</td>\n      <td>False</td>\n      <td>False</td>\n      <td>False</td>\n      <td>True</td>\n      <td>True</td>\n      <td>False</td>\n      <td>False</td>\n    </tr>\n    <tr>\n      <th>7</th>\n      <td>False</td>\n      <td>False</td>\n      <td>False</td>\n      <td>False</td>\n      <td>False</td>\n      <td>False</td>\n      <td>False</td>\n      <td>False</td>\n      <td>False</td>\n      <td>False</td>\n    </tr>\n    <tr>\n      <th>8</th>\n      <td>False</td>\n      <td>False</td>\n      <td>False</td>\n      <td>False</td>\n      <td>False</td>\n      <td>False</td>\n      <td>True</td>\n      <td>True</td>\n      <td>False</td>\n      <td>False</td>\n    </tr>\n    <tr>\n      <th>9</th>\n      <td>False</td>\n      <td>False</td>\n      <td>False</td>\n      <td>False</td>\n      <td>False</td>\n      <td>False</td>\n      <td>False</td>\n      <td>False</td>\n      <td>False</td>\n      <td>False</td>\n    </tr>\n    <tr>\n      <th>10</th>\n      <td>False</td>\n      <td>False</td>\n      <td>False</td>\n      <td>False</td>\n      <td>False</td>\n      <td>False</td>\n      <td>False</td>\n      <td>False</td>\n      <td>False</td>\n      <td>False</td>\n    </tr>\n    <tr>\n      <th>11</th>\n      <td>False</td>\n      <td>False</td>\n      <td>False</td>\n      <td>False</td>\n      <td>False</td>\n      <td>False</td>\n      <td>False</td>\n      <td>False</td>\n      <td>False</td>\n      <td>False</td>\n    </tr>\n    <tr>\n      <th>12</th>\n      <td>False</td>\n      <td>False</td>\n      <td>False</td>\n      <td>False</td>\n      <td>False</td>\n      <td>False</td>\n      <td>False</td>\n      <td>False</td>\n      <td>False</td>\n      <td>False</td>\n    </tr>\n    <tr>\n      <th>13</th>\n      <td>False</td>\n      <td>False</td>\n      <td>False</td>\n      <td>False</td>\n      <td>False</td>\n      <td>False</td>\n      <td>False</td>\n      <td>False</td>\n      <td>False</td>\n      <td>False</td>\n    </tr>\n    <tr>\n      <th>14</th>\n      <td>False</td>\n      <td>False</td>\n      <td>False</td>\n      <td>False</td>\n      <td>False</td>\n      <td>False</td>\n      <td>False</td>\n      <td>False</td>\n      <td>False</td>\n      <td>False</td>\n    </tr>\n    <tr>\n      <th>15</th>\n      <td>False</td>\n      <td>False</td>\n      <td>False</td>\n      <td>False</td>\n      <td>False</td>\n      <td>False</td>\n      <td>False</td>\n      <td>False</td>\n      <td>False</td>\n      <td>False</td>\n    </tr>\n    <tr>\n      <th>16</th>\n      <td>False</td>\n      <td>False</td>\n      <td>False</td>\n      <td>False</td>\n      <td>False</td>\n      <td>False</td>\n      <td>False</td>\n      <td>False</td>\n      <td>False</td>\n      <td>False</td>\n    </tr>\n    <tr>\n      <th>17</th>\n      <td>False</td>\n      <td>False</td>\n      <td>False</td>\n      <td>False</td>\n      <td>False</td>\n      <td>False</td>\n      <td>True</td>\n      <td>True</td>\n      <td>False</td>\n      <td>False</td>\n    </tr>\n    <tr>\n      <th>18</th>\n      <td>False</td>\n      <td>False</td>\n      <td>False</td>\n      <td>False</td>\n      <td>False</td>\n      <td>False</td>\n      <td>False</td>\n      <td>False</td>\n      <td>False</td>\n      <td>False</td>\n    </tr>\n    <tr>\n      <th>19</th>\n      <td>False</td>\n      <td>False</td>\n      <td>False</td>\n      <td>False</td>\n      <td>False</td>\n      <td>False</td>\n      <td>False</td>\n      <td>False</td>\n      <td>False</td>\n      <td>False</td>\n    </tr>\n    <tr>\n      <th>20</th>\n      <td>False</td>\n      <td>False</td>\n      <td>False</td>\n      <td>False</td>\n      <td>False</td>\n      <td>False</td>\n      <td>True</td>\n      <td>True</td>\n      <td>False</td>\n      <td>False</td>\n    </tr>\n    <tr>\n      <th>21</th>\n      <td>False</td>\n      <td>False</td>\n      <td>False</td>\n      <td>False</td>\n      <td>False</td>\n      <td>False</td>\n      <td>False</td>\n      <td>False</td>\n      <td>False</td>\n      <td>False</td>\n    </tr>\n    <tr>\n      <th>22</th>\n      <td>False</td>\n      <td>False</td>\n      <td>False</td>\n      <td>False</td>\n      <td>False</td>\n      <td>False</td>\n      <td>False</td>\n      <td>False</td>\n      <td>False</td>\n      <td>False</td>\n    </tr>\n    <tr>\n      <th>23</th>\n      <td>False</td>\n      <td>False</td>\n      <td>False</td>\n      <td>False</td>\n      <td>False</td>\n      <td>False</td>\n      <td>False</td>\n      <td>False</td>\n      <td>False</td>\n      <td>False</td>\n    </tr>\n    <tr>\n      <th>24</th>\n      <td>False</td>\n      <td>False</td>\n      <td>False</td>\n      <td>False</td>\n      <td>False</td>\n      <td>False</td>\n      <td>False</td>\n      <td>False</td>\n      <td>False</td>\n      <td>False</td>\n    </tr>\n    <tr>\n      <th>25</th>\n      <td>False</td>\n      <td>False</td>\n      <td>False</td>\n      <td>False</td>\n      <td>False</td>\n      <td>False</td>\n      <td>False</td>\n      <td>False</td>\n      <td>False</td>\n      <td>False</td>\n    </tr>\n    <tr>\n      <th>26</th>\n      <td>False</td>\n      <td>False</td>\n      <td>False</td>\n      <td>False</td>\n      <td>False</td>\n      <td>False</td>\n      <td>True</td>\n      <td>True</td>\n      <td>False</td>\n      <td>False</td>\n    </tr>\n    <tr>\n      <th>27</th>\n      <td>False</td>\n      <td>False</td>\n      <td>False</td>\n      <td>False</td>\n      <td>False</td>\n      <td>False</td>\n      <td>False</td>\n      <td>False</td>\n      <td>False</td>\n      <td>False</td>\n    </tr>\n    <tr>\n      <th>28</th>\n      <td>False</td>\n      <td>False</td>\n      <td>False</td>\n      <td>False</td>\n      <td>False</td>\n      <td>False</td>\n      <td>False</td>\n      <td>False</td>\n      <td>False</td>\n      <td>False</td>\n    </tr>\n    <tr>\n      <th>29</th>\n      <td>False</td>\n      <td>False</td>\n      <td>False</td>\n      <td>False</td>\n      <td>False</td>\n      <td>False</td>\n      <td>False</td>\n      <td>False</td>\n      <td>False</td>\n      <td>False</td>\n    </tr>\n    <tr>\n      <th>30</th>\n      <td>False</td>\n      <td>False</td>\n      <td>False</td>\n      <td>False</td>\n      <td>False</td>\n      <td>False</td>\n      <td>False</td>\n      <td>False</td>\n      <td>False</td>\n      <td>False</td>\n    </tr>\n    <tr>\n      <th>31</th>\n      <td>False</td>\n      <td>False</td>\n      <td>False</td>\n      <td>False</td>\n      <td>False</td>\n      <td>False</td>\n      <td>True</td>\n      <td>True</td>\n      <td>False</td>\n      <td>False</td>\n    </tr>\n    <tr>\n      <th>32</th>\n      <td>False</td>\n      <td>False</td>\n      <td>False</td>\n      <td>False</td>\n      <td>False</td>\n      <td>False</td>\n      <td>False</td>\n      <td>False</td>\n      <td>False</td>\n      <td>False</td>\n    </tr>\n    <tr>\n      <th>33</th>\n      <td>False</td>\n      <td>False</td>\n      <td>False</td>\n      <td>False</td>\n      <td>False</td>\n      <td>False</td>\n      <td>False</td>\n      <td>False</td>\n      <td>False</td>\n      <td>False</td>\n    </tr>\n    <tr>\n      <th>34</th>\n      <td>False</td>\n      <td>False</td>\n      <td>False</td>\n      <td>False</td>\n      <td>False</td>\n      <td>False</td>\n      <td>False</td>\n      <td>False</td>\n      <td>False</td>\n      <td>False</td>\n    </tr>\n    <tr>\n      <th>35</th>\n      <td>False</td>\n      <td>False</td>\n      <td>False</td>\n      <td>False</td>\n      <td>False</td>\n      <td>False</td>\n      <td>False</td>\n      <td>False</td>\n      <td>False</td>\n      <td>False</td>\n    </tr>\n    <tr>\n      <th>36</th>\n      <td>False</td>\n      <td>False</td>\n      <td>False</td>\n      <td>False</td>\n      <td>False</td>\n      <td>False</td>\n      <td>False</td>\n      <td>False</td>\n      <td>False</td>\n      <td>False</td>\n    </tr>\n    <tr>\n      <th>37</th>\n      <td>False</td>\n      <td>False</td>\n      <td>False</td>\n      <td>False</td>\n      <td>False</td>\n      <td>False</td>\n      <td>True</td>\n      <td>True</td>\n      <td>False</td>\n      <td>False</td>\n    </tr>\n    <tr>\n      <th>38</th>\n      <td>False</td>\n      <td>False</td>\n      <td>False</td>\n      <td>False</td>\n      <td>False</td>\n      <td>False</td>\n      <td>False</td>\n      <td>False</td>\n      <td>False</td>\n      <td>False</td>\n    </tr>\n    <tr>\n      <th>39</th>\n      <td>False</td>\n      <td>False</td>\n      <td>False</td>\n      <td>False</td>\n      <td>False</td>\n      <td>False</td>\n      <td>False</td>\n      <td>False</td>\n      <td>False</td>\n      <td>False</td>\n    </tr>\n    <tr>\n      <th>40</th>\n      <td>False</td>\n      <td>False</td>\n      <td>False</td>\n      <td>False</td>\n      <td>False</td>\n      <td>False</td>\n      <td>False</td>\n      <td>False</td>\n      <td>False</td>\n      <td>False</td>\n    </tr>\n    <tr>\n      <th>41</th>\n      <td>False</td>\n      <td>False</td>\n      <td>False</td>\n      <td>False</td>\n      <td>False</td>\n      <td>False</td>\n      <td>False</td>\n      <td>False</td>\n      <td>False</td>\n      <td>False</td>\n    </tr>\n    <tr>\n      <th>42</th>\n      <td>False</td>\n      <td>False</td>\n      <td>False</td>\n      <td>False</td>\n      <td>False</td>\n      <td>False</td>\n      <td>False</td>\n      <td>False</td>\n      <td>False</td>\n      <td>False</td>\n    </tr>\n  </tbody>\n</table>\n</div>"
     },
     "execution_count": 38,
     "metadata": {},
     "output_type": "execute_result"
    }
   ],
   "source": [
    "cpt.isna()"
   ],
   "metadata": {
    "collapsed": false,
    "ExecuteTime": {
     "end_time": "2023-12-22T14:25:13.062993700Z",
     "start_time": "2023-12-22T14:25:12.920799900Z"
    }
   },
   "id": "7a731ff030577197"
  },
  {
   "cell_type": "code",
   "execution_count": 39,
   "outputs": [
    {
     "data": {
      "text/plain": "competition_id          0\ncompetition_code        0\nname                    0\nsub_type                0\ntype                    0\ncountry_id              0\ncountry_name            7\ndomestic_league_code    7\nconfederation           0\nurl                     0\ndtype: int64"
     },
     "execution_count": 39,
     "metadata": {},
     "output_type": "execute_result"
    }
   ],
   "source": [
    "cpt.isna().sum()"
   ],
   "metadata": {
    "collapsed": false,
    "ExecuteTime": {
     "end_time": "2023-12-22T14:25:13.074030300Z",
     "start_time": "2023-12-22T14:25:12.939866300Z"
    }
   },
   "id": "eccac49627b4aaf7"
  },
  {
   "cell_type": "code",
   "execution_count": 40,
   "outputs": [
    {
     "data": {
      "text/plain": "   competition_id                             competition_code  \\\n0             CIT                                    italy-cup   \n1            NLSC                         johan-cruijff-schaal   \n2             GRP                              kypello-elladas   \n3            POSU                supertaca-candido-de-oliveira   \n4            RUSS                            russian-super-cup   \n5             SUC                                    supercopa   \n6             USC                               uefa-super-cup   \n7             DK1                                  superligaen   \n8              EL                                europa-league   \n9             ES1                                       laliga   \n10            FR1                                      ligue-1   \n11            IT1                                      serie-a   \n12            NL1                                   eredivisie   \n13            RUP                                  russian-cup   \n14            PO1                           liga-portugal-bwin   \n15           BESC                             belgian-supercup   \n16            GB1                               premier-league   \n17            ELQ                  europa-league-qualifikation   \n18            CGB                                      efl-cup   \n19            DKP                              sydbank-pokalen   \n20           ECLQ  uefa-europa-conference-league-qualifikation   \n21            FAC                                       fa-cup   \n22            NLP                              toto-knvb-beker   \n23           UKRS                          ukrainian-super-cup   \n24           UKR1                                 premier-liga   \n25            CDR                                 copa-del-rey   \n26             CL                        uefa-champions-league   \n27            GR1                               super-league-1   \n28            TR1                                    super-lig   \n29           POCP                                  allianz-cup   \n30           GBCS                             community-shield   \n31           KLUB                                 fifa-klub-wm   \n32             L1                                   bundesliga   \n33            RU1                                 premier-liga   \n34            SC1                         scottish-premiership   \n35            SCI                          supercoppa-italiana   \n36            BE1                           jupiler-pro-league   \n37            CLQ          uefa-champions-league-qualifikation   \n38            DFL                                 dfl-supercup   \n39            SFA                                      sfa-cup   \n40           UKRP                                ukrainian-cup   \n41            DFB                                    dfb-pokal   \n42           FRCH                        trophee-des-champions   \n\n                                           name  \\\n0                                     italy-cup   \n1                          johan-cruijff-schaal   \n2                               kypello-elladas   \n3                 supertaca-candido-de-oliveira   \n4                             russian-super-cup   \n5                                     supercopa   \n6                                uefa-super-cup   \n7                                   superligaen   \n8                                 europa-league   \n9                                        laliga   \n10                                      ligue-1   \n11                                      serie-a   \n12                                   eredivisie   \n13                                  russian-cup   \n14                           liga-portugal-bwin   \n15                             belgian-supercup   \n16                               premier-league   \n17                  europa-league-qualifikation   \n18                                      efl-cup   \n19                              sydbank-pokalen   \n20  uefa-europa-conference-league-qualifikation   \n21                                       fa-cup   \n22                              toto-knvb-beker   \n23                          ukrainian-super-cup   \n24                                 premier-liga   \n25                                 copa-del-rey   \n26                        uefa-champions-league   \n27                               super-league-1   \n28                                    super-lig   \n29                                  allianz-cup   \n30                             community-shield   \n31                                 fifa-klub-wm   \n32                                   bundesliga   \n33                                 premier-liga   \n34                         scottish-premiership   \n35                          supercoppa-italiana   \n36                           jupiler-pro-league   \n37          uefa-champions-league-qualifikation   \n38                                 dfl-supercup   \n39                                      sfa-cup   \n40                                ukrainian-cup   \n41                                    dfb-pokal   \n42                        trophee-des-champions   \n\n                                    sub_type               type  country_id  \\\n0                               domestic_cup       domestic_cup          75   \n1                         domestic_super_cup              other         122   \n2                               domestic_cup       domestic_cup          56   \n3                         domestic_super_cup              other         136   \n4                         domestic_super_cup              other         141   \n5                         domestic_super_cup              other         157   \n6                             uefa_super_cup              other          -1   \n7                                 first_tier    domestic_league          39   \n8                              europa_league  international_cup          -1   \n9                                 first_tier    domestic_league         157   \n10                                first_tier    domestic_league          50   \n11                                first_tier    domestic_league          75   \n12                                first_tier    domestic_league         122   \n13                              domestic_cup       domestic_cup         141   \n14                                first_tier    domestic_league         136   \n15                        domestic_super_cup              other          19   \n16                                first_tier    domestic_league         189   \n17                  europa_league_qualifying  international_cup          -1   \n18                                league_cup              other         189   \n19                              domestic_cup       domestic_cup          39   \n20  uefa_europa_conference_league_qualifiers  international_cup          -1   \n21                              domestic_cup       domestic_cup         189   \n22                              domestic_cup       domestic_cup         122   \n23                        domestic_super_cup              other         177   \n24                                first_tier    domestic_league         177   \n25                              domestic_cup       domestic_cup         157   \n26                     uefa_champions_league  international_cup          -1   \n27                                first_tier    domestic_league          56   \n28                                first_tier    domestic_league         174   \n29                              domestic_cup       domestic_cup         136   \n30                        domestic_super_cup              other         189   \n31                       fifa_club_world_cup              other          -1   \n32                                first_tier    domestic_league          40   \n33                                first_tier    domestic_league         141   \n34                                first_tier    domestic_league         190   \n35                        domestic_super_cup              other          75   \n36                                first_tier    domestic_league          19   \n37          uefa_champions_league_qualifying  international_cup          -1   \n38                        domestic_super_cup              other          40   \n39                              domestic_cup       domestic_cup         190   \n40                              domestic_cup       domestic_cup         177   \n41                              domestic_cup       domestic_cup          40   \n42                        domestic_super_cup              other          50   \n\n   country_name domestic_league_code confederation  \\\n0         Italy                  IT1        europa   \n1   Netherlands                  NL1        europa   \n2        Greece                  GR1        europa   \n3      Portugal                  PO1        europa   \n4        Russia                  RU1        europa   \n5         Spain                  ES1        europa   \n6           NaN                  NaN        europa   \n7       Denmark                  DK1        europa   \n8           NaN                  NaN        europa   \n9         Spain                  ES1        europa   \n10       France                  FR1        europa   \n11        Italy                  IT1        europa   \n12  Netherlands                  NL1        europa   \n13       Russia                  RU1        europa   \n14     Portugal                  PO1        europa   \n15      Belgium                  BE1        europa   \n16      England                  GB1        europa   \n17          NaN                  NaN        europa   \n18      England                  GB1        europa   \n19      Denmark                  DK1        europa   \n20          NaN                  NaN        europa   \n21      England                  GB1        europa   \n22  Netherlands                  NL1        europa   \n23      Ukraine                 UKR1        europa   \n24      Ukraine                 UKR1        europa   \n25        Spain                  ES1        europa   \n26          NaN                  NaN        europa   \n27       Greece                  GR1        europa   \n28       Turkey                  TR1        europa   \n29     Portugal                  PO1        europa   \n30      England                  GB1        europa   \n31          NaN                  NaN        europa   \n32      Germany                   L1        europa   \n33       Russia                  RU1        europa   \n34     Scotland                  SC1        europa   \n35        Italy                  IT1        europa   \n36      Belgium                  BE1        europa   \n37          NaN                  NaN        europa   \n38      Germany                   L1        europa   \n39     Scotland                  SC1        europa   \n40      Ukraine                 UKR1        europa   \n41      Germany                   L1        europa   \n42       France                  FR1        europa   \n\n                                                  url  \n0   https://www.transfermarkt.co.uk/italy-cup/star...  \n1   https://www.transfermarkt.co.uk/johan-cruijff-...  \n2   https://www.transfermarkt.co.uk/kypello-ellada...  \n3   https://www.transfermarkt.co.uk/supertaca-cand...  \n4   https://www.transfermarkt.co.uk/russian-super-...  \n5   https://www.transfermarkt.co.uk/supercopa/star...  \n6   https://www.transfermarkt.co.uk/uefa-super-cup...  \n7   https://www.transfermarkt.co.uk/superligaen/st...  \n8   https://www.transfermarkt.co.uk/europa-league/...  \n9   https://www.transfermarkt.co.uk/laliga/startse...  \n10  https://www.transfermarkt.co.uk/ligue-1/starts...  \n11  https://www.transfermarkt.co.uk/serie-a/starts...  \n12  https://www.transfermarkt.co.uk/eredivisie/sta...  \n13  https://www.transfermarkt.co.uk/russian-cup/st...  \n14  https://www.transfermarkt.co.uk/liga-portugal-...  \n15  https://www.transfermarkt.co.uk/belgian-superc...  \n16  https://www.transfermarkt.co.uk/premier-league...  \n17  https://www.transfermarkt.co.uk/europa-league-...  \n18  https://www.transfermarkt.co.uk/efl-cup/starts...  \n19  https://www.transfermarkt.co.uk/sydbank-pokale...  \n20  https://www.transfermarkt.co.uk/uefa-europa-co...  \n21  https://www.transfermarkt.co.uk/fa-cup/startse...  \n22  https://www.transfermarkt.co.uk/toto-knvb-beke...  \n23  https://www.transfermarkt.co.uk/ukrainian-supe...  \n24  https://www.transfermarkt.co.uk/premier-liga/s...  \n25  https://www.transfermarkt.co.uk/copa-del-rey/s...  \n26  https://www.transfermarkt.co.uk/uefa-champions...  \n27  https://www.transfermarkt.co.uk/super-league-1...  \n28  https://www.transfermarkt.co.uk/super-lig/star...  \n29  https://www.transfermarkt.co.uk/allianz-cup/st...  \n30  https://www.transfermarkt.co.uk/community-shie...  \n31  https://www.transfermarkt.co.uk/fifa-klub-wm/s...  \n32  https://www.transfermarkt.co.uk/bundesliga/sta...  \n33  https://www.transfermarkt.co.uk/premier-liga/s...  \n34  https://www.transfermarkt.co.uk/scottish-premi...  \n35  https://www.transfermarkt.co.uk/supercoppa-ita...  \n36  https://www.transfermarkt.co.uk/jupiler-pro-le...  \n37  https://www.transfermarkt.co.uk/uefa-champions...  \n38  https://www.transfermarkt.co.uk/dfl-supercup/s...  \n39  https://www.transfermarkt.co.uk/sfa-cup/starts...  \n40  https://www.transfermarkt.co.uk/ukrainian-cup/...  \n41  https://www.transfermarkt.co.uk/dfb-pokal/star...  \n42  https://www.transfermarkt.co.uk/trophee-des-ch...  ",
      "text/html": "<div>\n<style scoped>\n    .dataframe tbody tr th:only-of-type {\n        vertical-align: middle;\n    }\n\n    .dataframe tbody tr th {\n        vertical-align: top;\n    }\n\n    .dataframe thead th {\n        text-align: right;\n    }\n</style>\n<table border=\"1\" class=\"dataframe\">\n  <thead>\n    <tr style=\"text-align: right;\">\n      <th></th>\n      <th>competition_id</th>\n      <th>competition_code</th>\n      <th>name</th>\n      <th>sub_type</th>\n      <th>type</th>\n      <th>country_id</th>\n      <th>country_name</th>\n      <th>domestic_league_code</th>\n      <th>confederation</th>\n      <th>url</th>\n    </tr>\n  </thead>\n  <tbody>\n    <tr>\n      <th>0</th>\n      <td>CIT</td>\n      <td>italy-cup</td>\n      <td>italy-cup</td>\n      <td>domestic_cup</td>\n      <td>domestic_cup</td>\n      <td>75</td>\n      <td>Italy</td>\n      <td>IT1</td>\n      <td>europa</td>\n      <td>https://www.transfermarkt.co.uk/italy-cup/star...</td>\n    </tr>\n    <tr>\n      <th>1</th>\n      <td>NLSC</td>\n      <td>johan-cruijff-schaal</td>\n      <td>johan-cruijff-schaal</td>\n      <td>domestic_super_cup</td>\n      <td>other</td>\n      <td>122</td>\n      <td>Netherlands</td>\n      <td>NL1</td>\n      <td>europa</td>\n      <td>https://www.transfermarkt.co.uk/johan-cruijff-...</td>\n    </tr>\n    <tr>\n      <th>2</th>\n      <td>GRP</td>\n      <td>kypello-elladas</td>\n      <td>kypello-elladas</td>\n      <td>domestic_cup</td>\n      <td>domestic_cup</td>\n      <td>56</td>\n      <td>Greece</td>\n      <td>GR1</td>\n      <td>europa</td>\n      <td>https://www.transfermarkt.co.uk/kypello-ellada...</td>\n    </tr>\n    <tr>\n      <th>3</th>\n      <td>POSU</td>\n      <td>supertaca-candido-de-oliveira</td>\n      <td>supertaca-candido-de-oliveira</td>\n      <td>domestic_super_cup</td>\n      <td>other</td>\n      <td>136</td>\n      <td>Portugal</td>\n      <td>PO1</td>\n      <td>europa</td>\n      <td>https://www.transfermarkt.co.uk/supertaca-cand...</td>\n    </tr>\n    <tr>\n      <th>4</th>\n      <td>RUSS</td>\n      <td>russian-super-cup</td>\n      <td>russian-super-cup</td>\n      <td>domestic_super_cup</td>\n      <td>other</td>\n      <td>141</td>\n      <td>Russia</td>\n      <td>RU1</td>\n      <td>europa</td>\n      <td>https://www.transfermarkt.co.uk/russian-super-...</td>\n    </tr>\n    <tr>\n      <th>5</th>\n      <td>SUC</td>\n      <td>supercopa</td>\n      <td>supercopa</td>\n      <td>domestic_super_cup</td>\n      <td>other</td>\n      <td>157</td>\n      <td>Spain</td>\n      <td>ES1</td>\n      <td>europa</td>\n      <td>https://www.transfermarkt.co.uk/supercopa/star...</td>\n    </tr>\n    <tr>\n      <th>6</th>\n      <td>USC</td>\n      <td>uefa-super-cup</td>\n      <td>uefa-super-cup</td>\n      <td>uefa_super_cup</td>\n      <td>other</td>\n      <td>-1</td>\n      <td>NaN</td>\n      <td>NaN</td>\n      <td>europa</td>\n      <td>https://www.transfermarkt.co.uk/uefa-super-cup...</td>\n    </tr>\n    <tr>\n      <th>7</th>\n      <td>DK1</td>\n      <td>superligaen</td>\n      <td>superligaen</td>\n      <td>first_tier</td>\n      <td>domestic_league</td>\n      <td>39</td>\n      <td>Denmark</td>\n      <td>DK1</td>\n      <td>europa</td>\n      <td>https://www.transfermarkt.co.uk/superligaen/st...</td>\n    </tr>\n    <tr>\n      <th>8</th>\n      <td>EL</td>\n      <td>europa-league</td>\n      <td>europa-league</td>\n      <td>europa_league</td>\n      <td>international_cup</td>\n      <td>-1</td>\n      <td>NaN</td>\n      <td>NaN</td>\n      <td>europa</td>\n      <td>https://www.transfermarkt.co.uk/europa-league/...</td>\n    </tr>\n    <tr>\n      <th>9</th>\n      <td>ES1</td>\n      <td>laliga</td>\n      <td>laliga</td>\n      <td>first_tier</td>\n      <td>domestic_league</td>\n      <td>157</td>\n      <td>Spain</td>\n      <td>ES1</td>\n      <td>europa</td>\n      <td>https://www.transfermarkt.co.uk/laliga/startse...</td>\n    </tr>\n    <tr>\n      <th>10</th>\n      <td>FR1</td>\n      <td>ligue-1</td>\n      <td>ligue-1</td>\n      <td>first_tier</td>\n      <td>domestic_league</td>\n      <td>50</td>\n      <td>France</td>\n      <td>FR1</td>\n      <td>europa</td>\n      <td>https://www.transfermarkt.co.uk/ligue-1/starts...</td>\n    </tr>\n    <tr>\n      <th>11</th>\n      <td>IT1</td>\n      <td>serie-a</td>\n      <td>serie-a</td>\n      <td>first_tier</td>\n      <td>domestic_league</td>\n      <td>75</td>\n      <td>Italy</td>\n      <td>IT1</td>\n      <td>europa</td>\n      <td>https://www.transfermarkt.co.uk/serie-a/starts...</td>\n    </tr>\n    <tr>\n      <th>12</th>\n      <td>NL1</td>\n      <td>eredivisie</td>\n      <td>eredivisie</td>\n      <td>first_tier</td>\n      <td>domestic_league</td>\n      <td>122</td>\n      <td>Netherlands</td>\n      <td>NL1</td>\n      <td>europa</td>\n      <td>https://www.transfermarkt.co.uk/eredivisie/sta...</td>\n    </tr>\n    <tr>\n      <th>13</th>\n      <td>RUP</td>\n      <td>russian-cup</td>\n      <td>russian-cup</td>\n      <td>domestic_cup</td>\n      <td>domestic_cup</td>\n      <td>141</td>\n      <td>Russia</td>\n      <td>RU1</td>\n      <td>europa</td>\n      <td>https://www.transfermarkt.co.uk/russian-cup/st...</td>\n    </tr>\n    <tr>\n      <th>14</th>\n      <td>PO1</td>\n      <td>liga-portugal-bwin</td>\n      <td>liga-portugal-bwin</td>\n      <td>first_tier</td>\n      <td>domestic_league</td>\n      <td>136</td>\n      <td>Portugal</td>\n      <td>PO1</td>\n      <td>europa</td>\n      <td>https://www.transfermarkt.co.uk/liga-portugal-...</td>\n    </tr>\n    <tr>\n      <th>15</th>\n      <td>BESC</td>\n      <td>belgian-supercup</td>\n      <td>belgian-supercup</td>\n      <td>domestic_super_cup</td>\n      <td>other</td>\n      <td>19</td>\n      <td>Belgium</td>\n      <td>BE1</td>\n      <td>europa</td>\n      <td>https://www.transfermarkt.co.uk/belgian-superc...</td>\n    </tr>\n    <tr>\n      <th>16</th>\n      <td>GB1</td>\n      <td>premier-league</td>\n      <td>premier-league</td>\n      <td>first_tier</td>\n      <td>domestic_league</td>\n      <td>189</td>\n      <td>England</td>\n      <td>GB1</td>\n      <td>europa</td>\n      <td>https://www.transfermarkt.co.uk/premier-league...</td>\n    </tr>\n    <tr>\n      <th>17</th>\n      <td>ELQ</td>\n      <td>europa-league-qualifikation</td>\n      <td>europa-league-qualifikation</td>\n      <td>europa_league_qualifying</td>\n      <td>international_cup</td>\n      <td>-1</td>\n      <td>NaN</td>\n      <td>NaN</td>\n      <td>europa</td>\n      <td>https://www.transfermarkt.co.uk/europa-league-...</td>\n    </tr>\n    <tr>\n      <th>18</th>\n      <td>CGB</td>\n      <td>efl-cup</td>\n      <td>efl-cup</td>\n      <td>league_cup</td>\n      <td>other</td>\n      <td>189</td>\n      <td>England</td>\n      <td>GB1</td>\n      <td>europa</td>\n      <td>https://www.transfermarkt.co.uk/efl-cup/starts...</td>\n    </tr>\n    <tr>\n      <th>19</th>\n      <td>DKP</td>\n      <td>sydbank-pokalen</td>\n      <td>sydbank-pokalen</td>\n      <td>domestic_cup</td>\n      <td>domestic_cup</td>\n      <td>39</td>\n      <td>Denmark</td>\n      <td>DK1</td>\n      <td>europa</td>\n      <td>https://www.transfermarkt.co.uk/sydbank-pokale...</td>\n    </tr>\n    <tr>\n      <th>20</th>\n      <td>ECLQ</td>\n      <td>uefa-europa-conference-league-qualifikation</td>\n      <td>uefa-europa-conference-league-qualifikation</td>\n      <td>uefa_europa_conference_league_qualifiers</td>\n      <td>international_cup</td>\n      <td>-1</td>\n      <td>NaN</td>\n      <td>NaN</td>\n      <td>europa</td>\n      <td>https://www.transfermarkt.co.uk/uefa-europa-co...</td>\n    </tr>\n    <tr>\n      <th>21</th>\n      <td>FAC</td>\n      <td>fa-cup</td>\n      <td>fa-cup</td>\n      <td>domestic_cup</td>\n      <td>domestic_cup</td>\n      <td>189</td>\n      <td>England</td>\n      <td>GB1</td>\n      <td>europa</td>\n      <td>https://www.transfermarkt.co.uk/fa-cup/startse...</td>\n    </tr>\n    <tr>\n      <th>22</th>\n      <td>NLP</td>\n      <td>toto-knvb-beker</td>\n      <td>toto-knvb-beker</td>\n      <td>domestic_cup</td>\n      <td>domestic_cup</td>\n      <td>122</td>\n      <td>Netherlands</td>\n      <td>NL1</td>\n      <td>europa</td>\n      <td>https://www.transfermarkt.co.uk/toto-knvb-beke...</td>\n    </tr>\n    <tr>\n      <th>23</th>\n      <td>UKRS</td>\n      <td>ukrainian-super-cup</td>\n      <td>ukrainian-super-cup</td>\n      <td>domestic_super_cup</td>\n      <td>other</td>\n      <td>177</td>\n      <td>Ukraine</td>\n      <td>UKR1</td>\n      <td>europa</td>\n      <td>https://www.transfermarkt.co.uk/ukrainian-supe...</td>\n    </tr>\n    <tr>\n      <th>24</th>\n      <td>UKR1</td>\n      <td>premier-liga</td>\n      <td>premier-liga</td>\n      <td>first_tier</td>\n      <td>domestic_league</td>\n      <td>177</td>\n      <td>Ukraine</td>\n      <td>UKR1</td>\n      <td>europa</td>\n      <td>https://www.transfermarkt.co.uk/premier-liga/s...</td>\n    </tr>\n    <tr>\n      <th>25</th>\n      <td>CDR</td>\n      <td>copa-del-rey</td>\n      <td>copa-del-rey</td>\n      <td>domestic_cup</td>\n      <td>domestic_cup</td>\n      <td>157</td>\n      <td>Spain</td>\n      <td>ES1</td>\n      <td>europa</td>\n      <td>https://www.transfermarkt.co.uk/copa-del-rey/s...</td>\n    </tr>\n    <tr>\n      <th>26</th>\n      <td>CL</td>\n      <td>uefa-champions-league</td>\n      <td>uefa-champions-league</td>\n      <td>uefa_champions_league</td>\n      <td>international_cup</td>\n      <td>-1</td>\n      <td>NaN</td>\n      <td>NaN</td>\n      <td>europa</td>\n      <td>https://www.transfermarkt.co.uk/uefa-champions...</td>\n    </tr>\n    <tr>\n      <th>27</th>\n      <td>GR1</td>\n      <td>super-league-1</td>\n      <td>super-league-1</td>\n      <td>first_tier</td>\n      <td>domestic_league</td>\n      <td>56</td>\n      <td>Greece</td>\n      <td>GR1</td>\n      <td>europa</td>\n      <td>https://www.transfermarkt.co.uk/super-league-1...</td>\n    </tr>\n    <tr>\n      <th>28</th>\n      <td>TR1</td>\n      <td>super-lig</td>\n      <td>super-lig</td>\n      <td>first_tier</td>\n      <td>domestic_league</td>\n      <td>174</td>\n      <td>Turkey</td>\n      <td>TR1</td>\n      <td>europa</td>\n      <td>https://www.transfermarkt.co.uk/super-lig/star...</td>\n    </tr>\n    <tr>\n      <th>29</th>\n      <td>POCP</td>\n      <td>allianz-cup</td>\n      <td>allianz-cup</td>\n      <td>domestic_cup</td>\n      <td>domestic_cup</td>\n      <td>136</td>\n      <td>Portugal</td>\n      <td>PO1</td>\n      <td>europa</td>\n      <td>https://www.transfermarkt.co.uk/allianz-cup/st...</td>\n    </tr>\n    <tr>\n      <th>30</th>\n      <td>GBCS</td>\n      <td>community-shield</td>\n      <td>community-shield</td>\n      <td>domestic_super_cup</td>\n      <td>other</td>\n      <td>189</td>\n      <td>England</td>\n      <td>GB1</td>\n      <td>europa</td>\n      <td>https://www.transfermarkt.co.uk/community-shie...</td>\n    </tr>\n    <tr>\n      <th>31</th>\n      <td>KLUB</td>\n      <td>fifa-klub-wm</td>\n      <td>fifa-klub-wm</td>\n      <td>fifa_club_world_cup</td>\n      <td>other</td>\n      <td>-1</td>\n      <td>NaN</td>\n      <td>NaN</td>\n      <td>europa</td>\n      <td>https://www.transfermarkt.co.uk/fifa-klub-wm/s...</td>\n    </tr>\n    <tr>\n      <th>32</th>\n      <td>L1</td>\n      <td>bundesliga</td>\n      <td>bundesliga</td>\n      <td>first_tier</td>\n      <td>domestic_league</td>\n      <td>40</td>\n      <td>Germany</td>\n      <td>L1</td>\n      <td>europa</td>\n      <td>https://www.transfermarkt.co.uk/bundesliga/sta...</td>\n    </tr>\n    <tr>\n      <th>33</th>\n      <td>RU1</td>\n      <td>premier-liga</td>\n      <td>premier-liga</td>\n      <td>first_tier</td>\n      <td>domestic_league</td>\n      <td>141</td>\n      <td>Russia</td>\n      <td>RU1</td>\n      <td>europa</td>\n      <td>https://www.transfermarkt.co.uk/premier-liga/s...</td>\n    </tr>\n    <tr>\n      <th>34</th>\n      <td>SC1</td>\n      <td>scottish-premiership</td>\n      <td>scottish-premiership</td>\n      <td>first_tier</td>\n      <td>domestic_league</td>\n      <td>190</td>\n      <td>Scotland</td>\n      <td>SC1</td>\n      <td>europa</td>\n      <td>https://www.transfermarkt.co.uk/scottish-premi...</td>\n    </tr>\n    <tr>\n      <th>35</th>\n      <td>SCI</td>\n      <td>supercoppa-italiana</td>\n      <td>supercoppa-italiana</td>\n      <td>domestic_super_cup</td>\n      <td>other</td>\n      <td>75</td>\n      <td>Italy</td>\n      <td>IT1</td>\n      <td>europa</td>\n      <td>https://www.transfermarkt.co.uk/supercoppa-ita...</td>\n    </tr>\n    <tr>\n      <th>36</th>\n      <td>BE1</td>\n      <td>jupiler-pro-league</td>\n      <td>jupiler-pro-league</td>\n      <td>first_tier</td>\n      <td>domestic_league</td>\n      <td>19</td>\n      <td>Belgium</td>\n      <td>BE1</td>\n      <td>europa</td>\n      <td>https://www.transfermarkt.co.uk/jupiler-pro-le...</td>\n    </tr>\n    <tr>\n      <th>37</th>\n      <td>CLQ</td>\n      <td>uefa-champions-league-qualifikation</td>\n      <td>uefa-champions-league-qualifikation</td>\n      <td>uefa_champions_league_qualifying</td>\n      <td>international_cup</td>\n      <td>-1</td>\n      <td>NaN</td>\n      <td>NaN</td>\n      <td>europa</td>\n      <td>https://www.transfermarkt.co.uk/uefa-champions...</td>\n    </tr>\n    <tr>\n      <th>38</th>\n      <td>DFL</td>\n      <td>dfl-supercup</td>\n      <td>dfl-supercup</td>\n      <td>domestic_super_cup</td>\n      <td>other</td>\n      <td>40</td>\n      <td>Germany</td>\n      <td>L1</td>\n      <td>europa</td>\n      <td>https://www.transfermarkt.co.uk/dfl-supercup/s...</td>\n    </tr>\n    <tr>\n      <th>39</th>\n      <td>SFA</td>\n      <td>sfa-cup</td>\n      <td>sfa-cup</td>\n      <td>domestic_cup</td>\n      <td>domestic_cup</td>\n      <td>190</td>\n      <td>Scotland</td>\n      <td>SC1</td>\n      <td>europa</td>\n      <td>https://www.transfermarkt.co.uk/sfa-cup/starts...</td>\n    </tr>\n    <tr>\n      <th>40</th>\n      <td>UKRP</td>\n      <td>ukrainian-cup</td>\n      <td>ukrainian-cup</td>\n      <td>domestic_cup</td>\n      <td>domestic_cup</td>\n      <td>177</td>\n      <td>Ukraine</td>\n      <td>UKR1</td>\n      <td>europa</td>\n      <td>https://www.transfermarkt.co.uk/ukrainian-cup/...</td>\n    </tr>\n    <tr>\n      <th>41</th>\n      <td>DFB</td>\n      <td>dfb-pokal</td>\n      <td>dfb-pokal</td>\n      <td>domestic_cup</td>\n      <td>domestic_cup</td>\n      <td>40</td>\n      <td>Germany</td>\n      <td>L1</td>\n      <td>europa</td>\n      <td>https://www.transfermarkt.co.uk/dfb-pokal/star...</td>\n    </tr>\n    <tr>\n      <th>42</th>\n      <td>FRCH</td>\n      <td>trophee-des-champions</td>\n      <td>trophee-des-champions</td>\n      <td>domestic_super_cup</td>\n      <td>other</td>\n      <td>50</td>\n      <td>France</td>\n      <td>FR1</td>\n      <td>europa</td>\n      <td>https://www.transfermarkt.co.uk/trophee-des-ch...</td>\n    </tr>\n  </tbody>\n</table>\n</div>"
     },
     "execution_count": 40,
     "metadata": {},
     "output_type": "execute_result"
    }
   ],
   "source": [
    "cpt"
   ],
   "metadata": {
    "collapsed": false,
    "ExecuteTime": {
     "end_time": "2023-12-22T14:25:13.077677500Z",
     "start_time": "2023-12-22T14:25:12.947553700Z"
    }
   },
   "id": "285c9d75d6b1234"
  },
  {
   "cell_type": "code",
   "execution_count": 41,
   "outputs": [
    {
     "data": {
      "text/plain": "   competition_id                             competition_code  \\\n6             USC                               uefa-super-cup   \n8              EL                                europa-league   \n17            ELQ                  europa-league-qualifikation   \n20           ECLQ  uefa-europa-conference-league-qualifikation   \n26             CL                        uefa-champions-league   \n31           KLUB                                 fifa-klub-wm   \n37            CLQ          uefa-champions-league-qualifikation   \n\n                                           name  \\\n6                                uefa-super-cup   \n8                                 europa-league   \n17                  europa-league-qualifikation   \n20  uefa-europa-conference-league-qualifikation   \n26                        uefa-champions-league   \n31                                 fifa-klub-wm   \n37          uefa-champions-league-qualifikation   \n\n                                    sub_type               type  country_id  \\\n6                             uefa_super_cup              other          -1   \n8                              europa_league  international_cup          -1   \n17                  europa_league_qualifying  international_cup          -1   \n20  uefa_europa_conference_league_qualifiers  international_cup          -1   \n26                     uefa_champions_league  international_cup          -1   \n31                       fifa_club_world_cup              other          -1   \n37          uefa_champions_league_qualifying  international_cup          -1   \n\n   country_name domestic_league_code confederation  \\\n6           NaN                  NaN        europa   \n8           NaN                  NaN        europa   \n17          NaN                  NaN        europa   \n20          NaN                  NaN        europa   \n26          NaN                  NaN        europa   \n31          NaN                  NaN        europa   \n37          NaN                  NaN        europa   \n\n                                                  url  \n6   https://www.transfermarkt.co.uk/uefa-super-cup...  \n8   https://www.transfermarkt.co.uk/europa-league/...  \n17  https://www.transfermarkt.co.uk/europa-league-...  \n20  https://www.transfermarkt.co.uk/uefa-europa-co...  \n26  https://www.transfermarkt.co.uk/uefa-champions...  \n31  https://www.transfermarkt.co.uk/fifa-klub-wm/s...  \n37  https://www.transfermarkt.co.uk/uefa-champions...  ",
      "text/html": "<div>\n<style scoped>\n    .dataframe tbody tr th:only-of-type {\n        vertical-align: middle;\n    }\n\n    .dataframe tbody tr th {\n        vertical-align: top;\n    }\n\n    .dataframe thead th {\n        text-align: right;\n    }\n</style>\n<table border=\"1\" class=\"dataframe\">\n  <thead>\n    <tr style=\"text-align: right;\">\n      <th></th>\n      <th>competition_id</th>\n      <th>competition_code</th>\n      <th>name</th>\n      <th>sub_type</th>\n      <th>type</th>\n      <th>country_id</th>\n      <th>country_name</th>\n      <th>domestic_league_code</th>\n      <th>confederation</th>\n      <th>url</th>\n    </tr>\n  </thead>\n  <tbody>\n    <tr>\n      <th>6</th>\n      <td>USC</td>\n      <td>uefa-super-cup</td>\n      <td>uefa-super-cup</td>\n      <td>uefa_super_cup</td>\n      <td>other</td>\n      <td>-1</td>\n      <td>NaN</td>\n      <td>NaN</td>\n      <td>europa</td>\n      <td>https://www.transfermarkt.co.uk/uefa-super-cup...</td>\n    </tr>\n    <tr>\n      <th>8</th>\n      <td>EL</td>\n      <td>europa-league</td>\n      <td>europa-league</td>\n      <td>europa_league</td>\n      <td>international_cup</td>\n      <td>-1</td>\n      <td>NaN</td>\n      <td>NaN</td>\n      <td>europa</td>\n      <td>https://www.transfermarkt.co.uk/europa-league/...</td>\n    </tr>\n    <tr>\n      <th>17</th>\n      <td>ELQ</td>\n      <td>europa-league-qualifikation</td>\n      <td>europa-league-qualifikation</td>\n      <td>europa_league_qualifying</td>\n      <td>international_cup</td>\n      <td>-1</td>\n      <td>NaN</td>\n      <td>NaN</td>\n      <td>europa</td>\n      <td>https://www.transfermarkt.co.uk/europa-league-...</td>\n    </tr>\n    <tr>\n      <th>20</th>\n      <td>ECLQ</td>\n      <td>uefa-europa-conference-league-qualifikation</td>\n      <td>uefa-europa-conference-league-qualifikation</td>\n      <td>uefa_europa_conference_league_qualifiers</td>\n      <td>international_cup</td>\n      <td>-1</td>\n      <td>NaN</td>\n      <td>NaN</td>\n      <td>europa</td>\n      <td>https://www.transfermarkt.co.uk/uefa-europa-co...</td>\n    </tr>\n    <tr>\n      <th>26</th>\n      <td>CL</td>\n      <td>uefa-champions-league</td>\n      <td>uefa-champions-league</td>\n      <td>uefa_champions_league</td>\n      <td>international_cup</td>\n      <td>-1</td>\n      <td>NaN</td>\n      <td>NaN</td>\n      <td>europa</td>\n      <td>https://www.transfermarkt.co.uk/uefa-champions...</td>\n    </tr>\n    <tr>\n      <th>31</th>\n      <td>KLUB</td>\n      <td>fifa-klub-wm</td>\n      <td>fifa-klub-wm</td>\n      <td>fifa_club_world_cup</td>\n      <td>other</td>\n      <td>-1</td>\n      <td>NaN</td>\n      <td>NaN</td>\n      <td>europa</td>\n      <td>https://www.transfermarkt.co.uk/fifa-klub-wm/s...</td>\n    </tr>\n    <tr>\n      <th>37</th>\n      <td>CLQ</td>\n      <td>uefa-champions-league-qualifikation</td>\n      <td>uefa-champions-league-qualifikation</td>\n      <td>uefa_champions_league_qualifying</td>\n      <td>international_cup</td>\n      <td>-1</td>\n      <td>NaN</td>\n      <td>NaN</td>\n      <td>europa</td>\n      <td>https://www.transfermarkt.co.uk/uefa-champions...</td>\n    </tr>\n  </tbody>\n</table>\n</div>"
     },
     "execution_count": 41,
     "metadata": {},
     "output_type": "execute_result"
    }
   ],
   "source": [
    "cpt[cpt['country_name'].isnull()]"
   ],
   "metadata": {
    "collapsed": false,
    "ExecuteTime": {
     "end_time": "2023-12-22T14:25:13.079691300Z",
     "start_time": "2023-12-22T14:25:12.963774600Z"
    }
   },
   "id": "1f3fe7c6aa4cf87d"
  },
  {
   "cell_type": "markdown",
   "source": [
    "\n",
    "## <font color='green'>games</font> table"
   ],
   "metadata": {
    "collapsed": false
   },
   "id": "a3e09dd3f4c2c91f"
  },
  {
   "cell_type": "code",
   "execution_count": 47,
   "outputs": [
    {
     "data": {
      "text/plain": "    game_id competition_id  season         round        date  home_club_id  \\\n0   2222597            RU1    2012   6. Matchday  2012-08-25          3725   \n1   2222627            RU1    2012   5. Matchday  2012-08-20          2696   \n2   2222658            RU1    2012  10. Matchday  2012-09-30          2410   \n3   2222664            RU1    2012   8. Matchday  2012-09-15           932   \n4   2222683            RU1    2012  12. Matchday  2012-10-22          2696   \n5   2222685            RU1    2012  19. Matchday  2012-12-10          2698   \n6   2222734            RU1    2012  19. Matchday  2012-12-07          1083   \n7   2222735            RU1    2012  18. Matchday  2012-12-02          2700   \n8   2222739            RU1    2012  22. Matchday  2013-03-31         16704   \n9   2222775            RU1    2012  28. Matchday  2013-05-12          3725   \n10  2222802            RU1    2012  25. Matchday  2013-04-21          2700   \n11  2222816            RU1    2012  27. Matchday  2013-05-05         16704   \n12  2222958           UKR1    2012   1. Matchday  2012-07-14          6414   \n13  2222988           UKR1    2012   5. Matchday  2012-08-12           660   \n14  2223015           UKR1    2012   8. Matchday  2012-08-31          6996   \n15  2223018           UKR1    2012  13. Matchday  2012-10-27          6996   \n16  2223025           UKR1    2012   9. Matchday  2012-09-15          6414   \n17  2223041           UKR1    2012  11. Matchday  2012-10-06          6994   \n18  2223051           UKR1    2012  12. Matchday  2012-10-21          2740   \n19  2223060           UKR1    2012  17. Matchday  2012-11-26           339   \n20  2223083           UKR1    2012  14. Matchday  2012-11-03           339   \n21  2223096           UKR1    2012  14. Matchday  2012-11-03           660   \n22  2223111           UKR1    2012  21. Matchday  2013-03-16          2227   \n23  2223132           UKR1    2012  25. Matchday  2013-04-20          2783   \n24  2223137           UKR1    2012  24. Matchday  2013-04-14          6996   \n25  2223157           UKR1    2012  23. Matchday  2013-04-07          2227   \n26  2223162           UKR1    2012  30. Matchday  2013-05-26          2740   \n27  2223182           UKR1    2012  27. Matchday  2013-05-04          6994   \n28  2223859            FR1    2012   8. Matchday  2012-10-06          1082   \n29  2223876            FR1    2012   5. Matchday  2012-09-16          1159   \n30  2223890            FR1    2012   4. Matchday  2012-09-02          1082   \n31  2223894            FR1    2012  18. Matchday  2012-12-16           583   \n32  2223902            FR1    2012   9. Matchday  2012-10-20           273   \n33  2223905            FR1    2012   9. Matchday  2012-10-19            40   \n34  2223921            FR1    2012  10. Matchday  2012-10-28           595   \n35  2223922            FR1    2012  10. Matchday  2012-10-27          1421   \n36  2223924            FR1    2012  10. Matchday  2012-10-27           969   \n37  2223940            FR1    2012  13. Matchday  2012-11-17         14171   \n38  2223981            FR1    2012  17. Matchday  2012-12-12          1158   \n39  2223994            FR1    2012  19. Matchday  2012-12-22           595   \n\n    away_club_id  home_club_goals  away_club_goals  home_club_position  ...  \\\n0            232                2                1                 2.0  ...   \n1           4128                0                2                11.0  ...   \n2            121                0                2                 2.0  ...   \n3           2698                1                0                 5.0  ...   \n4          12438                0                1                11.0  ...   \n5            232                0                1                 7.0  ...   \n6          16704                2                3                11.0  ...   \n7           2410                2                0                 1.0  ...   \n8           2700                4                0                 8.0  ...   \n9           2700                1                0                 8.0  ...   \n10           121                3                3                 3.0  ...   \n11         12438                2                0                 8.0  ...   \n12          6993                2                0                 3.0  ...   \n13          2740                4                1                 1.0  ...   \n14          2227                2                1                15.0  ...   \n15          3592                1                1                15.0  ...   \n16          2740                4                0                 4.0  ...   \n17          4482                0                3                16.0  ...   \n18          6994                5                0                10.0  ...   \n19          6994                3                0                 2.0  ...   \n20          6414                2                0                 2.0  ...   \n21          6994                2                0                 1.0  ...   \n22          2783                4                3                10.0  ...   \n23          6996                2                1                 5.0  ...   \n24          6994                2                0                15.0  ...   \n25          6996                0                2                10.0  ...   \n26          6996                3                0                12.0  ...   \n27          2740                0                4                16.0  ...   \n28          1147                2                0                10.0  ...   \n29           244                0                1                17.0  ...   \n30           583                1                2                11.0  ...   \n31          1041                1                0                 1.0  ...   \n32           969                2                1                 9.0  ...   \n33          1082                1                1                 6.0  ...   \n34            40                3                1                11.0  ...   \n35          1095                1                1                 7.0  ...   \n36           417                3                1                13.0  ...   \n37           618                2                2                18.0  ...   \n38           750                2                0                 6.0  ...   \n39          1159                4                2                13.0  ...   \n\n                                stadium attendance               referee  \\\n0                          Akhmat-Arena    21700.0  Vladislav Bezborodov   \n1                             Metallurg    11400.0         Sergey Ivanov   \n2                          Arena Khimki    12000.0        Sergey Karasev   \n3                             RZD Arena    11408.0        Sergey Karasev   \n4                             Metallurg     7534.0     Timur Arslanbekov   \n5                Central Stadium  Kazan     8384.0  Vladislav Bezborodov   \n6                               Olimp-2     5700.0      Sergey Kuznetsov   \n7                                Dinamo    15500.0  Vladislav Bezborodov   \n8                                 Kuban    18800.0      Aleksey Nikolaev   \n9                          Akhmat-Arena    22000.0        Vitali Meshkov   \n10                          Anzhi-Arena    24500.0      Sergey Lapochkin   \n11                                Kuban     5300.0      Maksim Layushkin   \n12                         OSK Metalist    24862.0       Vitaliy Romanov   \n13                        Donbass Arena    39075.0         Andriy Kuzmin   \n14                             Avangard     4700.0          Yuriy Grysyo   \n15                             Avangard     1950.0      Sergiy Lysenchuk   \n16                         OSK Metalist    37890.0     Yevgen Aranovskyi   \n17                      Slavutych Arena     3000.0     Yevgen Aranovskyi   \n18        Vorskla im. Oleksiy Butovskyi     4000.0         Dmytro Zhukov   \n19                         Dnipro-Arena     8180.0         Andriy Kuzmin   \n20                         Dnipro-Arena    28219.0   Anatoliy Zhabchenko   \n21                        Donbass Arena    36275.0          Yuriy Grysyo   \n22                         RS Lokomotiv     2050.0      Sergiy Lysenchuk   \n23                             Metalurg     2700.0        Sergiy Berezka   \n24                             Avangard     3300.0    Yuriy Mozharovskyi   \n25                         RS Lokomotiv     3800.0      Oleksandr Ivanov   \n26        Vorskla im. Oleksiy Butovskyi     3200.0    Oleksandr Golovkov   \n27                      Slavutych Arena     2000.0      Sergiy Dankovsky   \n28  Decathlon Arena-Stade Pierre-Mauroy    39375.0       Lionel Jaffredo   \n29                   Stade Marcel-Picot    18257.0         Philippe Kalt   \n30  Decathlon Arena-Stade Pierre-Mauroy    32707.0          Ruddy Buquet   \n31                     Parc des Princes    44768.0        Antony Gautier   \n32                         Roazhon Park    16087.0        Antony Gautier   \n33                    Matmut Atlantique    19884.0          Ruddy Buquet   \n34                  Stade Armand-Cesari    13552.0     Sébastien Moreira   \n35                Stade Auguste-Delaune    14495.0          Tony Chapron   \n36                   Stade de la Mosson    15549.0        Benoît Bastien   \n37             Parc des Sports d’Annecy    12511.0         Wilfried Bien   \n38                    Stade du Moustoir    14306.0         Mikael Lesage   \n39                  Stade Armand-Cesari     1200.0       Stéphane Lannoy   \n\n                                                  url  home_club_formation  \\\n0   https://www.transfermarkt.co.uk/terek-grozny_s...                  NaN   \n1   https://www.transfermarkt.co.uk/krylya-sovetov...                  NaN   \n2   https://www.transfermarkt.co.uk/cska-moscow_di...                  NaN   \n3   https://www.transfermarkt.co.uk/lokomotiv-mosc...                  NaN   \n4   https://www.transfermarkt.co.uk/krylya-sovetov...                  NaN   \n5   https://www.transfermarkt.co.uk/rubin-kazan_sp...                  NaN   \n6   https://www.transfermarkt.co.uk/fk-rostov_fk-k...                  NaN   \n7   https://www.transfermarkt.co.uk/anzhi-makhachk...                  NaN   \n8   https://www.transfermarkt.co.uk/fk-krasnodar_a...                  NaN   \n9   https://www.transfermarkt.co.uk/terek-grozny_a...                  NaN   \n10  https://www.transfermarkt.co.uk/anzhi-makhachk...                  NaN   \n11  https://www.transfermarkt.co.uk/fk-krasnodar_v...                  NaN   \n12  https://www.transfermarkt.co.uk/metalist-khark...                  NaN   \n13  https://www.transfermarkt.co.uk/shakhtar-donet...                  NaN   \n14  https://www.transfermarkt.co.uk/goverla-zakarp...                  NaN   \n15  https://www.transfermarkt.co.uk/goverla-zakarp...                  NaN   \n16  https://www.transfermarkt.co.uk/metalist-khark...                  NaN   \n17  https://www.transfermarkt.co.uk/metalurg-zapor...                  NaN   \n18  https://www.transfermarkt.co.uk/vorskla-poltav...                  NaN   \n19  https://www.transfermarkt.co.uk/dnipro-dniprop...                  NaN   \n20  https://www.transfermarkt.co.uk/dnipro-dniprop...                  NaN   \n21  https://www.transfermarkt.co.uk/shakhtar-donet...                  NaN   \n22  https://www.transfermarkt.co.uk/sk-tavriya-sim...                  NaN   \n23  https://www.transfermarkt.co.uk/metalurg-donet...                  NaN   \n24  https://www.transfermarkt.co.uk/goverla-zakarp...                  NaN   \n25  https://www.transfermarkt.co.uk/sk-tavriya-sim...                  NaN   \n26  https://www.transfermarkt.co.uk/vorskla-poltav...                  NaN   \n27  https://www.transfermarkt.co.uk/metalurg-zapor...                  NaN   \n28  https://www.transfermarkt.co.uk/losc-lille_ac-...                  NaN   \n29  https://www.transfermarkt.co.uk/as-nancy-lorra...                  NaN   \n30  https://www.transfermarkt.co.uk/losc-lille_par...                  NaN   \n31  https://www.transfermarkt.co.uk/paris-saint-ge...                  NaN   \n32  https://www.transfermarkt.co.uk/stade-rennais-...                  NaN   \n33  https://www.transfermarkt.co.uk/fc-girondins-b...                  NaN   \n34  https://www.transfermarkt.co.uk/sc-bastia_fc-g...                  NaN   \n35  https://www.transfermarkt.co.uk/stade-reims_es...                  NaN   \n36  https://www.transfermarkt.co.uk/montpellier-hs...                  NaN   \n37  https://www.transfermarkt.co.uk/fc-evian-thono...                  NaN   \n38  https://www.transfermarkt.co.uk/fc-lorient_fc-...                  NaN   \n39  https://www.transfermarkt.co.uk/sc-bastia_as-n...                  NaN   \n\n   away_club_formation                                 home_club_name  \\\n0                  NaN                              RFK Akhmat Grozny   \n1                  NaN                      PFK Krylya Sovetov Samara   \n2                  NaN                                PFK CSKA Moskva   \n3                  NaN             Футбольный клуб \"Локомотив\" Москва   \n4                  NaN                      PFK Krylya Sovetov Samara   \n5                  NaN                                 FC Rubin Kazan   \n6                  NaN                                      FK Rostov   \n7                  NaN                     Anzhi Makhachkala ( -2022)   \n8                  NaN                                   FK Krasnodar   \n9                  NaN                              RFK Akhmat Grozny   \n10                 NaN                     Anzhi Makhachkala ( -2022)   \n11                 NaN                                   FK Krasnodar   \n12                 NaN                      Metalist Kharkiv (- 2016)   \n13                 NaN                            FC Shakhtar Donetsk   \n14                 NaN                      Goverla Uzhgorod (- 2016)   \n15                 NaN                      Goverla Uzhgorod (- 2016)   \n16                 NaN                      Metalist Kharkiv (- 2016)   \n17                 NaN                    Metalurg Zaporizhya (-2016)   \n18                 NaN                                Vorskla Poltava   \n19                 NaN                  Dnipro Dnipropetrovsk (-2020)   \n20                 NaN                  Dnipro Dnipropetrovsk (-2020)   \n21                 NaN                            FC Shakhtar Donetsk   \n22                 NaN                SK Tavriya Simferopol ( - 2022)   \n23                 NaN                      Metalurg Donetsk (- 2015)   \n24                 NaN                      Goverla Uzhgorod (- 2016)   \n25                 NaN                SK Tavriya Simferopol ( - 2022)   \n26                 NaN                                Vorskla Poltava   \n27                 NaN                    Metalurg Zaporizhya (-2016)   \n28                 NaN  Lille Olympique Sporting Club Lille Métropole   \n29                 NaN                              AS Nancy-Lorraine   \n30                 NaN  Lille Olympique Sporting Club Lille Métropole   \n31                 NaN              Paris Saint-Germain Football Club   \n32                 NaN                    Stade Rennais Football Club   \n33                 NaN                          FC Girondins Bordeaux   \n34                 NaN                                      SC Bastia   \n35                 NaN                                 Stade de Reims   \n36                 NaN                 Montpellier Hérault Sport Club   \n37                 NaN                   Thonon Évian Grand Genève FC   \n38                 NaN             Football Club Lorient-Bretagne Sud   \n39                 NaN                                      SC Bastia   \n\n                                   away_club_name aggregate competition_type  \n0                               FK Spartak Moskva       2:1  domestic_league  \n1                                      Amkar Perm       0:2  domestic_league  \n2                                FK Dinamo Moskva       0:2  domestic_league  \n3                                  FC Rubin Kazan       1:0  domestic_league  \n4                 Volga Nizhniy Novgorod (- 2016)       0:1  domestic_league  \n5                               FK Spartak Moskva       0:1  domestic_league  \n6                                    FK Krasnodar       2:3  domestic_league  \n7                                 PFK CSKA Moskva       2:0  domestic_league  \n8                      Anzhi Makhachkala ( -2022)       4:0  domestic_league  \n9                      Anzhi Makhachkala ( -2022)       1:0  domestic_league  \n10                               FK Dinamo Moskva       3:3  domestic_league  \n11                Volga Nizhniy Novgorod (- 2016)       2:0  domestic_league  \n12                                    FK Mariupol       2:0  domestic_league  \n13                                Vorskla Poltava       4:1  domestic_league  \n14                SK Tavriya Simferopol ( - 2022)       2:1  domestic_league  \n15                          FK Kryvbas Kryvyi Rig       1:1  domestic_league  \n16                                Vorskla Poltava       4:0  domestic_league  \n17                                    Volyn Lutsk       0:3  domestic_league  \n18                    Metalurg Zaporizhya (-2016)       5:0  domestic_league  \n19                    Metalurg Zaporizhya (-2016)       3:0  domestic_league  \n20                      Metalist Kharkiv (- 2016)       2:0  domestic_league  \n21                    Metalurg Zaporizhya (-2016)       2:0  domestic_league  \n22                      Metalurg Donetsk (- 2015)       4:3  domestic_league  \n23                      Goverla Uzhgorod (- 2016)       2:1  domestic_league  \n24                    Metalurg Zaporizhya (-2016)       2:0  domestic_league  \n25                      Goverla Uzhgorod (- 2016)       0:2  domestic_league  \n26                      Goverla Uzhgorod (- 2016)       3:0  domestic_league  \n27                                Vorskla Poltava       0:4  domestic_league  \n28                                     AC Ajaccio       2:0  domestic_league  \n29                         Olympique de Marseille       0:1  domestic_league  \n30              Paris Saint-Germain Football Club       1:2  domestic_league  \n31                             Olympique Lyonnais       1:0  domestic_league  \n32                 Montpellier Hérault Sport Club       2:1  domestic_league  \n33  Lille Olympique Sporting Club Lille Métropole       1:1  domestic_league  \n34                          FC Girondins Bordeaux       3:1  domestic_league  \n35                                   ESTAC Troyes       1:1  domestic_league  \n36       Olympique Gymnaste Club Nice Côte d'Azur       3:1  domestic_league  \n37                               AS Saint-Étienne       2:2  domestic_league  \n38                         FC Sochaux-Montbéliard       2:0  domestic_league  \n39                              AS Nancy-Lorraine       4:2  domestic_league  \n\n[40 rows x 23 columns]",
      "text/html": "<div>\n<style scoped>\n    .dataframe tbody tr th:only-of-type {\n        vertical-align: middle;\n    }\n\n    .dataframe tbody tr th {\n        vertical-align: top;\n    }\n\n    .dataframe thead th {\n        text-align: right;\n    }\n</style>\n<table border=\"1\" class=\"dataframe\">\n  <thead>\n    <tr style=\"text-align: right;\">\n      <th></th>\n      <th>game_id</th>\n      <th>competition_id</th>\n      <th>season</th>\n      <th>round</th>\n      <th>date</th>\n      <th>home_club_id</th>\n      <th>away_club_id</th>\n      <th>home_club_goals</th>\n      <th>away_club_goals</th>\n      <th>home_club_position</th>\n      <th>...</th>\n      <th>stadium</th>\n      <th>attendance</th>\n      <th>referee</th>\n      <th>url</th>\n      <th>home_club_formation</th>\n      <th>away_club_formation</th>\n      <th>home_club_name</th>\n      <th>away_club_name</th>\n      <th>aggregate</th>\n      <th>competition_type</th>\n    </tr>\n  </thead>\n  <tbody>\n    <tr>\n      <th>0</th>\n      <td>2222597</td>\n      <td>RU1</td>\n      <td>2012</td>\n      <td>6. Matchday</td>\n      <td>2012-08-25</td>\n      <td>3725</td>\n      <td>232</td>\n      <td>2</td>\n      <td>1</td>\n      <td>2.0</td>\n      <td>...</td>\n      <td>Akhmat-Arena</td>\n      <td>21700.0</td>\n      <td>Vladislav Bezborodov</td>\n      <td>https://www.transfermarkt.co.uk/terek-grozny_s...</td>\n      <td>NaN</td>\n      <td>NaN</td>\n      <td>RFK Akhmat Grozny</td>\n      <td>FK Spartak Moskva</td>\n      <td>2:1</td>\n      <td>domestic_league</td>\n    </tr>\n    <tr>\n      <th>1</th>\n      <td>2222627</td>\n      <td>RU1</td>\n      <td>2012</td>\n      <td>5. Matchday</td>\n      <td>2012-08-20</td>\n      <td>2696</td>\n      <td>4128</td>\n      <td>0</td>\n      <td>2</td>\n      <td>11.0</td>\n      <td>...</td>\n      <td>Metallurg</td>\n      <td>11400.0</td>\n      <td>Sergey Ivanov</td>\n      <td>https://www.transfermarkt.co.uk/krylya-sovetov...</td>\n      <td>NaN</td>\n      <td>NaN</td>\n      <td>PFK Krylya Sovetov Samara</td>\n      <td>Amkar Perm</td>\n      <td>0:2</td>\n      <td>domestic_league</td>\n    </tr>\n    <tr>\n      <th>2</th>\n      <td>2222658</td>\n      <td>RU1</td>\n      <td>2012</td>\n      <td>10. Matchday</td>\n      <td>2012-09-30</td>\n      <td>2410</td>\n      <td>121</td>\n      <td>0</td>\n      <td>2</td>\n      <td>2.0</td>\n      <td>...</td>\n      <td>Arena Khimki</td>\n      <td>12000.0</td>\n      <td>Sergey Karasev</td>\n      <td>https://www.transfermarkt.co.uk/cska-moscow_di...</td>\n      <td>NaN</td>\n      <td>NaN</td>\n      <td>PFK CSKA Moskva</td>\n      <td>FK Dinamo Moskva</td>\n      <td>0:2</td>\n      <td>domestic_league</td>\n    </tr>\n    <tr>\n      <th>3</th>\n      <td>2222664</td>\n      <td>RU1</td>\n      <td>2012</td>\n      <td>8. Matchday</td>\n      <td>2012-09-15</td>\n      <td>932</td>\n      <td>2698</td>\n      <td>1</td>\n      <td>0</td>\n      <td>5.0</td>\n      <td>...</td>\n      <td>RZD Arena</td>\n      <td>11408.0</td>\n      <td>Sergey Karasev</td>\n      <td>https://www.transfermarkt.co.uk/lokomotiv-mosc...</td>\n      <td>NaN</td>\n      <td>NaN</td>\n      <td>Футбольный клуб \"Локомотив\" Москва</td>\n      <td>FC Rubin Kazan</td>\n      <td>1:0</td>\n      <td>domestic_league</td>\n    </tr>\n    <tr>\n      <th>4</th>\n      <td>2222683</td>\n      <td>RU1</td>\n      <td>2012</td>\n      <td>12. Matchday</td>\n      <td>2012-10-22</td>\n      <td>2696</td>\n      <td>12438</td>\n      <td>0</td>\n      <td>1</td>\n      <td>11.0</td>\n      <td>...</td>\n      <td>Metallurg</td>\n      <td>7534.0</td>\n      <td>Timur Arslanbekov</td>\n      <td>https://www.transfermarkt.co.uk/krylya-sovetov...</td>\n      <td>NaN</td>\n      <td>NaN</td>\n      <td>PFK Krylya Sovetov Samara</td>\n      <td>Volga Nizhniy Novgorod (- 2016)</td>\n      <td>0:1</td>\n      <td>domestic_league</td>\n    </tr>\n    <tr>\n      <th>5</th>\n      <td>2222685</td>\n      <td>RU1</td>\n      <td>2012</td>\n      <td>19. Matchday</td>\n      <td>2012-12-10</td>\n      <td>2698</td>\n      <td>232</td>\n      <td>0</td>\n      <td>1</td>\n      <td>7.0</td>\n      <td>...</td>\n      <td>Central Stadium  Kazan</td>\n      <td>8384.0</td>\n      <td>Vladislav Bezborodov</td>\n      <td>https://www.transfermarkt.co.uk/rubin-kazan_sp...</td>\n      <td>NaN</td>\n      <td>NaN</td>\n      <td>FC Rubin Kazan</td>\n      <td>FK Spartak Moskva</td>\n      <td>0:1</td>\n      <td>domestic_league</td>\n    </tr>\n    <tr>\n      <th>6</th>\n      <td>2222734</td>\n      <td>RU1</td>\n      <td>2012</td>\n      <td>19. Matchday</td>\n      <td>2012-12-07</td>\n      <td>1083</td>\n      <td>16704</td>\n      <td>2</td>\n      <td>3</td>\n      <td>11.0</td>\n      <td>...</td>\n      <td>Olimp-2</td>\n      <td>5700.0</td>\n      <td>Sergey Kuznetsov</td>\n      <td>https://www.transfermarkt.co.uk/fk-rostov_fk-k...</td>\n      <td>NaN</td>\n      <td>NaN</td>\n      <td>FK Rostov</td>\n      <td>FK Krasnodar</td>\n      <td>2:3</td>\n      <td>domestic_league</td>\n    </tr>\n    <tr>\n      <th>7</th>\n      <td>2222735</td>\n      <td>RU1</td>\n      <td>2012</td>\n      <td>18. Matchday</td>\n      <td>2012-12-02</td>\n      <td>2700</td>\n      <td>2410</td>\n      <td>2</td>\n      <td>0</td>\n      <td>1.0</td>\n      <td>...</td>\n      <td>Dinamo</td>\n      <td>15500.0</td>\n      <td>Vladislav Bezborodov</td>\n      <td>https://www.transfermarkt.co.uk/anzhi-makhachk...</td>\n      <td>NaN</td>\n      <td>NaN</td>\n      <td>Anzhi Makhachkala ( -2022)</td>\n      <td>PFK CSKA Moskva</td>\n      <td>2:0</td>\n      <td>domestic_league</td>\n    </tr>\n    <tr>\n      <th>8</th>\n      <td>2222739</td>\n      <td>RU1</td>\n      <td>2012</td>\n      <td>22. Matchday</td>\n      <td>2013-03-31</td>\n      <td>16704</td>\n      <td>2700</td>\n      <td>4</td>\n      <td>0</td>\n      <td>8.0</td>\n      <td>...</td>\n      <td>Kuban</td>\n      <td>18800.0</td>\n      <td>Aleksey Nikolaev</td>\n      <td>https://www.transfermarkt.co.uk/fk-krasnodar_a...</td>\n      <td>NaN</td>\n      <td>NaN</td>\n      <td>FK Krasnodar</td>\n      <td>Anzhi Makhachkala ( -2022)</td>\n      <td>4:0</td>\n      <td>domestic_league</td>\n    </tr>\n    <tr>\n      <th>9</th>\n      <td>2222775</td>\n      <td>RU1</td>\n      <td>2012</td>\n      <td>28. Matchday</td>\n      <td>2013-05-12</td>\n      <td>3725</td>\n      <td>2700</td>\n      <td>1</td>\n      <td>0</td>\n      <td>8.0</td>\n      <td>...</td>\n      <td>Akhmat-Arena</td>\n      <td>22000.0</td>\n      <td>Vitali Meshkov</td>\n      <td>https://www.transfermarkt.co.uk/terek-grozny_a...</td>\n      <td>NaN</td>\n      <td>NaN</td>\n      <td>RFK Akhmat Grozny</td>\n      <td>Anzhi Makhachkala ( -2022)</td>\n      <td>1:0</td>\n      <td>domestic_league</td>\n    </tr>\n    <tr>\n      <th>10</th>\n      <td>2222802</td>\n      <td>RU1</td>\n      <td>2012</td>\n      <td>25. Matchday</td>\n      <td>2013-04-21</td>\n      <td>2700</td>\n      <td>121</td>\n      <td>3</td>\n      <td>3</td>\n      <td>3.0</td>\n      <td>...</td>\n      <td>Anzhi-Arena</td>\n      <td>24500.0</td>\n      <td>Sergey Lapochkin</td>\n      <td>https://www.transfermarkt.co.uk/anzhi-makhachk...</td>\n      <td>NaN</td>\n      <td>NaN</td>\n      <td>Anzhi Makhachkala ( -2022)</td>\n      <td>FK Dinamo Moskva</td>\n      <td>3:3</td>\n      <td>domestic_league</td>\n    </tr>\n    <tr>\n      <th>11</th>\n      <td>2222816</td>\n      <td>RU1</td>\n      <td>2012</td>\n      <td>27. Matchday</td>\n      <td>2013-05-05</td>\n      <td>16704</td>\n      <td>12438</td>\n      <td>2</td>\n      <td>0</td>\n      <td>8.0</td>\n      <td>...</td>\n      <td>Kuban</td>\n      <td>5300.0</td>\n      <td>Maksim Layushkin</td>\n      <td>https://www.transfermarkt.co.uk/fk-krasnodar_v...</td>\n      <td>NaN</td>\n      <td>NaN</td>\n      <td>FK Krasnodar</td>\n      <td>Volga Nizhniy Novgorod (- 2016)</td>\n      <td>2:0</td>\n      <td>domestic_league</td>\n    </tr>\n    <tr>\n      <th>12</th>\n      <td>2222958</td>\n      <td>UKR1</td>\n      <td>2012</td>\n      <td>1. Matchday</td>\n      <td>2012-07-14</td>\n      <td>6414</td>\n      <td>6993</td>\n      <td>2</td>\n      <td>0</td>\n      <td>3.0</td>\n      <td>...</td>\n      <td>OSK Metalist</td>\n      <td>24862.0</td>\n      <td>Vitaliy Romanov</td>\n      <td>https://www.transfermarkt.co.uk/metalist-khark...</td>\n      <td>NaN</td>\n      <td>NaN</td>\n      <td>Metalist Kharkiv (- 2016)</td>\n      <td>FK Mariupol</td>\n      <td>2:0</td>\n      <td>domestic_league</td>\n    </tr>\n    <tr>\n      <th>13</th>\n      <td>2222988</td>\n      <td>UKR1</td>\n      <td>2012</td>\n      <td>5. Matchday</td>\n      <td>2012-08-12</td>\n      <td>660</td>\n      <td>2740</td>\n      <td>4</td>\n      <td>1</td>\n      <td>1.0</td>\n      <td>...</td>\n      <td>Donbass Arena</td>\n      <td>39075.0</td>\n      <td>Andriy Kuzmin</td>\n      <td>https://www.transfermarkt.co.uk/shakhtar-donet...</td>\n      <td>NaN</td>\n      <td>NaN</td>\n      <td>FC Shakhtar Donetsk</td>\n      <td>Vorskla Poltava</td>\n      <td>4:1</td>\n      <td>domestic_league</td>\n    </tr>\n    <tr>\n      <th>14</th>\n      <td>2223015</td>\n      <td>UKR1</td>\n      <td>2012</td>\n      <td>8. Matchday</td>\n      <td>2012-08-31</td>\n      <td>6996</td>\n      <td>2227</td>\n      <td>2</td>\n      <td>1</td>\n      <td>15.0</td>\n      <td>...</td>\n      <td>Avangard</td>\n      <td>4700.0</td>\n      <td>Yuriy Grysyo</td>\n      <td>https://www.transfermarkt.co.uk/goverla-zakarp...</td>\n      <td>NaN</td>\n      <td>NaN</td>\n      <td>Goverla Uzhgorod (- 2016)</td>\n      <td>SK Tavriya Simferopol ( - 2022)</td>\n      <td>2:1</td>\n      <td>domestic_league</td>\n    </tr>\n    <tr>\n      <th>15</th>\n      <td>2223018</td>\n      <td>UKR1</td>\n      <td>2012</td>\n      <td>13. Matchday</td>\n      <td>2012-10-27</td>\n      <td>6996</td>\n      <td>3592</td>\n      <td>1</td>\n      <td>1</td>\n      <td>15.0</td>\n      <td>...</td>\n      <td>Avangard</td>\n      <td>1950.0</td>\n      <td>Sergiy Lysenchuk</td>\n      <td>https://www.transfermarkt.co.uk/goverla-zakarp...</td>\n      <td>NaN</td>\n      <td>NaN</td>\n      <td>Goverla Uzhgorod (- 2016)</td>\n      <td>FK Kryvbas Kryvyi Rig</td>\n      <td>1:1</td>\n      <td>domestic_league</td>\n    </tr>\n    <tr>\n      <th>16</th>\n      <td>2223025</td>\n      <td>UKR1</td>\n      <td>2012</td>\n      <td>9. Matchday</td>\n      <td>2012-09-15</td>\n      <td>6414</td>\n      <td>2740</td>\n      <td>4</td>\n      <td>0</td>\n      <td>4.0</td>\n      <td>...</td>\n      <td>OSK Metalist</td>\n      <td>37890.0</td>\n      <td>Yevgen Aranovskyi</td>\n      <td>https://www.transfermarkt.co.uk/metalist-khark...</td>\n      <td>NaN</td>\n      <td>NaN</td>\n      <td>Metalist Kharkiv (- 2016)</td>\n      <td>Vorskla Poltava</td>\n      <td>4:0</td>\n      <td>domestic_league</td>\n    </tr>\n    <tr>\n      <th>17</th>\n      <td>2223041</td>\n      <td>UKR1</td>\n      <td>2012</td>\n      <td>11. Matchday</td>\n      <td>2012-10-06</td>\n      <td>6994</td>\n      <td>4482</td>\n      <td>0</td>\n      <td>3</td>\n      <td>16.0</td>\n      <td>...</td>\n      <td>Slavutych Arena</td>\n      <td>3000.0</td>\n      <td>Yevgen Aranovskyi</td>\n      <td>https://www.transfermarkt.co.uk/metalurg-zapor...</td>\n      <td>NaN</td>\n      <td>NaN</td>\n      <td>Metalurg Zaporizhya (-2016)</td>\n      <td>Volyn Lutsk</td>\n      <td>0:3</td>\n      <td>domestic_league</td>\n    </tr>\n    <tr>\n      <th>18</th>\n      <td>2223051</td>\n      <td>UKR1</td>\n      <td>2012</td>\n      <td>12. Matchday</td>\n      <td>2012-10-21</td>\n      <td>2740</td>\n      <td>6994</td>\n      <td>5</td>\n      <td>0</td>\n      <td>10.0</td>\n      <td>...</td>\n      <td>Vorskla im. Oleksiy Butovskyi</td>\n      <td>4000.0</td>\n      <td>Dmytro Zhukov</td>\n      <td>https://www.transfermarkt.co.uk/vorskla-poltav...</td>\n      <td>NaN</td>\n      <td>NaN</td>\n      <td>Vorskla Poltava</td>\n      <td>Metalurg Zaporizhya (-2016)</td>\n      <td>5:0</td>\n      <td>domestic_league</td>\n    </tr>\n    <tr>\n      <th>19</th>\n      <td>2223060</td>\n      <td>UKR1</td>\n      <td>2012</td>\n      <td>17. Matchday</td>\n      <td>2012-11-26</td>\n      <td>339</td>\n      <td>6994</td>\n      <td>3</td>\n      <td>0</td>\n      <td>2.0</td>\n      <td>...</td>\n      <td>Dnipro-Arena</td>\n      <td>8180.0</td>\n      <td>Andriy Kuzmin</td>\n      <td>https://www.transfermarkt.co.uk/dnipro-dniprop...</td>\n      <td>NaN</td>\n      <td>NaN</td>\n      <td>Dnipro Dnipropetrovsk (-2020)</td>\n      <td>Metalurg Zaporizhya (-2016)</td>\n      <td>3:0</td>\n      <td>domestic_league</td>\n    </tr>\n    <tr>\n      <th>20</th>\n      <td>2223083</td>\n      <td>UKR1</td>\n      <td>2012</td>\n      <td>14. Matchday</td>\n      <td>2012-11-03</td>\n      <td>339</td>\n      <td>6414</td>\n      <td>2</td>\n      <td>0</td>\n      <td>2.0</td>\n      <td>...</td>\n      <td>Dnipro-Arena</td>\n      <td>28219.0</td>\n      <td>Anatoliy Zhabchenko</td>\n      <td>https://www.transfermarkt.co.uk/dnipro-dniprop...</td>\n      <td>NaN</td>\n      <td>NaN</td>\n      <td>Dnipro Dnipropetrovsk (-2020)</td>\n      <td>Metalist Kharkiv (- 2016)</td>\n      <td>2:0</td>\n      <td>domestic_league</td>\n    </tr>\n    <tr>\n      <th>21</th>\n      <td>2223096</td>\n      <td>UKR1</td>\n      <td>2012</td>\n      <td>14. Matchday</td>\n      <td>2012-11-03</td>\n      <td>660</td>\n      <td>6994</td>\n      <td>2</td>\n      <td>0</td>\n      <td>1.0</td>\n      <td>...</td>\n      <td>Donbass Arena</td>\n      <td>36275.0</td>\n      <td>Yuriy Grysyo</td>\n      <td>https://www.transfermarkt.co.uk/shakhtar-donet...</td>\n      <td>NaN</td>\n      <td>NaN</td>\n      <td>FC Shakhtar Donetsk</td>\n      <td>Metalurg Zaporizhya (-2016)</td>\n      <td>2:0</td>\n      <td>domestic_league</td>\n    </tr>\n    <tr>\n      <th>22</th>\n      <td>2223111</td>\n      <td>UKR1</td>\n      <td>2012</td>\n      <td>21. Matchday</td>\n      <td>2013-03-16</td>\n      <td>2227</td>\n      <td>2783</td>\n      <td>4</td>\n      <td>3</td>\n      <td>10.0</td>\n      <td>...</td>\n      <td>RS Lokomotiv</td>\n      <td>2050.0</td>\n      <td>Sergiy Lysenchuk</td>\n      <td>https://www.transfermarkt.co.uk/sk-tavriya-sim...</td>\n      <td>NaN</td>\n      <td>NaN</td>\n      <td>SK Tavriya Simferopol ( - 2022)</td>\n      <td>Metalurg Donetsk (- 2015)</td>\n      <td>4:3</td>\n      <td>domestic_league</td>\n    </tr>\n    <tr>\n      <th>23</th>\n      <td>2223132</td>\n      <td>UKR1</td>\n      <td>2012</td>\n      <td>25. Matchday</td>\n      <td>2013-04-20</td>\n      <td>2783</td>\n      <td>6996</td>\n      <td>2</td>\n      <td>1</td>\n      <td>5.0</td>\n      <td>...</td>\n      <td>Metalurg</td>\n      <td>2700.0</td>\n      <td>Sergiy Berezka</td>\n      <td>https://www.transfermarkt.co.uk/metalurg-donet...</td>\n      <td>NaN</td>\n      <td>NaN</td>\n      <td>Metalurg Donetsk (- 2015)</td>\n      <td>Goverla Uzhgorod (- 2016)</td>\n      <td>2:1</td>\n      <td>domestic_league</td>\n    </tr>\n    <tr>\n      <th>24</th>\n      <td>2223137</td>\n      <td>UKR1</td>\n      <td>2012</td>\n      <td>24. Matchday</td>\n      <td>2013-04-14</td>\n      <td>6996</td>\n      <td>6994</td>\n      <td>2</td>\n      <td>0</td>\n      <td>15.0</td>\n      <td>...</td>\n      <td>Avangard</td>\n      <td>3300.0</td>\n      <td>Yuriy Mozharovskyi</td>\n      <td>https://www.transfermarkt.co.uk/goverla-zakarp...</td>\n      <td>NaN</td>\n      <td>NaN</td>\n      <td>Goverla Uzhgorod (- 2016)</td>\n      <td>Metalurg Zaporizhya (-2016)</td>\n      <td>2:0</td>\n      <td>domestic_league</td>\n    </tr>\n    <tr>\n      <th>25</th>\n      <td>2223157</td>\n      <td>UKR1</td>\n      <td>2012</td>\n      <td>23. Matchday</td>\n      <td>2013-04-07</td>\n      <td>2227</td>\n      <td>6996</td>\n      <td>0</td>\n      <td>2</td>\n      <td>10.0</td>\n      <td>...</td>\n      <td>RS Lokomotiv</td>\n      <td>3800.0</td>\n      <td>Oleksandr Ivanov</td>\n      <td>https://www.transfermarkt.co.uk/sk-tavriya-sim...</td>\n      <td>NaN</td>\n      <td>NaN</td>\n      <td>SK Tavriya Simferopol ( - 2022)</td>\n      <td>Goverla Uzhgorod (- 2016)</td>\n      <td>0:2</td>\n      <td>domestic_league</td>\n    </tr>\n    <tr>\n      <th>26</th>\n      <td>2223162</td>\n      <td>UKR1</td>\n      <td>2012</td>\n      <td>30. Matchday</td>\n      <td>2013-05-26</td>\n      <td>2740</td>\n      <td>6996</td>\n      <td>3</td>\n      <td>0</td>\n      <td>12.0</td>\n      <td>...</td>\n      <td>Vorskla im. Oleksiy Butovskyi</td>\n      <td>3200.0</td>\n      <td>Oleksandr Golovkov</td>\n      <td>https://www.transfermarkt.co.uk/vorskla-poltav...</td>\n      <td>NaN</td>\n      <td>NaN</td>\n      <td>Vorskla Poltava</td>\n      <td>Goverla Uzhgorod (- 2016)</td>\n      <td>3:0</td>\n      <td>domestic_league</td>\n    </tr>\n    <tr>\n      <th>27</th>\n      <td>2223182</td>\n      <td>UKR1</td>\n      <td>2012</td>\n      <td>27. Matchday</td>\n      <td>2013-05-04</td>\n      <td>6994</td>\n      <td>2740</td>\n      <td>0</td>\n      <td>4</td>\n      <td>16.0</td>\n      <td>...</td>\n      <td>Slavutych Arena</td>\n      <td>2000.0</td>\n      <td>Sergiy Dankovsky</td>\n      <td>https://www.transfermarkt.co.uk/metalurg-zapor...</td>\n      <td>NaN</td>\n      <td>NaN</td>\n      <td>Metalurg Zaporizhya (-2016)</td>\n      <td>Vorskla Poltava</td>\n      <td>0:4</td>\n      <td>domestic_league</td>\n    </tr>\n    <tr>\n      <th>28</th>\n      <td>2223859</td>\n      <td>FR1</td>\n      <td>2012</td>\n      <td>8. Matchday</td>\n      <td>2012-10-06</td>\n      <td>1082</td>\n      <td>1147</td>\n      <td>2</td>\n      <td>0</td>\n      <td>10.0</td>\n      <td>...</td>\n      <td>Decathlon Arena-Stade Pierre-Mauroy</td>\n      <td>39375.0</td>\n      <td>Lionel Jaffredo</td>\n      <td>https://www.transfermarkt.co.uk/losc-lille_ac-...</td>\n      <td>NaN</td>\n      <td>NaN</td>\n      <td>Lille Olympique Sporting Club Lille Métropole</td>\n      <td>AC Ajaccio</td>\n      <td>2:0</td>\n      <td>domestic_league</td>\n    </tr>\n    <tr>\n      <th>29</th>\n      <td>2223876</td>\n      <td>FR1</td>\n      <td>2012</td>\n      <td>5. Matchday</td>\n      <td>2012-09-16</td>\n      <td>1159</td>\n      <td>244</td>\n      <td>0</td>\n      <td>1</td>\n      <td>17.0</td>\n      <td>...</td>\n      <td>Stade Marcel-Picot</td>\n      <td>18257.0</td>\n      <td>Philippe Kalt</td>\n      <td>https://www.transfermarkt.co.uk/as-nancy-lorra...</td>\n      <td>NaN</td>\n      <td>NaN</td>\n      <td>AS Nancy-Lorraine</td>\n      <td>Olympique de Marseille</td>\n      <td>0:1</td>\n      <td>domestic_league</td>\n    </tr>\n    <tr>\n      <th>30</th>\n      <td>2223890</td>\n      <td>FR1</td>\n      <td>2012</td>\n      <td>4. Matchday</td>\n      <td>2012-09-02</td>\n      <td>1082</td>\n      <td>583</td>\n      <td>1</td>\n      <td>2</td>\n      <td>11.0</td>\n      <td>...</td>\n      <td>Decathlon Arena-Stade Pierre-Mauroy</td>\n      <td>32707.0</td>\n      <td>Ruddy Buquet</td>\n      <td>https://www.transfermarkt.co.uk/losc-lille_par...</td>\n      <td>NaN</td>\n      <td>NaN</td>\n      <td>Lille Olympique Sporting Club Lille Métropole</td>\n      <td>Paris Saint-Germain Football Club</td>\n      <td>1:2</td>\n      <td>domestic_league</td>\n    </tr>\n    <tr>\n      <th>31</th>\n      <td>2223894</td>\n      <td>FR1</td>\n      <td>2012</td>\n      <td>18. Matchday</td>\n      <td>2012-12-16</td>\n      <td>583</td>\n      <td>1041</td>\n      <td>1</td>\n      <td>0</td>\n      <td>1.0</td>\n      <td>...</td>\n      <td>Parc des Princes</td>\n      <td>44768.0</td>\n      <td>Antony Gautier</td>\n      <td>https://www.transfermarkt.co.uk/paris-saint-ge...</td>\n      <td>NaN</td>\n      <td>NaN</td>\n      <td>Paris Saint-Germain Football Club</td>\n      <td>Olympique Lyonnais</td>\n      <td>1:0</td>\n      <td>domestic_league</td>\n    </tr>\n    <tr>\n      <th>32</th>\n      <td>2223902</td>\n      <td>FR1</td>\n      <td>2012</td>\n      <td>9. Matchday</td>\n      <td>2012-10-20</td>\n      <td>273</td>\n      <td>969</td>\n      <td>2</td>\n      <td>1</td>\n      <td>9.0</td>\n      <td>...</td>\n      <td>Roazhon Park</td>\n      <td>16087.0</td>\n      <td>Antony Gautier</td>\n      <td>https://www.transfermarkt.co.uk/stade-rennais-...</td>\n      <td>NaN</td>\n      <td>NaN</td>\n      <td>Stade Rennais Football Club</td>\n      <td>Montpellier Hérault Sport Club</td>\n      <td>2:1</td>\n      <td>domestic_league</td>\n    </tr>\n    <tr>\n      <th>33</th>\n      <td>2223905</td>\n      <td>FR1</td>\n      <td>2012</td>\n      <td>9. Matchday</td>\n      <td>2012-10-19</td>\n      <td>40</td>\n      <td>1082</td>\n      <td>1</td>\n      <td>1</td>\n      <td>6.0</td>\n      <td>...</td>\n      <td>Matmut Atlantique</td>\n      <td>19884.0</td>\n      <td>Ruddy Buquet</td>\n      <td>https://www.transfermarkt.co.uk/fc-girondins-b...</td>\n      <td>NaN</td>\n      <td>NaN</td>\n      <td>FC Girondins Bordeaux</td>\n      <td>Lille Olympique Sporting Club Lille Métropole</td>\n      <td>1:1</td>\n      <td>domestic_league</td>\n    </tr>\n    <tr>\n      <th>34</th>\n      <td>2223921</td>\n      <td>FR1</td>\n      <td>2012</td>\n      <td>10. Matchday</td>\n      <td>2012-10-28</td>\n      <td>595</td>\n      <td>40</td>\n      <td>3</td>\n      <td>1</td>\n      <td>11.0</td>\n      <td>...</td>\n      <td>Stade Armand-Cesari</td>\n      <td>13552.0</td>\n      <td>Sébastien Moreira</td>\n      <td>https://www.transfermarkt.co.uk/sc-bastia_fc-g...</td>\n      <td>NaN</td>\n      <td>NaN</td>\n      <td>SC Bastia</td>\n      <td>FC Girondins Bordeaux</td>\n      <td>3:1</td>\n      <td>domestic_league</td>\n    </tr>\n    <tr>\n      <th>35</th>\n      <td>2223922</td>\n      <td>FR1</td>\n      <td>2012</td>\n      <td>10. Matchday</td>\n      <td>2012-10-27</td>\n      <td>1421</td>\n      <td>1095</td>\n      <td>1</td>\n      <td>1</td>\n      <td>7.0</td>\n      <td>...</td>\n      <td>Stade Auguste-Delaune</td>\n      <td>14495.0</td>\n      <td>Tony Chapron</td>\n      <td>https://www.transfermarkt.co.uk/stade-reims_es...</td>\n      <td>NaN</td>\n      <td>NaN</td>\n      <td>Stade de Reims</td>\n      <td>ESTAC Troyes</td>\n      <td>1:1</td>\n      <td>domestic_league</td>\n    </tr>\n    <tr>\n      <th>36</th>\n      <td>2223924</td>\n      <td>FR1</td>\n      <td>2012</td>\n      <td>10. Matchday</td>\n      <td>2012-10-27</td>\n      <td>969</td>\n      <td>417</td>\n      <td>3</td>\n      <td>1</td>\n      <td>13.0</td>\n      <td>...</td>\n      <td>Stade de la Mosson</td>\n      <td>15549.0</td>\n      <td>Benoît Bastien</td>\n      <td>https://www.transfermarkt.co.uk/montpellier-hs...</td>\n      <td>NaN</td>\n      <td>NaN</td>\n      <td>Montpellier Hérault Sport Club</td>\n      <td>Olympique Gymnaste Club Nice Côte d'Azur</td>\n      <td>3:1</td>\n      <td>domestic_league</td>\n    </tr>\n    <tr>\n      <th>37</th>\n      <td>2223940</td>\n      <td>FR1</td>\n      <td>2012</td>\n      <td>13. Matchday</td>\n      <td>2012-11-17</td>\n      <td>14171</td>\n      <td>618</td>\n      <td>2</td>\n      <td>2</td>\n      <td>18.0</td>\n      <td>...</td>\n      <td>Parc des Sports d’Annecy</td>\n      <td>12511.0</td>\n      <td>Wilfried Bien</td>\n      <td>https://www.transfermarkt.co.uk/fc-evian-thono...</td>\n      <td>NaN</td>\n      <td>NaN</td>\n      <td>Thonon Évian Grand Genève FC</td>\n      <td>AS Saint-Étienne</td>\n      <td>2:2</td>\n      <td>domestic_league</td>\n    </tr>\n    <tr>\n      <th>38</th>\n      <td>2223981</td>\n      <td>FR1</td>\n      <td>2012</td>\n      <td>17. Matchday</td>\n      <td>2012-12-12</td>\n      <td>1158</td>\n      <td>750</td>\n      <td>2</td>\n      <td>0</td>\n      <td>6.0</td>\n      <td>...</td>\n      <td>Stade du Moustoir</td>\n      <td>14306.0</td>\n      <td>Mikael Lesage</td>\n      <td>https://www.transfermarkt.co.uk/fc-lorient_fc-...</td>\n      <td>NaN</td>\n      <td>NaN</td>\n      <td>Football Club Lorient-Bretagne Sud</td>\n      <td>FC Sochaux-Montbéliard</td>\n      <td>2:0</td>\n      <td>domestic_league</td>\n    </tr>\n    <tr>\n      <th>39</th>\n      <td>2223994</td>\n      <td>FR1</td>\n      <td>2012</td>\n      <td>19. Matchday</td>\n      <td>2012-12-22</td>\n      <td>595</td>\n      <td>1159</td>\n      <td>4</td>\n      <td>2</td>\n      <td>13.0</td>\n      <td>...</td>\n      <td>Stade Armand-Cesari</td>\n      <td>1200.0</td>\n      <td>Stéphane Lannoy</td>\n      <td>https://www.transfermarkt.co.uk/sc-bastia_as-n...</td>\n      <td>NaN</td>\n      <td>NaN</td>\n      <td>SC Bastia</td>\n      <td>AS Nancy-Lorraine</td>\n      <td>4:2</td>\n      <td>domestic_league</td>\n    </tr>\n  </tbody>\n</table>\n<p>40 rows × 23 columns</p>\n</div>"
     },
     "execution_count": 47,
     "metadata": {},
     "output_type": "execute_result"
    }
   ],
   "source": [
    "gms = pd.read_csv('../csv/games.csv')\n",
    "gms.head(40)"
   ],
   "metadata": {
    "collapsed": false,
    "ExecuteTime": {
     "end_time": "2023-12-22T14:26:46.240834Z",
     "start_time": "2023-12-22T14:26:45.946347800Z"
    }
   },
   "id": "d768706b5f269790"
  },
  {
   "cell_type": "code",
   "execution_count": 43,
   "outputs": [
    {
     "data": {
      "text/plain": "Index(['game_id', 'competition_id', 'season', 'round', 'date', 'home_club_id',\n       'away_club_id', 'home_club_goals', 'away_club_goals',\n       'home_club_position', 'away_club_position', 'home_club_manager_name',\n       'away_club_manager_name', 'stadium', 'attendance', 'referee', 'url',\n       'home_club_formation', 'away_club_formation', 'home_club_name',\n       'away_club_name', 'aggregate', 'competition_type'],\n      dtype='object')"
     },
     "execution_count": 43,
     "metadata": {},
     "output_type": "execute_result"
    }
   ],
   "source": [
    "gms.columns"
   ],
   "metadata": {
    "collapsed": false,
    "ExecuteTime": {
     "end_time": "2023-12-22T14:25:13.434975300Z",
     "start_time": "2023-12-22T14:25:13.339473300Z"
    }
   },
   "id": "26d159b021a4b8f6"
  },
  {
   "cell_type": "code",
   "execution_count": 44,
   "outputs": [
    {
     "data": {
      "text/plain": "game_id                     int64\ncompetition_id             object\nseason                      int64\nround                      object\ndate                       object\nhome_club_id                int64\naway_club_id                int64\nhome_club_goals             int64\naway_club_goals             int64\nhome_club_position        float64\naway_club_position        float64\nhome_club_manager_name     object\naway_club_manager_name     object\nstadium                    object\nattendance                float64\nreferee                    object\nurl                        object\nhome_club_formation        object\naway_club_formation        object\nhome_club_name             object\naway_club_name             object\naggregate                  object\ncompetition_type           object\ndtype: object"
     },
     "execution_count": 44,
     "metadata": {},
     "output_type": "execute_result"
    }
   ],
   "source": [
    "gms.dtypes"
   ],
   "metadata": {
    "collapsed": false,
    "ExecuteTime": {
     "end_time": "2023-12-22T14:25:38.132714500Z",
     "start_time": "2023-12-22T14:25:38.112752100Z"
    }
   },
   "id": "b886f3a935efc9f9"
  },
  {
   "cell_type": "code",
   "execution_count": 46,
   "outputs": [
    {
     "data": {
      "text/plain": "(65216, 23)"
     },
     "execution_count": 46,
     "metadata": {},
     "output_type": "execute_result"
    }
   ],
   "source": [
    "gms.shape"
   ],
   "metadata": {
    "collapsed": false,
    "ExecuteTime": {
     "end_time": "2023-12-22T14:25:49.678834100Z",
     "start_time": "2023-12-22T14:25:49.671075200Z"
    }
   },
   "id": "d5b582f883037f1a"
  },
  {
   "cell_type": "code",
   "execution_count": 51,
   "outputs": [
    {
     "data": {
      "text/plain": "0        2012-08-25\n1        2012-08-20\n2        2012-09-30\n3        2012-09-15\n4        2012-10-22\n            ...    \n65211    2013-11-07\n65212    2015-10-27\n65213    2018-08-29\n65214    2023-08-29\n65215    2023-01-29\nName: date, Length: 65216, dtype: object"
     },
     "execution_count": 51,
     "metadata": {},
     "output_type": "execute_result"
    }
   ],
   "source": [
    "gms['date']"
   ],
   "metadata": {
    "collapsed": false,
    "ExecuteTime": {
     "end_time": "2023-12-22T14:34:16.127221300Z",
     "start_time": "2023-12-22T14:34:16.116346200Z"
    }
   },
   "id": "ce6d8692d1340622"
  },
  {
   "cell_type": "code",
   "execution_count": 53,
   "outputs": [],
   "source": [
    "gms['date'] = pd.to_datetime(gms['date'])"
   ],
   "metadata": {
    "collapsed": false,
    "ExecuteTime": {
     "end_time": "2023-12-22T14:36:14.443129300Z",
     "start_time": "2023-12-22T14:36:14.407376400Z"
    }
   },
   "id": "c5e0bb9348c2e90a"
  },
  {
   "cell_type": "code",
   "execution_count": 54,
   "outputs": [
    {
     "data": {
      "text/plain": "game_id                            int64\ncompetition_id                    object\nseason                             int64\nround                             object\ndate                      datetime64[ns]\nhome_club_id                       int64\naway_club_id                       int64\nhome_club_goals                    int64\naway_club_goals                    int64\nhome_club_position               float64\naway_club_position               float64\nhome_club_manager_name            object\naway_club_manager_name            object\nstadium                           object\nattendance                       float64\nreferee                           object\nurl                               object\nhome_club_formation               object\naway_club_formation               object\nhome_club_name                    object\naway_club_name                    object\naggregate                         object\ncompetition_type                  object\ndtype: object"
     },
     "execution_count": 54,
     "metadata": {},
     "output_type": "execute_result"
    }
   ],
   "source": [
    "gms.dtypes"
   ],
   "metadata": {
    "collapsed": false,
    "ExecuteTime": {
     "end_time": "2023-12-22T14:36:20.420231Z",
     "start_time": "2023-12-22T14:36:20.396680700Z"
    }
   },
   "id": "143470556fcb51a"
  },
  {
   "cell_type": "code",
   "execution_count": 55,
   "outputs": [
    {
     "data": {
      "text/plain": "game_id                       0\ncompetition_id                0\nseason                        0\nround                         0\ndate                          0\nhome_club_id                  0\naway_club_id                  0\nhome_club_goals               0\naway_club_goals               0\nhome_club_position        19454\naway_club_position        19454\nhome_club_manager_name      742\naway_club_manager_name      742\nstadium                     211\nattendance                 9512\nreferee                     594\nurl                           0\nhome_club_formation       62347\naway_club_formation       62328\nhome_club_name            11252\naway_club_name            10049\naggregate                     0\ncompetition_type              0\ndtype: int64"
     },
     "execution_count": 55,
     "metadata": {},
     "output_type": "execute_result"
    }
   ],
   "source": [
    "gms.isna().sum()"
   ],
   "metadata": {
    "collapsed": false,
    "ExecuteTime": {
     "end_time": "2023-12-22T14:37:09.280137400Z",
     "start_time": "2023-12-22T14:37:09.240344100Z"
    }
   },
   "id": "c445173270a81fb4"
  },
  {
   "cell_type": "code",
   "execution_count": 58,
   "outputs": [
    {
     "data": {
      "text/plain": "array(['RU1', 'UKR1', 'FR1', 'DK1', 'BE1', 'GB1', 'SC1', 'L1', 'PO1',\n       'ES1', 'TR1', 'NL1', 'GR1', 'IT1', 'CL', 'EL', 'CDR', 'NLP',\n       'POCP', 'SFA', 'UKRP', 'CIT', 'FAC', 'GRP', 'GBCS', 'CLQ', 'POSU',\n       'DFB', 'RUP', 'DKP', 'ELQ', 'SUC', 'KLUB', 'CGB', 'ECLQ', 'USC',\n       'SCI', 'DFL', 'FRCH', 'UKRS', 'RUSS', 'NLSC', 'BESC'], dtype=object)"
     },
     "execution_count": 58,
     "metadata": {},
     "output_type": "execute_result"
    }
   ],
   "source": [
    "gms['competition_id'].unique()"
   ],
   "metadata": {
    "collapsed": false,
    "ExecuteTime": {
     "end_time": "2023-12-22T15:12:17.390382900Z",
     "start_time": "2023-12-22T15:12:17.370117400Z"
    }
   },
   "id": "6cf6453ff239fcf9"
  },
  {
   "cell_type": "code",
   "execution_count": 61,
   "outputs": [
    {
     "data": {
      "text/plain": "0"
     },
     "execution_count": 61,
     "metadata": {},
     "output_type": "execute_result"
    }
   ],
   "source": [
    "gms['competition_id']"
   ],
   "metadata": {
    "collapsed": false,
    "ExecuteTime": {
     "end_time": "2023-12-22T15:14:36.548234Z",
     "start_time": "2023-12-22T15:14:36.541877300Z"
    }
   },
   "id": "358bf477c7763bf5"
  },
  {
   "cell_type": "code",
   "execution_count": 62,
   "outputs": [
    {
     "data": {
      "text/plain": "       game_id competition_id  season                     round       date  \\\n0      2222597            RU1    2012               6. Matchday 2012-08-25   \n1      2222627            RU1    2012               5. Matchday 2012-08-20   \n2      2222658            RU1    2012              10. Matchday 2012-09-30   \n3      2222664            RU1    2012               8. Matchday 2012-09-15   \n4      2222683            RU1    2012              12. Matchday 2012-10-22   \n...        ...            ...     ...                       ...        ...   \n65210  3705086            SFA    2021              Fourth Round 2022-01-22   \n65211  2367292             EL    2013                   Group B 2013-11-07   \n65212  2629035            NLP    2015               Third Round 2015-10-27   \n65213  3092951            CLQ    2018  Qualifying Round 2nd leg 2018-08-29   \n65215  4013659            FAC    2022              Fourth Round 2023-01-29   \n\n       home_club_id  away_club_id  home_club_goals  away_club_goals  \\\n0              3725           232                2                1   \n1              2696          4128                0                2   \n2              2410           121                0                2   \n3               932          2698                1                0   \n4              2696         12438                0                1   \n...             ...           ...              ...              ...   \n65210           987          3026                2                1   \n65211           383           419                2                0   \n65212           383         16866                6                0   \n65213           383           713                3                0   \n65215           512          3684                3                1   \n\n       home_club_position  ...          stadium attendance  \\\n0                     2.0  ...     Akhmat-Arena    21700.0   \n1                    11.0  ...        Metallurg    11400.0   \n2                     2.0  ...     Arena Khimki    12000.0   \n3                     5.0  ...        RZD Arena    11408.0   \n4                    11.0  ...        Metallurg     7534.0   \n...                   ...  ...              ...        ...   \n65210                 NaN  ...         Fir Park     4735.0   \n65211                 NaN  ...  Philips Stadion    10000.0   \n65212                 NaN  ...  Philips Stadion    31000.0   \n65213                 NaN  ...  Philips Stadion    34200.0   \n65215                 NaN  ...   bet365 Stadium    14392.0   \n\n                    referee  \\\n0      Vladislav Bezborodov   \n1             Sergey Ivanov   \n2            Sergey Karasev   \n3            Sergey Karasev   \n4         Timur Arslanbekov   \n...                     ...   \n65210            Nick Walsh   \n65211        Cristian Balaj   \n65212       Allard Lindhout   \n65213        Anthony Taylor   \n65215            David Webb   \n\n                                                     url  home_club_formation  \\\n0      https://www.transfermarkt.co.uk/terek-grozny_s...                  NaN   \n1      https://www.transfermarkt.co.uk/krylya-sovetov...                  NaN   \n2      https://www.transfermarkt.co.uk/cska-moscow_di...                  NaN   \n3      https://www.transfermarkt.co.uk/lokomotiv-mosc...                  NaN   \n4      https://www.transfermarkt.co.uk/krylya-sovetov...                  NaN   \n...                                                  ...                  ...   \n65210  https://www.transfermarkt.co.uk/spielbericht/i...                  NaN   \n65211  https://www.transfermarkt.co.uk/spielbericht/i...                  NaN   \n65212  https://www.transfermarkt.co.uk/spielbericht/i...                  NaN   \n65213  https://www.transfermarkt.co.uk/spielbericht/i...                  NaN   \n65215  https://www.transfermarkt.co.uk/spielbericht/i...                  NaN   \n\n      away_club_formation                                     home_club_name  \\\n0                     NaN                                  RFK Akhmat Grozny   \n1                     NaN                          PFK Krylya Sovetov Samara   \n2                     NaN                                    PFK CSKA Moskva   \n3                     NaN                 Футбольный клуб \"Локомотив\" Москва   \n4                     NaN                          PFK Krylya Sovetov Samara   \n...                   ...                                                ...   \n65210                 NaN                           Motherwell Football Club   \n65211                 NaN  Eindhovense Voetbalvereniging Philips Sport Ve...   \n65212                 NaN  Eindhovense Voetbalvereniging Philips Sport Ve...   \n65213                 NaN  Eindhovense Voetbalvereniging Philips Sport Ve...   \n65215                 NaN                                         Stoke City   \n\n                        away_club_name aggregate   competition_type  \n0                    FK Spartak Moskva       2:1    domestic_league  \n1                           Amkar Perm       0:2    domestic_league  \n2                     FK Dinamo Moskva       0:2    domestic_league  \n3                       FC Rubin Kazan       1:0    domestic_league  \n4      Volga Nizhniy Novgorod (- 2016)       0:1    domestic_league  \n...                                ...       ...                ...  \n65210                              NaN       2:1       domestic_cup  \n65211                              NaN       2:0  international_cup  \n65212                              NaN       6:0       domestic_cup  \n65213                              NaN       3:0  international_cup  \n65215                              NaN       3:1       domestic_cup  \n\n[62347 rows x 23 columns]",
      "text/html": "<div>\n<style scoped>\n    .dataframe tbody tr th:only-of-type {\n        vertical-align: middle;\n    }\n\n    .dataframe tbody tr th {\n        vertical-align: top;\n    }\n\n    .dataframe thead th {\n        text-align: right;\n    }\n</style>\n<table border=\"1\" class=\"dataframe\">\n  <thead>\n    <tr style=\"text-align: right;\">\n      <th></th>\n      <th>game_id</th>\n      <th>competition_id</th>\n      <th>season</th>\n      <th>round</th>\n      <th>date</th>\n      <th>home_club_id</th>\n      <th>away_club_id</th>\n      <th>home_club_goals</th>\n      <th>away_club_goals</th>\n      <th>home_club_position</th>\n      <th>...</th>\n      <th>stadium</th>\n      <th>attendance</th>\n      <th>referee</th>\n      <th>url</th>\n      <th>home_club_formation</th>\n      <th>away_club_formation</th>\n      <th>home_club_name</th>\n      <th>away_club_name</th>\n      <th>aggregate</th>\n      <th>competition_type</th>\n    </tr>\n  </thead>\n  <tbody>\n    <tr>\n      <th>0</th>\n      <td>2222597</td>\n      <td>RU1</td>\n      <td>2012</td>\n      <td>6. Matchday</td>\n      <td>2012-08-25</td>\n      <td>3725</td>\n      <td>232</td>\n      <td>2</td>\n      <td>1</td>\n      <td>2.0</td>\n      <td>...</td>\n      <td>Akhmat-Arena</td>\n      <td>21700.0</td>\n      <td>Vladislav Bezborodov</td>\n      <td>https://www.transfermarkt.co.uk/terek-grozny_s...</td>\n      <td>NaN</td>\n      <td>NaN</td>\n      <td>RFK Akhmat Grozny</td>\n      <td>FK Spartak Moskva</td>\n      <td>2:1</td>\n      <td>domestic_league</td>\n    </tr>\n    <tr>\n      <th>1</th>\n      <td>2222627</td>\n      <td>RU1</td>\n      <td>2012</td>\n      <td>5. Matchday</td>\n      <td>2012-08-20</td>\n      <td>2696</td>\n      <td>4128</td>\n      <td>0</td>\n      <td>2</td>\n      <td>11.0</td>\n      <td>...</td>\n      <td>Metallurg</td>\n      <td>11400.0</td>\n      <td>Sergey Ivanov</td>\n      <td>https://www.transfermarkt.co.uk/krylya-sovetov...</td>\n      <td>NaN</td>\n      <td>NaN</td>\n      <td>PFK Krylya Sovetov Samara</td>\n      <td>Amkar Perm</td>\n      <td>0:2</td>\n      <td>domestic_league</td>\n    </tr>\n    <tr>\n      <th>2</th>\n      <td>2222658</td>\n      <td>RU1</td>\n      <td>2012</td>\n      <td>10. Matchday</td>\n      <td>2012-09-30</td>\n      <td>2410</td>\n      <td>121</td>\n      <td>0</td>\n      <td>2</td>\n      <td>2.0</td>\n      <td>...</td>\n      <td>Arena Khimki</td>\n      <td>12000.0</td>\n      <td>Sergey Karasev</td>\n      <td>https://www.transfermarkt.co.uk/cska-moscow_di...</td>\n      <td>NaN</td>\n      <td>NaN</td>\n      <td>PFK CSKA Moskva</td>\n      <td>FK Dinamo Moskva</td>\n      <td>0:2</td>\n      <td>domestic_league</td>\n    </tr>\n    <tr>\n      <th>3</th>\n      <td>2222664</td>\n      <td>RU1</td>\n      <td>2012</td>\n      <td>8. Matchday</td>\n      <td>2012-09-15</td>\n      <td>932</td>\n      <td>2698</td>\n      <td>1</td>\n      <td>0</td>\n      <td>5.0</td>\n      <td>...</td>\n      <td>RZD Arena</td>\n      <td>11408.0</td>\n      <td>Sergey Karasev</td>\n      <td>https://www.transfermarkt.co.uk/lokomotiv-mosc...</td>\n      <td>NaN</td>\n      <td>NaN</td>\n      <td>Футбольный клуб \"Локомотив\" Москва</td>\n      <td>FC Rubin Kazan</td>\n      <td>1:0</td>\n      <td>domestic_league</td>\n    </tr>\n    <tr>\n      <th>4</th>\n      <td>2222683</td>\n      <td>RU1</td>\n      <td>2012</td>\n      <td>12. Matchday</td>\n      <td>2012-10-22</td>\n      <td>2696</td>\n      <td>12438</td>\n      <td>0</td>\n      <td>1</td>\n      <td>11.0</td>\n      <td>...</td>\n      <td>Metallurg</td>\n      <td>7534.0</td>\n      <td>Timur Arslanbekov</td>\n      <td>https://www.transfermarkt.co.uk/krylya-sovetov...</td>\n      <td>NaN</td>\n      <td>NaN</td>\n      <td>PFK Krylya Sovetov Samara</td>\n      <td>Volga Nizhniy Novgorod (- 2016)</td>\n      <td>0:1</td>\n      <td>domestic_league</td>\n    </tr>\n    <tr>\n      <th>...</th>\n      <td>...</td>\n      <td>...</td>\n      <td>...</td>\n      <td>...</td>\n      <td>...</td>\n      <td>...</td>\n      <td>...</td>\n      <td>...</td>\n      <td>...</td>\n      <td>...</td>\n      <td>...</td>\n      <td>...</td>\n      <td>...</td>\n      <td>...</td>\n      <td>...</td>\n      <td>...</td>\n      <td>...</td>\n      <td>...</td>\n      <td>...</td>\n      <td>...</td>\n      <td>...</td>\n    </tr>\n    <tr>\n      <th>65210</th>\n      <td>3705086</td>\n      <td>SFA</td>\n      <td>2021</td>\n      <td>Fourth Round</td>\n      <td>2022-01-22</td>\n      <td>987</td>\n      <td>3026</td>\n      <td>2</td>\n      <td>1</td>\n      <td>NaN</td>\n      <td>...</td>\n      <td>Fir Park</td>\n      <td>4735.0</td>\n      <td>Nick Walsh</td>\n      <td>https://www.transfermarkt.co.uk/spielbericht/i...</td>\n      <td>NaN</td>\n      <td>NaN</td>\n      <td>Motherwell Football Club</td>\n      <td>NaN</td>\n      <td>2:1</td>\n      <td>domestic_cup</td>\n    </tr>\n    <tr>\n      <th>65211</th>\n      <td>2367292</td>\n      <td>EL</td>\n      <td>2013</td>\n      <td>Group B</td>\n      <td>2013-11-07</td>\n      <td>383</td>\n      <td>419</td>\n      <td>2</td>\n      <td>0</td>\n      <td>NaN</td>\n      <td>...</td>\n      <td>Philips Stadion</td>\n      <td>10000.0</td>\n      <td>Cristian Balaj</td>\n      <td>https://www.transfermarkt.co.uk/spielbericht/i...</td>\n      <td>NaN</td>\n      <td>NaN</td>\n      <td>Eindhovense Voetbalvereniging Philips Sport Ve...</td>\n      <td>NaN</td>\n      <td>2:0</td>\n      <td>international_cup</td>\n    </tr>\n    <tr>\n      <th>65212</th>\n      <td>2629035</td>\n      <td>NLP</td>\n      <td>2015</td>\n      <td>Third Round</td>\n      <td>2015-10-27</td>\n      <td>383</td>\n      <td>16866</td>\n      <td>6</td>\n      <td>0</td>\n      <td>NaN</td>\n      <td>...</td>\n      <td>Philips Stadion</td>\n      <td>31000.0</td>\n      <td>Allard Lindhout</td>\n      <td>https://www.transfermarkt.co.uk/spielbericht/i...</td>\n      <td>NaN</td>\n      <td>NaN</td>\n      <td>Eindhovense Voetbalvereniging Philips Sport Ve...</td>\n      <td>NaN</td>\n      <td>6:0</td>\n      <td>domestic_cup</td>\n    </tr>\n    <tr>\n      <th>65213</th>\n      <td>3092951</td>\n      <td>CLQ</td>\n      <td>2018</td>\n      <td>Qualifying Round 2nd leg</td>\n      <td>2018-08-29</td>\n      <td>383</td>\n      <td>713</td>\n      <td>3</td>\n      <td>0</td>\n      <td>NaN</td>\n      <td>...</td>\n      <td>Philips Stadion</td>\n      <td>34200.0</td>\n      <td>Anthony Taylor</td>\n      <td>https://www.transfermarkt.co.uk/spielbericht/i...</td>\n      <td>NaN</td>\n      <td>NaN</td>\n      <td>Eindhovense Voetbalvereniging Philips Sport Ve...</td>\n      <td>NaN</td>\n      <td>3:0</td>\n      <td>international_cup</td>\n    </tr>\n    <tr>\n      <th>65215</th>\n      <td>4013659</td>\n      <td>FAC</td>\n      <td>2022</td>\n      <td>Fourth Round</td>\n      <td>2023-01-29</td>\n      <td>512</td>\n      <td>3684</td>\n      <td>3</td>\n      <td>1</td>\n      <td>NaN</td>\n      <td>...</td>\n      <td>bet365 Stadium</td>\n      <td>14392.0</td>\n      <td>David Webb</td>\n      <td>https://www.transfermarkt.co.uk/spielbericht/i...</td>\n      <td>NaN</td>\n      <td>NaN</td>\n      <td>Stoke City</td>\n      <td>NaN</td>\n      <td>3:1</td>\n      <td>domestic_cup</td>\n    </tr>\n  </tbody>\n</table>\n<p>62347 rows × 23 columns</p>\n</div>"
     },
     "execution_count": 62,
     "metadata": {},
     "output_type": "execute_result"
    }
   ],
   "source": [
    "gms[gms[\"home_club_formation\"].isnull()]"
   ],
   "metadata": {
    "collapsed": false,
    "ExecuteTime": {
     "end_time": "2023-12-22T15:16:46.044993200Z",
     "start_time": "2023-12-22T15:16:45.954552900Z"
    }
   },
   "id": "2346094cefad5b50"
  },
  {
   "cell_type": "code",
   "execution_count": 64,
   "outputs": [
    {
     "data": {
      "text/plain": "30"
     },
     "execution_count": 64,
     "metadata": {},
     "output_type": "execute_result"
    }
   ],
   "source": [
    "\n",
    "\n",
    "valori_colonna1_con_null = gms.loc[gms['home_club_position'].isnull(), 'competition_id']\n",
    "len(valori_colonna1_con_null.unique())\n"
   ],
   "metadata": {
    "collapsed": false,
    "ExecuteTime": {
     "end_time": "2023-12-22T15:21:57.829929700Z",
     "start_time": "2023-12-22T15:21:57.802175Z"
    }
   },
   "id": "33c6962554bc5bfd"
  },
  {
   "cell_type": "markdown",
   "source": [
    "## <font color='green'>clubs</font> table"
   ],
   "metadata": {
    "collapsed": false
   },
   "id": "a799385ee1447760"
  },
  {
   "cell_type": "code",
   "execution_count": 66,
   "outputs": [
    {
     "data": {
      "text/plain": "    club_id            club_code  \\\n0       105      sv-darmstadt-98   \n1     11127    ural-ekaterinburg   \n2       114    besiktas-istanbul   \n3        12               as-rom   \n4       148    tottenham-hotspur   \n5       157             kaa-gent   \n6      1894          hvidovre-if   \n7       190        fc-kopenhagen   \n8       192     roda-jc-kerkrade   \n9     19789     yeni-malatyaspor   \n10     2079            veria-nps   \n11    21957         ao-platanias   \n12     2414           ac-horsens   \n13     2457       belenenses-sad   \n14     2578      st-johnstone-fc   \n15     2727  oud-heverlee-leuven   \n16    28643     waasland-beveren   \n17     2990    academica-coimbra   \n18     3057     standard-luttich   \n19     3690       ska-khabarovsk   \n20     4795     fc-ingolstadt-04   \n21      511            dundee-fc   \n22     5358            sd-huesca   \n23      603         cardiff-city   \n24    60551          sk-dnipro-1   \n25     6996     goverla-uzhgorod   \n26     8024            fc-arouca   \n27      868       mke-ankaragucu   \n28      903         hibernian-fc   \n29      969      montpellier-hsc   \n30      989      afc-bournemouth   \n31      993           fc-cordoba   \n32     1025           fc-bologna   \n33     1082           losc-lille   \n34     1160      nimes-olympique   \n35    11688          giresunspor   \n36      124      glasgow-rangers   \n37     1465     gd-estoril-praia   \n38     2477         karpaty-lviv   \n39     2553        kilmarnock-fc   \n\n                                                 name domestic_competition_id  \\\n0                    Sportverein Darmstadt 1898 e. V.                      L1   \n1                               FK Ural Yekaterinburg                     RU1   \n2                           Beşiktaş Jimnastik Kulübü                     TR1   \n3                          Associazione Sportiva Roma                     IT1   \n4                     Tottenham Hotspur Football Club                     GB1   \n5                Koninklijke Atletiek Associatie Gent                     BE1   \n6                             Hvidovre Idrætsforening                     DK1   \n7                             Football Club København                     DK1   \n8                                    Roda JC Kerkrade                     NL1   \n9                                    Yeni Malatyaspor                     TR1   \n10                                          Veria NPS                     GR1   \n11                                       AO Platanias                     GR1   \n12                                         AC Horsens                     DK1   \n13                                              B SAD                     PO1   \n14                      Saint Johnstone Football Club                     SC1   \n15                                Oud-Heverlee Leuven                     BE1   \n16                                         SK Beveren                     BE1   \n17                                  Académica Coimbra                     PO1   \n18                       Royal Standard Club de Liège                     BE1   \n19                                     SKA Khabarovsk                     RU1   \n20                                   FC Ingolstadt 04                      L1   \n21                               Dundee Football Club                     SC1   \n22                                          SD Huesca                     ES1   \n23                                       Cardiff City                     GB1   \n24                                Sport Klub Dnipro-1                    UKR1   \n25                          Goverla Uzhgorod (- 2016)                    UKR1   \n26                            Futebol Clube de Arouca                     PO1   \n27  Makina ve Kimya Endüstrisi Ankaragücü Spor Kulübü                     TR1   \n28                            Hibernian Football Club                     SC1   \n29                     Montpellier Hérault Sport Club                     FR1   \n30              Association Football Club Bournemouth                     GB1   \n31                                         Córdoba CF                     ES1   \n32                         Bologna Football Club 1909                     IT1   \n33      Lille Olympique Sporting Club Lille Métropole                     FR1   \n34                                    Nîmes Olympique                     FR1   \n35                                        Giresunspor                     TR1   \n36                              Rangers Football Club                     SC1   \n37                     Grupo Desportivo Estoril Praia                     PO1   \n38                               Karpaty Lviv (-2021)                    UKR1   \n39                           Kilmarnock Football Club                     SC1   \n\n    total_market_value  squad_size  average_age  foreigners_number  \\\n0                  NaN          30         26.4                 11   \n1                  NaN          25         28.2                 13   \n2                  NaN          32         27.4                 16   \n3                  NaN          26         27.4                 17   \n4                  NaN          29         26.2                 21   \n5                  NaN          25         25.7                 13   \n6                  NaN          30         27.1                  4   \n7                  NaN          28         25.4                 14   \n8                  NaN          25         24.0                  9   \n9                  NaN          10         22.9                  1   \n10                 NaN          29         24.3                  4   \n11                 NaN           0          NaN                  0   \n12                 NaN          19         25.1                  9   \n13                 NaN          25         24.2                 13   \n14                 NaN          28         26.9                 16   \n15                 NaN          27         24.9                 16   \n16                 NaN          27         26.8                 16   \n17                 NaN          26         25.2                  6   \n18                 NaN          26         24.6                 16   \n19                 NaN          27         25.7                  4   \n20                 NaN          28         24.3                  8   \n21                 NaN          24         25.9                 13   \n22                 NaN          24         27.5                  8   \n23                 NaN          28         25.5                 24   \n24                 NaN          27         26.9                  5   \n25                 NaN           0          NaN                  0   \n26                 NaN          28         25.9                 21   \n27                 NaN          28         27.3                 17   \n28                 NaN          24         27.5                 19   \n29                 NaN          23         25.7                 12   \n30                 NaN          29         26.4                 20   \n31                 NaN          24         27.9                  4   \n32                 NaN          26         25.3                 18   \n33                 NaN          24         26.1                 17   \n34                 NaN          26         25.4                 12   \n35                 NaN          17         22.5                  1   \n36                 NaN          30         27.4                 22   \n37                 NaN          29         24.8                 17   \n38                 NaN           0          NaN                  0   \n39                 NaN          23         25.8                 11   \n\n    foreigners_percentage  national_team_players  \\\n0                    36.7                      1   \n1                    52.0                      5   \n2                    50.0                     13   \n3                    65.4                     17   \n4                    72.4                     22   \n5                    52.0                      8   \n6                    13.3                      2   \n7                    50.0                      8   \n8                    36.0                      0   \n9                    10.0                      0   \n10                   13.8                      0   \n11                    NaN                      0   \n12                   47.4                      4   \n13                   52.0                      4   \n14                   57.1                      3   \n15                   59.3                      3   \n16                   59.3                      3   \n17                   23.1                      0   \n18                   61.5                     10   \n19                   14.8                      0   \n20                   28.6                      1   \n21                   54.2                      3   \n22                   33.3                      2   \n23                   85.7                      8   \n24                   18.5                      4   \n25                    NaN                      0   \n26                   75.0                      1   \n27                   60.7                      6   \n28                   79.2                      5   \n29                   52.2                      6   \n30                   69.0                     14   \n31                   16.7                      0   \n32                   69.2                     13   \n33                   70.8                      7   \n34                   46.2                      3   \n35                    5.9                      1   \n36                   73.3                      8   \n37                   58.6                      2   \n38                    NaN                      0   \n39                   47.8                      2   \n\n                           stadium_name  stadium_seats net_transfer_record  \\\n0        Merck-Stadion am Böllenfalltor          17810             €-1.60m   \n1                   Yekaterinburg Arena          23000              €-770k   \n2                       Tüpraş Stadyumu          42590            €-14.50m   \n3                      Olimpico di Roma          73261            +€65.20m   \n4             Tottenham Hotspur Stadium          62062           €-130.40m   \n5                        Ghelamco Arena          19999             +€2.52m   \n6                 PRO VENTILATION Arena          12000              +€335k   \n7                                Parken          38065             +€9.63m   \n8              Parkstad Limburg Stadion          19979             +€1.30m   \n9                 Yeni Malatya Stadyumu          25745              +€778k   \n10               Dimotiko Stadio Verias           6350                 +-0   \n11            Dimotiko Gipedo Perivolia           3700                 +-0   \n12              Nordstern Arena Horsens          10400                 +-0   \n13            Estádio Nacional do Jamor          37593             +€1.80m   \n14                       McDiarmid Park          10696                 +-0   \n15      King Power at Den Dreef Stadion          10020                 +-0   \n16                     Freethielstadion          13290              €-350k   \n17            Estádio Cidade de Coimbra          29744              +€150k   \n18             Maurice Dufrasne Stadion          27670             +€1.30m   \n19                        Lenin Stadion          15200               €-93k   \n20                       Audi Sportpark          15800             +€1.55m   \n21          Kilmac Stadium at Dens Park          11850                 +-0   \n22                           El Alcoraz           9128             +€1.43m   \n23                 Cardiff City Stadium          33280              €-655k   \n24                         Dnipro-Arena          31003             +€5.62m   \n25                             Avangard          10640                 +-0   \n26          Estádio Municipal de Arouca           5600             +€5.24m   \n27                     Eryaman Stadyumu          20560             €-3.35m   \n28                  Easter Road Stadium          20250              +€510k   \n29                   Stade de la Mosson          32939            +€31.80m   \n30                     Vitality Stadium          11329           €-126.19m   \n31                       Nuevo Arcángel          21822                 +-0   \n32               Stadio Renato Dall’Ara          36462            €-18.50m   \n33  Decathlon Arena-Stade Pierre-Mauroy          50186             +€8.10m   \n34                   Stade des Antonins           8033             +€2.50m   \n35               Çotanak Spor Kompleksi          21500                 +-0   \n36                        Ibrox Stadium          50987             €-2.85m   \n37      Estádio António Coimbra da Mota           5000             +€8.00m   \n38                      Stadion Ukraina          28051                 +-0   \n39             BBSP Stadium, Rugby Park          18128                 +-0   \n\n    coach_name  last_season                                                url  \n0          NaN         2023  https://www.transfermarkt.co.uk/sv-darmstadt-9...  \n1          NaN         2023  https://www.transfermarkt.co.uk/ural-ekaterinb...  \n2          NaN         2023  https://www.transfermarkt.co.uk/besiktas-istan...  \n3          NaN         2023  https://www.transfermarkt.co.uk/as-rom/startse...  \n4          NaN         2023  https://www.transfermarkt.co.uk/tottenham-hots...  \n5          NaN         2023  https://www.transfermarkt.co.uk/kaa-gent/start...  \n6          NaN         2023  https://www.transfermarkt.co.uk/hvidovre-if/st...  \n7          NaN         2023  https://www.transfermarkt.co.uk/fc-kopenhagen/...  \n8          NaN         2017  https://www.transfermarkt.co.uk/roda-jc-kerkra...  \n9          NaN         2021  https://www.transfermarkt.co.uk/yeni-malatyasp...  \n10         NaN         2016  https://www.transfermarkt.co.uk/veria-nps/star...  \n11         NaN         2017  https://www.transfermarkt.co.uk/ao-platanias/s...  \n12         NaN         2022  https://www.transfermarkt.co.uk/ac-horsens/sta...  \n13         NaN         2021  https://www.transfermarkt.co.uk/belenenses-sad...  \n14         NaN         2023  https://www.transfermarkt.co.uk/st-johnstone-f...  \n15         NaN         2023  https://www.transfermarkt.co.uk/oud-heverlee-l...  \n16         NaN         2020  https://www.transfermarkt.co.uk/waasland-bever...  \n17         NaN         2015  https://www.transfermarkt.co.uk/academica-coim...  \n18         NaN         2023  https://www.transfermarkt.co.uk/standard-lutti...  \n19         NaN         2017  https://www.transfermarkt.co.uk/ska-khabarovsk...  \n20         NaN         2016  https://www.transfermarkt.co.uk/fc-ingolstadt-...  \n21         NaN         2023  https://www.transfermarkt.co.uk/dundee-fc/star...  \n22         NaN         2020  https://www.transfermarkt.co.uk/sd-huesca/star...  \n23         NaN         2018  https://www.transfermarkt.co.uk/cardiff-city/s...  \n24         NaN         2023  https://www.transfermarkt.co.uk/sk-dnipro-1/st...  \n25         NaN         2015  https://www.transfermarkt.co.uk/goverla-uzhgor...  \n26         NaN         2023  https://www.transfermarkt.co.uk/fc-arouca/star...  \n27         NaN         2023  https://www.transfermarkt.co.uk/mke-ankaragucu...  \n28         NaN         2023  https://www.transfermarkt.co.uk/hibernian-fc/s...  \n29         NaN         2023  https://www.transfermarkt.co.uk/montpellier-hs...  \n30         NaN         2023  https://www.transfermarkt.co.uk/afc-bournemout...  \n31         NaN         2014  https://www.transfermarkt.co.uk/fc-cordoba/sta...  \n32         NaN         2023  https://www.transfermarkt.co.uk/fc-bologna/sta...  \n33         NaN         2023  https://www.transfermarkt.co.uk/losc-lille/sta...  \n34         NaN         2020  https://www.transfermarkt.co.uk/nimes-olympiqu...  \n35         NaN         2022  https://www.transfermarkt.co.uk/giresunspor/st...  \n36         NaN         2023  https://www.transfermarkt.co.uk/glasgow-ranger...  \n37         NaN         2023  https://www.transfermarkt.co.uk/gd-estoril-pra...  \n38         NaN         2019  https://www.transfermarkt.co.uk/karpaty-lviv/s...  \n39         NaN         2023  https://www.transfermarkt.co.uk/kilmarnock-fc/...  ",
      "text/html": "<div>\n<style scoped>\n    .dataframe tbody tr th:only-of-type {\n        vertical-align: middle;\n    }\n\n    .dataframe tbody tr th {\n        vertical-align: top;\n    }\n\n    .dataframe thead th {\n        text-align: right;\n    }\n</style>\n<table border=\"1\" class=\"dataframe\">\n  <thead>\n    <tr style=\"text-align: right;\">\n      <th></th>\n      <th>club_id</th>\n      <th>club_code</th>\n      <th>name</th>\n      <th>domestic_competition_id</th>\n      <th>total_market_value</th>\n      <th>squad_size</th>\n      <th>average_age</th>\n      <th>foreigners_number</th>\n      <th>foreigners_percentage</th>\n      <th>national_team_players</th>\n      <th>stadium_name</th>\n      <th>stadium_seats</th>\n      <th>net_transfer_record</th>\n      <th>coach_name</th>\n      <th>last_season</th>\n      <th>url</th>\n    </tr>\n  </thead>\n  <tbody>\n    <tr>\n      <th>0</th>\n      <td>105</td>\n      <td>sv-darmstadt-98</td>\n      <td>Sportverein Darmstadt 1898 e. V.</td>\n      <td>L1</td>\n      <td>NaN</td>\n      <td>30</td>\n      <td>26.4</td>\n      <td>11</td>\n      <td>36.7</td>\n      <td>1</td>\n      <td>Merck-Stadion am Böllenfalltor</td>\n      <td>17810</td>\n      <td>€-1.60m</td>\n      <td>NaN</td>\n      <td>2023</td>\n      <td>https://www.transfermarkt.co.uk/sv-darmstadt-9...</td>\n    </tr>\n    <tr>\n      <th>1</th>\n      <td>11127</td>\n      <td>ural-ekaterinburg</td>\n      <td>FK Ural Yekaterinburg</td>\n      <td>RU1</td>\n      <td>NaN</td>\n      <td>25</td>\n      <td>28.2</td>\n      <td>13</td>\n      <td>52.0</td>\n      <td>5</td>\n      <td>Yekaterinburg Arena</td>\n      <td>23000</td>\n      <td>€-770k</td>\n      <td>NaN</td>\n      <td>2023</td>\n      <td>https://www.transfermarkt.co.uk/ural-ekaterinb...</td>\n    </tr>\n    <tr>\n      <th>2</th>\n      <td>114</td>\n      <td>besiktas-istanbul</td>\n      <td>Beşiktaş Jimnastik Kulübü</td>\n      <td>TR1</td>\n      <td>NaN</td>\n      <td>32</td>\n      <td>27.4</td>\n      <td>16</td>\n      <td>50.0</td>\n      <td>13</td>\n      <td>Tüpraş Stadyumu</td>\n      <td>42590</td>\n      <td>€-14.50m</td>\n      <td>NaN</td>\n      <td>2023</td>\n      <td>https://www.transfermarkt.co.uk/besiktas-istan...</td>\n    </tr>\n    <tr>\n      <th>3</th>\n      <td>12</td>\n      <td>as-rom</td>\n      <td>Associazione Sportiva Roma</td>\n      <td>IT1</td>\n      <td>NaN</td>\n      <td>26</td>\n      <td>27.4</td>\n      <td>17</td>\n      <td>65.4</td>\n      <td>17</td>\n      <td>Olimpico di Roma</td>\n      <td>73261</td>\n      <td>+€65.20m</td>\n      <td>NaN</td>\n      <td>2023</td>\n      <td>https://www.transfermarkt.co.uk/as-rom/startse...</td>\n    </tr>\n    <tr>\n      <th>4</th>\n      <td>148</td>\n      <td>tottenham-hotspur</td>\n      <td>Tottenham Hotspur Football Club</td>\n      <td>GB1</td>\n      <td>NaN</td>\n      <td>29</td>\n      <td>26.2</td>\n      <td>21</td>\n      <td>72.4</td>\n      <td>22</td>\n      <td>Tottenham Hotspur Stadium</td>\n      <td>62062</td>\n      <td>€-130.40m</td>\n      <td>NaN</td>\n      <td>2023</td>\n      <td>https://www.transfermarkt.co.uk/tottenham-hots...</td>\n    </tr>\n    <tr>\n      <th>5</th>\n      <td>157</td>\n      <td>kaa-gent</td>\n      <td>Koninklijke Atletiek Associatie Gent</td>\n      <td>BE1</td>\n      <td>NaN</td>\n      <td>25</td>\n      <td>25.7</td>\n      <td>13</td>\n      <td>52.0</td>\n      <td>8</td>\n      <td>Ghelamco Arena</td>\n      <td>19999</td>\n      <td>+€2.52m</td>\n      <td>NaN</td>\n      <td>2023</td>\n      <td>https://www.transfermarkt.co.uk/kaa-gent/start...</td>\n    </tr>\n    <tr>\n      <th>6</th>\n      <td>1894</td>\n      <td>hvidovre-if</td>\n      <td>Hvidovre Idrætsforening</td>\n      <td>DK1</td>\n      <td>NaN</td>\n      <td>30</td>\n      <td>27.1</td>\n      <td>4</td>\n      <td>13.3</td>\n      <td>2</td>\n      <td>PRO VENTILATION Arena</td>\n      <td>12000</td>\n      <td>+€335k</td>\n      <td>NaN</td>\n      <td>2023</td>\n      <td>https://www.transfermarkt.co.uk/hvidovre-if/st...</td>\n    </tr>\n    <tr>\n      <th>7</th>\n      <td>190</td>\n      <td>fc-kopenhagen</td>\n      <td>Football Club København</td>\n      <td>DK1</td>\n      <td>NaN</td>\n      <td>28</td>\n      <td>25.4</td>\n      <td>14</td>\n      <td>50.0</td>\n      <td>8</td>\n      <td>Parken</td>\n      <td>38065</td>\n      <td>+€9.63m</td>\n      <td>NaN</td>\n      <td>2023</td>\n      <td>https://www.transfermarkt.co.uk/fc-kopenhagen/...</td>\n    </tr>\n    <tr>\n      <th>8</th>\n      <td>192</td>\n      <td>roda-jc-kerkrade</td>\n      <td>Roda JC Kerkrade</td>\n      <td>NL1</td>\n      <td>NaN</td>\n      <td>25</td>\n      <td>24.0</td>\n      <td>9</td>\n      <td>36.0</td>\n      <td>0</td>\n      <td>Parkstad Limburg Stadion</td>\n      <td>19979</td>\n      <td>+€1.30m</td>\n      <td>NaN</td>\n      <td>2017</td>\n      <td>https://www.transfermarkt.co.uk/roda-jc-kerkra...</td>\n    </tr>\n    <tr>\n      <th>9</th>\n      <td>19789</td>\n      <td>yeni-malatyaspor</td>\n      <td>Yeni Malatyaspor</td>\n      <td>TR1</td>\n      <td>NaN</td>\n      <td>10</td>\n      <td>22.9</td>\n      <td>1</td>\n      <td>10.0</td>\n      <td>0</td>\n      <td>Yeni Malatya Stadyumu</td>\n      <td>25745</td>\n      <td>+€778k</td>\n      <td>NaN</td>\n      <td>2021</td>\n      <td>https://www.transfermarkt.co.uk/yeni-malatyasp...</td>\n    </tr>\n    <tr>\n      <th>10</th>\n      <td>2079</td>\n      <td>veria-nps</td>\n      <td>Veria NPS</td>\n      <td>GR1</td>\n      <td>NaN</td>\n      <td>29</td>\n      <td>24.3</td>\n      <td>4</td>\n      <td>13.8</td>\n      <td>0</td>\n      <td>Dimotiko Stadio Verias</td>\n      <td>6350</td>\n      <td>+-0</td>\n      <td>NaN</td>\n      <td>2016</td>\n      <td>https://www.transfermarkt.co.uk/veria-nps/star...</td>\n    </tr>\n    <tr>\n      <th>11</th>\n      <td>21957</td>\n      <td>ao-platanias</td>\n      <td>AO Platanias</td>\n      <td>GR1</td>\n      <td>NaN</td>\n      <td>0</td>\n      <td>NaN</td>\n      <td>0</td>\n      <td>NaN</td>\n      <td>0</td>\n      <td>Dimotiko Gipedo Perivolia</td>\n      <td>3700</td>\n      <td>+-0</td>\n      <td>NaN</td>\n      <td>2017</td>\n      <td>https://www.transfermarkt.co.uk/ao-platanias/s...</td>\n    </tr>\n    <tr>\n      <th>12</th>\n      <td>2414</td>\n      <td>ac-horsens</td>\n      <td>AC Horsens</td>\n      <td>DK1</td>\n      <td>NaN</td>\n      <td>19</td>\n      <td>25.1</td>\n      <td>9</td>\n      <td>47.4</td>\n      <td>4</td>\n      <td>Nordstern Arena Horsens</td>\n      <td>10400</td>\n      <td>+-0</td>\n      <td>NaN</td>\n      <td>2022</td>\n      <td>https://www.transfermarkt.co.uk/ac-horsens/sta...</td>\n    </tr>\n    <tr>\n      <th>13</th>\n      <td>2457</td>\n      <td>belenenses-sad</td>\n      <td>B SAD</td>\n      <td>PO1</td>\n      <td>NaN</td>\n      <td>25</td>\n      <td>24.2</td>\n      <td>13</td>\n      <td>52.0</td>\n      <td>4</td>\n      <td>Estádio Nacional do Jamor</td>\n      <td>37593</td>\n      <td>+€1.80m</td>\n      <td>NaN</td>\n      <td>2021</td>\n      <td>https://www.transfermarkt.co.uk/belenenses-sad...</td>\n    </tr>\n    <tr>\n      <th>14</th>\n      <td>2578</td>\n      <td>st-johnstone-fc</td>\n      <td>Saint Johnstone Football Club</td>\n      <td>SC1</td>\n      <td>NaN</td>\n      <td>28</td>\n      <td>26.9</td>\n      <td>16</td>\n      <td>57.1</td>\n      <td>3</td>\n      <td>McDiarmid Park</td>\n      <td>10696</td>\n      <td>+-0</td>\n      <td>NaN</td>\n      <td>2023</td>\n      <td>https://www.transfermarkt.co.uk/st-johnstone-f...</td>\n    </tr>\n    <tr>\n      <th>15</th>\n      <td>2727</td>\n      <td>oud-heverlee-leuven</td>\n      <td>Oud-Heverlee Leuven</td>\n      <td>BE1</td>\n      <td>NaN</td>\n      <td>27</td>\n      <td>24.9</td>\n      <td>16</td>\n      <td>59.3</td>\n      <td>3</td>\n      <td>King Power at Den Dreef Stadion</td>\n      <td>10020</td>\n      <td>+-0</td>\n      <td>NaN</td>\n      <td>2023</td>\n      <td>https://www.transfermarkt.co.uk/oud-heverlee-l...</td>\n    </tr>\n    <tr>\n      <th>16</th>\n      <td>28643</td>\n      <td>waasland-beveren</td>\n      <td>SK Beveren</td>\n      <td>BE1</td>\n      <td>NaN</td>\n      <td>27</td>\n      <td>26.8</td>\n      <td>16</td>\n      <td>59.3</td>\n      <td>3</td>\n      <td>Freethielstadion</td>\n      <td>13290</td>\n      <td>€-350k</td>\n      <td>NaN</td>\n      <td>2020</td>\n      <td>https://www.transfermarkt.co.uk/waasland-bever...</td>\n    </tr>\n    <tr>\n      <th>17</th>\n      <td>2990</td>\n      <td>academica-coimbra</td>\n      <td>Académica Coimbra</td>\n      <td>PO1</td>\n      <td>NaN</td>\n      <td>26</td>\n      <td>25.2</td>\n      <td>6</td>\n      <td>23.1</td>\n      <td>0</td>\n      <td>Estádio Cidade de Coimbra</td>\n      <td>29744</td>\n      <td>+€150k</td>\n      <td>NaN</td>\n      <td>2015</td>\n      <td>https://www.transfermarkt.co.uk/academica-coim...</td>\n    </tr>\n    <tr>\n      <th>18</th>\n      <td>3057</td>\n      <td>standard-luttich</td>\n      <td>Royal Standard Club de Liège</td>\n      <td>BE1</td>\n      <td>NaN</td>\n      <td>26</td>\n      <td>24.6</td>\n      <td>16</td>\n      <td>61.5</td>\n      <td>10</td>\n      <td>Maurice Dufrasne Stadion</td>\n      <td>27670</td>\n      <td>+€1.30m</td>\n      <td>NaN</td>\n      <td>2023</td>\n      <td>https://www.transfermarkt.co.uk/standard-lutti...</td>\n    </tr>\n    <tr>\n      <th>19</th>\n      <td>3690</td>\n      <td>ska-khabarovsk</td>\n      <td>SKA Khabarovsk</td>\n      <td>RU1</td>\n      <td>NaN</td>\n      <td>27</td>\n      <td>25.7</td>\n      <td>4</td>\n      <td>14.8</td>\n      <td>0</td>\n      <td>Lenin Stadion</td>\n      <td>15200</td>\n      <td>€-93k</td>\n      <td>NaN</td>\n      <td>2017</td>\n      <td>https://www.transfermarkt.co.uk/ska-khabarovsk...</td>\n    </tr>\n    <tr>\n      <th>20</th>\n      <td>4795</td>\n      <td>fc-ingolstadt-04</td>\n      <td>FC Ingolstadt 04</td>\n      <td>L1</td>\n      <td>NaN</td>\n      <td>28</td>\n      <td>24.3</td>\n      <td>8</td>\n      <td>28.6</td>\n      <td>1</td>\n      <td>Audi Sportpark</td>\n      <td>15800</td>\n      <td>+€1.55m</td>\n      <td>NaN</td>\n      <td>2016</td>\n      <td>https://www.transfermarkt.co.uk/fc-ingolstadt-...</td>\n    </tr>\n    <tr>\n      <th>21</th>\n      <td>511</td>\n      <td>dundee-fc</td>\n      <td>Dundee Football Club</td>\n      <td>SC1</td>\n      <td>NaN</td>\n      <td>24</td>\n      <td>25.9</td>\n      <td>13</td>\n      <td>54.2</td>\n      <td>3</td>\n      <td>Kilmac Stadium at Dens Park</td>\n      <td>11850</td>\n      <td>+-0</td>\n      <td>NaN</td>\n      <td>2023</td>\n      <td>https://www.transfermarkt.co.uk/dundee-fc/star...</td>\n    </tr>\n    <tr>\n      <th>22</th>\n      <td>5358</td>\n      <td>sd-huesca</td>\n      <td>SD Huesca</td>\n      <td>ES1</td>\n      <td>NaN</td>\n      <td>24</td>\n      <td>27.5</td>\n      <td>8</td>\n      <td>33.3</td>\n      <td>2</td>\n      <td>El Alcoraz</td>\n      <td>9128</td>\n      <td>+€1.43m</td>\n      <td>NaN</td>\n      <td>2020</td>\n      <td>https://www.transfermarkt.co.uk/sd-huesca/star...</td>\n    </tr>\n    <tr>\n      <th>23</th>\n      <td>603</td>\n      <td>cardiff-city</td>\n      <td>Cardiff City</td>\n      <td>GB1</td>\n      <td>NaN</td>\n      <td>28</td>\n      <td>25.5</td>\n      <td>24</td>\n      <td>85.7</td>\n      <td>8</td>\n      <td>Cardiff City Stadium</td>\n      <td>33280</td>\n      <td>€-655k</td>\n      <td>NaN</td>\n      <td>2018</td>\n      <td>https://www.transfermarkt.co.uk/cardiff-city/s...</td>\n    </tr>\n    <tr>\n      <th>24</th>\n      <td>60551</td>\n      <td>sk-dnipro-1</td>\n      <td>Sport Klub Dnipro-1</td>\n      <td>UKR1</td>\n      <td>NaN</td>\n      <td>27</td>\n      <td>26.9</td>\n      <td>5</td>\n      <td>18.5</td>\n      <td>4</td>\n      <td>Dnipro-Arena</td>\n      <td>31003</td>\n      <td>+€5.62m</td>\n      <td>NaN</td>\n      <td>2023</td>\n      <td>https://www.transfermarkt.co.uk/sk-dnipro-1/st...</td>\n    </tr>\n    <tr>\n      <th>25</th>\n      <td>6996</td>\n      <td>goverla-uzhgorod</td>\n      <td>Goverla Uzhgorod (- 2016)</td>\n      <td>UKR1</td>\n      <td>NaN</td>\n      <td>0</td>\n      <td>NaN</td>\n      <td>0</td>\n      <td>NaN</td>\n      <td>0</td>\n      <td>Avangard</td>\n      <td>10640</td>\n      <td>+-0</td>\n      <td>NaN</td>\n      <td>2015</td>\n      <td>https://www.transfermarkt.co.uk/goverla-uzhgor...</td>\n    </tr>\n    <tr>\n      <th>26</th>\n      <td>8024</td>\n      <td>fc-arouca</td>\n      <td>Futebol Clube de Arouca</td>\n      <td>PO1</td>\n      <td>NaN</td>\n      <td>28</td>\n      <td>25.9</td>\n      <td>21</td>\n      <td>75.0</td>\n      <td>1</td>\n      <td>Estádio Municipal de Arouca</td>\n      <td>5600</td>\n      <td>+€5.24m</td>\n      <td>NaN</td>\n      <td>2023</td>\n      <td>https://www.transfermarkt.co.uk/fc-arouca/star...</td>\n    </tr>\n    <tr>\n      <th>27</th>\n      <td>868</td>\n      <td>mke-ankaragucu</td>\n      <td>Makina ve Kimya Endüstrisi Ankaragücü Spor Kulübü</td>\n      <td>TR1</td>\n      <td>NaN</td>\n      <td>28</td>\n      <td>27.3</td>\n      <td>17</td>\n      <td>60.7</td>\n      <td>6</td>\n      <td>Eryaman Stadyumu</td>\n      <td>20560</td>\n      <td>€-3.35m</td>\n      <td>NaN</td>\n      <td>2023</td>\n      <td>https://www.transfermarkt.co.uk/mke-ankaragucu...</td>\n    </tr>\n    <tr>\n      <th>28</th>\n      <td>903</td>\n      <td>hibernian-fc</td>\n      <td>Hibernian Football Club</td>\n      <td>SC1</td>\n      <td>NaN</td>\n      <td>24</td>\n      <td>27.5</td>\n      <td>19</td>\n      <td>79.2</td>\n      <td>5</td>\n      <td>Easter Road Stadium</td>\n      <td>20250</td>\n      <td>+€510k</td>\n      <td>NaN</td>\n      <td>2023</td>\n      <td>https://www.transfermarkt.co.uk/hibernian-fc/s...</td>\n    </tr>\n    <tr>\n      <th>29</th>\n      <td>969</td>\n      <td>montpellier-hsc</td>\n      <td>Montpellier Hérault Sport Club</td>\n      <td>FR1</td>\n      <td>NaN</td>\n      <td>23</td>\n      <td>25.7</td>\n      <td>12</td>\n      <td>52.2</td>\n      <td>6</td>\n      <td>Stade de la Mosson</td>\n      <td>32939</td>\n      <td>+€31.80m</td>\n      <td>NaN</td>\n      <td>2023</td>\n      <td>https://www.transfermarkt.co.uk/montpellier-hs...</td>\n    </tr>\n    <tr>\n      <th>30</th>\n      <td>989</td>\n      <td>afc-bournemouth</td>\n      <td>Association Football Club Bournemouth</td>\n      <td>GB1</td>\n      <td>NaN</td>\n      <td>29</td>\n      <td>26.4</td>\n      <td>20</td>\n      <td>69.0</td>\n      <td>14</td>\n      <td>Vitality Stadium</td>\n      <td>11329</td>\n      <td>€-126.19m</td>\n      <td>NaN</td>\n      <td>2023</td>\n      <td>https://www.transfermarkt.co.uk/afc-bournemout...</td>\n    </tr>\n    <tr>\n      <th>31</th>\n      <td>993</td>\n      <td>fc-cordoba</td>\n      <td>Córdoba CF</td>\n      <td>ES1</td>\n      <td>NaN</td>\n      <td>24</td>\n      <td>27.9</td>\n      <td>4</td>\n      <td>16.7</td>\n      <td>0</td>\n      <td>Nuevo Arcángel</td>\n      <td>21822</td>\n      <td>+-0</td>\n      <td>NaN</td>\n      <td>2014</td>\n      <td>https://www.transfermarkt.co.uk/fc-cordoba/sta...</td>\n    </tr>\n    <tr>\n      <th>32</th>\n      <td>1025</td>\n      <td>fc-bologna</td>\n      <td>Bologna Football Club 1909</td>\n      <td>IT1</td>\n      <td>NaN</td>\n      <td>26</td>\n      <td>25.3</td>\n      <td>18</td>\n      <td>69.2</td>\n      <td>13</td>\n      <td>Stadio Renato Dall’Ara</td>\n      <td>36462</td>\n      <td>€-18.50m</td>\n      <td>NaN</td>\n      <td>2023</td>\n      <td>https://www.transfermarkt.co.uk/fc-bologna/sta...</td>\n    </tr>\n    <tr>\n      <th>33</th>\n      <td>1082</td>\n      <td>losc-lille</td>\n      <td>Lille Olympique Sporting Club Lille Métropole</td>\n      <td>FR1</td>\n      <td>NaN</td>\n      <td>24</td>\n      <td>26.1</td>\n      <td>17</td>\n      <td>70.8</td>\n      <td>7</td>\n      <td>Decathlon Arena-Stade Pierre-Mauroy</td>\n      <td>50186</td>\n      <td>+€8.10m</td>\n      <td>NaN</td>\n      <td>2023</td>\n      <td>https://www.transfermarkt.co.uk/losc-lille/sta...</td>\n    </tr>\n    <tr>\n      <th>34</th>\n      <td>1160</td>\n      <td>nimes-olympique</td>\n      <td>Nîmes Olympique</td>\n      <td>FR1</td>\n      <td>NaN</td>\n      <td>26</td>\n      <td>25.4</td>\n      <td>12</td>\n      <td>46.2</td>\n      <td>3</td>\n      <td>Stade des Antonins</td>\n      <td>8033</td>\n      <td>+€2.50m</td>\n      <td>NaN</td>\n      <td>2020</td>\n      <td>https://www.transfermarkt.co.uk/nimes-olympiqu...</td>\n    </tr>\n    <tr>\n      <th>35</th>\n      <td>11688</td>\n      <td>giresunspor</td>\n      <td>Giresunspor</td>\n      <td>TR1</td>\n      <td>NaN</td>\n      <td>17</td>\n      <td>22.5</td>\n      <td>1</td>\n      <td>5.9</td>\n      <td>1</td>\n      <td>Çotanak Spor Kompleksi</td>\n      <td>21500</td>\n      <td>+-0</td>\n      <td>NaN</td>\n      <td>2022</td>\n      <td>https://www.transfermarkt.co.uk/giresunspor/st...</td>\n    </tr>\n    <tr>\n      <th>36</th>\n      <td>124</td>\n      <td>glasgow-rangers</td>\n      <td>Rangers Football Club</td>\n      <td>SC1</td>\n      <td>NaN</td>\n      <td>30</td>\n      <td>27.4</td>\n      <td>22</td>\n      <td>73.3</td>\n      <td>8</td>\n      <td>Ibrox Stadium</td>\n      <td>50987</td>\n      <td>€-2.85m</td>\n      <td>NaN</td>\n      <td>2023</td>\n      <td>https://www.transfermarkt.co.uk/glasgow-ranger...</td>\n    </tr>\n    <tr>\n      <th>37</th>\n      <td>1465</td>\n      <td>gd-estoril-praia</td>\n      <td>Grupo Desportivo Estoril Praia</td>\n      <td>PO1</td>\n      <td>NaN</td>\n      <td>29</td>\n      <td>24.8</td>\n      <td>17</td>\n      <td>58.6</td>\n      <td>2</td>\n      <td>Estádio António Coimbra da Mota</td>\n      <td>5000</td>\n      <td>+€8.00m</td>\n      <td>NaN</td>\n      <td>2023</td>\n      <td>https://www.transfermarkt.co.uk/gd-estoril-pra...</td>\n    </tr>\n    <tr>\n      <th>38</th>\n      <td>2477</td>\n      <td>karpaty-lviv</td>\n      <td>Karpaty Lviv (-2021)</td>\n      <td>UKR1</td>\n      <td>NaN</td>\n      <td>0</td>\n      <td>NaN</td>\n      <td>0</td>\n      <td>NaN</td>\n      <td>0</td>\n      <td>Stadion Ukraina</td>\n      <td>28051</td>\n      <td>+-0</td>\n      <td>NaN</td>\n      <td>2019</td>\n      <td>https://www.transfermarkt.co.uk/karpaty-lviv/s...</td>\n    </tr>\n    <tr>\n      <th>39</th>\n      <td>2553</td>\n      <td>kilmarnock-fc</td>\n      <td>Kilmarnock Football Club</td>\n      <td>SC1</td>\n      <td>NaN</td>\n      <td>23</td>\n      <td>25.8</td>\n      <td>11</td>\n      <td>47.8</td>\n      <td>2</td>\n      <td>BBSP Stadium, Rugby Park</td>\n      <td>18128</td>\n      <td>+-0</td>\n      <td>NaN</td>\n      <td>2023</td>\n      <td>https://www.transfermarkt.co.uk/kilmarnock-fc/...</td>\n    </tr>\n  </tbody>\n</table>\n</div>"
     },
     "execution_count": 66,
     "metadata": {},
     "output_type": "execute_result"
    }
   ],
   "source": [
    "clb = pd.read_csv('../csv/clubs.csv')\n",
    "clb.head()"
   ],
   "metadata": {
    "collapsed": false,
    "ExecuteTime": {
     "end_time": "2023-12-22T15:33:05.027049600Z",
     "start_time": "2023-12-22T15:33:04.899611700Z"
    }
   },
   "id": "a2a724d85e9af5b8"
  },
  {
   "cell_type": "code",
   "execution_count": 67,
   "outputs": [
    {
     "data": {
      "text/plain": "club_id                      0\nclub_code                    0\nname                         0\ndomestic_competition_id      0\ntotal_market_value         426\nsquad_size                   0\naverage_age                 38\nforeigners_number            0\nforeigners_percentage       47\nnational_team_players        0\nstadium_name                 0\nstadium_seats                0\nnet_transfer_record          0\ncoach_name                 426\nlast_season                  0\nurl                          0\ndtype: int64"
     },
     "execution_count": 67,
     "metadata": {},
     "output_type": "execute_result"
    }
   ],
   "source": [
    "clb.isna().sum()"
   ],
   "metadata": {
    "collapsed": false,
    "ExecuteTime": {
     "end_time": "2023-12-22T15:36:49.112216700Z",
     "start_time": "2023-12-22T15:36:49.044817Z"
    }
   },
   "id": "c6dd805d59659e39"
  },
  {
   "cell_type": "code",
   "execution_count": 68,
   "outputs": [
    {
     "data": {
      "text/plain": "(426, 16)"
     },
     "execution_count": 68,
     "metadata": {},
     "output_type": "execute_result"
    }
   ],
   "source": [
    "clb.shape"
   ],
   "metadata": {
    "collapsed": false,
    "ExecuteTime": {
     "end_time": "2023-12-22T15:40:25.318014300Z",
     "start_time": "2023-12-22T15:40:25.257968300Z"
    }
   },
   "id": "36d73575be26a89b"
  },
  {
   "cell_type": "code",
   "execution_count": 69,
   "outputs": [
    {
     "data": {
      "text/plain": "club_id                      int64\nclub_code                   object\nname                        object\ndomestic_competition_id     object\ntotal_market_value         float64\nsquad_size                   int64\naverage_age                float64\nforeigners_number            int64\nforeigners_percentage      float64\nnational_team_players        int64\nstadium_name                object\nstadium_seats                int64\nnet_transfer_record         object\ncoach_name                 float64\nlast_season                  int64\nurl                         object\ndtype: object"
     },
     "execution_count": 69,
     "metadata": {},
     "output_type": "execute_result"
    }
   ],
   "source": [
    "clb.dtypes"
   ],
   "metadata": {
    "collapsed": false,
    "ExecuteTime": {
     "end_time": "2023-12-22T15:41:14.809988800Z",
     "start_time": "2023-12-22T15:41:14.775177400Z"
    }
   },
   "id": "2bd3817f30777e84"
  },
  {
   "cell_type": "markdown",
   "source": [
    "## <font color='green'>club_games</font> table"
   ],
   "metadata": {
    "collapsed": false
   },
   "id": "72355fbff63b5d0c"
  },
  {
   "cell_type": "code",
   "execution_count": 73,
   "outputs": [
    {
     "data": {
      "text/plain": "    game_id  club_id  own_goals  own_position      own_manager_name  \\\n0   2221751      431          1           NaN         Lutz Göttling   \n1   2221755       83          3           NaN      Ralph Hasenhüttl   \n2   2222597     3725          2           2.0  Stanislav Cherchesov   \n3   2222627     2696          0          11.0        Andrey Kobelev   \n4   2222658     2410          0           2.0        Leonid Slutski   \n5   2222664      932          1           5.0          Slaven Bilic   \n6   2222683     2696          0          11.0        Andrey Kobelev   \n7   2222685     2698          0           7.0        Kurban Berdyev   \n8   2222709     3725          2           5.0  Stanislav Cherchesov   \n9   2222734     1083          2          11.0       Miodrag Bozovic   \n10  2222735     2700          2           1.0          Guus Hiddink   \n11  2222739    16704          4           8.0      Slavoljub Muslin   \n12  2222775     3725          1           8.0  Stanislav Cherchesov   \n13  2222786      932          2           9.0          Slaven Bilic   \n14  2222802     2700          3           3.0          Guus Hiddink   \n15  2222816    16704          2           8.0      Slavoljub Muslin   \n16  2222958     6414          2           3.0       Myron Markevych   \n17  2222988      660          4           1.0        Mircea Lucescu   \n18  2223000     6992          1          10.0      Roman Grygorchuk   \n19  2223015     6996          2          15.0     Oleksandr Sevidov   \n20  2223018     6996          1          15.0     Oleksandr Sevidov   \n21  2223019     2227          1          14.0          Oleg Luzhnyi   \n22  2223025     6414          4           4.0       Myron Markevych   \n23  2223041     6994          0          16.0   Vitaliy Kvartsyanyi   \n24  2223051     2740          5          10.0        Sergiy Svystun   \n25  2223056     3592          1          11.0            Oleg Taran   \n26  2223060      339          3           2.0          Juande Ramos   \n27  2223083      339          2           2.0          Juande Ramos   \n28  2223096      660          2           1.0        Mircea Lucescu   \n29  2223111     2227          4          10.0          Oleg Luzhnyi   \n30  2223132     2783          2           5.0        Yuriy Maksymov   \n31  2223137     6996          2          15.0     Oleksandr Sevidov   \n32  2223157     2227          0          10.0          Oleg Luzhnyi   \n33  2223162     2740          3          12.0        Sergiy Svystun   \n34  2223182     6994          0          16.0        Sergiy Zaytsev   \n35  2223859     1082          2          10.0           Rudi Garcia   \n36  2223876     1159          0          17.0        Jean Fernandez   \n37  2223890     1082          1          11.0           Rudi Garcia   \n38  2223894      583          1           1.0       Carlo Ancelotti   \n39  2223902      273          2           9.0    Frédéric Antonetti   \n\n    opponent_id  opponent_goals  opponent_position opponent_manager_name  \\\n0            60               2                NaN     Christian Streich   \n1          4795               0                NaN            Tomas Oral   \n2           232               1                5.0            Unai Emery   \n3          4128               2               10.0         Rustem Khuzin   \n4           121               2               13.0          Dan Petrescu   \n5          2698               0                8.0        Kurban Berdyev   \n6         12438               1               16.0       Gadzhi Gadzhiev   \n7           232               1                5.0        Valeriy Karpin   \n8         11126               1               16.0  Fedor Shcherbachenko   \n9         16704               3               10.0      Slavoljub Muslin   \n10         2410               0                2.0        Leonid Slutski   \n11         2700               0                3.0          Guus Hiddink   \n12         2700               0                3.0          Guus Hiddink   \n13        11126               1               15.0      Dorinel Munteanu   \n14          121               3                7.0          Dan Petrescu   \n15        12438               0               13.0    Yuriy Kalitvintsev   \n16         6993               0               13.0         Mykola Pavlov   \n17         2740               1               14.0     Vadym Yevtushenko   \n18          660               5                1.0        Mircea Lucescu   \n19         2227               1               14.0          Oleg Luzhnyi   \n20         3592               1               12.0            Oleg Taran   \n21         9007               1                6.0         Leonid Kuchuk   \n22         2740               0               13.0        Sergiy Svystun   \n23         4482               3                8.0   Anatoliy Demyanenko   \n24         6994               0               16.0   Vitaliy Kvartsyanyi   \n25         9007               1                5.0         Leonid Kuchuk   \n26         6994               0               16.0   Vitaliy Kvartsyanyi   \n27         6414               0                4.0       Myron Markevych   \n28         6994               0               16.0   Vitaliy Kvartsyanyi   \n29         2783               3                9.0        Yuriy Maksymov   \n30         6996               1               15.0     Oleksandr Sevidov   \n31         6994               0               16.0        Sergiy Zaytsev   \n32         6996               2               15.0     Oleksandr Sevidov   \n33         6996               0               15.0     Oleksandr Sevidov   \n34         2740               4               12.0        Sergiy Svystun   \n35         1147               0               14.0           Alex Dupont   \n36          244               1                1.0             Élie Baup   \n37          583               2                8.0       Carlo Ancelotti   \n38         1041               0                2.0            Rémi Garde   \n39          969               1               16.0           René Girard   \n\n   hosting  is_win  \n0     Home       0  \n1     Home       1  \n2     Home       1  \n3     Home       0  \n4     Home       0  \n5     Home       1  \n6     Home       0  \n7     Home       0  \n8     Home       1  \n9     Home       0  \n10    Home       1  \n11    Home       1  \n12    Home       1  \n13    Home       1  \n14    Home       0  \n15    Home       1  \n16    Home       1  \n17    Home       1  \n18    Home       0  \n19    Home       1  \n20    Home       0  \n21    Home       0  \n22    Home       1  \n23    Home       0  \n24    Home       1  \n25    Home       0  \n26    Home       1  \n27    Home       1  \n28    Home       1  \n29    Home       1  \n30    Home       1  \n31    Home       1  \n32    Home       0  \n33    Home       1  \n34    Home       0  \n35    Home       1  \n36    Home       0  \n37    Home       0  \n38    Home       1  \n39    Home       1  ",
      "text/html": "<div>\n<style scoped>\n    .dataframe tbody tr th:only-of-type {\n        vertical-align: middle;\n    }\n\n    .dataframe tbody tr th {\n        vertical-align: top;\n    }\n\n    .dataframe thead th {\n        text-align: right;\n    }\n</style>\n<table border=\"1\" class=\"dataframe\">\n  <thead>\n    <tr style=\"text-align: right;\">\n      <th></th>\n      <th>game_id</th>\n      <th>club_id</th>\n      <th>own_goals</th>\n      <th>own_position</th>\n      <th>own_manager_name</th>\n      <th>opponent_id</th>\n      <th>opponent_goals</th>\n      <th>opponent_position</th>\n      <th>opponent_manager_name</th>\n      <th>hosting</th>\n      <th>is_win</th>\n    </tr>\n  </thead>\n  <tbody>\n    <tr>\n      <th>0</th>\n      <td>2221751</td>\n      <td>431</td>\n      <td>1</td>\n      <td>NaN</td>\n      <td>Lutz Göttling</td>\n      <td>60</td>\n      <td>2</td>\n      <td>NaN</td>\n      <td>Christian Streich</td>\n      <td>Home</td>\n      <td>0</td>\n    </tr>\n    <tr>\n      <th>1</th>\n      <td>2221755</td>\n      <td>83</td>\n      <td>3</td>\n      <td>NaN</td>\n      <td>Ralph Hasenhüttl</td>\n      <td>4795</td>\n      <td>0</td>\n      <td>NaN</td>\n      <td>Tomas Oral</td>\n      <td>Home</td>\n      <td>1</td>\n    </tr>\n    <tr>\n      <th>2</th>\n      <td>2222597</td>\n      <td>3725</td>\n      <td>2</td>\n      <td>2.0</td>\n      <td>Stanislav Cherchesov</td>\n      <td>232</td>\n      <td>1</td>\n      <td>5.0</td>\n      <td>Unai Emery</td>\n      <td>Home</td>\n      <td>1</td>\n    </tr>\n    <tr>\n      <th>3</th>\n      <td>2222627</td>\n      <td>2696</td>\n      <td>0</td>\n      <td>11.0</td>\n      <td>Andrey Kobelev</td>\n      <td>4128</td>\n      <td>2</td>\n      <td>10.0</td>\n      <td>Rustem Khuzin</td>\n      <td>Home</td>\n      <td>0</td>\n    </tr>\n    <tr>\n      <th>4</th>\n      <td>2222658</td>\n      <td>2410</td>\n      <td>0</td>\n      <td>2.0</td>\n      <td>Leonid Slutski</td>\n      <td>121</td>\n      <td>2</td>\n      <td>13.0</td>\n      <td>Dan Petrescu</td>\n      <td>Home</td>\n      <td>0</td>\n    </tr>\n    <tr>\n      <th>5</th>\n      <td>2222664</td>\n      <td>932</td>\n      <td>1</td>\n      <td>5.0</td>\n      <td>Slaven Bilic</td>\n      <td>2698</td>\n      <td>0</td>\n      <td>8.0</td>\n      <td>Kurban Berdyev</td>\n      <td>Home</td>\n      <td>1</td>\n    </tr>\n    <tr>\n      <th>6</th>\n      <td>2222683</td>\n      <td>2696</td>\n      <td>0</td>\n      <td>11.0</td>\n      <td>Andrey Kobelev</td>\n      <td>12438</td>\n      <td>1</td>\n      <td>16.0</td>\n      <td>Gadzhi Gadzhiev</td>\n      <td>Home</td>\n      <td>0</td>\n    </tr>\n    <tr>\n      <th>7</th>\n      <td>2222685</td>\n      <td>2698</td>\n      <td>0</td>\n      <td>7.0</td>\n      <td>Kurban Berdyev</td>\n      <td>232</td>\n      <td>1</td>\n      <td>5.0</td>\n      <td>Valeriy Karpin</td>\n      <td>Home</td>\n      <td>0</td>\n    </tr>\n    <tr>\n      <th>8</th>\n      <td>2222709</td>\n      <td>3725</td>\n      <td>2</td>\n      <td>5.0</td>\n      <td>Stanislav Cherchesov</td>\n      <td>11126</td>\n      <td>1</td>\n      <td>16.0</td>\n      <td>Fedor Shcherbachenko</td>\n      <td>Home</td>\n      <td>1</td>\n    </tr>\n    <tr>\n      <th>9</th>\n      <td>2222734</td>\n      <td>1083</td>\n      <td>2</td>\n      <td>11.0</td>\n      <td>Miodrag Bozovic</td>\n      <td>16704</td>\n      <td>3</td>\n      <td>10.0</td>\n      <td>Slavoljub Muslin</td>\n      <td>Home</td>\n      <td>0</td>\n    </tr>\n    <tr>\n      <th>10</th>\n      <td>2222735</td>\n      <td>2700</td>\n      <td>2</td>\n      <td>1.0</td>\n      <td>Guus Hiddink</td>\n      <td>2410</td>\n      <td>0</td>\n      <td>2.0</td>\n      <td>Leonid Slutski</td>\n      <td>Home</td>\n      <td>1</td>\n    </tr>\n    <tr>\n      <th>11</th>\n      <td>2222739</td>\n      <td>16704</td>\n      <td>4</td>\n      <td>8.0</td>\n      <td>Slavoljub Muslin</td>\n      <td>2700</td>\n      <td>0</td>\n      <td>3.0</td>\n      <td>Guus Hiddink</td>\n      <td>Home</td>\n      <td>1</td>\n    </tr>\n    <tr>\n      <th>12</th>\n      <td>2222775</td>\n      <td>3725</td>\n      <td>1</td>\n      <td>8.0</td>\n      <td>Stanislav Cherchesov</td>\n      <td>2700</td>\n      <td>0</td>\n      <td>3.0</td>\n      <td>Guus Hiddink</td>\n      <td>Home</td>\n      <td>1</td>\n    </tr>\n    <tr>\n      <th>13</th>\n      <td>2222786</td>\n      <td>932</td>\n      <td>2</td>\n      <td>9.0</td>\n      <td>Slaven Bilic</td>\n      <td>11126</td>\n      <td>1</td>\n      <td>15.0</td>\n      <td>Dorinel Munteanu</td>\n      <td>Home</td>\n      <td>1</td>\n    </tr>\n    <tr>\n      <th>14</th>\n      <td>2222802</td>\n      <td>2700</td>\n      <td>3</td>\n      <td>3.0</td>\n      <td>Guus Hiddink</td>\n      <td>121</td>\n      <td>3</td>\n      <td>7.0</td>\n      <td>Dan Petrescu</td>\n      <td>Home</td>\n      <td>0</td>\n    </tr>\n    <tr>\n      <th>15</th>\n      <td>2222816</td>\n      <td>16704</td>\n      <td>2</td>\n      <td>8.0</td>\n      <td>Slavoljub Muslin</td>\n      <td>12438</td>\n      <td>0</td>\n      <td>13.0</td>\n      <td>Yuriy Kalitvintsev</td>\n      <td>Home</td>\n      <td>1</td>\n    </tr>\n    <tr>\n      <th>16</th>\n      <td>2222958</td>\n      <td>6414</td>\n      <td>2</td>\n      <td>3.0</td>\n      <td>Myron Markevych</td>\n      <td>6993</td>\n      <td>0</td>\n      <td>13.0</td>\n      <td>Mykola Pavlov</td>\n      <td>Home</td>\n      <td>1</td>\n    </tr>\n    <tr>\n      <th>17</th>\n      <td>2222988</td>\n      <td>660</td>\n      <td>4</td>\n      <td>1.0</td>\n      <td>Mircea Lucescu</td>\n      <td>2740</td>\n      <td>1</td>\n      <td>14.0</td>\n      <td>Vadym Yevtushenko</td>\n      <td>Home</td>\n      <td>1</td>\n    </tr>\n    <tr>\n      <th>18</th>\n      <td>2223000</td>\n      <td>6992</td>\n      <td>1</td>\n      <td>10.0</td>\n      <td>Roman Grygorchuk</td>\n      <td>660</td>\n      <td>5</td>\n      <td>1.0</td>\n      <td>Mircea Lucescu</td>\n      <td>Home</td>\n      <td>0</td>\n    </tr>\n    <tr>\n      <th>19</th>\n      <td>2223015</td>\n      <td>6996</td>\n      <td>2</td>\n      <td>15.0</td>\n      <td>Oleksandr Sevidov</td>\n      <td>2227</td>\n      <td>1</td>\n      <td>14.0</td>\n      <td>Oleg Luzhnyi</td>\n      <td>Home</td>\n      <td>1</td>\n    </tr>\n    <tr>\n      <th>20</th>\n      <td>2223018</td>\n      <td>6996</td>\n      <td>1</td>\n      <td>15.0</td>\n      <td>Oleksandr Sevidov</td>\n      <td>3592</td>\n      <td>1</td>\n      <td>12.0</td>\n      <td>Oleg Taran</td>\n      <td>Home</td>\n      <td>0</td>\n    </tr>\n    <tr>\n      <th>21</th>\n      <td>2223019</td>\n      <td>2227</td>\n      <td>1</td>\n      <td>14.0</td>\n      <td>Oleg Luzhnyi</td>\n      <td>9007</td>\n      <td>1</td>\n      <td>6.0</td>\n      <td>Leonid Kuchuk</td>\n      <td>Home</td>\n      <td>0</td>\n    </tr>\n    <tr>\n      <th>22</th>\n      <td>2223025</td>\n      <td>6414</td>\n      <td>4</td>\n      <td>4.0</td>\n      <td>Myron Markevych</td>\n      <td>2740</td>\n      <td>0</td>\n      <td>13.0</td>\n      <td>Sergiy Svystun</td>\n      <td>Home</td>\n      <td>1</td>\n    </tr>\n    <tr>\n      <th>23</th>\n      <td>2223041</td>\n      <td>6994</td>\n      <td>0</td>\n      <td>16.0</td>\n      <td>Vitaliy Kvartsyanyi</td>\n      <td>4482</td>\n      <td>3</td>\n      <td>8.0</td>\n      <td>Anatoliy Demyanenko</td>\n      <td>Home</td>\n      <td>0</td>\n    </tr>\n    <tr>\n      <th>24</th>\n      <td>2223051</td>\n      <td>2740</td>\n      <td>5</td>\n      <td>10.0</td>\n      <td>Sergiy Svystun</td>\n      <td>6994</td>\n      <td>0</td>\n      <td>16.0</td>\n      <td>Vitaliy Kvartsyanyi</td>\n      <td>Home</td>\n      <td>1</td>\n    </tr>\n    <tr>\n      <th>25</th>\n      <td>2223056</td>\n      <td>3592</td>\n      <td>1</td>\n      <td>11.0</td>\n      <td>Oleg Taran</td>\n      <td>9007</td>\n      <td>1</td>\n      <td>5.0</td>\n      <td>Leonid Kuchuk</td>\n      <td>Home</td>\n      <td>0</td>\n    </tr>\n    <tr>\n      <th>26</th>\n      <td>2223060</td>\n      <td>339</td>\n      <td>3</td>\n      <td>2.0</td>\n      <td>Juande Ramos</td>\n      <td>6994</td>\n      <td>0</td>\n      <td>16.0</td>\n      <td>Vitaliy Kvartsyanyi</td>\n      <td>Home</td>\n      <td>1</td>\n    </tr>\n    <tr>\n      <th>27</th>\n      <td>2223083</td>\n      <td>339</td>\n      <td>2</td>\n      <td>2.0</td>\n      <td>Juande Ramos</td>\n      <td>6414</td>\n      <td>0</td>\n      <td>4.0</td>\n      <td>Myron Markevych</td>\n      <td>Home</td>\n      <td>1</td>\n    </tr>\n    <tr>\n      <th>28</th>\n      <td>2223096</td>\n      <td>660</td>\n      <td>2</td>\n      <td>1.0</td>\n      <td>Mircea Lucescu</td>\n      <td>6994</td>\n      <td>0</td>\n      <td>16.0</td>\n      <td>Vitaliy Kvartsyanyi</td>\n      <td>Home</td>\n      <td>1</td>\n    </tr>\n    <tr>\n      <th>29</th>\n      <td>2223111</td>\n      <td>2227</td>\n      <td>4</td>\n      <td>10.0</td>\n      <td>Oleg Luzhnyi</td>\n      <td>2783</td>\n      <td>3</td>\n      <td>9.0</td>\n      <td>Yuriy Maksymov</td>\n      <td>Home</td>\n      <td>1</td>\n    </tr>\n    <tr>\n      <th>30</th>\n      <td>2223132</td>\n      <td>2783</td>\n      <td>2</td>\n      <td>5.0</td>\n      <td>Yuriy Maksymov</td>\n      <td>6996</td>\n      <td>1</td>\n      <td>15.0</td>\n      <td>Oleksandr Sevidov</td>\n      <td>Home</td>\n      <td>1</td>\n    </tr>\n    <tr>\n      <th>31</th>\n      <td>2223137</td>\n      <td>6996</td>\n      <td>2</td>\n      <td>15.0</td>\n      <td>Oleksandr Sevidov</td>\n      <td>6994</td>\n      <td>0</td>\n      <td>16.0</td>\n      <td>Sergiy Zaytsev</td>\n      <td>Home</td>\n      <td>1</td>\n    </tr>\n    <tr>\n      <th>32</th>\n      <td>2223157</td>\n      <td>2227</td>\n      <td>0</td>\n      <td>10.0</td>\n      <td>Oleg Luzhnyi</td>\n      <td>6996</td>\n      <td>2</td>\n      <td>15.0</td>\n      <td>Oleksandr Sevidov</td>\n      <td>Home</td>\n      <td>0</td>\n    </tr>\n    <tr>\n      <th>33</th>\n      <td>2223162</td>\n      <td>2740</td>\n      <td>3</td>\n      <td>12.0</td>\n      <td>Sergiy Svystun</td>\n      <td>6996</td>\n      <td>0</td>\n      <td>15.0</td>\n      <td>Oleksandr Sevidov</td>\n      <td>Home</td>\n      <td>1</td>\n    </tr>\n    <tr>\n      <th>34</th>\n      <td>2223182</td>\n      <td>6994</td>\n      <td>0</td>\n      <td>16.0</td>\n      <td>Sergiy Zaytsev</td>\n      <td>2740</td>\n      <td>4</td>\n      <td>12.0</td>\n      <td>Sergiy Svystun</td>\n      <td>Home</td>\n      <td>0</td>\n    </tr>\n    <tr>\n      <th>35</th>\n      <td>2223859</td>\n      <td>1082</td>\n      <td>2</td>\n      <td>10.0</td>\n      <td>Rudi Garcia</td>\n      <td>1147</td>\n      <td>0</td>\n      <td>14.0</td>\n      <td>Alex Dupont</td>\n      <td>Home</td>\n      <td>1</td>\n    </tr>\n    <tr>\n      <th>36</th>\n      <td>2223876</td>\n      <td>1159</td>\n      <td>0</td>\n      <td>17.0</td>\n      <td>Jean Fernandez</td>\n      <td>244</td>\n      <td>1</td>\n      <td>1.0</td>\n      <td>Élie Baup</td>\n      <td>Home</td>\n      <td>0</td>\n    </tr>\n    <tr>\n      <th>37</th>\n      <td>2223890</td>\n      <td>1082</td>\n      <td>1</td>\n      <td>11.0</td>\n      <td>Rudi Garcia</td>\n      <td>583</td>\n      <td>2</td>\n      <td>8.0</td>\n      <td>Carlo Ancelotti</td>\n      <td>Home</td>\n      <td>0</td>\n    </tr>\n    <tr>\n      <th>38</th>\n      <td>2223894</td>\n      <td>583</td>\n      <td>1</td>\n      <td>1.0</td>\n      <td>Carlo Ancelotti</td>\n      <td>1041</td>\n      <td>0</td>\n      <td>2.0</td>\n      <td>Rémi Garde</td>\n      <td>Home</td>\n      <td>1</td>\n    </tr>\n    <tr>\n      <th>39</th>\n      <td>2223902</td>\n      <td>273</td>\n      <td>2</td>\n      <td>9.0</td>\n      <td>Frédéric Antonetti</td>\n      <td>969</td>\n      <td>1</td>\n      <td>16.0</td>\n      <td>René Girard</td>\n      <td>Home</td>\n      <td>1</td>\n    </tr>\n  </tbody>\n</table>\n</div>"
     },
     "execution_count": 73,
     "metadata": {},
     "output_type": "execute_result"
    }
   ],
   "source": [
    "clb_games = pd.read_csv('../csv/club_games.csv')\n",
    "clb_games.head()"
   ],
   "metadata": {
    "collapsed": false,
    "ExecuteTime": {
     "end_time": "2023-12-22T15:51:32.565428800Z",
     "start_time": "2023-12-22T15:51:32.338803300Z"
    }
   },
   "id": "fc67f9fd2b24de94"
  },
  {
   "cell_type": "code",
   "execution_count": 74,
   "outputs": [
    {
     "data": {
      "text/plain": "(130432, 11)"
     },
     "execution_count": 74,
     "metadata": {},
     "output_type": "execute_result"
    }
   ],
   "source": [
    "clb_games.shape"
   ],
   "metadata": {
    "collapsed": false,
    "ExecuteTime": {
     "end_time": "2023-12-22T15:52:39.432771300Z",
     "start_time": "2023-12-22T15:52:39.394171900Z"
    }
   },
   "id": "3ebfb8ed2e05bf7a"
  },
  {
   "cell_type": "code",
   "execution_count": 76,
   "outputs": [
    {
     "data": {
      "text/plain": "Index(['game_id', 'club_id', 'own_goals', 'own_position', 'own_manager_name',\n       'opponent_id', 'opponent_goals', 'opponent_position',\n       'opponent_manager_name', 'hosting', 'is_win'],\n      dtype='object')"
     },
     "execution_count": 76,
     "metadata": {},
     "output_type": "execute_result"
    }
   ],
   "source": [
    "clb_games.columns"
   ],
   "metadata": {
    "collapsed": false,
    "ExecuteTime": {
     "end_time": "2023-12-22T15:53:36.609305400Z",
     "start_time": "2023-12-22T15:53:36.601924100Z"
    }
   },
   "id": "ce9e163efe238275"
  },
  {
   "cell_type": "code",
   "execution_count": 77,
   "outputs": [
    {
     "data": {
      "text/plain": "game_id                    int64\nclub_id                    int64\nown_goals                  int64\nown_position             float64\nown_manager_name          object\nopponent_id                int64\nopponent_goals             int64\nopponent_position        float64\nopponent_manager_name     object\nhosting                   object\nis_win                     int64\ndtype: object"
     },
     "execution_count": 77,
     "metadata": {},
     "output_type": "execute_result"
    }
   ],
   "source": [
    "clb_games.dtypes"
   ],
   "metadata": {
    "collapsed": false,
    "ExecuteTime": {
     "end_time": "2023-12-22T15:54:16.928065100Z",
     "start_time": "2023-12-22T15:54:16.888299800Z"
    }
   },
   "id": "aca3d2493e586ca3"
  },
  {
   "cell_type": "code",
   "execution_count": 78,
   "outputs": [
    {
     "data": {
      "text/plain": "game_id                      0\nclub_id                      0\nown_goals                    0\nown_position             38908\nown_manager_name          1484\nopponent_id                  0\nopponent_goals               0\nopponent_position        38908\nopponent_manager_name     1484\nhosting                      0\nis_win                       0\ndtype: int64"
     },
     "execution_count": 78,
     "metadata": {},
     "output_type": "execute_result"
    }
   ],
   "source": [
    "clb_games.isna().sum()"
   ],
   "metadata": {
    "collapsed": false,
    "ExecuteTime": {
     "end_time": "2023-12-22T16:08:01.332577600Z",
     "start_time": "2023-12-22T16:08:01.153751700Z"
    }
   },
   "id": "e7fae9dc9cbac6bf"
  },
  {
   "cell_type": "markdown",
   "source": [
    "## <font color='green'>players</font> table\n"
   ],
   "metadata": {
    "collapsed": false
   },
   "id": "57874146ebbd8114"
  },
  {
   "cell_type": "code",
   "execution_count": 80,
   "outputs": [
    {
     "data": {
      "text/plain": "   player_id first_name   last_name              name  last_season  \\\n0        598       Timo  Hildebrand   Timo Hildebrand         2014   \n1        670     Martin      Petrov     Martin Petrov         2012   \n2       1323     Martin     Amedick    Martin Amedick         2012   \n3       3195   Jermaine     Pennant  Jermaine Pennant         2013   \n4       3259     Damien        Duff       Damien Duff         2013   \n\n   current_club_id       player_code country_of_birth city_of_birth  \\\n0               24   timo-hildebrand          Germany         Worms   \n1              714     martin-petrov         Bulgaria        Vratsa   \n2               24    martin-amedick          Germany     Paderborn   \n3              512  jermaine-pennant          England    Nottingham   \n4              931       damien-duff          Ireland    Ballyboden   \n\n  country_of_citizenship  ...   foot height_in_cm market_value_in_eur  \\\n0                Germany  ...    NaN          NaN                 NaN   \n1               Bulgaria  ...    NaN          NaN                 NaN   \n2                Germany  ...    NaN          NaN                 NaN   \n3                England  ...  right        173.0                 NaN   \n4                Ireland  ...   left        177.0                 NaN   \n\n  highest_market_value_in_eur  contract_expiration_date  agent_name  \\\n0                  10000000.0                       NaN         NaN   \n1                  12000000.0                       NaN         IFM   \n2                   2750000.0                       NaN         NaN   \n3                  10500000.0                       NaN  Andrew Sky   \n4                  17000000.0                       NaN         NaN   \n\n                                           image_url  \\\n0  https://img.a.transfermarkt.technology/portrai...   \n1  https://img.a.transfermarkt.technology/portrai...   \n2  https://img.a.transfermarkt.technology/portrai...   \n3  https://img.a.transfermarkt.technology/portrai...   \n4  https://img.a.transfermarkt.technology/portrai...   \n\n                                                 url  \\\n0  https://www.transfermarkt.co.uk/timo-hildebran...   \n1  https://www.transfermarkt.co.uk/martin-petrov/...   \n2  https://www.transfermarkt.co.uk/martin-amedick...   \n3  https://www.transfermarkt.co.uk/jermaine-penna...   \n4  https://www.transfermarkt.co.uk/damien-duff/pr...   \n\n  current_club_domestic_competition_id       current_club_name  \n0                                   L1     Eintracht Frankfurt  \n1                                  ES1  RCD Espanyol Barcelona  \n2                                   L1     Eintracht Frankfurt  \n3                                  GB1              Stoke City  \n4                                  GB1               Fulham FC  \n\n[5 rows x 23 columns]",
      "text/html": "<div>\n<style scoped>\n    .dataframe tbody tr th:only-of-type {\n        vertical-align: middle;\n    }\n\n    .dataframe tbody tr th {\n        vertical-align: top;\n    }\n\n    .dataframe thead th {\n        text-align: right;\n    }\n</style>\n<table border=\"1\" class=\"dataframe\">\n  <thead>\n    <tr style=\"text-align: right;\">\n      <th></th>\n      <th>player_id</th>\n      <th>first_name</th>\n      <th>last_name</th>\n      <th>name</th>\n      <th>last_season</th>\n      <th>current_club_id</th>\n      <th>player_code</th>\n      <th>country_of_birth</th>\n      <th>city_of_birth</th>\n      <th>country_of_citizenship</th>\n      <th>...</th>\n      <th>foot</th>\n      <th>height_in_cm</th>\n      <th>market_value_in_eur</th>\n      <th>highest_market_value_in_eur</th>\n      <th>contract_expiration_date</th>\n      <th>agent_name</th>\n      <th>image_url</th>\n      <th>url</th>\n      <th>current_club_domestic_competition_id</th>\n      <th>current_club_name</th>\n    </tr>\n  </thead>\n  <tbody>\n    <tr>\n      <th>0</th>\n      <td>598</td>\n      <td>Timo</td>\n      <td>Hildebrand</td>\n      <td>Timo Hildebrand</td>\n      <td>2014</td>\n      <td>24</td>\n      <td>timo-hildebrand</td>\n      <td>Germany</td>\n      <td>Worms</td>\n      <td>Germany</td>\n      <td>...</td>\n      <td>NaN</td>\n      <td>NaN</td>\n      <td>NaN</td>\n      <td>10000000.0</td>\n      <td>NaN</td>\n      <td>NaN</td>\n      <td>https://img.a.transfermarkt.technology/portrai...</td>\n      <td>https://www.transfermarkt.co.uk/timo-hildebran...</td>\n      <td>L1</td>\n      <td>Eintracht Frankfurt</td>\n    </tr>\n    <tr>\n      <th>1</th>\n      <td>670</td>\n      <td>Martin</td>\n      <td>Petrov</td>\n      <td>Martin Petrov</td>\n      <td>2012</td>\n      <td>714</td>\n      <td>martin-petrov</td>\n      <td>Bulgaria</td>\n      <td>Vratsa</td>\n      <td>Bulgaria</td>\n      <td>...</td>\n      <td>NaN</td>\n      <td>NaN</td>\n      <td>NaN</td>\n      <td>12000000.0</td>\n      <td>NaN</td>\n      <td>IFM</td>\n      <td>https://img.a.transfermarkt.technology/portrai...</td>\n      <td>https://www.transfermarkt.co.uk/martin-petrov/...</td>\n      <td>ES1</td>\n      <td>RCD Espanyol Barcelona</td>\n    </tr>\n    <tr>\n      <th>2</th>\n      <td>1323</td>\n      <td>Martin</td>\n      <td>Amedick</td>\n      <td>Martin Amedick</td>\n      <td>2012</td>\n      <td>24</td>\n      <td>martin-amedick</td>\n      <td>Germany</td>\n      <td>Paderborn</td>\n      <td>Germany</td>\n      <td>...</td>\n      <td>NaN</td>\n      <td>NaN</td>\n      <td>NaN</td>\n      <td>2750000.0</td>\n      <td>NaN</td>\n      <td>NaN</td>\n      <td>https://img.a.transfermarkt.technology/portrai...</td>\n      <td>https://www.transfermarkt.co.uk/martin-amedick...</td>\n      <td>L1</td>\n      <td>Eintracht Frankfurt</td>\n    </tr>\n    <tr>\n      <th>3</th>\n      <td>3195</td>\n      <td>Jermaine</td>\n      <td>Pennant</td>\n      <td>Jermaine Pennant</td>\n      <td>2013</td>\n      <td>512</td>\n      <td>jermaine-pennant</td>\n      <td>England</td>\n      <td>Nottingham</td>\n      <td>England</td>\n      <td>...</td>\n      <td>right</td>\n      <td>173.0</td>\n      <td>NaN</td>\n      <td>10500000.0</td>\n      <td>NaN</td>\n      <td>Andrew Sky</td>\n      <td>https://img.a.transfermarkt.technology/portrai...</td>\n      <td>https://www.transfermarkt.co.uk/jermaine-penna...</td>\n      <td>GB1</td>\n      <td>Stoke City</td>\n    </tr>\n    <tr>\n      <th>4</th>\n      <td>3259</td>\n      <td>Damien</td>\n      <td>Duff</td>\n      <td>Damien Duff</td>\n      <td>2013</td>\n      <td>931</td>\n      <td>damien-duff</td>\n      <td>Ireland</td>\n      <td>Ballyboden</td>\n      <td>Ireland</td>\n      <td>...</td>\n      <td>left</td>\n      <td>177.0</td>\n      <td>NaN</td>\n      <td>17000000.0</td>\n      <td>NaN</td>\n      <td>NaN</td>\n      <td>https://img.a.transfermarkt.technology/portrai...</td>\n      <td>https://www.transfermarkt.co.uk/damien-duff/pr...</td>\n      <td>GB1</td>\n      <td>Fulham FC</td>\n    </tr>\n  </tbody>\n</table>\n<p>5 rows × 23 columns</p>\n</div>"
     },
     "execution_count": 80,
     "metadata": {},
     "output_type": "execute_result"
    }
   ],
   "source": [
    "ply = pd.read_csv('../csv/players.csv')\n",
    "ply.head()"
   ],
   "metadata": {
    "collapsed": false,
    "ExecuteTime": {
     "end_time": "2023-12-22T16:23:35.707682800Z",
     "start_time": "2023-12-22T16:23:35.404657900Z"
    }
   },
   "id": "a30513d90b52c282"
  },
  {
   "cell_type": "code",
   "execution_count": 81,
   "outputs": [
    {
     "data": {
      "text/plain": "Index(['player_id', 'first_name', 'last_name', 'name', 'last_season',\n       'current_club_id', 'player_code', 'country_of_birth', 'city_of_birth',\n       'country_of_citizenship', 'date_of_birth', 'sub_position', 'position',\n       'foot', 'height_in_cm', 'market_value_in_eur',\n       'highest_market_value_in_eur', 'contract_expiration_date', 'agent_name',\n       'image_url', 'url', 'current_club_domestic_competition_id',\n       'current_club_name'],\n      dtype='object')"
     },
     "execution_count": 81,
     "metadata": {},
     "output_type": "execute_result"
    }
   ],
   "source": [
    "ply.columns"
   ],
   "metadata": {
    "collapsed": false,
    "ExecuteTime": {
     "end_time": "2023-12-22T16:28:50.430588Z",
     "start_time": "2023-12-22T16:28:50.180415900Z"
    }
   },
   "id": "84064aeed689db4c"
  },
  {
   "cell_type": "code",
   "execution_count": 82,
   "outputs": [
    {
     "data": {
      "text/plain": "player_id                                 int64\nfirst_name                               object\nlast_name                                object\nname                                     object\nlast_season                               int64\ncurrent_club_id                           int64\nplayer_code                              object\ncountry_of_birth                         object\ncity_of_birth                            object\ncountry_of_citizenship                   object\ndate_of_birth                            object\nsub_position                             object\nposition                                 object\nfoot                                     object\nheight_in_cm                            float64\nmarket_value_in_eur                     float64\nhighest_market_value_in_eur             float64\ncontract_expiration_date                 object\nagent_name                               object\nimage_url                                object\nurl                                      object\ncurrent_club_domestic_competition_id     object\ncurrent_club_name                        object\ndtype: object"
     },
     "execution_count": 82,
     "metadata": {},
     "output_type": "execute_result"
    }
   ],
   "source": [
    "ply.dtypes"
   ],
   "metadata": {
    "collapsed": false,
    "ExecuteTime": {
     "end_time": "2023-12-22T16:30:16.767238200Z",
     "start_time": "2023-12-22T16:30:16.657382500Z"
    }
   },
   "id": "1f587e3b7469af6a"
  },
  {
   "cell_type": "code",
   "execution_count": 83,
   "outputs": [
    {
     "data": {
      "text/plain": "player_id                                        int64\nfirst_name                                      object\nlast_name                                       object\nname                                            object\nlast_season                                      int64\ncurrent_club_id                                  int64\nplayer_code                                     object\ncountry_of_birth                                object\ncity_of_birth                                   object\ncountry_of_citizenship                          object\ndate_of_birth                           datetime64[ns]\nsub_position                                    object\nposition                                        object\nfoot                                            object\nheight_in_cm                                   float64\nmarket_value_in_eur                            float64\nhighest_market_value_in_eur                    float64\ncontract_expiration_date                        object\nagent_name                                      object\nimage_url                                       object\nurl                                             object\ncurrent_club_domestic_competition_id            object\ncurrent_club_name                               object\ndtype: object"
     },
     "execution_count": 83,
     "metadata": {},
     "output_type": "execute_result"
    }
   ],
   "source": [
    "ply['date_of_birth'] = pd.to_datetime(ply['date_of_birth'])\n",
    "ply.dtypes"
   ],
   "metadata": {
    "collapsed": false,
    "ExecuteTime": {
     "end_time": "2023-12-22T16:44:34.311093300Z",
     "start_time": "2023-12-22T16:44:34.119078700Z"
    }
   },
   "id": "7b384e9f6e04c104"
  },
  {
   "cell_type": "code",
   "execution_count": 90,
   "outputs": [
    {
     "data": {
      "text/plain": "player_id                                   0\nfirst_name                               1965\nlast_name                                   0\nname                                        0\nlast_season                                 0\ncurrent_club_id                             0\nplayer_code                                 0\ncountry_of_birth                         2689\ncity_of_birth                            2203\ncountry_of_citizenship                    543\ndate_of_birth                              47\nsub_position                              172\nposition                                    0\nfoot                                     2389\nheight_in_cm                             2098\nmarket_value_in_eur                     10919\nhighest_market_value_in_eur              1321\ncontract_expiration_date                11467\nagent_name                              15361\nimage_url                                   0\nurl                                         0\ncurrent_club_domestic_competition_id        0\ncurrent_club_name                           0\ndtype: int64"
     },
     "execution_count": 90,
     "metadata": {},
     "output_type": "execute_result"
    }
   ],
   "source": [
    "ply.isna().sum()"
   ],
   "metadata": {
    "collapsed": false,
    "ExecuteTime": {
     "end_time": "2023-12-22T16:48:08.573537500Z",
     "start_time": "2023-12-22T16:48:08.530225200Z"
    }
   },
   "id": "d61286ce7641dd7b"
  },
  {
   "cell_type": "code",
   "execution_count": 139,
   "outputs": [
    {
     "data": {
      "text/plain": "       player_id first_name  last_name       name  last_season  \\\n24          5974        NaN  Matuzalém  Matuzalém         2015   \n47         13952        NaN    Liedson    Liedson         2012   \n49         14137        NaN    Briguel    Briguel         2015   \n51         14282        NaN  Danielson  Danielson         2015   \n66         17292        NaN     Joeano     Joeano         2013   \n...          ...        ...        ...        ...          ...   \n30200     105468        NaN     Neuton     Neuton         2015   \n30218      54183        NaN  Maicosuel  Maicosuel         2013   \n30221     323954        NaN     Walace     Walace         2023   \n30250     217863        NaN  Guilherme  Guilherme         2023   \n30293      99523        NaN    Nícolas    Nícolas         2020   \n\n       current_club_id player_code country_of_birth      city_of_birth  \\\n24                 276   matuzalem           Brazil              Natal   \n47                 720     liedson           Brazil              Cairú   \n49                1301     briguel         Portugal            Funchal   \n51                 979   danielson           Brazil          São Paulo   \n66                2425      joeano           Brazil          Fortaleza   \n...                ...         ...              ...                ...   \n30200              410      neuton           Brazil            Erechim   \n30218              410   maicosuel           Brazil         Cosmópolis   \n30221              410      walace           Brazil           Salvador   \n30250             2293   guilherme           Brazil       Porto Alegre   \n30293              410     nicolas           Brazil  Colorado do Oeste   \n\n      country_of_citizenship  ...   foot height_in_cm market_value_in_eur  \\\n24                    Brazil  ...   left        178.0                 NaN   \n47                  Portugal  ...  right        175.0                 NaN   \n49                  Portugal  ...  right        174.0                 NaN   \n51                    Brazil  ...  right        186.0                 NaN   \n66                    Brazil  ...  right        181.0                 NaN   \n...                      ...  ...    ...          ...                 ...   \n30200                 Brazil  ...   left        182.0                 NaN   \n30218                 Brazil  ...    NaN          NaN                 NaN   \n30221                 Brazil  ...  right        188.0           7000000.0   \n30250                 Brazil  ...   left        180.0           1100000.0   \n30293                 Brazil  ...  right        190.0            300000.0   \n\n      highest_market_value_in_eur  contract_expiration_date  \\\n24                     16000000.0                       NaN   \n47                     15000000.0                       NaN   \n49                       800000.0                       NaN   \n51                      1500000.0                       NaN   \n66                      1500000.0                       NaN   \n...                           ...                       ...   \n30200                   2800000.0                       NaN   \n30218                   4500000.0                       NaN   \n30221                  14000000.0       2026-06-30 00:00:00   \n30250                   2200000.0       2024-06-30 00:00:00   \n30293                    900000.0       2023-06-30 00:00:00   \n\n                 agent_name  \\\n24                      NaN   \n47                      NaN   \n49                      NaN   \n51                      NaN   \n66                      NaN   \n...                     ...   \n30200                   NaN   \n30218         RJ Assessoria   \n30221                  BSSM   \n30250  Jose Renato Martinez   \n30293      Grimaldi Mariano   \n\n                                               image_url  \\\n24     https://img.a.transfermarkt.technology/portrai...   \n47     https://img.a.transfermarkt.technology/portrai...   \n49     https://img.a.transfermarkt.technology/portrai...   \n51     https://img.a.transfermarkt.technology/portrai...   \n66     https://img.a.transfermarkt.technology/portrai...   \n...                                                  ...   \n30200  https://img.a.transfermarkt.technology/portrai...   \n30218  https://img.a.transfermarkt.technology/portrai...   \n30221  https://img.a.transfermarkt.technology/portrai...   \n30250  https://img.a.transfermarkt.technology/portrai...   \n30293  https://img.a.transfermarkt.technology/portrai...   \n\n                                                     url  \\\n24     https://www.transfermarkt.co.uk/matuzalem/prof...   \n47     https://www.transfermarkt.co.uk/liedson/profil...   \n49     https://www.transfermarkt.co.uk/briguel/profil...   \n51     https://www.transfermarkt.co.uk/danielson/prof...   \n66     https://www.transfermarkt.co.uk/joeano/profil/...   \n...                                                  ...   \n30200  https://www.transfermarkt.co.uk/neuton/profil/...   \n30218  https://www.transfermarkt.co.uk/maicosuel/prof...   \n30221  https://www.transfermarkt.co.uk/walace/profil/...   \n30250  https://www.transfermarkt.co.uk/guilherme/prof...   \n30293  https://www.transfermarkt.co.uk/nicolas/profil...   \n\n      current_club_domestic_competition_id current_club_name  \n24                                     IT1     Hellas Verona  \n47                                     PO1          FC Porto  \n49                                     PO1       CS Marítimo  \n51                                     PO1     Moreirense FC  \n66                                     PO1        Rio Ave FC  \n...                                    ...               ...  \n30200                                  IT1    Udinese Calcio  \n30218                                  IT1    Udinese Calcio  \n30221                                  IT1    Udinese Calcio  \n30250                                  TR1         Konyaspor  \n30293                                  IT1    Udinese Calcio  \n\n[1965 rows x 23 columns]",
      "text/html": "<div>\n<style scoped>\n    .dataframe tbody tr th:only-of-type {\n        vertical-align: middle;\n    }\n\n    .dataframe tbody tr th {\n        vertical-align: top;\n    }\n\n    .dataframe thead th {\n        text-align: right;\n    }\n</style>\n<table border=\"1\" class=\"dataframe\">\n  <thead>\n    <tr style=\"text-align: right;\">\n      <th></th>\n      <th>player_id</th>\n      <th>first_name</th>\n      <th>last_name</th>\n      <th>name</th>\n      <th>last_season</th>\n      <th>current_club_id</th>\n      <th>player_code</th>\n      <th>country_of_birth</th>\n      <th>city_of_birth</th>\n      <th>country_of_citizenship</th>\n      <th>...</th>\n      <th>foot</th>\n      <th>height_in_cm</th>\n      <th>market_value_in_eur</th>\n      <th>highest_market_value_in_eur</th>\n      <th>contract_expiration_date</th>\n      <th>agent_name</th>\n      <th>image_url</th>\n      <th>url</th>\n      <th>current_club_domestic_competition_id</th>\n      <th>current_club_name</th>\n    </tr>\n  </thead>\n  <tbody>\n    <tr>\n      <th>24</th>\n      <td>5974</td>\n      <td>NaN</td>\n      <td>Matuzalém</td>\n      <td>Matuzalém</td>\n      <td>2015</td>\n      <td>276</td>\n      <td>matuzalem</td>\n      <td>Brazil</td>\n      <td>Natal</td>\n      <td>Brazil</td>\n      <td>...</td>\n      <td>left</td>\n      <td>178.0</td>\n      <td>NaN</td>\n      <td>16000000.0</td>\n      <td>NaN</td>\n      <td>NaN</td>\n      <td>https://img.a.transfermarkt.technology/portrai...</td>\n      <td>https://www.transfermarkt.co.uk/matuzalem/prof...</td>\n      <td>IT1</td>\n      <td>Hellas Verona</td>\n    </tr>\n    <tr>\n      <th>47</th>\n      <td>13952</td>\n      <td>NaN</td>\n      <td>Liedson</td>\n      <td>Liedson</td>\n      <td>2012</td>\n      <td>720</td>\n      <td>liedson</td>\n      <td>Brazil</td>\n      <td>Cairú</td>\n      <td>Portugal</td>\n      <td>...</td>\n      <td>right</td>\n      <td>175.0</td>\n      <td>NaN</td>\n      <td>15000000.0</td>\n      <td>NaN</td>\n      <td>NaN</td>\n      <td>https://img.a.transfermarkt.technology/portrai...</td>\n      <td>https://www.transfermarkt.co.uk/liedson/profil...</td>\n      <td>PO1</td>\n      <td>FC Porto</td>\n    </tr>\n    <tr>\n      <th>49</th>\n      <td>14137</td>\n      <td>NaN</td>\n      <td>Briguel</td>\n      <td>Briguel</td>\n      <td>2015</td>\n      <td>1301</td>\n      <td>briguel</td>\n      <td>Portugal</td>\n      <td>Funchal</td>\n      <td>Portugal</td>\n      <td>...</td>\n      <td>right</td>\n      <td>174.0</td>\n      <td>NaN</td>\n      <td>800000.0</td>\n      <td>NaN</td>\n      <td>NaN</td>\n      <td>https://img.a.transfermarkt.technology/portrai...</td>\n      <td>https://www.transfermarkt.co.uk/briguel/profil...</td>\n      <td>PO1</td>\n      <td>CS Marítimo</td>\n    </tr>\n    <tr>\n      <th>51</th>\n      <td>14282</td>\n      <td>NaN</td>\n      <td>Danielson</td>\n      <td>Danielson</td>\n      <td>2015</td>\n      <td>979</td>\n      <td>danielson</td>\n      <td>Brazil</td>\n      <td>São Paulo</td>\n      <td>Brazil</td>\n      <td>...</td>\n      <td>right</td>\n      <td>186.0</td>\n      <td>NaN</td>\n      <td>1500000.0</td>\n      <td>NaN</td>\n      <td>NaN</td>\n      <td>https://img.a.transfermarkt.technology/portrai...</td>\n      <td>https://www.transfermarkt.co.uk/danielson/prof...</td>\n      <td>PO1</td>\n      <td>Moreirense FC</td>\n    </tr>\n    <tr>\n      <th>66</th>\n      <td>17292</td>\n      <td>NaN</td>\n      <td>Joeano</td>\n      <td>Joeano</td>\n      <td>2013</td>\n      <td>2425</td>\n      <td>joeano</td>\n      <td>Brazil</td>\n      <td>Fortaleza</td>\n      <td>Brazil</td>\n      <td>...</td>\n      <td>right</td>\n      <td>181.0</td>\n      <td>NaN</td>\n      <td>1500000.0</td>\n      <td>NaN</td>\n      <td>NaN</td>\n      <td>https://img.a.transfermarkt.technology/portrai...</td>\n      <td>https://www.transfermarkt.co.uk/joeano/profil/...</td>\n      <td>PO1</td>\n      <td>Rio Ave FC</td>\n    </tr>\n    <tr>\n      <th>...</th>\n      <td>...</td>\n      <td>...</td>\n      <td>...</td>\n      <td>...</td>\n      <td>...</td>\n      <td>...</td>\n      <td>...</td>\n      <td>...</td>\n      <td>...</td>\n      <td>...</td>\n      <td>...</td>\n      <td>...</td>\n      <td>...</td>\n      <td>...</td>\n      <td>...</td>\n      <td>...</td>\n      <td>...</td>\n      <td>...</td>\n      <td>...</td>\n      <td>...</td>\n      <td>...</td>\n    </tr>\n    <tr>\n      <th>30200</th>\n      <td>105468</td>\n      <td>NaN</td>\n      <td>Neuton</td>\n      <td>Neuton</td>\n      <td>2015</td>\n      <td>410</td>\n      <td>neuton</td>\n      <td>Brazil</td>\n      <td>Erechim</td>\n      <td>Brazil</td>\n      <td>...</td>\n      <td>left</td>\n      <td>182.0</td>\n      <td>NaN</td>\n      <td>2800000.0</td>\n      <td>NaN</td>\n      <td>NaN</td>\n      <td>https://img.a.transfermarkt.technology/portrai...</td>\n      <td>https://www.transfermarkt.co.uk/neuton/profil/...</td>\n      <td>IT1</td>\n      <td>Udinese Calcio</td>\n    </tr>\n    <tr>\n      <th>30218</th>\n      <td>54183</td>\n      <td>NaN</td>\n      <td>Maicosuel</td>\n      <td>Maicosuel</td>\n      <td>2013</td>\n      <td>410</td>\n      <td>maicosuel</td>\n      <td>Brazil</td>\n      <td>Cosmópolis</td>\n      <td>Brazil</td>\n      <td>...</td>\n      <td>NaN</td>\n      <td>NaN</td>\n      <td>NaN</td>\n      <td>4500000.0</td>\n      <td>NaN</td>\n      <td>RJ Assessoria</td>\n      <td>https://img.a.transfermarkt.technology/portrai...</td>\n      <td>https://www.transfermarkt.co.uk/maicosuel/prof...</td>\n      <td>IT1</td>\n      <td>Udinese Calcio</td>\n    </tr>\n    <tr>\n      <th>30221</th>\n      <td>323954</td>\n      <td>NaN</td>\n      <td>Walace</td>\n      <td>Walace</td>\n      <td>2023</td>\n      <td>410</td>\n      <td>walace</td>\n      <td>Brazil</td>\n      <td>Salvador</td>\n      <td>Brazil</td>\n      <td>...</td>\n      <td>right</td>\n      <td>188.0</td>\n      <td>7000000.0</td>\n      <td>14000000.0</td>\n      <td>2026-06-30 00:00:00</td>\n      <td>BSSM</td>\n      <td>https://img.a.transfermarkt.technology/portrai...</td>\n      <td>https://www.transfermarkt.co.uk/walace/profil/...</td>\n      <td>IT1</td>\n      <td>Udinese Calcio</td>\n    </tr>\n    <tr>\n      <th>30250</th>\n      <td>217863</td>\n      <td>NaN</td>\n      <td>Guilherme</td>\n      <td>Guilherme</td>\n      <td>2023</td>\n      <td>2293</td>\n      <td>guilherme</td>\n      <td>Brazil</td>\n      <td>Porto Alegre</td>\n      <td>Brazil</td>\n      <td>...</td>\n      <td>left</td>\n      <td>180.0</td>\n      <td>1100000.0</td>\n      <td>2200000.0</td>\n      <td>2024-06-30 00:00:00</td>\n      <td>Jose Renato Martinez</td>\n      <td>https://img.a.transfermarkt.technology/portrai...</td>\n      <td>https://www.transfermarkt.co.uk/guilherme/prof...</td>\n      <td>TR1</td>\n      <td>Konyaspor</td>\n    </tr>\n    <tr>\n      <th>30293</th>\n      <td>99523</td>\n      <td>NaN</td>\n      <td>Nícolas</td>\n      <td>Nícolas</td>\n      <td>2020</td>\n      <td>410</td>\n      <td>nicolas</td>\n      <td>Brazil</td>\n      <td>Colorado do Oeste</td>\n      <td>Brazil</td>\n      <td>...</td>\n      <td>right</td>\n      <td>190.0</td>\n      <td>300000.0</td>\n      <td>900000.0</td>\n      <td>2023-06-30 00:00:00</td>\n      <td>Grimaldi Mariano</td>\n      <td>https://img.a.transfermarkt.technology/portrai...</td>\n      <td>https://www.transfermarkt.co.uk/nicolas/profil...</td>\n      <td>IT1</td>\n      <td>Udinese Calcio</td>\n    </tr>\n  </tbody>\n</table>\n<p>1965 rows × 23 columns</p>\n</div>"
     },
     "execution_count": 139,
     "metadata": {},
     "output_type": "execute_result"
    }
   ],
   "source": [
    "ply.shape\n",
    "ply[ply['first_name'].isnull()]"
   ],
   "metadata": {
    "collapsed": false,
    "ExecuteTime": {
     "end_time": "2023-12-22T19:49:11.148921700Z",
     "start_time": "2023-12-22T19:49:10.000782600Z"
    }
   },
   "id": "2487662290dad601"
  },
  {
   "cell_type": "markdown",
   "source": [
    "## <font color='green'>appearances</font> table\n"
   ],
   "metadata": {
    "collapsed": false
   },
   "id": "c2884a864c504b63"
  },
  {
   "cell_type": "code",
   "execution_count": 92,
   "outputs": [
    {
     "data": {
      "text/plain": "    appearance_id  game_id  player_id  player_club_id  player_current_club_id  \\\n0   2231978_38004  2231978      38004             853                     235   \n1   2233748_79232  2233748      79232            8841                    2698   \n2   2234413_42792  2234413      42792            6251                     465   \n3   2234418_73333  2234418      73333            1274                    6646   \n4  2234421_122011  2234421     122011             195                    3008   \n\n         date       player_name competition_id  yellow_cards  red_cards  \\\n0  2012-07-03  Aurélien Joachim            CLQ             0          0   \n1  2012-07-05    Ruslan Abyshov            ELQ             0          0   \n2  2012-07-05       Sander Puri            ELQ             0          0   \n3  2012-07-05   Vegar Hedenstad            ELQ             0          0   \n4  2012-07-05  Markus Henriksen            ELQ             0          0   \n\n   goals  assists  minutes_played  \n0      2        0              90  \n1      0        0              90  \n2      0        0              45  \n3      0        0              90  \n4      0        1              90  ",
      "text/html": "<div>\n<style scoped>\n    .dataframe tbody tr th:only-of-type {\n        vertical-align: middle;\n    }\n\n    .dataframe tbody tr th {\n        vertical-align: top;\n    }\n\n    .dataframe thead th {\n        text-align: right;\n    }\n</style>\n<table border=\"1\" class=\"dataframe\">\n  <thead>\n    <tr style=\"text-align: right;\">\n      <th></th>\n      <th>appearance_id</th>\n      <th>game_id</th>\n      <th>player_id</th>\n      <th>player_club_id</th>\n      <th>player_current_club_id</th>\n      <th>date</th>\n      <th>player_name</th>\n      <th>competition_id</th>\n      <th>yellow_cards</th>\n      <th>red_cards</th>\n      <th>goals</th>\n      <th>assists</th>\n      <th>minutes_played</th>\n    </tr>\n  </thead>\n  <tbody>\n    <tr>\n      <th>0</th>\n      <td>2231978_38004</td>\n      <td>2231978</td>\n      <td>38004</td>\n      <td>853</td>\n      <td>235</td>\n      <td>2012-07-03</td>\n      <td>Aurélien Joachim</td>\n      <td>CLQ</td>\n      <td>0</td>\n      <td>0</td>\n      <td>2</td>\n      <td>0</td>\n      <td>90</td>\n    </tr>\n    <tr>\n      <th>1</th>\n      <td>2233748_79232</td>\n      <td>2233748</td>\n      <td>79232</td>\n      <td>8841</td>\n      <td>2698</td>\n      <td>2012-07-05</td>\n      <td>Ruslan Abyshov</td>\n      <td>ELQ</td>\n      <td>0</td>\n      <td>0</td>\n      <td>0</td>\n      <td>0</td>\n      <td>90</td>\n    </tr>\n    <tr>\n      <th>2</th>\n      <td>2234413_42792</td>\n      <td>2234413</td>\n      <td>42792</td>\n      <td>6251</td>\n      <td>465</td>\n      <td>2012-07-05</td>\n      <td>Sander Puri</td>\n      <td>ELQ</td>\n      <td>0</td>\n      <td>0</td>\n      <td>0</td>\n      <td>0</td>\n      <td>45</td>\n    </tr>\n    <tr>\n      <th>3</th>\n      <td>2234418_73333</td>\n      <td>2234418</td>\n      <td>73333</td>\n      <td>1274</td>\n      <td>6646</td>\n      <td>2012-07-05</td>\n      <td>Vegar Hedenstad</td>\n      <td>ELQ</td>\n      <td>0</td>\n      <td>0</td>\n      <td>0</td>\n      <td>0</td>\n      <td>90</td>\n    </tr>\n    <tr>\n      <th>4</th>\n      <td>2234421_122011</td>\n      <td>2234421</td>\n      <td>122011</td>\n      <td>195</td>\n      <td>3008</td>\n      <td>2012-07-05</td>\n      <td>Markus Henriksen</td>\n      <td>ELQ</td>\n      <td>0</td>\n      <td>0</td>\n      <td>0</td>\n      <td>1</td>\n      <td>90</td>\n    </tr>\n  </tbody>\n</table>\n</div>"
     },
     "execution_count": 92,
     "metadata": {},
     "output_type": "execute_result"
    }
   ],
   "source": [
    "apr = pd.read_csv('../csv/appearances.csv')\n",
    "apr.head()"
   ],
   "metadata": {
    "collapsed": false,
    "ExecuteTime": {
     "end_time": "2023-12-22T16:53:42.654232700Z",
     "start_time": "2023-12-22T16:53:39.808638700Z"
    }
   },
   "id": "f3e24b0a736bbb55"
  },
  {
   "cell_type": "code",
   "execution_count": 93,
   "outputs": [
    {
     "data": {
      "text/plain": "Index(['appearance_id', 'game_id', 'player_id', 'player_club_id',\n       'player_current_club_id', 'date', 'player_name', 'competition_id',\n       'yellow_cards', 'red_cards', 'goals', 'assists', 'minutes_played'],\n      dtype='object')"
     },
     "execution_count": 93,
     "metadata": {},
     "output_type": "execute_result"
    }
   ],
   "source": [
    "apr.columns"
   ],
   "metadata": {
    "collapsed": false,
    "ExecuteTime": {
     "end_time": "2023-12-22T16:54:41.996489800Z",
     "start_time": "2023-12-22T16:54:41.959111200Z"
    }
   },
   "id": "b0e97bd04b454972"
  },
  {
   "cell_type": "code",
   "execution_count": 94,
   "outputs": [
    {
     "data": {
      "text/plain": "appearance_id             object\ngame_id                    int64\nplayer_id                  int64\nplayer_club_id             int64\nplayer_current_club_id     int64\ndate                      object\nplayer_name               object\ncompetition_id            object\nyellow_cards               int64\nred_cards                  int64\ngoals                      int64\nassists                    int64\nminutes_played             int64\ndtype: object"
     },
     "execution_count": 94,
     "metadata": {},
     "output_type": "execute_result"
    }
   ],
   "source": [
    "apr.dtypes"
   ],
   "metadata": {
    "collapsed": false,
    "ExecuteTime": {
     "end_time": "2023-12-22T16:54:47.613767600Z",
     "start_time": "2023-12-22T16:54:47.576400200Z"
    }
   },
   "id": "4db7a5074147ef71"
  },
  {
   "cell_type": "code",
   "execution_count": 95,
   "outputs": [],
   "source": [
    "apr['date'] = pd.to_datetime(apr['date'])"
   ],
   "metadata": {
    "collapsed": false,
    "ExecuteTime": {
     "end_time": "2023-12-22T16:55:58.249936800Z",
     "start_time": "2023-12-22T16:55:58.065659400Z"
    }
   },
   "id": "93e461377fcf38a1"
  },
  {
   "cell_type": "code",
   "execution_count": 96,
   "outputs": [
    {
     "data": {
      "text/plain": "appearance_id                     object\ngame_id                            int64\nplayer_id                          int64\nplayer_club_id                     int64\nplayer_current_club_id             int64\ndate                      datetime64[ns]\nplayer_name                       object\ncompetition_id                    object\nyellow_cards                       int64\nred_cards                          int64\ngoals                              int64\nassists                            int64\nminutes_played                     int64\ndtype: object"
     },
     "execution_count": 96,
     "metadata": {},
     "output_type": "execute_result"
    }
   ],
   "source": [
    "apr.dtypes"
   ],
   "metadata": {
    "collapsed": false,
    "ExecuteTime": {
     "end_time": "2023-12-22T16:56:04.822990900Z",
     "start_time": "2023-12-22T16:56:04.784281200Z"
    }
   },
   "id": "5bca4572b696ffb0"
  },
  {
   "cell_type": "code",
   "execution_count": 97,
   "outputs": [
    {
     "data": {
      "text/plain": "appearance_id               0\ngame_id                     0\nplayer_id                   0\nplayer_club_id              0\nplayer_current_club_id      0\ndate                        0\nplayer_name               324\ncompetition_id              0\nyellow_cards                0\nred_cards                   0\ngoals                       0\nassists                     0\nminutes_played              0\ndtype: int64"
     },
     "execution_count": 97,
     "metadata": {},
     "output_type": "execute_result"
    }
   ],
   "source": [
    "apr.isna().sum()"
   ],
   "metadata": {
    "collapsed": false,
    "ExecuteTime": {
     "end_time": "2023-12-22T16:56:21.080787900Z",
     "start_time": "2023-12-22T16:56:20.740371Z"
    }
   },
   "id": "29923458d48d5e5c"
  },
  {
   "cell_type": "code",
   "execution_count": 107,
   "outputs": [],
   "source": [
    "\n",
    "last_name_unknown = apr.loc[apr['player_id'] == 5974]\n"
   ],
   "metadata": {
    "collapsed": false,
    "ExecuteTime": {
     "end_time": "2023-12-22T17:07:12.482303200Z",
     "start_time": "2023-12-22T17:07:12.455543Z"
    }
   },
   "id": "97beb23fba6817c8"
  },
  {
   "cell_type": "code",
   "execution_count": 109,
   "outputs": [
    {
     "data": {
      "text/plain": "       appearance_id  game_id  player_id  player_club_id  \\\n73008   2252310_5974  2252310       5974             252   \n75091   2251446_5974  2251446       5974             252   \n78004   2251455_5974  2251455       5974             252   \n79860   2251465_5974  2251465       5974             252   \n84334   2251479_5974  2251479       5974             252   \n86864   2251486_5974  2251486       5974             252   \n92187   2251506_5974  2251506       5974             252   \n105858  2251552_5974  2251552       5974             252   \n110207  2251556_5974  2251556       5974             252   \n113180  2251570_5974  2251570       5974             252   \n115322  2251573_5974  2251573       5974             252   \n119830  2251586_5974  2251586       5974             252   \n122799  2251598_5974  2251598       5974             252   \n123325  2251606_5974  2251606       5974             252   \n126105  2251616_5974  2251616       5974             252   \n148301  2359219_5974  2359219       5974             252   \n151596  2359232_5974  2359232       5974             252   \n154430  2359240_5974  2359240       5974             252   \n159891  2359259_5974  2359259       5974             252   \n165322  2359266_5974  2359266       5974             252   \n173394  2359298_5974  2359298       5974             252   \n177465  2359307_5974  2359307       5974             252   \n181562  2359320_5974  2359320       5974             252   \n183530  2359328_5974  2359328       5974             252   \n187327  2359340_5974  2359340       5974             252   \n196357  2359358_5974  2359358       5974             252   \n199748  2359366_5974  2359366       5974             252   \n203039  2359378_5974  2359378       5974             252   \n205086  2359391_5974  2359391       5974             252   \n210386  2359409_5974  2359409       5974             252   \n213983  2359422_5974  2359422       5974             252   \n216862  2359430_5974  2359430       5974             252   \n220042  2359444_5974  2359444       5974             252   \n223737  2359449_5974  2359449       5974             252   \n233294  2359479_5974  2359479       5974             252   \n236548  2359488_5974  2359488       5974             252   \n424297  2604028_5974  2604028       5974             276   \n427340  2604035_5974  2604035       5974             276   \n431829  2604048_5974  2604048       5974             276   \n435790  2604062_5974  2604062       5974             276   \n436894  2604067_5974  2604067       5974             276   \n440425  2604075_5974  2604075       5974             276   \n443532  2604086_5974  2604086       5974             276   \n\n        player_current_club_id       date player_name competition_id  \\\n73008                      276 2013-01-06   Matuzalém            IT1   \n75091                      276 2013-01-13   Matuzalém            IT1   \n78004                      276 2013-01-20   Matuzalém            IT1   \n79860                      276 2013-01-26   Matuzalém            IT1   \n84334                      276 2013-02-03   Matuzalém            IT1   \n86864                      276 2013-02-10   Matuzalém            IT1   \n92187                      276 2013-02-23   Matuzalém            IT1   \n105858                     276 2013-03-30   Matuzalém            IT1   \n110207                     276 2013-04-07   Matuzalém            IT1   \n113180                     276 2013-04-14   Matuzalém            IT1   \n115322                     276 2013-04-20   Matuzalém            IT1   \n119830                     276 2013-04-28   Matuzalém            IT1   \n122799                     276 2013-05-05   Matuzalém            IT1   \n123325                     276 2013-05-08   Matuzalém            IT1   \n126105                     276 2013-05-12   Matuzalém            IT1   \n148301                     276 2013-09-01   Matuzalém            IT1   \n151596                     276 2013-09-15   Matuzalém            IT1   \n154430                     276 2013-09-21   Matuzalém            IT1   \n159891                     276 2013-09-28   Matuzalém            IT1   \n165322                     276 2013-10-06   Matuzalém            IT1   \n173394                     276 2013-10-30   Matuzalém            IT1   \n177465                     276 2013-11-03   Matuzalém            IT1   \n181562                     276 2013-11-10   Matuzalém            IT1   \n183530                     276 2013-11-23   Matuzalém            IT1   \n187327                     276 2013-11-30   Matuzalém            IT1   \n196357                     276 2013-12-15   Matuzalém            IT1   \n199748                     276 2013-12-22   Matuzalém            IT1   \n203039                     276 2014-01-06   Matuzalém            IT1   \n205086                     276 2014-01-12   Matuzalém            IT1   \n210386                     276 2014-01-26   Matuzalém            IT1   \n213983                     276 2014-02-03   Matuzalém            IT1   \n216862                     276 2014-02-09   Matuzalém            IT1   \n220042                     276 2014-02-16   Matuzalém            IT1   \n223737                     276 2014-02-24   Matuzalém            IT1   \n233294                     276 2014-03-16   Matuzalém            IT1   \n236548                     276 2014-03-23   Matuzalém            IT1   \n424297                     276 2015-09-27   Matuzalém            IT1   \n427340                     276 2015-10-03   Matuzalém            IT1   \n431829                     276 2015-10-18   Matuzalém            IT1   \n435790                     276 2015-10-25   Matuzalém            IT1   \n436894                     276 2015-10-28   Matuzalém            IT1   \n440425                     276 2015-11-01   Matuzalém            IT1   \n443532                     276 2015-11-07   Matuzalém            IT1   \n\n        yellow_cards  red_cards  goals  assists  minutes_played  \n73008              0          0      0        0              60  \n75091              0          0      0        0              58  \n78004              1          0      0        0              90  \n79860              1          0      0        0              90  \n84334              1          0      0        0              90  \n86864              0          0      0        0              90  \n92187              1          0      0        0              83  \n105858             1          0      0        1              90  \n110207             0          0      0        0              90  \n113180             1          0      1        0              90  \n115322             0          0      0        1              90  \n119830             0          0      0        0              90  \n122799             0          0      0        0              90  \n123325             0          0      0        0              90  \n126105             1          0      0        0              90  \n148301             0          0      0        1              45  \n151596             0          0      0        0              65  \n154430             0          0      0        0              72  \n159891             1          0      0        0              60  \n165322             1          0      0        0              62  \n173394             0          0      0        0              90  \n177465             1          0      0        0              90  \n181562             0          0      0        2              61  \n183530             0          0      0        0              90  \n187327             1          0      0        0              90  \n196357             0          0      0        0              90  \n199748             0          0      0        0              90  \n203039             1          0      0        0              90  \n205086             2          0      0        0              60  \n210386             0          0      0        1              90  \n213983             1          0      0        0              90  \n216862             0          0      0        0              90  \n220042             1          0      0        0              90  \n223737             1          0      0        0              90  \n233294             0          0      0        0              90  \n236548             0          0      0        0              15  \n424297             0          0      0        0              13  \n427340             0          0      0        0               5  \n431829             0          0      0        0              56  \n435790             0          0      0        0              33  \n436894             1          0      0        0              83  \n440425             0          0      0        0               6  \n443532             0          0      0        0              11  ",
      "text/html": "<div>\n<style scoped>\n    .dataframe tbody tr th:only-of-type {\n        vertical-align: middle;\n    }\n\n    .dataframe tbody tr th {\n        vertical-align: top;\n    }\n\n    .dataframe thead th {\n        text-align: right;\n    }\n</style>\n<table border=\"1\" class=\"dataframe\">\n  <thead>\n    <tr style=\"text-align: right;\">\n      <th></th>\n      <th>appearance_id</th>\n      <th>game_id</th>\n      <th>player_id</th>\n      <th>player_club_id</th>\n      <th>player_current_club_id</th>\n      <th>date</th>\n      <th>player_name</th>\n      <th>competition_id</th>\n      <th>yellow_cards</th>\n      <th>red_cards</th>\n      <th>goals</th>\n      <th>assists</th>\n      <th>minutes_played</th>\n    </tr>\n  </thead>\n  <tbody>\n    <tr>\n      <th>73008</th>\n      <td>2252310_5974</td>\n      <td>2252310</td>\n      <td>5974</td>\n      <td>252</td>\n      <td>276</td>\n      <td>2013-01-06</td>\n      <td>Matuzalém</td>\n      <td>IT1</td>\n      <td>0</td>\n      <td>0</td>\n      <td>0</td>\n      <td>0</td>\n      <td>60</td>\n    </tr>\n    <tr>\n      <th>75091</th>\n      <td>2251446_5974</td>\n      <td>2251446</td>\n      <td>5974</td>\n      <td>252</td>\n      <td>276</td>\n      <td>2013-01-13</td>\n      <td>Matuzalém</td>\n      <td>IT1</td>\n      <td>0</td>\n      <td>0</td>\n      <td>0</td>\n      <td>0</td>\n      <td>58</td>\n    </tr>\n    <tr>\n      <th>78004</th>\n      <td>2251455_5974</td>\n      <td>2251455</td>\n      <td>5974</td>\n      <td>252</td>\n      <td>276</td>\n      <td>2013-01-20</td>\n      <td>Matuzalém</td>\n      <td>IT1</td>\n      <td>1</td>\n      <td>0</td>\n      <td>0</td>\n      <td>0</td>\n      <td>90</td>\n    </tr>\n    <tr>\n      <th>79860</th>\n      <td>2251465_5974</td>\n      <td>2251465</td>\n      <td>5974</td>\n      <td>252</td>\n      <td>276</td>\n      <td>2013-01-26</td>\n      <td>Matuzalém</td>\n      <td>IT1</td>\n      <td>1</td>\n      <td>0</td>\n      <td>0</td>\n      <td>0</td>\n      <td>90</td>\n    </tr>\n    <tr>\n      <th>84334</th>\n      <td>2251479_5974</td>\n      <td>2251479</td>\n      <td>5974</td>\n      <td>252</td>\n      <td>276</td>\n      <td>2013-02-03</td>\n      <td>Matuzalém</td>\n      <td>IT1</td>\n      <td>1</td>\n      <td>0</td>\n      <td>0</td>\n      <td>0</td>\n      <td>90</td>\n    </tr>\n    <tr>\n      <th>86864</th>\n      <td>2251486_5974</td>\n      <td>2251486</td>\n      <td>5974</td>\n      <td>252</td>\n      <td>276</td>\n      <td>2013-02-10</td>\n      <td>Matuzalém</td>\n      <td>IT1</td>\n      <td>0</td>\n      <td>0</td>\n      <td>0</td>\n      <td>0</td>\n      <td>90</td>\n    </tr>\n    <tr>\n      <th>92187</th>\n      <td>2251506_5974</td>\n      <td>2251506</td>\n      <td>5974</td>\n      <td>252</td>\n      <td>276</td>\n      <td>2013-02-23</td>\n      <td>Matuzalém</td>\n      <td>IT1</td>\n      <td>1</td>\n      <td>0</td>\n      <td>0</td>\n      <td>0</td>\n      <td>83</td>\n    </tr>\n    <tr>\n      <th>105858</th>\n      <td>2251552_5974</td>\n      <td>2251552</td>\n      <td>5974</td>\n      <td>252</td>\n      <td>276</td>\n      <td>2013-03-30</td>\n      <td>Matuzalém</td>\n      <td>IT1</td>\n      <td>1</td>\n      <td>0</td>\n      <td>0</td>\n      <td>1</td>\n      <td>90</td>\n    </tr>\n    <tr>\n      <th>110207</th>\n      <td>2251556_5974</td>\n      <td>2251556</td>\n      <td>5974</td>\n      <td>252</td>\n      <td>276</td>\n      <td>2013-04-07</td>\n      <td>Matuzalém</td>\n      <td>IT1</td>\n      <td>0</td>\n      <td>0</td>\n      <td>0</td>\n      <td>0</td>\n      <td>90</td>\n    </tr>\n    <tr>\n      <th>113180</th>\n      <td>2251570_5974</td>\n      <td>2251570</td>\n      <td>5974</td>\n      <td>252</td>\n      <td>276</td>\n      <td>2013-04-14</td>\n      <td>Matuzalém</td>\n      <td>IT1</td>\n      <td>1</td>\n      <td>0</td>\n      <td>1</td>\n      <td>0</td>\n      <td>90</td>\n    </tr>\n    <tr>\n      <th>115322</th>\n      <td>2251573_5974</td>\n      <td>2251573</td>\n      <td>5974</td>\n      <td>252</td>\n      <td>276</td>\n      <td>2013-04-20</td>\n      <td>Matuzalém</td>\n      <td>IT1</td>\n      <td>0</td>\n      <td>0</td>\n      <td>0</td>\n      <td>1</td>\n      <td>90</td>\n    </tr>\n    <tr>\n      <th>119830</th>\n      <td>2251586_5974</td>\n      <td>2251586</td>\n      <td>5974</td>\n      <td>252</td>\n      <td>276</td>\n      <td>2013-04-28</td>\n      <td>Matuzalém</td>\n      <td>IT1</td>\n      <td>0</td>\n      <td>0</td>\n      <td>0</td>\n      <td>0</td>\n      <td>90</td>\n    </tr>\n    <tr>\n      <th>122799</th>\n      <td>2251598_5974</td>\n      <td>2251598</td>\n      <td>5974</td>\n      <td>252</td>\n      <td>276</td>\n      <td>2013-05-05</td>\n      <td>Matuzalém</td>\n      <td>IT1</td>\n      <td>0</td>\n      <td>0</td>\n      <td>0</td>\n      <td>0</td>\n      <td>90</td>\n    </tr>\n    <tr>\n      <th>123325</th>\n      <td>2251606_5974</td>\n      <td>2251606</td>\n      <td>5974</td>\n      <td>252</td>\n      <td>276</td>\n      <td>2013-05-08</td>\n      <td>Matuzalém</td>\n      <td>IT1</td>\n      <td>0</td>\n      <td>0</td>\n      <td>0</td>\n      <td>0</td>\n      <td>90</td>\n    </tr>\n    <tr>\n      <th>126105</th>\n      <td>2251616_5974</td>\n      <td>2251616</td>\n      <td>5974</td>\n      <td>252</td>\n      <td>276</td>\n      <td>2013-05-12</td>\n      <td>Matuzalém</td>\n      <td>IT1</td>\n      <td>1</td>\n      <td>0</td>\n      <td>0</td>\n      <td>0</td>\n      <td>90</td>\n    </tr>\n    <tr>\n      <th>148301</th>\n      <td>2359219_5974</td>\n      <td>2359219</td>\n      <td>5974</td>\n      <td>252</td>\n      <td>276</td>\n      <td>2013-09-01</td>\n      <td>Matuzalém</td>\n      <td>IT1</td>\n      <td>0</td>\n      <td>0</td>\n      <td>0</td>\n      <td>1</td>\n      <td>45</td>\n    </tr>\n    <tr>\n      <th>151596</th>\n      <td>2359232_5974</td>\n      <td>2359232</td>\n      <td>5974</td>\n      <td>252</td>\n      <td>276</td>\n      <td>2013-09-15</td>\n      <td>Matuzalém</td>\n      <td>IT1</td>\n      <td>0</td>\n      <td>0</td>\n      <td>0</td>\n      <td>0</td>\n      <td>65</td>\n    </tr>\n    <tr>\n      <th>154430</th>\n      <td>2359240_5974</td>\n      <td>2359240</td>\n      <td>5974</td>\n      <td>252</td>\n      <td>276</td>\n      <td>2013-09-21</td>\n      <td>Matuzalém</td>\n      <td>IT1</td>\n      <td>0</td>\n      <td>0</td>\n      <td>0</td>\n      <td>0</td>\n      <td>72</td>\n    </tr>\n    <tr>\n      <th>159891</th>\n      <td>2359259_5974</td>\n      <td>2359259</td>\n      <td>5974</td>\n      <td>252</td>\n      <td>276</td>\n      <td>2013-09-28</td>\n      <td>Matuzalém</td>\n      <td>IT1</td>\n      <td>1</td>\n      <td>0</td>\n      <td>0</td>\n      <td>0</td>\n      <td>60</td>\n    </tr>\n    <tr>\n      <th>165322</th>\n      <td>2359266_5974</td>\n      <td>2359266</td>\n      <td>5974</td>\n      <td>252</td>\n      <td>276</td>\n      <td>2013-10-06</td>\n      <td>Matuzalém</td>\n      <td>IT1</td>\n      <td>1</td>\n      <td>0</td>\n      <td>0</td>\n      <td>0</td>\n      <td>62</td>\n    </tr>\n    <tr>\n      <th>173394</th>\n      <td>2359298_5974</td>\n      <td>2359298</td>\n      <td>5974</td>\n      <td>252</td>\n      <td>276</td>\n      <td>2013-10-30</td>\n      <td>Matuzalém</td>\n      <td>IT1</td>\n      <td>0</td>\n      <td>0</td>\n      <td>0</td>\n      <td>0</td>\n      <td>90</td>\n    </tr>\n    <tr>\n      <th>177465</th>\n      <td>2359307_5974</td>\n      <td>2359307</td>\n      <td>5974</td>\n      <td>252</td>\n      <td>276</td>\n      <td>2013-11-03</td>\n      <td>Matuzalém</td>\n      <td>IT1</td>\n      <td>1</td>\n      <td>0</td>\n      <td>0</td>\n      <td>0</td>\n      <td>90</td>\n    </tr>\n    <tr>\n      <th>181562</th>\n      <td>2359320_5974</td>\n      <td>2359320</td>\n      <td>5974</td>\n      <td>252</td>\n      <td>276</td>\n      <td>2013-11-10</td>\n      <td>Matuzalém</td>\n      <td>IT1</td>\n      <td>0</td>\n      <td>0</td>\n      <td>0</td>\n      <td>2</td>\n      <td>61</td>\n    </tr>\n    <tr>\n      <th>183530</th>\n      <td>2359328_5974</td>\n      <td>2359328</td>\n      <td>5974</td>\n      <td>252</td>\n      <td>276</td>\n      <td>2013-11-23</td>\n      <td>Matuzalém</td>\n      <td>IT1</td>\n      <td>0</td>\n      <td>0</td>\n      <td>0</td>\n      <td>0</td>\n      <td>90</td>\n    </tr>\n    <tr>\n      <th>187327</th>\n      <td>2359340_5974</td>\n      <td>2359340</td>\n      <td>5974</td>\n      <td>252</td>\n      <td>276</td>\n      <td>2013-11-30</td>\n      <td>Matuzalém</td>\n      <td>IT1</td>\n      <td>1</td>\n      <td>0</td>\n      <td>0</td>\n      <td>0</td>\n      <td>90</td>\n    </tr>\n    <tr>\n      <th>196357</th>\n      <td>2359358_5974</td>\n      <td>2359358</td>\n      <td>5974</td>\n      <td>252</td>\n      <td>276</td>\n      <td>2013-12-15</td>\n      <td>Matuzalém</td>\n      <td>IT1</td>\n      <td>0</td>\n      <td>0</td>\n      <td>0</td>\n      <td>0</td>\n      <td>90</td>\n    </tr>\n    <tr>\n      <th>199748</th>\n      <td>2359366_5974</td>\n      <td>2359366</td>\n      <td>5974</td>\n      <td>252</td>\n      <td>276</td>\n      <td>2013-12-22</td>\n      <td>Matuzalém</td>\n      <td>IT1</td>\n      <td>0</td>\n      <td>0</td>\n      <td>0</td>\n      <td>0</td>\n      <td>90</td>\n    </tr>\n    <tr>\n      <th>203039</th>\n      <td>2359378_5974</td>\n      <td>2359378</td>\n      <td>5974</td>\n      <td>252</td>\n      <td>276</td>\n      <td>2014-01-06</td>\n      <td>Matuzalém</td>\n      <td>IT1</td>\n      <td>1</td>\n      <td>0</td>\n      <td>0</td>\n      <td>0</td>\n      <td>90</td>\n    </tr>\n    <tr>\n      <th>205086</th>\n      <td>2359391_5974</td>\n      <td>2359391</td>\n      <td>5974</td>\n      <td>252</td>\n      <td>276</td>\n      <td>2014-01-12</td>\n      <td>Matuzalém</td>\n      <td>IT1</td>\n      <td>2</td>\n      <td>0</td>\n      <td>0</td>\n      <td>0</td>\n      <td>60</td>\n    </tr>\n    <tr>\n      <th>210386</th>\n      <td>2359409_5974</td>\n      <td>2359409</td>\n      <td>5974</td>\n      <td>252</td>\n      <td>276</td>\n      <td>2014-01-26</td>\n      <td>Matuzalém</td>\n      <td>IT1</td>\n      <td>0</td>\n      <td>0</td>\n      <td>0</td>\n      <td>1</td>\n      <td>90</td>\n    </tr>\n    <tr>\n      <th>213983</th>\n      <td>2359422_5974</td>\n      <td>2359422</td>\n      <td>5974</td>\n      <td>252</td>\n      <td>276</td>\n      <td>2014-02-03</td>\n      <td>Matuzalém</td>\n      <td>IT1</td>\n      <td>1</td>\n      <td>0</td>\n      <td>0</td>\n      <td>0</td>\n      <td>90</td>\n    </tr>\n    <tr>\n      <th>216862</th>\n      <td>2359430_5974</td>\n      <td>2359430</td>\n      <td>5974</td>\n      <td>252</td>\n      <td>276</td>\n      <td>2014-02-09</td>\n      <td>Matuzalém</td>\n      <td>IT1</td>\n      <td>0</td>\n      <td>0</td>\n      <td>0</td>\n      <td>0</td>\n      <td>90</td>\n    </tr>\n    <tr>\n      <th>220042</th>\n      <td>2359444_5974</td>\n      <td>2359444</td>\n      <td>5974</td>\n      <td>252</td>\n      <td>276</td>\n      <td>2014-02-16</td>\n      <td>Matuzalém</td>\n      <td>IT1</td>\n      <td>1</td>\n      <td>0</td>\n      <td>0</td>\n      <td>0</td>\n      <td>90</td>\n    </tr>\n    <tr>\n      <th>223737</th>\n      <td>2359449_5974</td>\n      <td>2359449</td>\n      <td>5974</td>\n      <td>252</td>\n      <td>276</td>\n      <td>2014-02-24</td>\n      <td>Matuzalém</td>\n      <td>IT1</td>\n      <td>1</td>\n      <td>0</td>\n      <td>0</td>\n      <td>0</td>\n      <td>90</td>\n    </tr>\n    <tr>\n      <th>233294</th>\n      <td>2359479_5974</td>\n      <td>2359479</td>\n      <td>5974</td>\n      <td>252</td>\n      <td>276</td>\n      <td>2014-03-16</td>\n      <td>Matuzalém</td>\n      <td>IT1</td>\n      <td>0</td>\n      <td>0</td>\n      <td>0</td>\n      <td>0</td>\n      <td>90</td>\n    </tr>\n    <tr>\n      <th>236548</th>\n      <td>2359488_5974</td>\n      <td>2359488</td>\n      <td>5974</td>\n      <td>252</td>\n      <td>276</td>\n      <td>2014-03-23</td>\n      <td>Matuzalém</td>\n      <td>IT1</td>\n      <td>0</td>\n      <td>0</td>\n      <td>0</td>\n      <td>0</td>\n      <td>15</td>\n    </tr>\n    <tr>\n      <th>424297</th>\n      <td>2604028_5974</td>\n      <td>2604028</td>\n      <td>5974</td>\n      <td>276</td>\n      <td>276</td>\n      <td>2015-09-27</td>\n      <td>Matuzalém</td>\n      <td>IT1</td>\n      <td>0</td>\n      <td>0</td>\n      <td>0</td>\n      <td>0</td>\n      <td>13</td>\n    </tr>\n    <tr>\n      <th>427340</th>\n      <td>2604035_5974</td>\n      <td>2604035</td>\n      <td>5974</td>\n      <td>276</td>\n      <td>276</td>\n      <td>2015-10-03</td>\n      <td>Matuzalém</td>\n      <td>IT1</td>\n      <td>0</td>\n      <td>0</td>\n      <td>0</td>\n      <td>0</td>\n      <td>5</td>\n    </tr>\n    <tr>\n      <th>431829</th>\n      <td>2604048_5974</td>\n      <td>2604048</td>\n      <td>5974</td>\n      <td>276</td>\n      <td>276</td>\n      <td>2015-10-18</td>\n      <td>Matuzalém</td>\n      <td>IT1</td>\n      <td>0</td>\n      <td>0</td>\n      <td>0</td>\n      <td>0</td>\n      <td>56</td>\n    </tr>\n    <tr>\n      <th>435790</th>\n      <td>2604062_5974</td>\n      <td>2604062</td>\n      <td>5974</td>\n      <td>276</td>\n      <td>276</td>\n      <td>2015-10-25</td>\n      <td>Matuzalém</td>\n      <td>IT1</td>\n      <td>0</td>\n      <td>0</td>\n      <td>0</td>\n      <td>0</td>\n      <td>33</td>\n    </tr>\n    <tr>\n      <th>436894</th>\n      <td>2604067_5974</td>\n      <td>2604067</td>\n      <td>5974</td>\n      <td>276</td>\n      <td>276</td>\n      <td>2015-10-28</td>\n      <td>Matuzalém</td>\n      <td>IT1</td>\n      <td>1</td>\n      <td>0</td>\n      <td>0</td>\n      <td>0</td>\n      <td>83</td>\n    </tr>\n    <tr>\n      <th>440425</th>\n      <td>2604075_5974</td>\n      <td>2604075</td>\n      <td>5974</td>\n      <td>276</td>\n      <td>276</td>\n      <td>2015-11-01</td>\n      <td>Matuzalém</td>\n      <td>IT1</td>\n      <td>0</td>\n      <td>0</td>\n      <td>0</td>\n      <td>0</td>\n      <td>6</td>\n    </tr>\n    <tr>\n      <th>443532</th>\n      <td>2604086_5974</td>\n      <td>2604086</td>\n      <td>5974</td>\n      <td>276</td>\n      <td>276</td>\n      <td>2015-11-07</td>\n      <td>Matuzalém</td>\n      <td>IT1</td>\n      <td>0</td>\n      <td>0</td>\n      <td>0</td>\n      <td>0</td>\n      <td>11</td>\n    </tr>\n  </tbody>\n</table>\n</div>"
     },
     "execution_count": 109,
     "metadata": {},
     "output_type": "execute_result"
    }
   ],
   "source": [
    "# dove il first_name del giocatore nella tabella players è vuoto, su player_name comparirà solo il first_name\n",
    "last_name_unknown"
   ],
   "metadata": {
    "collapsed": false,
    "ExecuteTime": {
     "end_time": "2023-12-22T17:08:33.631504900Z",
     "start_time": "2023-12-22T17:08:33.596080500Z"
    }
   },
   "id": "64a30548821f313c"
  },
  {
   "cell_type": "markdown",
   "source": [
    "## <font color='green'>game_events</font> table\n"
   ],
   "metadata": {
    "collapsed": false
   },
   "id": "3acfb8b571358c18"
  },
  {
   "cell_type": "code",
   "execution_count": 110,
   "outputs": [
    {
     "data": {
      "text/plain": "                      game_event_id        date  game_id  minute  \\\n0  2f41da30c471492e7d4a984951671677  2012-08-05  2211607      77   \n1  a72f7186d132775f234d3e2f7bc0ed5b  2012-08-05  2211607      77   \n2  b2d721eaed4692a5c59a92323689ef18  2012-08-05  2211607       3   \n3  aef768899cedac0c9a650980219075a2  2012-08-05  2211607      53   \n4  5d6d9533023057b6619ecd145a038bbe  2012-08-05  2211607      74   \n\n            type  club_id  player_id  \\\n0          Cards      610       4425   \n1          Cards      383      33210   \n2          Goals      383      36500   \n3          Goals      383      36500   \n4  Substitutions      383      36500   \n\n                                         description  player_in_id  \\\n0               1. Yellow card  , Mass confrontation           NaN   \n1               1. Yellow card  , Mass confrontation           NaN   \n2  , Header, 1. Tournament Goal Assist: , Corner,...           NaN   \n3  , Right-footed shot, 2. Tournament Goal Assist...           NaN   \n4                                     , Not reported       49499.0   \n\n   player_assist_id  \n0               NaN  \n1               NaN  \n2           56416.0  \n3          146258.0  \n4               NaN  ",
      "text/html": "<div>\n<style scoped>\n    .dataframe tbody tr th:only-of-type {\n        vertical-align: middle;\n    }\n\n    .dataframe tbody tr th {\n        vertical-align: top;\n    }\n\n    .dataframe thead th {\n        text-align: right;\n    }\n</style>\n<table border=\"1\" class=\"dataframe\">\n  <thead>\n    <tr style=\"text-align: right;\">\n      <th></th>\n      <th>game_event_id</th>\n      <th>date</th>\n      <th>game_id</th>\n      <th>minute</th>\n      <th>type</th>\n      <th>club_id</th>\n      <th>player_id</th>\n      <th>description</th>\n      <th>player_in_id</th>\n      <th>player_assist_id</th>\n    </tr>\n  </thead>\n  <tbody>\n    <tr>\n      <th>0</th>\n      <td>2f41da30c471492e7d4a984951671677</td>\n      <td>2012-08-05</td>\n      <td>2211607</td>\n      <td>77</td>\n      <td>Cards</td>\n      <td>610</td>\n      <td>4425</td>\n      <td>1. Yellow card  , Mass confrontation</td>\n      <td>NaN</td>\n      <td>NaN</td>\n    </tr>\n    <tr>\n      <th>1</th>\n      <td>a72f7186d132775f234d3e2f7bc0ed5b</td>\n      <td>2012-08-05</td>\n      <td>2211607</td>\n      <td>77</td>\n      <td>Cards</td>\n      <td>383</td>\n      <td>33210</td>\n      <td>1. Yellow card  , Mass confrontation</td>\n      <td>NaN</td>\n      <td>NaN</td>\n    </tr>\n    <tr>\n      <th>2</th>\n      <td>b2d721eaed4692a5c59a92323689ef18</td>\n      <td>2012-08-05</td>\n      <td>2211607</td>\n      <td>3</td>\n      <td>Goals</td>\n      <td>383</td>\n      <td>36500</td>\n      <td>, Header, 1. Tournament Goal Assist: , Corner,...</td>\n      <td>NaN</td>\n      <td>56416.0</td>\n    </tr>\n    <tr>\n      <th>3</th>\n      <td>aef768899cedac0c9a650980219075a2</td>\n      <td>2012-08-05</td>\n      <td>2211607</td>\n      <td>53</td>\n      <td>Goals</td>\n      <td>383</td>\n      <td>36500</td>\n      <td>, Right-footed shot, 2. Tournament Goal Assist...</td>\n      <td>NaN</td>\n      <td>146258.0</td>\n    </tr>\n    <tr>\n      <th>4</th>\n      <td>5d6d9533023057b6619ecd145a038bbe</td>\n      <td>2012-08-05</td>\n      <td>2211607</td>\n      <td>74</td>\n      <td>Substitutions</td>\n      <td>383</td>\n      <td>36500</td>\n      <td>, Not reported</td>\n      <td>49499.0</td>\n      <td>NaN</td>\n    </tr>\n  </tbody>\n</table>\n</div>"
     },
     "execution_count": 110,
     "metadata": {},
     "output_type": "execute_result"
    }
   ],
   "source": [
    "gme = pd.read_csv('../csv/game_events.csv')\n",
    "gme.head()"
   ],
   "metadata": {
    "collapsed": false,
    "ExecuteTime": {
     "end_time": "2023-12-22T17:10:24.120997800Z",
     "start_time": "2023-12-22T17:10:22.947062800Z"
    }
   },
   "id": "b432e7b5ae5bc4fa"
  },
  {
   "cell_type": "code",
   "execution_count": 111,
   "outputs": [
    {
     "data": {
      "text/plain": "Index(['game_event_id', 'date', 'game_id', 'minute', 'type', 'club_id',\n       'player_id', 'description', 'player_in_id', 'player_assist_id'],\n      dtype='object')"
     },
     "execution_count": 111,
     "metadata": {},
     "output_type": "execute_result"
    }
   ],
   "source": [
    "gme.columns\n"
   ],
   "metadata": {
    "collapsed": false,
    "ExecuteTime": {
     "end_time": "2023-12-22T17:10:39.523641400Z",
     "start_time": "2023-12-22T17:10:39.467905800Z"
    }
   },
   "id": "257c497c798a6641"
  },
  {
   "cell_type": "code",
   "execution_count": 112,
   "outputs": [
    {
     "data": {
      "text/plain": "game_event_id        object\ndate                 object\ngame_id               int64\nminute                int64\ntype                 object\nclub_id               int64\nplayer_id             int64\ndescription          object\nplayer_in_id        float64\nplayer_assist_id    float64\ndtype: object"
     },
     "execution_count": 112,
     "metadata": {},
     "output_type": "execute_result"
    }
   ],
   "source": [
    "gme.dtypes"
   ],
   "metadata": {
    "collapsed": false,
    "ExecuteTime": {
     "end_time": "2023-12-22T17:10:44.887762900Z",
     "start_time": "2023-12-22T17:10:44.839971100Z"
    }
   },
   "id": "5eb5f07c5bcb5462"
  },
  {
   "cell_type": "code",
   "execution_count": 113,
   "outputs": [],
   "source": [
    "gme['date'] = pd.to_datetime(gme['date'])"
   ],
   "metadata": {
    "collapsed": false,
    "ExecuteTime": {
     "end_time": "2023-12-22T17:12:09.666772900Z",
     "start_time": "2023-12-22T17:12:09.572840100Z"
    }
   },
   "id": "b2deada0f017043a"
  },
  {
   "cell_type": "code",
   "execution_count": 114,
   "outputs": [
    {
     "data": {
      "text/plain": "game_event_id               object\ndate                datetime64[ns]\ngame_id                      int64\nminute                       int64\ntype                        object\nclub_id                      int64\nplayer_id                    int64\ndescription                 object\nplayer_in_id               float64\nplayer_assist_id           float64\ndtype: object"
     },
     "execution_count": 114,
     "metadata": {},
     "output_type": "execute_result"
    }
   ],
   "source": [
    "gme.dtypes"
   ],
   "metadata": {
    "collapsed": false,
    "ExecuteTime": {
     "end_time": "2023-12-22T17:12:13.470464700Z",
     "start_time": "2023-12-22T17:12:13.425276900Z"
    }
   },
   "id": "8fd1d82777ad31a5"
  },
  {
   "cell_type": "code",
   "execution_count": 116,
   "outputs": [
    {
     "data": {
      "text/plain": "game_event_id            0\ndate                     0\ngame_id                  0\nminute                   0\ntype                     0\nclub_id                  0\nplayer_id                0\ndescription         336325\nplayer_in_id        245309\nplayer_assist_id    635701\ndtype: int64"
     },
     "execution_count": 116,
     "metadata": {},
     "output_type": "execute_result"
    }
   ],
   "source": [
    "gme.isna().sum()"
   ],
   "metadata": {
    "collapsed": false,
    "ExecuteTime": {
     "end_time": "2023-12-22T17:14:22.180568500Z",
     "start_time": "2023-12-22T17:14:21.965508Z"
    }
   },
   "id": "cceb3be136681696"
  },
  {
   "cell_type": "code",
   "execution_count": 118,
   "outputs": [
    {
     "data": {
      "text/plain": "(666558, 10)"
     },
     "execution_count": 118,
     "metadata": {},
     "output_type": "execute_result"
    }
   ],
   "source": [
    "gme.shape"
   ],
   "metadata": {
    "collapsed": false,
    "ExecuteTime": {
     "end_time": "2023-12-22T17:14:39.877084900Z",
     "start_time": "2023-12-22T17:14:39.859851800Z"
    }
   },
   "id": "fd98b0ae339b26c1"
  },
  {
   "cell_type": "markdown",
   "source": [
    "## <font color='green'>player_valutations</font> table"
   ],
   "metadata": {
    "collapsed": false
   },
   "id": "adc1a4ab6d698d6e"
  },
  {
   "cell_type": "code",
   "execution_count": 119,
   "outputs": [],
   "source": [
    "plv = pd.read_csv('../csv/player_valuations.csv')\n"
   ],
   "metadata": {
    "collapsed": false,
    "ExecuteTime": {
     "end_time": "2023-12-22T19:13:20.167582200Z",
     "start_time": "2023-12-22T19:13:19.502312300Z"
    }
   },
   "id": "792aff5c244233d8"
  },
  {
   "cell_type": "code",
   "execution_count": 120,
   "outputs": [
    {
     "data": {
      "text/plain": "Index(['player_id', 'last_season', 'datetime', 'date', 'dateweek',\n       'market_value_in_eur', 'n', 'current_club_id',\n       'player_club_domestic_competition_id'],\n      dtype='object')"
     },
     "execution_count": 120,
     "metadata": {},
     "output_type": "execute_result"
    }
   ],
   "source": [
    "plv.columns"
   ],
   "metadata": {
    "collapsed": false,
    "ExecuteTime": {
     "end_time": "2023-12-22T19:13:24.782370900Z",
     "start_time": "2023-12-22T19:13:24.745811200Z"
    }
   },
   "id": "3dc066d90b0686da"
  },
  {
   "cell_type": "code",
   "execution_count": 121,
   "outputs": [
    {
     "data": {
      "text/plain": "player_id                               int64\nlast_season                             int64\ndatetime                               object\ndate                                   object\ndateweek                               object\nmarket_value_in_eur                     int64\nn                                       int64\ncurrent_club_id                         int64\nplayer_club_domestic_competition_id    object\ndtype: object"
     },
     "execution_count": 121,
     "metadata": {},
     "output_type": "execute_result"
    }
   ],
   "source": [
    "plv.dtypes"
   ],
   "metadata": {
    "collapsed": false,
    "ExecuteTime": {
     "end_time": "2023-12-22T19:13:32.649717400Z",
     "start_time": "2023-12-22T19:13:32.595495500Z"
    }
   },
   "id": "f0bd13879f4e559b"
  },
  {
   "cell_type": "code",
   "execution_count": 122,
   "outputs": [
    {
     "data": {
      "text/plain": "   player_id  last_season             datetime        date    dateweek  \\\n0       3132         2013  2003-12-09 00:00:00  2003-12-09  2003-12-08   \n1       6893         2012  2003-12-15 00:00:00  2003-12-15  2003-12-15   \n2         10         2015  2004-10-04 00:00:00  2004-10-04  2004-10-04   \n3         26         2017  2004-10-04 00:00:00  2004-10-04  2004-10-04   \n4         65         2015  2004-10-04 00:00:00  2004-10-04  2004-10-04   \n\n   market_value_in_eur  n  current_club_id player_club_domestic_competition_id  \n0               400000  1              126                                 TR1  \n1               900000  1              984                                 GB1  \n2              7000000  1              398                                 IT1  \n3              1500000  1               16                                  L1  \n4              8000000  1             1091                                 GR1  ",
      "text/html": "<div>\n<style scoped>\n    .dataframe tbody tr th:only-of-type {\n        vertical-align: middle;\n    }\n\n    .dataframe tbody tr th {\n        vertical-align: top;\n    }\n\n    .dataframe thead th {\n        text-align: right;\n    }\n</style>\n<table border=\"1\" class=\"dataframe\">\n  <thead>\n    <tr style=\"text-align: right;\">\n      <th></th>\n      <th>player_id</th>\n      <th>last_season</th>\n      <th>datetime</th>\n      <th>date</th>\n      <th>dateweek</th>\n      <th>market_value_in_eur</th>\n      <th>n</th>\n      <th>current_club_id</th>\n      <th>player_club_domestic_competition_id</th>\n    </tr>\n  </thead>\n  <tbody>\n    <tr>\n      <th>0</th>\n      <td>3132</td>\n      <td>2013</td>\n      <td>2003-12-09 00:00:00</td>\n      <td>2003-12-09</td>\n      <td>2003-12-08</td>\n      <td>400000</td>\n      <td>1</td>\n      <td>126</td>\n      <td>TR1</td>\n    </tr>\n    <tr>\n      <th>1</th>\n      <td>6893</td>\n      <td>2012</td>\n      <td>2003-12-15 00:00:00</td>\n      <td>2003-12-15</td>\n      <td>2003-12-15</td>\n      <td>900000</td>\n      <td>1</td>\n      <td>984</td>\n      <td>GB1</td>\n    </tr>\n    <tr>\n      <th>2</th>\n      <td>10</td>\n      <td>2015</td>\n      <td>2004-10-04 00:00:00</td>\n      <td>2004-10-04</td>\n      <td>2004-10-04</td>\n      <td>7000000</td>\n      <td>1</td>\n      <td>398</td>\n      <td>IT1</td>\n    </tr>\n    <tr>\n      <th>3</th>\n      <td>26</td>\n      <td>2017</td>\n      <td>2004-10-04 00:00:00</td>\n      <td>2004-10-04</td>\n      <td>2004-10-04</td>\n      <td>1500000</td>\n      <td>1</td>\n      <td>16</td>\n      <td>L1</td>\n    </tr>\n    <tr>\n      <th>4</th>\n      <td>65</td>\n      <td>2015</td>\n      <td>2004-10-04 00:00:00</td>\n      <td>2004-10-04</td>\n      <td>2004-10-04</td>\n      <td>8000000</td>\n      <td>1</td>\n      <td>1091</td>\n      <td>GR1</td>\n    </tr>\n  </tbody>\n</table>\n</div>"
     },
     "execution_count": 122,
     "metadata": {},
     "output_type": "execute_result"
    }
   ],
   "source": [
    "plv.head()"
   ],
   "metadata": {
    "collapsed": false,
    "ExecuteTime": {
     "end_time": "2023-12-22T19:13:45.972940600Z",
     "start_time": "2023-12-22T19:13:45.919603900Z"
    }
   },
   "id": "ce5a5d0cce0ebaf"
  },
  {
   "cell_type": "code",
   "execution_count": 123,
   "outputs": [
    {
     "data": {
      "text/plain": "(440663, 9)"
     },
     "execution_count": 123,
     "metadata": {},
     "output_type": "execute_result"
    }
   ],
   "source": [
    "plv.shape"
   ],
   "metadata": {
    "collapsed": false,
    "ExecuteTime": {
     "end_time": "2023-12-22T19:14:48.336096800Z",
     "start_time": "2023-12-22T19:14:48.291896400Z"
    }
   },
   "id": "c73d35c900aeb610"
  },
  {
   "cell_type": "code",
   "execution_count": 125,
   "outputs": [
    {
     "data": {
      "text/plain": "        player_id  last_season             datetime        date    dateweek  \\\n440658     950091         2023  2023-09-21 00:00:00  2023-09-21  2023-09-18   \n440659     968903         2023  2023-09-21 00:00:00  2023-09-21  2023-09-18   \n440660    1031590         2023  2023-09-21 00:00:00  2023-09-21  2023-09-18   \n440661    1166093         2023  2023-09-21 00:00:00  2023-09-21  2023-09-18   \n440662     405676         2018  2023-12-19 00:00:00  2023-12-19  2023-12-18   \n\n        market_value_in_eur  n  current_club_id  \\\n440658              1000000  1             1091   \n440659                50000  1              653   \n440660                50000  1             6418   \n440661                50000  1            30120   \n440662                50000  1            23826   \n\n       player_club_domestic_competition_id  \n440658                                 GR1  \n440659                                 GR1  \n440660                                 GR1  \n440661                                 GR1  \n440662                                  L1  ",
      "text/html": "<div>\n<style scoped>\n    .dataframe tbody tr th:only-of-type {\n        vertical-align: middle;\n    }\n\n    .dataframe tbody tr th {\n        vertical-align: top;\n    }\n\n    .dataframe thead th {\n        text-align: right;\n    }\n</style>\n<table border=\"1\" class=\"dataframe\">\n  <thead>\n    <tr style=\"text-align: right;\">\n      <th></th>\n      <th>player_id</th>\n      <th>last_season</th>\n      <th>datetime</th>\n      <th>date</th>\n      <th>dateweek</th>\n      <th>market_value_in_eur</th>\n      <th>n</th>\n      <th>current_club_id</th>\n      <th>player_club_domestic_competition_id</th>\n    </tr>\n  </thead>\n  <tbody>\n    <tr>\n      <th>440658</th>\n      <td>950091</td>\n      <td>2023</td>\n      <td>2023-09-21 00:00:00</td>\n      <td>2023-09-21</td>\n      <td>2023-09-18</td>\n      <td>1000000</td>\n      <td>1</td>\n      <td>1091</td>\n      <td>GR1</td>\n    </tr>\n    <tr>\n      <th>440659</th>\n      <td>968903</td>\n      <td>2023</td>\n      <td>2023-09-21 00:00:00</td>\n      <td>2023-09-21</td>\n      <td>2023-09-18</td>\n      <td>50000</td>\n      <td>1</td>\n      <td>653</td>\n      <td>GR1</td>\n    </tr>\n    <tr>\n      <th>440660</th>\n      <td>1031590</td>\n      <td>2023</td>\n      <td>2023-09-21 00:00:00</td>\n      <td>2023-09-21</td>\n      <td>2023-09-18</td>\n      <td>50000</td>\n      <td>1</td>\n      <td>6418</td>\n      <td>GR1</td>\n    </tr>\n    <tr>\n      <th>440661</th>\n      <td>1166093</td>\n      <td>2023</td>\n      <td>2023-09-21 00:00:00</td>\n      <td>2023-09-21</td>\n      <td>2023-09-18</td>\n      <td>50000</td>\n      <td>1</td>\n      <td>30120</td>\n      <td>GR1</td>\n    </tr>\n    <tr>\n      <th>440662</th>\n      <td>405676</td>\n      <td>2018</td>\n      <td>2023-12-19 00:00:00</td>\n      <td>2023-12-19</td>\n      <td>2023-12-18</td>\n      <td>50000</td>\n      <td>1</td>\n      <td>23826</td>\n      <td>L1</td>\n    </tr>\n  </tbody>\n</table>\n</div>"
     },
     "execution_count": 125,
     "metadata": {},
     "output_type": "execute_result"
    }
   ],
   "source": [
    "plv.tail()"
   ],
   "metadata": {
    "collapsed": false,
    "ExecuteTime": {
     "end_time": "2023-12-22T19:17:59.502310300Z",
     "start_time": "2023-12-22T19:17:59.436357400Z"
    }
   },
   "id": "f58142b41e730fda"
  },
  {
   "cell_type": "code",
   "execution_count": 127,
   "outputs": [
    {
     "data": {
      "text/plain": "12"
     },
     "execution_count": 127,
     "metadata": {},
     "output_type": "execute_result"
    }
   ],
   "source": [
    "plv['last_season'].nunique()"
   ],
   "metadata": {
    "collapsed": false,
    "ExecuteTime": {
     "end_time": "2023-12-22T19:21:01.945606900Z",
     "start_time": "2023-12-22T19:21:01.930740100Z"
    }
   },
   "id": "b87aa3ec024d684a"
  },
  {
   "cell_type": "code",
   "execution_count": 128,
   "outputs": [
    {
     "data": {
      "text/plain": "4817"
     },
     "execution_count": 128,
     "metadata": {},
     "output_type": "execute_result"
    }
   ],
   "source": [
    "plv['datetime'].nunique()"
   ],
   "metadata": {
    "collapsed": false,
    "ExecuteTime": {
     "end_time": "2023-12-22T19:21:17.563688900Z",
     "start_time": "2023-12-22T19:21:17.456050700Z"
    }
   },
   "id": "3fc85c862347e283"
  },
  {
   "cell_type": "code",
   "execution_count": 129,
   "outputs": [
    {
     "data": {
      "text/plain": "4817"
     },
     "execution_count": 129,
     "metadata": {},
     "output_type": "execute_result"
    }
   ],
   "source": [
    "plv['date'].nunique()"
   ],
   "metadata": {
    "collapsed": false,
    "ExecuteTime": {
     "end_time": "2023-12-22T19:21:29.642737400Z",
     "start_time": "2023-12-22T19:21:29.577379500Z"
    }
   },
   "id": "4c1151e10a8c8fb1"
  },
  {
   "cell_type": "code",
   "execution_count": 136,
   "outputs": [
    {
     "data": {
      "text/plain": "972"
     },
     "execution_count": 136,
     "metadata": {},
     "output_type": "execute_result"
    }
   ],
   "source": [
    "plv['dateweek'].nunique()\n"
   ],
   "metadata": {
    "collapsed": false,
    "ExecuteTime": {
     "end_time": "2023-12-22T19:26:52.516509Z",
     "start_time": "2023-12-22T19:26:52.474465700Z"
    }
   },
   "id": "e0c4a867f5487a73"
  },
  {
   "cell_type": "markdown",
   "source": [
    "## <font color='green'>game_lineaups</font> table"
   ],
   "metadata": {
    "collapsed": false
   },
   "id": "333e0b8eb34be771"
  },
  {
   "cell_type": "code",
   "execution_count": 132,
   "outputs": [],
   "source": [
    "gml = pd.read_csv('../csv/game_lineups.csv')\n",
    "\n"
   ],
   "metadata": {
    "collapsed": false,
    "ExecuteTime": {
     "end_time": "2023-12-22T19:25:24.343196Z",
     "start_time": "2023-12-22T19:25:24.108799900Z"
    }
   },
   "id": "9153dccef84d2b8b"
  },
  {
   "cell_type": "code",
   "execution_count": 133,
   "outputs": [
    {
     "data": {
      "text/plain": "                    game_lineups_id  game_id  club_id             type number  \\\n0  77b0f371923e0c8bdf050a1e269faaac  3606208      338  starting_lineup     89   \n1  cb6eeedb9f728570615d37b6fe7facaf  3606208      338  starting_lineup     10   \n2  8e63d5f47aac2bdb0e54f5481986e104  3606208      338  starting_lineup      5   \n3  ea4a96d8be410f2d646cf095c4faae7f  3606208      338  starting_lineup     94   \n4  e6abe553801b09bc623c3deb96acba17  3606208      338  starting_lineup     16   \n\n   player_id         player_name  team_captain            position  \n0     419061  Vladyslav Supryaga             0      Centre-Forward  \n1     368611   Mykola Shaparenko             0    Central Midfield  \n2     124182    Sergiy Sydorchuk             1  Defensive Midfield  \n3     181118     Tomasz Kedziora             0          Right-Back  \n4     404842   Vitaliy Mykolenko             0           Left-Back  ",
      "text/html": "<div>\n<style scoped>\n    .dataframe tbody tr th:only-of-type {\n        vertical-align: middle;\n    }\n\n    .dataframe tbody tr th {\n        vertical-align: top;\n    }\n\n    .dataframe thead th {\n        text-align: right;\n    }\n</style>\n<table border=\"1\" class=\"dataframe\">\n  <thead>\n    <tr style=\"text-align: right;\">\n      <th></th>\n      <th>game_lineups_id</th>\n      <th>game_id</th>\n      <th>club_id</th>\n      <th>type</th>\n      <th>number</th>\n      <th>player_id</th>\n      <th>player_name</th>\n      <th>team_captain</th>\n      <th>position</th>\n    </tr>\n  </thead>\n  <tbody>\n    <tr>\n      <th>0</th>\n      <td>77b0f371923e0c8bdf050a1e269faaac</td>\n      <td>3606208</td>\n      <td>338</td>\n      <td>starting_lineup</td>\n      <td>89</td>\n      <td>419061</td>\n      <td>Vladyslav Supryaga</td>\n      <td>0</td>\n      <td>Centre-Forward</td>\n    </tr>\n    <tr>\n      <th>1</th>\n      <td>cb6eeedb9f728570615d37b6fe7facaf</td>\n      <td>3606208</td>\n      <td>338</td>\n      <td>starting_lineup</td>\n      <td>10</td>\n      <td>368611</td>\n      <td>Mykola Shaparenko</td>\n      <td>0</td>\n      <td>Central Midfield</td>\n    </tr>\n    <tr>\n      <th>2</th>\n      <td>8e63d5f47aac2bdb0e54f5481986e104</td>\n      <td>3606208</td>\n      <td>338</td>\n      <td>starting_lineup</td>\n      <td>5</td>\n      <td>124182</td>\n      <td>Sergiy Sydorchuk</td>\n      <td>1</td>\n      <td>Defensive Midfield</td>\n    </tr>\n    <tr>\n      <th>3</th>\n      <td>ea4a96d8be410f2d646cf095c4faae7f</td>\n      <td>3606208</td>\n      <td>338</td>\n      <td>starting_lineup</td>\n      <td>94</td>\n      <td>181118</td>\n      <td>Tomasz Kedziora</td>\n      <td>0</td>\n      <td>Right-Back</td>\n    </tr>\n    <tr>\n      <th>4</th>\n      <td>e6abe553801b09bc623c3deb96acba17</td>\n      <td>3606208</td>\n      <td>338</td>\n      <td>starting_lineup</td>\n      <td>16</td>\n      <td>404842</td>\n      <td>Vitaliy Mykolenko</td>\n      <td>0</td>\n      <td>Left-Back</td>\n    </tr>\n  </tbody>\n</table>\n</div>"
     },
     "execution_count": 133,
     "metadata": {},
     "output_type": "execute_result"
    }
   ],
   "source": [
    "gml.head()"
   ],
   "metadata": {
    "collapsed": false,
    "ExecuteTime": {
     "end_time": "2023-12-22T19:25:29.132242900Z",
     "start_time": "2023-12-22T19:25:29.052438600Z"
    }
   },
   "id": "558cd170d9ae1218"
  },
  {
   "cell_type": "code",
   "execution_count": 134,
   "outputs": [
    {
     "data": {
      "text/plain": "Index(['game_lineups_id', 'game_id', 'club_id', 'type', 'number', 'player_id',\n       'player_name', 'team_captain', 'position'],\n      dtype='object')"
     },
     "execution_count": 134,
     "metadata": {},
     "output_type": "execute_result"
    }
   ],
   "source": [
    "gml.columns"
   ],
   "metadata": {
    "collapsed": false,
    "ExecuteTime": {
     "end_time": "2023-12-22T19:26:24.969838700Z",
     "start_time": "2023-12-22T19:26:24.907873Z"
    }
   },
   "id": "d72fb3588158afdf"
  },
  {
   "cell_type": "code",
   "execution_count": 137,
   "outputs": [
    {
     "data": {
      "text/plain": "(119133, 9)"
     },
     "execution_count": 137,
     "metadata": {},
     "output_type": "execute_result"
    }
   ],
   "source": [
    "gml.shape"
   ],
   "metadata": {
    "collapsed": false,
    "ExecuteTime": {
     "end_time": "2023-12-22T19:27:41.263095400Z",
     "start_time": "2023-12-22T19:27:41.212042700Z"
    }
   },
   "id": "ed0f4665d446b6d"
  },
  {
   "cell_type": "code",
   "execution_count": null,
   "outputs": [],
   "source": [],
   "metadata": {
    "collapsed": false
   },
   "id": "bcd063c7af2a1c1"
  }
 ],
 "metadata": {
  "kernelspec": {
   "display_name": "Python 3",
   "language": "python",
   "name": "python3"
  },
  "language_info": {
   "codemirror_mode": {
    "name": "ipython",
    "version": 2
   },
   "file_extension": ".py",
   "mimetype": "text/x-python",
   "name": "python",
   "nbconvert_exporter": "python",
   "pygments_lexer": "ipython2",
   "version": "2.7.6"
  }
 },
 "nbformat": 4,
 "nbformat_minor": 5
}
